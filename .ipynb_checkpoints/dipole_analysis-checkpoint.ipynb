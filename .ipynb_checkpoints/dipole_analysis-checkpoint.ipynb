{
 "cells": [
  {
   "cell_type": "code",
   "execution_count": 1,
   "id": "1199cd21-a2f1-47ad-a6dd-83723dc6339e",
   "metadata": {},
   "outputs": [],
   "source": [
    "import numpy as np\n",
    "import matplotlib.pyplot as plt\n",
    "import sympy as sm"
   ]
  },
  {
   "cell_type": "code",
   "execution_count": 59,
   "id": "3880a33e-27eb-42a0-bef8-effb47caaeb0",
   "metadata": {},
   "outputs": [
    {
     "data": {
      "text/plain": [
       "array([[ -8.1440906 , -16.24755337,  -4.06188834],\n",
       "       [-16.24755337, -17.62183007,  -5.41585112],\n",
       "       [ -4.06188834,  -5.41585112,   2.68761164]])"
      ]
     },
     "execution_count": 59,
     "metadata": {},
     "output_type": "execute_result"
    }
   ],
   "source": [
    "sm_Rax = sm.symbols(\"Rax\")\n",
    "sm_Ray = sm.symbols(\"Ray\")\n",
    "sm_Raz = sm.symbols(\"Raz\")\n",
    "sm_Ra = [sm_Rax, sm_Ray, sm_Raz]\n",
    "\n",
    "sm_Rbx = sm.symbols(\"Rbx\")\n",
    "sm_Rby = sm.symbols(\"Rby\")\n",
    "sm_Rbz = sm.symbols(\"Rbz\")\n",
    "sm_Rb = [sm_Rbx, sm_Rby, sm_Rbz]\n",
    "\n",
    "sm_mu0 = sm.symbols(\"mu0\")\n",
    "sm_a = sm.symbols(\"a\")\n",
    "sm_d0 = sm.symbols(\"d0\")\n",
    "sm_d7 = sm.symbols(\"d7\")\n",
    "\n",
    "class GriegorievDipoleFunction:\n",
    "    def __init__(self, mu0, a, d0, d7):\n",
    "\n",
    "        self.parameters = [mu0, a, d0, d7]\n",
    "\n",
    "        sm_d = ((sm_Rax - sm_Rbx)**2 + (sm_Ray - sm_Rby)**2 \\\n",
    "             + (sm_Raz - sm_Rbz)**2)**(1/2)\n",
    "        \n",
    "        self.dipole_exp = [\n",
    "            ((sm_Ra[i] - sm_Rb[i])/d) * sm_mu0 * sm.exp(-sm_a*(sm_d-sm_d0)) # - d7/(d**7)\n",
    "            for i in range(3)\n",
    "        ]\n",
    "        \n",
    "        self.dipole_function = [\n",
    "            sm.lambdify(\n",
    "            [sm_Rax, sm_Ray, sm_Raz, sm_Rbx, sm_Rby, sm_Rbz, \n",
    "             sm_mu0, sm_a, sm_d0, sm_d7], \n",
    "                dipole_exp\n",
    "        ) for dipole_exp in self.dipole_exp]\n",
    "\n",
    "        self.generate_Jacobi()\n",
    "\n",
    "    def generate_Jacobi(self):\n",
    "        self.J_exp = []\n",
    "        self.J_func = []\n",
    "\n",
    "        for Ra in sm_Ra:\n",
    "            J_sub_func = []\n",
    "            for dipole_f in self.dipole_exp:\n",
    "                d_mu = sm.diff(dipole_f, Ra)\n",
    "                self.J_exp.append(d_mu)\n",
    "                J_sub_func.append(sm.lambdify(\n",
    "                    [sm_Rax, sm_Ray, sm_Raz, sm_Rbx, sm_Rby, sm_Rbz, \n",
    "                     sm_mu0, sm_a, sm_d0, sm_d7], d_mu\n",
    "                ))\n",
    "            self.J_func.append(J_sub_func)\n",
    "\n",
    "    def generate_Hessian(self):\n",
    "        self.H_exp = []\n",
    "        self.H_func = []\n",
    "\n",
    "    def __call__(self, ra, rb):\n",
    "        ra = list(ra)\n",
    "        rb = list(rb)\n",
    "\n",
    "        args = ra + rb + self.parameters\n",
    "\n",
    "        result = [dipole_f(*args) for dipole_f in self.dipole_function]\n",
    "        \n",
    "        return result\n",
    "\n",
    "    def gradient(self,ra,rb):\n",
    "        args = ra + rb + self.parameters\n",
    "        result = np.zeros((3,3))\n",
    "        for i, dmu_dRa in enumerate(self.J_func):\n",
    "            for j, dmu_i_dRa in enumerate(dmu_dRa):\n",
    "                result[i,j] = dmu_i_dRa(*args)\n",
    "\n",
    "        return result\n",
    "\n",
    "dipole_function = GriegorievDipoleFunction(*[1, 1.5121, 7.10, 300])\n",
    "\n",
    "dipole_function.gradient([0,0,0],[3,4,1])\n"
   ]
  },
  {
   "cell_type": "code",
   "execution_count": 56,
   "id": "689a5c45-5ed6-4993-973d-4fbf43287446",
   "metadata": {},
   "outputs": [
    {
     "data": {
      "text/latex": [
       "$\\displaystyle - \\frac{a \\mu_{0} \\left(Rax - Rbx\\right) \\left(1.0 Ray - 1.0 Rby\\right) e^{- a \\left(- d_{0} + \\left(\\left(Rax - Rbx\\right)^{2} + \\left(Ray - Rby\\right)^{2} + \\left(Raz - Rbz\\right)^{2}\\right)^{0.5}\\right)}}{\\left(\\left(Rax - Rbx\\right)^{2} + \\left(Ray - Rby\\right)^{2} + \\left(Raz - Rbz\\right)^{2}\\right)^{1.0}} + \\frac{\\mu_{0} \\left(Rax - Rbx\\right) \\left(- 1.0 Ray + 1.0 Rby\\right) e^{- a \\left(- d_{0} + \\left(\\left(Rax - Rbx\\right)^{2} + \\left(Ray - Rby\\right)^{2} + \\left(Raz - Rbz\\right)^{2}\\right)^{0.5}\\right)}}{\\left(\\left(Rax - Rbx\\right)^{2} + \\left(Ray - Rby\\right)^{2} + \\left(Raz - Rbz\\right)^{2}\\right)^{1.5}}$"
      ],
      "text/plain": [
       "-a*mu0*(Rax - Rbx)*(1.0*Ray - 1.0*Rby)*exp(-a*(-d0 + ((Rax - Rbx)**2 + (Ray - Rby)**2 + (Raz - Rbz)**2)**0.5))/((Rax - Rbx)**2 + (Ray - Rby)**2 + (Raz - Rbz)**2)**1.0 + mu0*(Rax - Rbx)*(-1.0*Ray + 1.0*Rby)*exp(-a*(-d0 + ((Rax - Rbx)**2 + (Ray - Rby)**2 + (Raz - Rbz)**2)**0.5))/((Rax - Rbx)**2 + (Ray - Rby)**2 + (Raz - Rbz)**2)**1.5"
      ]
     },
     "execution_count": 56,
     "metadata": {},
     "output_type": "execute_result"
    }
   ],
   "source": [
    "sm.diff(dipole_function.dipole_exp[0],sm_Ray)"
   ]
  },
  {
   "cell_type": "code",
   "execution_count": 57,
   "id": "267c474f-8865-4d77-a83d-13cf7469f4a2",
   "metadata": {},
   "outputs": [
    {
     "data": {
      "text/latex": [
       "$\\displaystyle - \\frac{a \\mu_{0} \\cdot \\left(1.0 Rax - 1.0 Rbx\\right) \\left(Ray - Rby\\right) e^{- a \\left(- d_{0} + \\left(\\left(Rax - Rbx\\right)^{2} + \\left(Ray - Rby\\right)^{2} + \\left(Raz - Rbz\\right)^{2}\\right)^{0.5}\\right)}}{\\left(\\left(Rax - Rbx\\right)^{2} + \\left(Ray - Rby\\right)^{2} + \\left(Raz - Rbz\\right)^{2}\\right)^{1.0}} + \\frac{\\mu_{0} \\left(- 1.0 Rax + 1.0 Rbx\\right) \\left(Ray - Rby\\right) e^{- a \\left(- d_{0} + \\left(\\left(Rax - Rbx\\right)^{2} + \\left(Ray - Rby\\right)^{2} + \\left(Raz - Rbz\\right)^{2}\\right)^{0.5}\\right)}}{\\left(\\left(Rax - Rbx\\right)^{2} + \\left(Ray - Rby\\right)^{2} + \\left(Raz - Rbz\\right)^{2}\\right)^{1.5}}$"
      ],
      "text/plain": [
       "-a*mu0*(1.0*Rax - 1.0*Rbx)*(Ray - Rby)*exp(-a*(-d0 + ((Rax - Rbx)**2 + (Ray - Rby)**2 + (Raz - Rbz)**2)**0.5))/((Rax - Rbx)**2 + (Ray - Rby)**2 + (Raz - Rbz)**2)**1.0 + mu0*(-1.0*Rax + 1.0*Rbx)*(Ray - Rby)*exp(-a*(-d0 + ((Rax - Rbx)**2 + (Ray - Rby)**2 + (Raz - Rbz)**2)**0.5))/((Rax - Rbx)**2 + (Ray - Rby)**2 + (Raz - Rbz)**2)**1.5"
      ]
     },
     "execution_count": 57,
     "metadata": {},
     "output_type": "execute_result"
    }
   ],
   "source": [
    "sm.diff(dipole_function.dipole_exp[1],sm_Rax)"
   ]
  },
  {
   "cell_type": "code",
   "execution_count": null,
   "id": "3ba3acef-b0ad-4d1e-bb3d-4c6c7ac4b49e",
   "metadata": {},
   "outputs": [],
   "source": []
  }
 ],
 "metadata": {
  "kernelspec": {
   "display_name": "Python 3 (ipykernel)",
   "language": "python",
   "name": "python3"
  },
  "language_info": {
   "codemirror_mode": {
    "name": "ipython",
    "version": 3
   },
   "file_extension": ".py",
   "mimetype": "text/x-python",
   "name": "python",
   "nbconvert_exporter": "python",
   "pygments_lexer": "ipython3",
   "version": "3.12.0"
  }
 },
 "nbformat": 4,
 "nbformat_minor": 5
}
