{
 "cells": [
  {
   "cell_type": "code",
   "execution_count": 6,
   "id": "c96c71ac",
   "metadata": {},
   "outputs": [],
   "source": [
    "import pickle\n",
    "\n",
    "import sympy as sm\n",
    "import numpy as np\n",
    "import matplotlib.pyplot as plt\n",
    "\n",
    "from sklearn.linear_models import LinearProgramming"
   ]
  },
  {
   "cell_type": "code",
   "execution_count": 4,
   "id": "360007ac",
   "metadata": {},
   "outputs": [],
   "source": [
    "with open(\"result_plot/sim_result.pkl\",\"rb\") as handle:\n",
    "    sim_result = pickle.load(handle)"
   ]
  },
  {
   "cell_type": "code",
   "execution_count": null,
   "id": "64d142be",
   "metadata": {},
   "outputs": [],
   "source": [
    "class FourierSeries:\n",
    "    def __init__(self, P = None, cos_coef = None, sin_coef = None):\n",
    "        self.P = 0\n",
    "        \n",
    "        if cos_coef == None:\n",
    "            self.cos_coef = np.ones(1)\n",
    "        if sin_coef == None:\n",
    "            self.sin_coef = np.ones(1)\n",
    "        \n",
    "    def __call__(self,x):\n",
    "        n = np.arrange(1, len(self.cos_coef) + 1)\n",
    "        return self.cos_coef @ self.cos(2 * np.pi * n / P) + \\\n",
    "            self.sin_coef @ self.sin(2 * np.pi * n / P)\n",
    "    \n",
    "    def fit(self, data, N):\n",
    "        "
   ]
  },
  {
   "cell_type": "code",
   "execution_count": null,
   "id": "d5690be4",
   "metadata": {},
   "outputs": [],
   "source": [
    "fig, ax = plt.subplots()"
   ]
  }
 ],
 "metadata": {
  "kernelspec": {
   "display_name": "Python (ml_chem)",
   "language": "python",
   "name": "ml_chem"
  },
  "language_info": {
   "codemirror_mode": {
    "name": "ipython",
    "version": 3
   },
   "file_extension": ".py",
   "mimetype": "text/x-python",
   "name": "python",
   "nbconvert_exporter": "python",
   "pygments_lexer": "ipython3",
   "version": "3.8.16"
  }
 },
 "nbformat": 4,
 "nbformat_minor": 5
}
