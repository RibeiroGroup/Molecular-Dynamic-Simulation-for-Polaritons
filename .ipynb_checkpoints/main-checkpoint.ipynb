{
 "cells": [
  {
   "cell_type": "code",
   "execution_count": 7,
   "id": "1199cd21-a2f1-47ad-a6dd-83723dc6339e",
   "metadata": {},
   "outputs": [],
   "source": [
    "import numpy as np\n",
    "import matplotlib.pyplot as plt\n",
    "import sympy as sm\n",
    "from scipy.constants import m_e,m_p,m_n\n",
    "\n",
    "from utils import timeit\n",
    "from forcefield import LennardJonesPotential, construct_param_matrix\n",
    "from simpleMD import compute_Hem\n",
    "import constants"
   ]
  },
  {
   "cell_type": "markdown",
   "id": "19401126-264c-412c-aeb3-230d84756d46",
   "metadata": {},
   "source": [
    "The Jacobi of the dipole function has the form:\n",
    "\\begin{align*}\n",
    "    \\begin{bmatrix}\n",
    "    \\partial \\mu_x / \\partial r_x & \\partial \\mu_y / \\partial r_x & \\partial \\mu_z / \\partial r_x \n",
    "    \\\\\n",
    "    \\partial \\mu_x / \\partial r_y & \\partial \\mu_y / \\partial r_y & \\partial \\mu_z / \\partial r_y \n",
    "    \\\\\n",
    "    \\partial \\mu_x / \\partial r_z & \\partial \\mu_y / \\partial r_z & \\partial \\mu_z / \\partial r_z\n",
    "    \\end{bmatrix}\n",
    "\\end{align*}"
   ]
  },
  {
   "cell_type": "code",
   "execution_count": 2,
   "id": "3880a33e-27eb-42a0-bef8-effb47caaeb0",
   "metadata": {},
   "outputs": [
    {
     "name": "stdout",
     "output_type": "stream",
     "text": [
      "[-0.19041015111388537, 0.0, 0.0]\n",
      "[[-0.20152631  0.          0.        ]\n",
      " [ 0.          0.03808203  0.        ]\n",
      " [ 0.          0.          0.03808203]]\n",
      "[[ 0.20152631  0.          0.        ]\n",
      " [ 0.         -0.03808203  0.        ]\n",
      " [ 0.          0.         -0.03808203]]\n"
     ]
    }
   ],
   "source": [
    "sm_Rax = sm.symbols(\"Rax\")\n",
    "sm_Ray = sm.symbols(\"Ray\")\n",
    "sm_Raz = sm.symbols(\"Raz\")\n",
    "sm_Ra = [sm_Rax, sm_Ray, sm_Raz]\n",
    "\n",
    "sm_Rbx = sm.symbols(\"Rbx\")\n",
    "sm_Rby = sm.symbols(\"Rby\")\n",
    "sm_Rbz = sm.symbols(\"Rbz\")\n",
    "sm_Rb = [sm_Rbx, sm_Rby, sm_Rbz]\n",
    "\n",
    "sm_mu0 = sm.symbols(\"mu0\")\n",
    "sm_a = sm.symbols(\"a\")\n",
    "sm_d0 = sm.symbols(\"d0\")\n",
    "sm_d1 = sm.symbols(\"d1\")\n",
    "sm_d2 = sm.symbols(\"d2\")\n",
    "sm_d7 = sm.symbols(\"d7\")\n",
    "\n",
    "class BaseDipoleFunction:\n",
    "    def __init__(self):\n",
    "        \n",
    "        self.dipole_function = [\n",
    "            sm.lambdify(\n",
    "            [sm_Rax, sm_Ray, sm_Raz, sm_Rbx, sm_Rby, sm_Rbz, \n",
    "             ] + self.parameters_sm, \n",
    "                dipole_exp\n",
    "        ) for dipole_exp in self.dipole_exp]\n",
    "        \n",
    "        self.generate_Jacobi()\n",
    "        #self.generate_Hessian()\n",
    "\n",
    "    def generate_Jacobi(self):\n",
    "        self.Ja_exp = [[],[],[]]\n",
    "        self.Ja_func = [[],[],[]]\n",
    "\n",
    "        self.Jb_exp = [[],[],[]]\n",
    "        self.Jb_func = [[],[],[]]\n",
    "\n",
    "        for i,Ra in enumerate(sm_Ra):\n",
    "            for j,dipole_f in enumerate(self.dipole_exp):\n",
    "                d_mu = sm.diff(dipole_f, Ra)\n",
    "                self.Ja_exp[i].append(d_mu)\n",
    "                self.Ja_func[i].append(sm.lambdify(\n",
    "                    [sm_Rax, sm_Ray, sm_Raz, sm_Rbx, sm_Rby, sm_Rbz, \n",
    "                    ]+ self.parameters_sm, d_mu\n",
    "                ))\n",
    "\n",
    "                d_mu = sm.diff(dipole_f, sm_Rb[i])\n",
    "                self.Jb_exp[i].append(d_mu)\n",
    "                self.Jb_func[i].append(sm.lambdify(\n",
    "                    [sm_Rax, sm_Ray, sm_Raz, sm_Rbx, sm_Rby, sm_Rbz, \n",
    "                    ]+ self.parameters_sm, d_mu\n",
    "                ))\n",
    "\n",
    "    def __call__(self, ra, rb):\n",
    "        \"\"\"\n",
    "        Note: \n",
    "        ra should be the positive particle and \n",
    "        rb should be the negative particle\n",
    "        \"\"\"\n",
    "        ra = list(ra)\n",
    "        rb = list(rb)\n",
    "\n",
    "        args = ra + rb + self.parameters\n",
    "\n",
    "        result = [dipole_f(*args) for dipole_f in self.dipole_function]\n",
    "        \n",
    "        return result\n",
    "\n",
    "    def gradient(self,ra,rb,sign = \"+\"):\n",
    "        ra = list(ra)\n",
    "        rb = list(rb)\n",
    "        args = ra + rb + self.parameters\n",
    "        result = np.zeros((3,3))\n",
    "        \n",
    "        if sign == \"+\": \n",
    "            J_func = self.Ja_func\n",
    "        elif sign == \"-\": \n",
    "            J_func = self.Jb_func\n",
    "            \n",
    "        for i, dmu_dRa in enumerate(J_func):\n",
    "            for j, dmu_i_dRa in enumerate(dmu_dRa):\n",
    "                result[i,j] = dmu_i_dRa(*args)\n",
    "\n",
    "        return result\n",
    "\n",
    "class GriegorievDipoleFunction(BaseDipoleFunction):\n",
    "    def __init__(self, mu0, a, d0, d7):\n",
    "\n",
    "        sm_d = ((sm_Rax - sm_Rbx)**2 + (sm_Ray - sm_Rby)**2 \\\n",
    "             + (sm_Raz - sm_Rbz)**2)**(1/2)\n",
    "        \n",
    "        self.parameters = [mu0, a, d0, d7]\n",
    "        self.parameters_sm = [sm_mu0, sm_a, sm_d0, sm_d7]\n",
    "        self.dipole_exp = [\n",
    "            ((sm_Ra[i] - sm_Rb[i])/sm_d) *\\\n",
    "            (sm_mu0 * sm.exp(-sm_a*(sm_d-sm_d0)) - sm_d7/(sm_d**7))\n",
    "            for i in range(3)\n",
    "        ]\n",
    "        \n",
    "        super().__init__()\n",
    "\n",
    "dipole_function1 = GriegorievDipoleFunction(mu0=0.0284, a=1.22522, d0=7.10, d7=14200)\n",
    "\n",
    "print(dipole_function1([0,0,0],[5,0,0]))\n",
    "print(dipole_function1.gradient([0,0,0],[5,0,0],\"+\"))\n",
    "print(dipole_function1.gradient([5,0,0],[0,0,0],\"-\"))"
   ]
  },
  {
   "cell_type": "markdown",
   "id": "74451290",
   "metadata": {},
   "source": [
    "\\begin{align*}\n",
    "\\dot{\\textbf{C}}_k + i\\omega \\textbf{C}_k &= \\frac{ie^{-i\\textbf{k}\\cdot \\textbf{r}_\\mu} }{\\omega} \\left(I - \\frac{\\textbf{k} \\textbf{k}^T}{|\\textbf{k}|} \\right) \\left( \\frac{\\partial \\mu}{\\partial \\textbf{r}_{Ar} } \\dot{\\textbf{r}}_{Ar} + \\frac{\\partial \\mu}{\\partial \\textbf{r}_{Xe} } \\dot{\\textbf{r}}_{Xe} \\right)\n",
    "\\\\\n",
    "\\omega &= ck\n",
    "\\end{align*}"
   ]
  },
  {
   "cell_type": "code",
   "execution_count": 22,
   "id": "85c5ebda-6dd1-42b6-8291-047be2e754ea",
   "metadata": {},
   "outputs": [],
   "source": [
    "r_ar = np.array([2,2,2]) # Argon should be negative\n",
    "r_xe = np.array([0,0,0]) # Xenon should be positive\n",
    "r = np.vstack([r_ar, r_xe])\n",
    "\n",
    "v_ar = np.array([-1,-1,-1])\n",
    "v_xe = np.array([0,0,0])\n",
    "v = np.vstack([v_ar, v_xe])\n",
    "\n",
    "Z_Ar = 18\n",
    "m_Ar = Z_Ar * (m_p / m_e) + Z_Ar + (40 - Z_Ar) * (m_n / m_e) \n",
    "Z_Xe = 54\n",
    "m_Xe = Z_Xe * (m_p / m_e) + Z_Xe + (131 - Z_Xe) * (m_n / m_e)\n",
    "\n",
    "k_val = 1/constants.c\n",
    "k_vec = np.array([1,0,0]) * k_vec \n",
    "epsilon_vec = np.array([[0,1,0], [0,0,1]])\n",
    "\n",
    "L = 10\n",
    "\n",
    "omega = constants.c * k_val\n",
    "C = np.random.rand(2) + 1j * np.random.rand(2)\n",
    "\n",
    "dipole_func = GriegorievDipoleFunction(mu0=0.0284, a=1.22522, d0=7.10, d7=14200)\n",
    "\n",
    "pure_epsilon = np.array([0.996, 1.904]) * 1.59360e-3\n",
    "mixed_epsilon = 1.377 * 1.59360e-3\n",
    "\n",
    "pure_sigma = np.array([3.41, 4.06]) * (1e-10 / 5.29177e-11)\n",
    "mixed_sigma = 3.735 * (1e-10 / 5.29177e-11)\n",
    "\n",
    "epsilon = construct_param_matrix(2,1,pure_epsilon,mixed_epsilon)\n",
    "sigma = construct_param_matrix(2,1,pure_sigma,mixed_sigma)\n",
    "\n",
    "lennardj = LennardJonesPotential(\n",
    "    n_points = 2,\n",
    "    epsilon = epsilon,\n",
    "    sigma = sigma,\n",
    "    L = 10)"
   ]
  },
  {
   "cell_type": "code",
   "execution_count": 27,
   "id": "2fcd07fa",
   "metadata": {},
   "outputs": [
    {
     "data": {
      "text/plain": [
       "array([2.53455524-1.1726274j , 2.15200071-1.21406872j])"
      ]
     },
     "execution_count": 27,
     "metadata": {},
     "output_type": "execute_result"
    }
   ],
   "source": [
    "mu = dipole_func(r_xe, r_ar)\n",
    "\n",
    "mu_grad_ar = dipole_func.gradient(r_ar, r_xe, \"-\")\n",
    "mu_grad_xe = dipole_func.gradient(r_ar, r_xe, \"+\")\n",
    "mu_grad = [mu_grad_ar, mu_grad_xe]\n",
    "\n",
    "def dot_C(r, v, mu_grad, C, k_vec, omega, epsilon_vec):\n",
    "    \n",
    "    jk_mu = 0\n",
    "    for i, ri in enumerate(r):\n",
    "        jk_mu +=  np.exp(-1j * k_vec @ ri) * mu_grad[i].T @ v[i] \n",
    "\n",
    "    jk_mu *= (1j / omega)\n",
    "    jktransv_mu = (np.eye(3) - np.outer(k_vec,k_vec) / (k_vec @ k_vec)) @ jk_mu #consider remove \n",
    "\n",
    "    proj_jktransv_mu = np.array([epsilon_vec[i]@jktransv_mu for i in range(len(epsilon_vec))])\n",
    "    \n",
    "    return proj_jktransv_mu - 1j * omega * C\n",
    "\n",
    "dot_C(r,v,mu_grad,C,k_vec,omega,epsilon_vec)"
   ]
  },
  {
   "cell_type": "markdown",
   "id": "cc7d6829",
   "metadata": {},
   "source": [
    "\\begin{align*}\n",
    "    m_{Ar} \\ddot{\\textbf{r}}_{Ar}^{[\\textbf{k}]} &= \\sum_{i\\neq \\textbf{k}} \\sum_{j \\neq \\textbf{k}} \\dot{\\textbf{r}}_{Ar}^{[i]} \\frac{\\partial \\textbf{A}^{[j]} (\\textbf{r}_\\mu) }{\\partial \\textbf{r}^{[\\textbf{k}]}_{Ar}}  \\frac{\\partial \\mu^{[j]}}{\\partial \\textbf{r}_{Ar}^{[i]}} \n",
    "    - \\sum_{j\\neq\\textbf{k}} \\frac{\\partial \\textbf{A}^{[j]} (\\textbf{r}_\\mu) }{\\partial t}  \\frac{\\partial \\mu^{[j]}}{\\partial \\textbf{r}_{Ar}^{[\\textbf{k}]}} \n",
    "    \\\\\n",
    "    m_{Ar} \\ddot{\\textbf{r}}_{Ar}^{[\\textbf{k}1]} \n",
    "    &= - \\sum_j \\frac{\\partial \\textbf{A}^{[j]} (\\textbf{r}_\\mu) }{\\partial t}  \\frac{\\partial \\mu^{[j]}}{\\partial \\textbf{r}_{Ar}^{[\\textbf{k}1]}} \n",
    "    - \\sum_{j\\neq \\textbf{k}} \\dot{\\textbf{r}}_{Ar}^{[\\textbf{k}]} \\frac{\\partial \\textbf{A}^{[j]} (\\textbf{r}_\\mu) }{\\partial \\textbf{r}_{Ar}^{[\\textbf{k}]}} \\frac{\\partial \\mu^{[j]}}{\\partial \\textbf{r}_{Ar}^{[\\textbf{k}1]}}\n",
    "\\end{align*}\n",
    "\n",
    "Note that, for simplicity, we currently choose:\n",
    "\\begin{align*}\n",
    "    \\mathbf{x} &= \\mathbf{k}\n",
    "    \\\\\n",
    "    \\mathbf{y} &= \\mathbf{k1}\n",
    "    \\\\\n",
    "    \\mathbf{z} &= \\mathbf{k2}\n",
    "\\end{align*}"
   ]
  },
  {
   "cell_type": "code",
   "execution_count": 28,
   "id": "d1731293",
   "metadata": {},
   "outputs": [],
   "source": [
    "def compute_transv_force(r, v, mu_grad, C, C_dot, k_vec, omega, epsilon_vec):\n",
    "    v_k = v @ k_vec\n",
    "    v_kj = np.einsum(\"ij,j->i\",epsilon_vec,v)\n",
    "    k = np.sqrt(k_vec @ k_vec)\n",
    "\n",
    "    ma = np.array([0+0j,0+0j,0+0j])\n",
    "\n",
    "    for i in [0,1]:\n",
    "        for j in [0,1]:\n",
    "            ma[0] += (v_kj[i] * (1j * k * C[j] * np.exp(1j * k_vec @ r) \\\n",
    "                  + np.conjugate(1j * k * C[j] * np.exp(1j * k_vec @ r)) ) \\\n",
    "                  * mu_grad[i+1, j+1] # (grad mu)_ij = dmu_j / dr_i\n",
    "                     ).ravel().item()\n",
    "\n",
    "        ma[0] += (-mu_grad[0,i+1] * (1j * k * C_dot[i] * np.exp(1j * k_vec @ r) \\\n",
    "                      + np.conjugate(1j * k * C_dot[i] * np.exp(1j * k_vec @ r)) )\n",
    "                 ).ravel().item()\n",
    "\n",
    "    for i in [1,2]:\n",
    "        for j in [0,1]:\n",
    "            ma[i] += (-mu_grad[i,j+1] * (1j * k * C[j] * np.exp(1j * k_vec @ r) \\\n",
    "                          + np.conjugate(1j * k * C[j] * np.exp(1j * k_vec @ r)) )\n",
    "                     ).ravel().item()\n",
    "            ma[i] += (-v_k * mu_grad[j+1,i] * (1j * k * C_dot[j] * np.exp(1j * k_vec @ r) \\\n",
    "                                + np.conjugate(1j * k * C_dot[j] * np.exp(1j * k_vec @ r)) ) \\\n",
    "                     ).ravel().item()\n",
    "\n",
    "    return ma"
   ]
  },
  {
   "cell_type": "code",
   "execution_count": 12,
   "id": "2d1806b6",
   "metadata": {},
   "outputs": [
    {
     "data": {
      "text/plain": [
       "array([[ 89.20979848+0.j,  89.22820647+0.j,  89.22793574+0.j],\n",
       "       [-89.22833895+0.j, -89.22832073+0.j, -89.22805046+0.j]])"
      ]
     },
     "execution_count": 12,
     "metadata": {},
     "output_type": "execute_result"
    }
   ],
   "source": [
    "class Force:\n",
    "    def __init__(self, potential, k_vec, omega, epsilon_vec):\n",
    "        self.potential = potential\n",
    "        self.k_vec = k_vec\n",
    "        self.omega = omega\n",
    "        self.epsilon_vec = epsilon_vec\n",
    "\n",
    "    def dot_C(self, C):\n",
    "\n",
    "    def __call__(self, r, v, mu_grad, C):\n",
    "        repulsion = self.potential.get_force(r)\n",
    "        force = []\n",
    "        for i, ri in enumerate(r):\n",
    "            force.append(\n",
    "                compute_transv_force(ri, v[i], mu_grad[i], C, self.k_vec, self.omega) \\\n",
    "                + repulsion[i]\n",
    "            )\n",
    "        return np.array(force)"
   ]
  },
  {
   "cell_type": "code",
   "execution_count": 9,
   "id": "5a1dfb86",
   "metadata": {},
   "outputs": [
    {
     "data": {
      "text/plain": [
       "array([[ 89.23718511,  89.23718511,  89.23718511],\n",
       "       [-89.23718511, -89.23718511, -89.23718511]])"
      ]
     },
     "execution_count": 9,
     "metadata": {},
     "output_type": "execute_result"
    }
   ],
   "source": [
    "get_force = Force(lennardj, k_vec, omega)\n",
    "\n",
    "C_dot = dot_C\n",
    "get_force(np.vstack([r_ar,r_xe]), np.vstack([v_ar,v_xe]), [mu_grad_ar,mu_grad_xe], C)"
   ]
  },
  {
   "cell_type": "code",
   "execution_count": null,
   "id": "c91061c8-29d6-4c9d-8e30-2d78ed8b9fb8",
   "metadata": {},
   "outputs": [],
   "source": []
  }
 ],
 "metadata": {
  "kernelspec": {
   "display_name": "Python 3 (ipykernel)",
   "language": "python",
   "name": "python3"
  },
  "language_info": {
   "codemirror_mode": {
    "name": "ipython",
    "version": 3
   },
   "file_extension": ".py",
   "mimetype": "text/x-python",
   "name": "python",
   "nbconvert_exporter": "python",
   "pygments_lexer": "ipython3",
   "version": "3.12.0"
  }
 },
 "nbformat": 4,
 "nbformat_minor": 5
}
