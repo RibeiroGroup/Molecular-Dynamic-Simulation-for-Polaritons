{
 "cells": [
  {
   "cell_type": "code",
   "execution_count": 1,
   "id": "5649c73a-31fd-400a-ae70-3c35a421098e",
   "metadata": {},
   "outputs": [],
   "source": [
    "import sympy as sm"
   ]
  },
  {
   "cell_type": "code",
   "execution_count": 7,
   "id": "d6b9eddd-dd78-47b3-9e85-8599e1e1819b",
   "metadata": {},
   "outputs": [
    {
     "data": {
      "text/latex": [
       "$\\displaystyle 4 e \\left(\\frac{s^{12}}{\\left(\\left(rax - rbx\\right)^{2} + \\left(ray - rby\\right)^{2} + \\left(raz - rbz\\right)^{2}\\right)^{6}} - \\frac{s^{6}}{\\left(\\left(rax - rbx\\right)^{2} + \\left(ray - rby\\right)^{2} + \\left(raz - rbz\\right)^{2}\\right)^{3}}\\right)$"
      ],
      "text/plain": [
       "4*e*(s**12/((rax - rbx)**2 + (ray - rby)**2 + (raz - rbz)**2)**6 - s**6/((rax - rbx)**2 + (ray - rby)**2 + (raz - rbz)**2)**3)"
      ]
     },
     "execution_count": 7,
     "metadata": {},
     "output_type": "execute_result"
    }
   ],
   "source": [
    "e = sm.symbols(\"e\")\n",
    "s = sm.symbols(\"s\")\n",
    "#d = sm.symbols(\"d\")\n",
    "\n",
    "rax = sm.symbols(\"rax\")\n",
    "ray = sm.symbols(\"ray\")\n",
    "raz = sm.symbols(\"raz\")\n",
    "\n",
    "rbx = sm.symbols(\"rbx\")\n",
    "rby = sm.symbols(\"rby\")\n",
    "rbz = sm.symbols(\"rbz\")\n",
    "\n",
    "d = sm.sqrt((rax - rbx)**2 + (ray - rby)**2 + (raz - rbz)**2)\n",
    "lj_exp = 4 * e * ((s/d)**12 - (s/d)**6)\n",
    "lj_exp"
   ]
  },
  {
   "cell_type": "code",
   "execution_count": 9,
   "id": "68d2b5d0-65ab-46cc-a03b-5a15c497ac5f",
   "metadata": {},
   "outputs": [
    {
     "data": {
      "text/latex": [
       "$\\displaystyle 4 e \\left(\\frac{s^{12} \\left(- 12 rax + 12 rbx\\right)}{\\left(\\left(rax - rbx\\right)^{2} + \\left(ray - rby\\right)^{2} + \\left(raz - rbz\\right)^{2}\\right)^{7}} - \\frac{s^{6} \\left(- 6 rax + 6 rbx\\right)}{\\left(\\left(rax - rbx\\right)^{2} + \\left(ray - rby\\right)^{2} + \\left(raz - rbz\\right)^{2}\\right)^{4}}\\right)$"
      ],
      "text/plain": [
       "4*e*(s**12*(-12*rax + 12*rbx)/((rax - rbx)**2 + (ray - rby)**2 + (raz - rbz)**2)**7 - s**6*(-6*rax + 6*rbx)/((rax - rbx)**2 + (ray - rby)**2 + (raz - rbz)**2)**4)"
      ]
     },
     "execution_count": 9,
     "metadata": {},
     "output_type": "execute_result"
    }
   ],
   "source": [
    "sm.diff(lj_exp,rax)"
   ]
  },
  {
   "cell_type": "code",
   "execution_count": null,
   "id": "be350088-0081-487b-9531-6a284d3dd1d2",
   "metadata": {},
   "outputs": [],
   "source": []
  }
 ],
 "metadata": {
  "kernelspec": {
   "display_name": "Python 3 (ipykernel)",
   "language": "python",
   "name": "python3"
  },
  "language_info": {
   "codemirror_mode": {
    "name": "ipython",
    "version": 3
   },
   "file_extension": ".py",
   "mimetype": "text/x-python",
   "name": "python",
   "nbconvert_exporter": "python",
   "pygments_lexer": "ipython3",
   "version": "3.12.0"
  }
 },
 "nbformat": 4,
 "nbformat_minor": 5
}
