{
 "cells": [
  {
   "cell_type": "code",
   "execution_count": 1,
   "id": "fe749d0c-51cf-4196-8f43-c6c3b9ad97e2",
   "metadata": {},
   "outputs": [],
   "source": [
    "import numpy as np\n",
    "import matplotlib.pyplot as plt\n",
    "\n",
    "from MEfield import vector_potential\n",
    "from test_cases import A_test_case"
   ]
  },
  {
   "cell_type": "code",
   "execution_count": 4,
   "id": "7857ab6d-22c8-4dc2-b663-5f790797e9cd",
   "metadata": {},
   "outputs": [
    {
     "data": {
      "text/plain": [
       "array([ 0.        +0.j, -2.28527933+0.j,  0.47826725+0.j])"
      ]
     },
     "execution_count": 4,
     "metadata": {},
     "output_type": "execute_result"
    }
   ],
   "source": [
    "x = np.array([1,0.2,0.3]) # 3\n",
    "\n",
    "C,k,epsilon = A_test_case(True, 2022)\n",
    "\n",
    "A = vector_potential(C=C, k=k, epsilon=epsilon)\n",
    "A(x)"
   ]
  },
  {
   "cell_type": "code",
   "execution_count": null,
   "id": "7ab0d3af-a9ce-48dc-8a6a-1c18817f8191",
   "metadata": {},
   "outputs": [],
   "source": []
  }
 ],
 "metadata": {
  "kernelspec": {
   "display_name": "Python 3 (ipykernel)",
   "language": "python",
   "name": "python3"
  },
  "language_info": {
   "codemirror_mode": {
    "name": "ipython",
    "version": 3
   },
   "file_extension": ".py",
   "mimetype": "text/x-python",
   "name": "python",
   "nbconvert_exporter": "python",
   "pygments_lexer": "ipython3",
   "version": "3.12.0"
  }
 },
 "nbformat": 4,
 "nbformat_minor": 5
}
