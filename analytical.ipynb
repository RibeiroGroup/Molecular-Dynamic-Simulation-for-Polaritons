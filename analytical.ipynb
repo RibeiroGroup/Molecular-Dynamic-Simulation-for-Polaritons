{
 "cells": [
  {
   "cell_type": "code",
   "execution_count": 1,
   "id": "f4ae95fa-dc3a-4297-bdbb-0fcb64663b3f",
   "metadata": {},
   "outputs": [],
   "source": [
    "import sympy as sm"
   ]
  },
  {
   "cell_type": "code",
   "execution_count": 5,
   "id": "27f6ddb7-c1b4-441d-a857-f0b0a3ee7fd1",
   "metadata": {},
   "outputs": [],
   "source": [
    "ri = sm.symbols(\"ri\")\n",
    "rj = sm.symbols(\"rj\")\n",
    "rk = sm.symbols(\"rk\")\n",
    "\n",
    "qi = sm.symbols(\"qi\")\n",
    "qj = sm.symbols(\"qj\")\n",
    "qk = sm.symbols(\"qk\")\n",
    "\n",
    "inverse_x_xprime = 1 / sm.sqrt((ri - qi)**2 + (rj - qj)**2 + (rk - qk)**2)"
   ]
  },
  {
   "cell_type": "code",
   "execution_count": 8,
   "id": "34f5d726-c197-4ebb-89c2-16ff3d5341c6",
   "metadata": {},
   "outputs": [
    {
     "data": {
      "text/latex": [
       "$\\displaystyle \\frac{\\left(3 qi - 3 ri\\right) \\left(qj - rj\\right)}{\\left(\\left(- qi + ri\\right)^{2} + \\left(- qj + rj\\right)^{2} + \\left(- qk + rk\\right)^{2}\\right)^{\\frac{5}{2}}}$"
      ],
      "text/plain": [
       "(3*qi - 3*ri)*(qj - rj)/((-qi + ri)**2 + (-qj + rj)**2 + (-qk + rk)**2)**(5/2)"
      ]
     },
     "execution_count": 8,
     "metadata": {},
     "output_type": "execute_result"
    }
   ],
   "source": [
    "sm.diff(sm.diff(inverse_x_xprime,rj),ri)"
   ]
  },
  {
   "cell_type": "code",
   "execution_count": null,
   "id": "f1d842ef-09f8-49f3-90ee-5e0fc3ffb78d",
   "metadata": {},
   "outputs": [],
   "source": []
  }
 ],
 "metadata": {
  "kernelspec": {
   "display_name": "Python 3 (ipykernel)",
   "language": "python",
   "name": "python3"
  },
  "language_info": {
   "codemirror_mode": {
    "name": "ipython",
    "version": 3
   },
   "file_extension": ".py",
   "mimetype": "text/x-python",
   "name": "python",
   "nbconvert_exporter": "python",
   "pygments_lexer": "ipython3",
   "version": "3.12.0"
  }
 },
 "nbformat": 4,
 "nbformat_minor": 5
}
