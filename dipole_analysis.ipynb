{
 "cells": [
  {
   "cell_type": "code",
   "execution_count": 1,
   "id": "1199cd21-a2f1-47ad-a6dd-83723dc6339e",
   "metadata": {},
   "outputs": [],
   "source": [
    "import numpy as np\n",
    "import matplotlib.pyplot as plt\n",
    "import sympy as sm\n",
    "\n",
    "from utils import timeit"
   ]
  },
  {
   "cell_type": "markdown",
   "id": "19401126-264c-412c-aeb3-230d84756d46",
   "metadata": {},
   "source": []
  },
  {
   "cell_type": "code",
   "execution_count": 53,
   "id": "3880a33e-27eb-42a0-bef8-effb47caaeb0",
   "metadata": {},
   "outputs": [
    {
     "name": "stdout",
     "output_type": "stream",
     "text": [
      "[-0.19041015111388537, 0.0, 0.0]\n",
      "[[-0.20152631  0.          0.        ]\n",
      " [ 0.          0.03808203  0.        ]\n",
      " [ 0.          0.          0.03808203]]\n",
      "[-4.77466524723939, 0.0, 0.0]\n",
      "[[-15.15985819   0.           0.        ]\n",
      " [  0.           0.95493305   0.        ]\n",
      " [  0.           0.           0.95493305]]\n"
     ]
    }
   ],
   "source": [
    "sm_Rax = sm.symbols(\"Rax\")\n",
    "sm_Ray = sm.symbols(\"Ray\")\n",
    "sm_Raz = sm.symbols(\"Raz\")\n",
    "sm_Ra = [sm_Rax, sm_Ray, sm_Raz]\n",
    "\n",
    "sm_Rbx = sm.symbols(\"Rbx\")\n",
    "sm_Rby = sm.symbols(\"Rby\")\n",
    "sm_Rbz = sm.symbols(\"Rbz\")\n",
    "sm_Rb = [sm_Rbx, sm_Rby, sm_Rbz]\n",
    "\n",
    "sm_mu0 = sm.symbols(\"mu0\")\n",
    "sm_a = sm.symbols(\"a\")\n",
    "sm_L = sm.symbols(\"L\")\n",
    "sm_d0 = sm.symbols(\"d0\")\n",
    "sm_d1 = sm.symbols(\"d1\")\n",
    "sm_d2 = sm.symbols(\"d2\")\n",
    "sm_d7 = sm.symbols(\"d7\")\n",
    "\n",
    "class BaseDipoleFunction:\n",
    "    def __init__(self):\n",
    "        \n",
    "        self.dipole_function = [\n",
    "            sm.lambdify(\n",
    "            [sm_Rax, sm_Ray, sm_Raz, sm_Rbx, sm_Rby, sm_Rbz, \n",
    "             ] + self.parameters_sm, \n",
    "                dipole_exp\n",
    "        ) for dipole_exp in self.dipole_exp]\n",
    "        \n",
    "        self.generate_Jacobi()\n",
    "        #self.generate_Hessian()\n",
    "\n",
    "    def generate_Jacobi(self):\n",
    "        self.J_exp = [[],[],[]]\n",
    "        self.J_func = [[],[],[]]\n",
    "\n",
    "        for i,Ra in enumerate(sm_Ra):\n",
    "            for j,dipole_f in enumerate(self.dipole_exp):\n",
    "                d_mu = sm.diff(dipole_f, Ra)\n",
    "                self.J_exp[i].append(d_mu)\n",
    "                self.J_func[i].append(sm.lambdify(\n",
    "                    [sm_Rax, sm_Ray, sm_Raz, sm_Rbx, sm_Rby, sm_Rbz, \n",
    "                    ]+ self.parameters_sm, d_mu\n",
    "                ))\n",
    "\n",
    "    def generate_Hessian(self):\n",
    "        self.H_exp = [[[],[],[]],[[],[],[]],[[],[],[]]]\n",
    "        self.H_function = [[[],[],[]],[[],[],[]],[[],[],[]]]\n",
    "        for i, Ra_i in enumerate(sm_Ra):\n",
    "            for j,mu_j in enumerate(self.dipole_exp):\n",
    "                for k,Ra_k in enumerate(sm_Ra):\n",
    "                    derivative = sm.diff(sm.diff(mu_j, Ra_i),Ra_k)\n",
    "                    self.H_exp[i][j].append(derivative)\n",
    "                    self.H_function[i][j].append(sm.lambdify(\n",
    "                        [sm_Rax, sm_Ray, sm_Raz, sm_Rbx, sm_Rby, sm_Rbz, \n",
    "                        ] + self.parameters_sm, derivative))\n",
    "    \n",
    "    def __call__(self, ra, rb):\n",
    "        ra = list(ra)\n",
    "        rb = list(rb)\n",
    "\n",
    "        args = ra + rb + self.parameters\n",
    "\n",
    "        result = [dipole_f(*args) for dipole_f in self.dipole_function]\n",
    "        \n",
    "        return result\n",
    "\n",
    "    def gradient(self,ra,rb):\n",
    "        args = ra + rb + self.parameters\n",
    "        result = np.zeros((3,3))\n",
    "        for i, dmu_dRa in enumerate(self.J_func):\n",
    "            for j, dmu_i_dRa in enumerate(dmu_dRa):\n",
    "                result[i,j] = dmu_i_dRa(*args)\n",
    "\n",
    "        return result\n",
    "\n",
    "    def hessian(self,ra,rb):\n",
    "        args = ra + rb + self.parameters \n",
    "        result = np.zeros((3,3,3))\n",
    "        for i, d_dmu_dRai in enumerate(self.H_function):\n",
    "            for j, d2muj_dRaidRa in enumerate(d_dmu_dRai):\n",
    "                for k, d2muj_dRaidRak in enumerate(d2muj_dRaidRa):\n",
    "                    result[i,j] = d2muj_dRaidRak(*args)\n",
    "        return result\n",
    "\n",
    "class LevineDipoleFunction(BaseDipoleFunction):\n",
    "    def __init__(self, mu0, a, d0):\n",
    "        sm_d = ((sm_Rax - sm_Rbx)**2 + (sm_Ray - sm_Rby)**2 \\\n",
    "             + (sm_Raz - sm_Rbz)**2)**(1/2)\n",
    "        \n",
    "        self.parameters = [mu0, a, d0]\n",
    "        self.parameters_sm = [sm_mu0, sm_a, sm_d0]\n",
    "        self.dipole_exp = [\n",
    "            ((sm_Ra[i] - sm_Rb[i])/sm_d) * sm_mu0 * \\\n",
    "            sm.exp(2*sm_d0*a) * sm.exp(-2*sm_d*a)\n",
    "            for i in range(3)\n",
    "        ]\n",
    "        \n",
    "        super().__init__()\n",
    "\n",
    "class GriegorievDipoleFunction(BaseDipoleFunction):\n",
    "    def __init__(self, mu0, a, d0, d7):\n",
    "\n",
    "        sm_d = ((sm_Rax - sm_Rbx)**2 + (sm_Ray - sm_Rby)**2 \\\n",
    "             + (sm_Raz - sm_Rbz)**2)**(1/2)\n",
    "        \n",
    "        self.parameters = [mu0, a, d0, d7]\n",
    "        self.parameters_sm = [sm_mu0, sm_a, sm_d0, sm_d7]\n",
    "        self.dipole_exp = [\n",
    "            ((sm_Ra[i] - sm_Rb[i])/sm_d) *\\\n",
    "            (sm_mu0 * sm.exp(-sm_a*(sm_d-sm_d0)) - sm_d7/(sm_d**7))\n",
    "            for i in range(3)\n",
    "        ]\n",
    "        \n",
    "        super().__init__()\n",
    "\n",
    "class MeuwlyDipoleFunction(BaseDipoleFunction):\n",
    "    def __init__(self, mu0, d0, d1, d2, d7):\n",
    "        sm_d = ((sm_Rax - sm_Rbx)**2 + (sm_Ray - sm_Rby)**2 \\\n",
    "             + (sm_Raz - sm_Rbz)**2)**(1/2)\n",
    "        \n",
    "        self.parameters = [mu0, d0, d1, d2, d7]\n",
    "        self.parameters_sm = [sm_mu0, sm_d0, sm_d1, sm_d2, sm_d7]\n",
    "        self.dipole_exp = [\n",
    "            ((sm_Ra[i] - sm_Rb[i])/sm_d) * \\\n",
    "            (sm_mu0 * sm.exp(- (sm_d-sm_d0)/sm_d1 - (sm_d-sm_d0)**2/(sm_d2**2)) \\\n",
    "            - sm_d7/(sm_d**7))\n",
    "            for i in range(3)\n",
    "        ]\n",
    "\n",
    "        super().__init__()\n",
    "        \n",
    "dipole_function1 = GriegorievDipoleFunction(mu0=0.0284, a=1.22522, d0=7.10, d7=14200)\n",
    "\n",
    "print(dipole_function1([0,0,0],[5,0,0]))\n",
    "print(dipole_function1.gradient([0,0,0],[5,0,0]))\n",
    "\n",
    "dipole_function2 = LevineDipoleFunction(mu0=0.0284, a=1/((1/3 * 1e-10) / 5.29177e-11), d0=3.5e-10 / 5.29177e-11)\n",
    "    \n",
    "print(dipole_function2([0,0,0],[5,0,0]))\n",
    "print(dipole_function2.gradient([0,0,0],[5,0,0]))\n"
   ]
  },
  {
   "cell_type": "code",
   "execution_count": 43,
   "id": "3b41381a-2d72-43fa-aae0-a5892a9cd2ef",
   "metadata": {},
   "outputs": [
    {
     "data": {
      "text/plain": [
       "1.587531"
      ]
     },
     "execution_count": 43,
     "metadata": {},
     "output_type": "execute_result"
    }
   ],
   "source": [
    "1/((1/3 * 1e-10) / 5.29177e-11)"
   ]
  },
  {
   "cell_type": "code",
   "execution_count": null,
   "id": "8cf46df1-e9ff-4cb9-82f4-3df9beb5b16d",
   "metadata": {},
   "outputs": [],
   "source": []
  },
  {
   "cell_type": "code",
   "execution_count": 55,
   "id": "1944948f-4b28-45f5-97fc-38e41554f88e",
   "metadata": {},
   "outputs": [
    {
     "data": {
      "text/latex": [
       "$\\displaystyle \\frac{\\left(- 1.0 Rax + 1.0 Rbx\\right) \\left(Ray - Rby\\right) \\left(- \\frac{d_{7}}{\\left(\\left(Rax - Rbx\\right)^{2} + \\left(Ray - Rby\\right)^{2} + \\left(Raz - Rbz\\right)^{2}\\right)^{3.5}} + \\mu_{0} e^{- a \\left(- d_{0} + \\left(\\left(Rax - Rbx\\right)^{2} + \\left(Ray - Rby\\right)^{2} + \\left(Raz - Rbz\\right)^{2}\\right)^{0.5}\\right)}\\right)}{\\left(\\left(Rax - Rbx\\right)^{2} + \\left(Ray - Rby\\right)^{2} + \\left(Raz - Rbz\\right)^{2}\\right)^{1.5}} + \\frac{\\left(Ray - Rby\\right) \\left(- \\frac{a \\mu_{0} \\cdot \\left(1.0 Rax - 1.0 Rbx\\right) e^{- a \\left(- d_{0} + \\left(\\left(Rax - Rbx\\right)^{2} + \\left(Ray - Rby\\right)^{2} + \\left(Raz - Rbz\\right)^{2}\\right)^{0.5}\\right)}}{\\left(\\left(Rax - Rbx\\right)^{2} + \\left(Ray - Rby\\right)^{2} + \\left(Raz - Rbz\\right)^{2}\\right)^{0.5}} - \\frac{d_{7} \\left(- 7.0 Rax + 7.0 Rbx\\right)}{\\left(\\left(Rax - Rbx\\right)^{2} + \\left(Ray - Rby\\right)^{2} + \\left(Raz - Rbz\\right)^{2}\\right)^{4.5}}\\right)}{\\left(\\left(Rax - Rbx\\right)^{2} + \\left(Ray - Rby\\right)^{2} + \\left(Raz - Rbz\\right)^{2}\\right)^{0.5}}$"
      ],
      "text/plain": [
       "(-1.0*Rax + 1.0*Rbx)*(Ray - Rby)*(-d7/((Rax - Rbx)**2 + (Ray - Rby)**2 + (Raz - Rbz)**2)**3.5 + mu0*exp(-a*(-d0 + ((Rax - Rbx)**2 + (Ray - Rby)**2 + (Raz - Rbz)**2)**0.5)))/((Rax - Rbx)**2 + (Ray - Rby)**2 + (Raz - Rbz)**2)**1.5 + (Ray - Rby)*(-a*mu0*(1.0*Rax - 1.0*Rbx)*exp(-a*(-d0 + ((Rax - Rbx)**2 + (Ray - Rby)**2 + (Raz - Rbz)**2)**0.5))/((Rax - Rbx)**2 + (Ray - Rby)**2 + (Raz - Rbz)**2)**0.5 - d7*(-7.0*Rax + 7.0*Rbx)/((Rax - Rbx)**2 + (Ray - Rby)**2 + (Raz - Rbz)**2)**4.5)/((Rax - Rbx)**2 + (Ray - Rby)**2 + (Raz - Rbz)**2)**0.5"
      ]
     },
     "execution_count": 55,
     "metadata": {},
     "output_type": "execute_result"
    }
   ],
   "source": [
    "dipole_function1.J_exp[0][1]"
   ]
  },
  {
   "cell_type": "code",
   "execution_count": 54,
   "id": "171a0f8c-9678-4f90-b6ca-e1a4410d9a3f",
   "metadata": {},
   "outputs": [
    {
     "data": {
      "text/latex": [
       "$\\displaystyle \\frac{\\left(Rax - Rbx\\right) \\left(- \\frac{d_{7}}{\\left(\\left(Rax - Rbx\\right)^{2} + \\left(Ray - Rby\\right)^{2} + \\left(Raz - Rbz\\right)^{2}\\right)^{3.5}} + \\mu_{0} e^{- a \\left(- d_{0} + \\left(\\left(Rax - Rbx\\right)^{2} + \\left(Ray - Rby\\right)^{2} + \\left(Raz - Rbz\\right)^{2}\\right)^{0.5}\\right)}\\right)}{\\left(\\left(Rax - Rbx\\right)^{2} + \\left(Ray - Rby\\right)^{2} + \\left(Raz - Rbz\\right)^{2}\\right)^{0.5}}$"
      ],
      "text/plain": [
       "(Rax - Rbx)*(-d7/((Rax - Rbx)**2 + (Ray - Rby)**2 + (Raz - Rbz)**2)**3.5 + mu0*exp(-a*(-d0 + ((Rax - Rbx)**2 + (Ray - Rby)**2 + (Raz - Rbz)**2)**0.5)))/((Rax - Rbx)**2 + (Ray - Rby)**2 + (Raz - Rbz)**2)**0.5"
      ]
     },
     "execution_count": 54,
     "metadata": {},
     "output_type": "execute_result"
    }
   ],
   "source": [
    "dipole_function1.dipole_exp[0]"
   ]
  },
  {
   "cell_type": "code",
   "execution_count": null,
   "id": "714949aa-5f77-4bc7-a997-d887dfddf757",
   "metadata": {},
   "outputs": [],
   "source": []
  }
 ],
 "metadata": {
  "kernelspec": {
   "display_name": "Python 3 (ipykernel)",
   "language": "python",
   "name": "python3"
  },
  "language_info": {
   "codemirror_mode": {
    "name": "ipython",
    "version": 3
   },
   "file_extension": ".py",
   "mimetype": "text/x-python",
   "name": "python",
   "nbconvert_exporter": "python",
   "pygments_lexer": "ipython3",
   "version": "3.12.0"
  }
 },
 "nbformat": 4,
 "nbformat_minor": 5
}
