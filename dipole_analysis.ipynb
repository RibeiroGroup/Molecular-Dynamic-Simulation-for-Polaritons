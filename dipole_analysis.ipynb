{
 "cells": [
  {
   "cell_type": "code",
   "execution_count": 51,
   "id": "1199cd21-a2f1-47ad-a6dd-83723dc6339e",
   "metadata": {},
   "outputs": [],
   "source": [
    "import numpy as np\n",
    "import matplotlib.pyplot as plt\n",
    "import sympy as sm\n",
    "\n",
    "from utils import timeit"
   ]
  },
  {
   "cell_type": "markdown",
   "id": "19401126-264c-412c-aeb3-230d84756d46",
   "metadata": {},
   "source": []
  },
  {
   "cell_type": "code",
   "execution_count": 54,
   "id": "3880a33e-27eb-42a0-bef8-effb47caaeb0",
   "metadata": {},
   "outputs": [
    {
     "name": "stdout",
     "output_type": "stream",
     "text": [
      "[-17.732996941917893, -70.93198776767157, -17.732996941917893]\n",
      "[[ 10.42769479 -29.22120861  -7.30530215]\n",
      " [-29.22120861 -99.15183748 -29.22120861]\n",
      " [ -7.30530215 -29.22120861  10.42769479]]\n"
     ]
    }
   ],
   "source": [
    "sm_Rax = sm.symbols(\"Rax\")\n",
    "sm_Ray = sm.symbols(\"Ray\")\n",
    "sm_Raz = sm.symbols(\"Raz\")\n",
    "sm_Ra = [sm_Rax, sm_Ray, sm_Raz]\n",
    "\n",
    "sm_Rbx = sm.symbols(\"Rbx\")\n",
    "sm_Rby = sm.symbols(\"Rby\")\n",
    "sm_Rbz = sm.symbols(\"Rbz\")\n",
    "sm_Rb = [sm_Rbx, sm_Rby, sm_Rbz]\n",
    "\n",
    "sm_mu0 = sm.symbols(\"mu0\")\n",
    "sm_a = sm.symbols(\"a\")\n",
    "sm_d0 = sm.symbols(\"d0\")\n",
    "sm_d7 = sm.symbols(\"d7\")\n",
    "\n",
    "class GriegorievDipoleFunction:\n",
    "    def __init__(self, mu0, a, d0, d7):\n",
    "\n",
    "        self.parameters = [mu0, a, d0, d7]\n",
    "\n",
    "        sm_d = ((sm_Rax - sm_Rbx)**2 + (sm_Ray - sm_Rby)**2 \\\n",
    "             + (sm_Raz - sm_Rbz)**2)**(1/2)\n",
    "        \n",
    "        self.dipole_exp = [\n",
    "            ((sm_Ra[i] - sm_Rb[i])/sm_d) * sm_mu0 * sm.exp(-sm_a*(sm_d-sm_d0)) # - d7/(d**7)\n",
    "            for i in range(3)\n",
    "        ]\n",
    "        \n",
    "        self.dipole_function = [\n",
    "            sm.lambdify(\n",
    "            [sm_Rax, sm_Ray, sm_Raz, sm_Rbx, sm_Rby, sm_Rbz, \n",
    "             sm_mu0, sm_a, sm_d0, sm_d7], \n",
    "                dipole_exp\n",
    "        ) for dipole_exp in self.dipole_exp]\n",
    "\n",
    "        self.generate_Jacobi()\n",
    "        #self.generate_Hessian()\n",
    "\n",
    "    def generate_Jacobi(self):\n",
    "        self.J_exp = [[],[],[]]\n",
    "        self.J_func = [[],[],[]]\n",
    "\n",
    "        for i,Ra in enumerate(sm_Ra):\n",
    "            for j,dipole_f in enumerate(self.dipole_exp):\n",
    "                d_mu = sm.diff(dipole_f, Ra)\n",
    "                self.J_exp[i].append(d_mu)\n",
    "                self.J_func[i].append(sm.lambdify(\n",
    "                    [sm_Rax, sm_Ray, sm_Raz, sm_Rbx, sm_Rby, sm_Rbz, \n",
    "                     sm_mu0, sm_a, sm_d0, sm_d7], d_mu\n",
    "                ))\n",
    "\n",
    "    def generate_Hessian(self):\n",
    "        self.H_exp = [[[],[],[]],[[],[],[]],[[],[],[]]]\n",
    "        self.H_function = [[[],[],[]],[[],[],[]],[[],[],[]]]\n",
    "        for i, Ra_i in enumerate(sm_Ra):\n",
    "            for j,mu_j in enumerate(self.dipole_exp):\n",
    "                for k,Ra_k in enumerate(sm_Ra):\n",
    "                    derivative = sm.diff(sm.diff(mu_j, Ra_i),Ra_k)\n",
    "                    self.H_exp[i][j].append(derivative)\n",
    "                    self.H_function[i][j].append(sm.lambdify(\n",
    "                        [sm_Rax, sm_Ray, sm_Raz, sm_Rbx, sm_Rby, sm_Rbz, \n",
    "                        sm_mu0, sm_a, sm_d0, sm_d7], derivative))\n",
    "    \n",
    "    def __call__(self, ra, rb):\n",
    "        ra = list(ra)\n",
    "        rb = list(rb)\n",
    "\n",
    "        args = ra + rb + self.parameters\n",
    "\n",
    "        result = [dipole_f(*args) for dipole_f in self.dipole_function]\n",
    "        \n",
    "        return result\n",
    "\n",
    "    def gradient(self,ra,rb):\n",
    "        args = ra + rb + self.parameters\n",
    "        result = np.zeros((3,3))\n",
    "        for i, dmu_dRa in enumerate(self.J_func):\n",
    "            for j, dmu_i_dRa in enumerate(dmu_dRa):\n",
    "                result[i,j] = dmu_i_dRa(*args)\n",
    "\n",
    "        return result\n",
    "\n",
    "    def hessian(self,ra,rb):\n",
    "        args = ra + rb + self.parameters \n",
    "        result = np.zeros((3,3,3))\n",
    "        for i, d_dmu_dRai in enumerate(self.H_function):\n",
    "            for j, d2muj_dRaidRa in enumerate(d_dmu_dRai):\n",
    "                for k, d2muj_dRaidRak in enumerate(d2muj_dRaidRa):\n",
    "                    result[i,j] = d2muj_dRaidRak(*args)\n",
    "        return result\n",
    "\n",
    "dipole_function = GriegorievDipoleFunction(*[1, 1.5121, 7.10, 300])\n",
    "\n",
    "print(dipole_function([0,0,0],[1,4,1]))\n",
    "print(dipole_function.gradient([0,0,0],[1,4,1]))\n"
   ]
  },
  {
   "cell_type": "code",
   "execution_count": 58,
   "id": "3b41381a-2d72-43fa-aae0-a5892a9cd2ef",
   "metadata": {},
   "outputs": [
    {
     "data": {
      "text/latex": [
       "$\\displaystyle 0$"
      ],
      "text/plain": [
       "0"
      ]
     },
     "execution_count": 58,
     "metadata": {},
     "output_type": "execute_result"
    }
   ],
   "source": [
    "sm.simplify(sm.diff(dipole_function.dipole_exp[0],sm_Ray) - sm.diff(dipole_function.dipole_exp[1],sm_Rax))"
   ]
  },
  {
   "cell_type": "code",
   "execution_count": null,
   "id": "1944948f-4b28-45f5-97fc-38e41554f88e",
   "metadata": {},
   "outputs": [],
   "source": []
  }
 ],
 "metadata": {
  "kernelspec": {
   "display_name": "Python 3 (ipykernel)",
   "language": "python",
   "name": "python3"
  },
  "language_info": {
   "codemirror_mode": {
    "name": "ipython",
    "version": 3
   },
   "file_extension": ".py",
   "mimetype": "text/x-python",
   "name": "python",
   "nbconvert_exporter": "python",
   "pygments_lexer": "ipython3",
   "version": "3.12.0"
  }
 },
 "nbformat": 4,
 "nbformat_minor": 5
}
