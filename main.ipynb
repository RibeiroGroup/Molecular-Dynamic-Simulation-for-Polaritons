{
 "cells": [
  {
   "cell_type": "code",
   "execution_count": 1,
   "id": "1199cd21-a2f1-47ad-a6dd-83723dc6339e",
   "metadata": {},
   "outputs": [],
   "source": [
    "import numpy as np\n",
    "import matplotlib.pyplot as plt\n",
    "import sympy as sm\n",
    "\n",
    "from utils import timeit\n",
    "from forcefield import LennardJonesPotential"
   ]
  },
  {
   "cell_type": "markdown",
   "id": "19401126-264c-412c-aeb3-230d84756d46",
   "metadata": {},
   "source": [
    "The Jacobi of the dipole function has the form:\n",
    "\\begin{align*}\n",
    "    \\begin{bmatrix}\n",
    "    \\partial \\mu_x / \\partial r_x & \\partial \\mu_y / \\partial r_x & \\partial \\mu_z / \\partial r_x \n",
    "    \\\\\n",
    "    \\partial \\mu_x / \\partial r_y & \\partial \\mu_y / \\partial r_y & \\partial \\mu_z / \\partial r_y \n",
    "    \\\\\n",
    "    \\partial \\mu_x / \\partial r_z & \\partial \\mu_y / \\partial r_z & \\partial \\mu_z / \\partial r_z\n",
    "    \\end{bmatrix}\n",
    "\\end{align*}"
   ]
  },
  {
   "cell_type": "code",
   "execution_count": 3,
   "id": "3880a33e-27eb-42a0-bef8-effb47caaeb0",
   "metadata": {},
   "outputs": [
    {
     "name": "stdout",
     "output_type": "stream",
     "text": [
      "[-0.19041015111388537, 0.0, 0.0]\n",
      "[[-0.20152631  0.          0.        ]\n",
      " [ 0.          0.03808203  0.        ]\n",
      " [ 0.          0.          0.03808203]]\n",
      "[[ 0.20152631  0.          0.        ]\n",
      " [ 0.         -0.03808203  0.        ]\n",
      " [ 0.          0.         -0.03808203]]\n"
     ]
    }
   ],
   "source": [
    "sm_Rax = sm.symbols(\"Rax\")\n",
    "sm_Ray = sm.symbols(\"Ray\")\n",
    "sm_Raz = sm.symbols(\"Raz\")\n",
    "sm_Ra = [sm_Rax, sm_Ray, sm_Raz]\n",
    "\n",
    "sm_Rbx = sm.symbols(\"Rbx\")\n",
    "sm_Rby = sm.symbols(\"Rby\")\n",
    "sm_Rbz = sm.symbols(\"Rbz\")\n",
    "sm_Rb = [sm_Rbx, sm_Rby, sm_Rbz]\n",
    "\n",
    "sm_mu0 = sm.symbols(\"mu0\")\n",
    "sm_a = sm.symbols(\"a\")\n",
    "sm_d0 = sm.symbols(\"d0\")\n",
    "sm_d1 = sm.symbols(\"d1\")\n",
    "sm_d2 = sm.symbols(\"d2\")\n",
    "sm_d7 = sm.symbols(\"d7\")\n",
    "\n",
    "class BaseDipoleFunction:\n",
    "    def __init__(self):\n",
    "        \n",
    "        self.dipole_function = [\n",
    "            sm.lambdify(\n",
    "            [sm_Rax, sm_Ray, sm_Raz, sm_Rbx, sm_Rby, sm_Rbz, \n",
    "             ] + self.parameters_sm, \n",
    "                dipole_exp\n",
    "        ) for dipole_exp in self.dipole_exp]\n",
    "        \n",
    "        self.generate_Jacobi()\n",
    "        #self.generate_Hessian()\n",
    "\n",
    "    def generate_Jacobi(self):\n",
    "        self.Ja_exp = [[],[],[]]\n",
    "        self.Ja_func = [[],[],[]]\n",
    "\n",
    "        self.Jb_exp = [[],[],[]]\n",
    "        self.Jb_func = [[],[],[]]\n",
    "\n",
    "        for i,Ra in enumerate(sm_Ra):\n",
    "            for j,dipole_f in enumerate(self.dipole_exp):\n",
    "                d_mu = sm.diff(dipole_f, Ra)\n",
    "                self.Ja_exp[i].append(d_mu)\n",
    "                self.Ja_func[i].append(sm.lambdify(\n",
    "                    [sm_Rax, sm_Ray, sm_Raz, sm_Rbx, sm_Rby, sm_Rbz, \n",
    "                    ]+ self.parameters_sm, d_mu\n",
    "                ))\n",
    "\n",
    "                d_mu = sm.diff(dipole_f, sm_Rb[i])\n",
    "                self.Jb_exp[i].append(d_mu)\n",
    "                self.Jb_func[i].append(sm.lambdify(\n",
    "                    [sm_Rax, sm_Ray, sm_Raz, sm_Rbx, sm_Rby, sm_Rbz, \n",
    "                    ]+ self.parameters_sm, d_mu\n",
    "                ))\n",
    "\n",
    "    def __call__(self, ra, rb):\n",
    "        \"\"\"\n",
    "        Note: \n",
    "        ra should be the positive particle and \n",
    "        rb should be the negative particle\n",
    "        \"\"\"\n",
    "        ra = list(ra)\n",
    "        rb = list(rb)\n",
    "\n",
    "        args = ra + rb + self.parameters\n",
    "\n",
    "        result = [dipole_f(*args) for dipole_f in self.dipole_function]\n",
    "        \n",
    "        return result\n",
    "\n",
    "    def gradient(self,ra,rb,sign = \"+\"):\n",
    "        ra = list(ra)\n",
    "        rb = list(rb)\n",
    "        args = ra + rb + self.parameters\n",
    "        result = np.zeros((3,3))\n",
    "        \n",
    "        if sign == \"+\": \n",
    "            J_func = self.Ja_func\n",
    "        elif sign == \"-\": \n",
    "            J_func = self.Jb_func\n",
    "            \n",
    "        for i, dmu_dRa in enumerate(J_func):\n",
    "            for j, dmu_i_dRa in enumerate(dmu_dRa):\n",
    "                result[i,j] = dmu_i_dRa(*args)\n",
    "\n",
    "        return result\n",
    "\n",
    "class GriegorievDipoleFunction(BaseDipoleFunction):\n",
    "    def __init__(self, mu0, a, d0, d7):\n",
    "\n",
    "        sm_d = ((sm_Rax - sm_Rbx)**2 + (sm_Ray - sm_Rby)**2 \\\n",
    "             + (sm_Raz - sm_Rbz)**2)**(1/2)\n",
    "        \n",
    "        self.parameters = [mu0, a, d0, d7]\n",
    "        self.parameters_sm = [sm_mu0, sm_a, sm_d0, sm_d7]\n",
    "        self.dipole_exp = [\n",
    "            ((sm_Ra[i] - sm_Rb[i])/sm_d) *\\\n",
    "            (sm_mu0 * sm.exp(-sm_a*(sm_d-sm_d0)) - sm_d7/(sm_d**7))\n",
    "            for i in range(3)\n",
    "        ]\n",
    "        \n",
    "        super().__init__()\n",
    "\n",
    "dipole_function1 = GriegorievDipoleFunction(mu0=0.0284, a=1.22522, d0=7.10, d7=14200)\n",
    "\n",
    "print(dipole_function1([0,0,0],[5,0,0]))\n",
    "print(dipole_function1.gradient([0,0,0],[5,0,0],\"+\"))\n",
    "print(dipole_function1.gradient([5,0,0],[0,0,0],\"-\"))"
   ]
  },
  {
   "cell_type": "code",
   "execution_count": 4,
   "id": "13acfba6-e0b6-43bb-8776-2aab790f1ad2",
   "metadata": {},
   "outputs": [],
   "source": [
    "def dot_C(r, C, jk):\n",
    "    \"\"\"\n",
    "    Computing partial derivative of C w.r.t. time, a.k.a. C_dot\n",
    "    Args:\n",
    "    + r (np.array): list/array of postition of charged particles. Shape: n_particles x 3\n",
    "    + v (np.array): list/array of velocities of charged particles. Shape: n_particles x 3\n",
    "    + C (np.array): list/array of pair of modes\n",
    "    \"\"\"\n",
    "\n",
    "    C_dot = []\n",
    "\n",
    "    jk_transv = (np.eye(3) - np.outer(k_vec, k_vec) / (self.k[j]**2)) @ jk\n",
    "\n",
    "    proj_jk_transv = np.array([\n",
    "        jk_transv @ e for e in self.epsilon[j] \n",
    "        ])\n",
    "\n",
    "    C_dot.append( -1j * self.omega[j] * C[j] + \\\n",
    "        (2 * np.pi * 1j / self.k[j]) * proj_jk_transv)\n",
    "\n",
    "    C_dot = np.array(C_dot)\n",
    "    return C_dot\n"
   ]
  },
  {
   "cell_type": "code",
   "execution_count": 6,
   "id": "85c5ebda-6dd1-42b6-8291-047be2e754ea",
   "metadata": {},
   "outputs": [],
   "source": [
    "r_ar = np.array([2,2,2]) # Argon should be negative\n",
    "r_xe = np.array([0,0,0]) # Xenon should be positive\n",
    "\n",
    "v_ar = np.array([-1,-1,-1])\n",
    "v_xe = np.array([0,0,0])\n",
    "\n",
    "k_vec = np.array([1,0,0])\n",
    "C = np.tile((np.random.rand(1,2) + 1j * np.random.rand(1,2)),(1,1)),\n",
    "\n",
    "dipole_func = GriegorievDipoleFunction(mu0=0.0284, a=1.22522, d0=7.10, d7=14200)\n",
    "mu = dipole_func(r_xe, r_ar)\n",
    "\n",
    "mu_grad_ar = dipole_func.gradient(r_ar, r_xe, \"-\")\n",
    "\n",
    "j_mu = mu_grad_ar.T @ r_ar\n",
    "jk_mu = j_mu * np.exp(-1j * k_vec @ r_ar)"
   ]
  },
  {
   "cell_type": "code",
   "execution_count": 23,
   "id": "57fe396d-0c1d-4857-a3dd-c9960e411722",
   "metadata": {},
   "outputs": [
    {
     "data": {
      "text/plain": [
       "array([3.59967386, 3.59967386, 3.59967386])"
      ]
     },
     "execution_count": 23,
     "metadata": {},
     "output_type": "execute_result"
    }
   ],
   "source": [
    "j_mu"
   ]
  },
  {
   "cell_type": "code",
   "execution_count": 32,
   "id": "b7d29d46-7d23-4432-b5eb-354d7e0fe858",
   "metadata": {},
   "outputs": [
    {
     "data": {
      "text/plain": [
       "array([[0., 0., 0.],\n",
       "       [0., 0., 0.],\n",
       "       [0., 0., 0.]])"
      ]
     },
     "execution_count": 32,
     "metadata": {},
     "output_type": "execute_result"
    }
   ],
   "source": [
    "dipole_func.gradient(r_ar, r_xe) - dipole_func.gradient(r_xe, r_ar)"
   ]
  },
  {
   "cell_type": "code",
   "execution_count": 31,
   "id": "4ea0e3dc-fdac-4c4a-94f1-d7c18493b170",
   "metadata": {},
   "outputs": [
    {
     "data": {
      "text/plain": [
       "array([[0.6136541 , 0.59309142, 0.59309142],\n",
       "       [0.59309142, 0.6136541 , 0.59309142],\n",
       "       [0.59309142, 0.59309142, 0.6136541 ]])"
      ]
     },
     "execution_count": 31,
     "metadata": {},
     "output_type": "execute_result"
    }
   ],
   "source": [
    "dipole_func.gradient(r_xe, r_ar)"
   ]
  },
  {
   "cell_type": "code",
   "execution_count": null,
   "id": "b0c1f945-c256-41f6-ab8d-46b51b643b6a",
   "metadata": {},
   "outputs": [],
   "source": []
  }
 ],
 "metadata": {
  "kernelspec": {
   "display_name": "Python 3 (ipykernel)",
   "language": "python",
   "name": "python3"
  },
  "language_info": {
   "codemirror_mode": {
    "name": "ipython",
    "version": 3
   },
   "file_extension": ".py",
   "mimetype": "text/x-python",
   "name": "python",
   "nbconvert_exporter": "python",
   "pygments_lexer": "ipython3",
   "version": "3.12.0"
  }
 },
 "nbformat": 4,
 "nbformat_minor": 5
}
