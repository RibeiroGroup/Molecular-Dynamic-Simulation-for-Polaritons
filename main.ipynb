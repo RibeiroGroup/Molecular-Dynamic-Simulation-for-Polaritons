{
 "cells": [
  {
   "cell_type": "code",
   "execution_count": 4,
   "id": "13d32e73-fa24-4922-a1d6-e7058e0d85b1",
   "metadata": {},
   "outputs": [],
   "source": [
    "import numpy as np\n",
    "\n",
    "from distance import DistanceCalculator, \n",
    "from utils import neighborlist_mask, PBC_wrapping\n"
   ]
  },
  {
   "cell_type": "code",
   "execution_count": 2,
   "id": "8e2e6291-a55e-49a3-8e71-9c1bb3f8f5e3",
   "metadata": {},
   "outputs": [],
   "source": [
    "M_Ar = 39.948  #a.m.u\n",
    "M_Xe = 131.293 #a.m.u"
   ]
  },
  {
   "cell_type": "code",
   "execution_count": null,
   "id": "dce05c8b-99e0-414c-9d79-e422b7f22dc9",
   "metadata": {},
   "outputs": [],
   "source": [
    "class Atoms:\n",
    "    def __init__(self, mass, R, R_dot):\n",
    "        \n",
    "    def update(self, R, R_dot):\n",
    "\n",
    "    def add_calculator(self,calculator, \n",
    "\n",
    "    def energy(self):\n",
    "\n",
    "atoms = Atoms(\n",
    "    mass = [M_Ar, M_Xe],\n",
    "    R = \n",
    ")"
   ]
  },
  {
   "cell_type": "code",
   "execution_count": null,
   "id": "49bcbec3-2a37-4560-833d-968bed47628c",
   "metadata": {},
   "outputs": [],
   "source": []
  },
  {
   "cell_type": "code",
   "execution_count": null,
   "id": "9417b331-651c-4678-9bc6-98ce27a0941f",
   "metadata": {},
   "outputs": [],
   "source": []
  }
 ],
 "metadata": {
  "kernelspec": {
   "display_name": "Python 3 (ipykernel)",
   "language": "python",
   "name": "python3"
  },
  "language_info": {
   "codemirror_mode": {
    "name": "ipython",
    "version": 3
   },
   "file_extension": ".py",
   "mimetype": "text/x-python",
   "name": "python",
   "nbconvert_exporter": "python",
   "pygments_lexer": "ipython3",
   "version": "3.12.0"
  }
 },
 "nbformat": 4,
 "nbformat_minor": 5
}
