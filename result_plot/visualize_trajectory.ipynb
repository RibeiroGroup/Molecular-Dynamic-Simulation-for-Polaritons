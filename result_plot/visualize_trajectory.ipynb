{
 "cells": [
  {
   "cell_type": "code",
   "execution_count": 1,
   "id": "79b15d09",
   "metadata": {},
   "outputs": [],
   "source": [
    "import pickle \n",
    "\n",
    "import numpy as np\n",
    "\n",
    "import matplotlib.pyplot as plt\n",
    "from mpl_toolkits.mplot3d import Axes3D\n",
    "import matplotlib.animation as animation\n",
    "\n",
    "%matplotlib inline"
   ]
  },
  {
   "cell_type": "code",
   "execution_count": 5,
   "id": "a9b75506",
   "metadata": {
    "scrolled": true
   },
   "outputs": [
    {
     "name": "stdout",
     "output_type": "stream",
     "text": [
      "{'k_vec': array([[0.00729927, 0.        , 0.        ],\n",
      "       [0.        , 0.00729927, 0.        ],\n",
      "       [0.        , 0.        , 0.00729927]]), 'k_const': None}\n"
     ]
    }
   ],
   "source": [
    "with open(\"sim_result.pkl\",\"rb\") as handle:\n",
    "    trajectory = pickle.load(handle)\n",
    "\n",
    "hamiltonian = trajectory\n",
    "print(trajectory[\"initial\"])"
   ]
  },
  {
   "cell_type": "code",
   "execution_count": 12,
   "id": "ef9401d6",
   "metadata": {},
   "outputs": [
    {
     "data": {
      "image/png": "[encoded data removed]",
      "text/plain": [
       "<Figure size 1000x600 with 2 Axes>"
      ]
     },
     "metadata": {},
     "output_type": "display_data"
    }
   ],
   "source": [
    "num_points = len(trajectory[\"r\"][0])\n",
    "\n",
    "#a = np.random.rand(2000, 3)*10\n",
    "t = np.arange(len(trajectory))\n",
    "color_list = [\"red\",\"blue\",\"black\",\"green\"]\n",
    "\n",
    "def update_graph(num):\n",
    "    for i in range(num_points):\n",
    "        data = list(np.real(trajectory[\"r\"][num][i]))\n",
    "        data_v = list(np.real(trajectory[\"v\"][num][i]))\n",
    "        \n",
    "        scat_xy[i].set_offsets([data[0], data[1]])\n",
    "        scat_xz[i].set_offsets([data[0], data[2]])\n",
    "        \n",
    "        plot_xy_v[i].set_xdata(\n",
    "            [data[0],data[0]+data_v[0]])\n",
    "        plot_xy_v[i].set_ydata(\n",
    "            [data[1],data[1]+data_v[1]])\n",
    "        plot_xz_v[i].set_xdata(\n",
    "            [data[0],data[0]+data_v[0]])\n",
    "        plot_xz_v[i].set_ydata(\n",
    "            [data[2],data[2]+data_v[2]])\n",
    "\n",
    "fig, ax = plt.subplots(2,figsize=(10,6))\n",
    "\n",
    "scat_xy = []\n",
    "scat_xz = []\n",
    "plot_xy = []\n",
    "plot_xz = []\n",
    "plot_xy_v = []\n",
    "plot_xz_v = []\n",
    "\n",
    "for i in range(num_points):\n",
    "    data = list(np.real(trajectory[\"r\"][0][i]))\n",
    "    scat_xy.append(\n",
    "        ax[0].scatter(data[0], data[1], s = 50,c=color_list[i]))\n",
    "    scat_xz.append(\n",
    "        ax[1].scatter(data[0], data[2], s = 50,c=color_list[i]))\n",
    "\n",
    "    data_v = list(np.real(trajectory[\"v\"][0][i]))\n",
    "    plot_xy_v.append(\n",
    "        ax[0].plot(\n",
    "            (data[0],data[0]+data_v[0]), (data[1],data[1]+data_v[1]),c=color_list[i]\n",
    "    )[0])\n",
    "    plot_xz_v.append(\n",
    "        ax[1].plot(\n",
    "            (data[0],data[0]+data_v[0]), (data[2],data[2]+data_v[2]),c=color_list[i]\n",
    "    )[0])\n",
    "\n",
    "    data = np.real(trajectory[\"r\"][:])[:,i]\n",
    "    ax[0].plot(data[:,0], data[:,1],linestyle=\"dotted\",c=color_list[i])\n",
    "    ax[1].plot(data[:,0], data[:,2],linestyle=\"dotted\",c=color_list[i])\n",
    "\n",
    "\n",
    "maxlim = 5\n",
    "minlim = -5\n",
    "ax[0].set_xlim(minlim,maxlim)\n",
    "ax[0].set_ylim(minlim,maxlim)\n",
    "ax[1].set_xlim(minlim,maxlim)\n",
    "ax[1].set_ylim(minlim,maxlim)\n",
    "\n",
    "ax[0].set_xlabel(\"x\")\n",
    "ax[0].set_ylabel(\"y\")\n",
    "ax[1].set_xlabel(\"x\")\n",
    "ax[1].set_ylabel(\"z\")\n",
    "\n",
    "\n",
    "ani = animation.FuncAnimation(fig, update_graph, len(trajectory[\"r\"]), interval=0.01, blit=False)\n",
    "#fig.show()\n",
    "#fig.savefig(\"morse_trajectory.jpeg\",dpi=600)\n",
    "\n",
    "ani.save(filename=\"trajectory.gif\", writer=\"pillow\")"
   ]
  },
  {
   "cell_type": "code",
   "execution_count": null,
   "id": "e5e9b726",
   "metadata": {},
   "outputs": [],
   "source": [
    "import numpy as np\n",
    "from matplotlib import pyplot as plt\n",
    "from mpl_toolkits.mplot3d import Axes3D\n",
    "import matplotlib.animation\n",
    "import pandas as pd\n",
    "\n",
    "\n",
    "a = np.random.rand(2000, 3)*10\n",
    "t = np.array([np.ones(100)*i for i in range(20)]).flatten()\n",
    "df = pd.DataFrame({\"time\": t ,\"x\" : a[:,0], \"y\" : a[:,1], \"z\" : a[:,2]})\n",
    "\n",
    "def update_graph(num):\n",
    "    data=df[df['time']==num]\n",
    "    graph._offsets3d = (data.x, data.y, data.z)\n",
    "    title.set_text('3D Test, time={}'.format(num))\n",
    "\n",
    "\n",
    "fig = plt.figure()\n",
    "ax = fig.add_subplot(111, projection='3d')\n",
    "title = ax.set_title('3D Test')\n",
    "\n",
    "data=df[df['time']==0]\n",
    "graph = ax.scatter(data.x, data.y, data.z)\n",
    "\n",
    "ani = matplotlib.animation.FuncAnimation(fig, update_graph, frames=40, \n",
    "                               interval=40,blit=False)\n",
    "\n",
    "plt.show()"
   ]
  },
  {
   "cell_type": "code",
   "execution_count": null,
   "id": "4d87d4f2",
   "metadata": {},
   "outputs": [],
   "source": [
    "df"
   ]
  },
  {
   "cell_type": "code",
   "execution_count": null,
   "id": "b2290542",
   "metadata": {},
   "outputs": [],
   "source": [
    "data=df[df['time']==2]\n",
    "data"
   ]
  },
  {
   "cell_type": "code",
   "execution_count": null,
   "id": "8941bfd2",
   "metadata": {},
   "outputs": [],
   "source": [
    "list(np.real(trajectory[1][0]))"
   ]
  },
  {
   "cell_type": "code",
   "execution_count": null,
   "id": "8a19b6b6",
   "metadata": {},
   "outputs": [],
   "source": []
  }
 ],
 "metadata": {
  "kernelspec": {
   "display_name": "Python 3 (ipykernel)",
   "language": "python",
   "name": "python3"
  },
  "language_info": {
   "codemirror_mode": {
    "name": "ipython",
    "version": 3
   },
   "file_extension": ".py",
   "mimetype": "text/x-python",
   "name": "python",
   "nbconvert_exporter": "python",
   "pygments_lexer": "ipython3",
   "version": "3.12.0"
  }
 },
 "nbformat": 4,
 "nbformat_minor": 5
}
