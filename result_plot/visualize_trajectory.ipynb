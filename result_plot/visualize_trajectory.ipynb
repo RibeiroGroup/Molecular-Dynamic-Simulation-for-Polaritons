{
 "cells": [
  {
   "cell_type": "code",
   "execution_count": 1,
   "id": "79b15d09",
   "metadata": {},
   "outputs": [],
   "source": [
    "import pickle \n",
    "\n",
    "import numpy as np\n",
    "\n",
    "import matplotlib.pyplot as plt\n",
    "from mpl_toolkits.mplot3d import Axes3D\n",
    "import matplotlib.animation as animation\n",
    "\n",
    "%matplotlib inline"
   ]
  },
  {
   "cell_type": "code",
   "execution_count": 29,
   "id": "a9b75506",
   "metadata": {
    "scrolled": true
   },
   "outputs": [
    {
     "name": "stdout",
     "output_type": "stream",
     "text": [
      "501\n"
     ]
    }
   ],
   "source": [
    "with open(\"trajectory.pkl\",\"rb\") as handle:\n",
    "    trajectory = pickle.load(handle)\n",
    "\n",
    "n_points = trajectory[\"r\"][0].shape[0]\n",
    "half_n_points = int(n_points/2)\n",
    "\n",
    "L = trajectory[\"L\"]\n",
    "print(len(trajectory[\"H\"]))"
   ]
  },
  {
   "cell_type": "code",
   "execution_count": 30,
   "id": "ef9401d6",
   "metadata": {},
   "outputs": [
    {
     "data": {
      "image/png": "[encoded data removed]",
      "text/plain": [
       "<Figure size 1200x600 with 2 Axes>"
      ]
     },
     "metadata": {},
     "output_type": "display_data"
    }
   ],
   "source": [
    "fig, ax = plt.subplots(1,2,figsize = (12,6))\n",
    "\n",
    "scats = []\n",
    "\n",
    "R = trajectory['r'][0]\n",
    "\n",
    "scats.append( ax[0].scatter(R[:half_n_points, 0], R[:half_n_points, 1], s = 20) )\n",
    "scats.append( ax[1].scatter(R[:half_n_points, 2], R[:half_n_points, 1], s = 20) )\n",
    "\n",
    "scats.append( ax[0].scatter(R[half_n_points:, 0], R[half_n_points:, 1], s = 40) )\n",
    "scats.append( ax[1].scatter(R[half_n_points:, 2], R[half_n_points:, 1], s = 40) )\n",
    "\n",
    "ax[0].set_xlim(-L/2,L/2)\n",
    "ax[0].set_ylim(-L/2,L/2)\n",
    "ax[1].set_xlim(-L/2,L/2)\n",
    "ax[1].set_ylim(-L/2,L/2)\n",
    "\n",
    "def animate(i):\n",
    "    R = trajectory['r'][i]\n",
    "\n",
    "    scats[0].set_offsets(\n",
    "        np.vstack([R[:half_n_points, 0], R[:half_n_points, 1]]).T\n",
    "    )\n",
    "    scats[1].set_offsets(\n",
    "        np.vstack([R[:half_n_points, 2], R[:half_n_points, 1]]).T\n",
    "    )\n",
    "\n",
    "    scats[2].set_offsets(\n",
    "        np.vstack([R[half_n_points:, 0], R[half_n_points:, 1]]).T\n",
    "    )\n",
    "    scats[3].set_offsets(\n",
    "        np.vstack([R[half_n_points:, 2], R[half_n_points:, 1]]).T\n",
    "    )\n",
    "    \n",
    "ani = animation.FuncAnimation(fig, func=animate, frames= len(trajectory[\"steps\"]), interval = 120)\n",
    "\n",
    "ani.save('trajectory.html', writer=animation.HTMLWriter(fps= 1))\n",
    "\n",
    "ani.save(filename=\"trajectory.gif\", writer=\"pillow\")"
   ]
  },
  {
   "cell_type": "code",
   "execution_count": null,
   "id": "4d87d4f2",
   "metadata": {},
   "outputs": [],
   "source": [
    "df"
   ]
  },
  {
   "cell_type": "code",
   "execution_count": null,
   "id": "b2290542",
   "metadata": {},
   "outputs": [],
   "source": [
    "data=df[df['time']==2]\n",
    "data"
   ]
  },
  {
   "cell_type": "code",
   "execution_count": null,
   "id": "8941bfd2",
   "metadata": {},
   "outputs": [],
   "source": [
    "list(np.real(trajectory[1][0]))"
   ]
  },
  {
   "cell_type": "code",
   "execution_count": null,
   "id": "8a19b6b6",
   "metadata": {},
   "outputs": [],
   "source": []
  }
 ],
 "metadata": {
  "kernelspec": {
   "display_name": "Python 3 (ipykernel)",
   "language": "python",
   "name": "python3"
  },
  "language_info": {
   "codemirror_mode": {
    "name": "ipython",
    "version": 3
   },
   "file_extension": ".py",
   "mimetype": "text/x-python",
   "name": "python",
   "nbconvert_exporter": "python",
   "pygments_lexer": "ipython3",
   "version": "3.12.0"
  }
 },
 "nbformat": 4,
 "nbformat_minor": 5
}
