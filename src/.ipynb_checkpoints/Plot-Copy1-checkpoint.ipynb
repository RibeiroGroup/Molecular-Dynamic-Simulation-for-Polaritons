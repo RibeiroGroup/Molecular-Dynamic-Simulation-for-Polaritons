{
 "cells": [
  {
   "cell_type": "code",
   "execution_count": 1,
   "id": "94fa355f-8790-44c2-8587-34e6daefb06d",
   "metadata": {},
   "outputs": [],
   "source": [
    "import warnings\n",
    "warnings.filterwarnings('ignore')\n",
    "\n",
    "import argparse\n",
    "import os, sys, importlib\n",
    "from glob import glob\n",
    "import pickle\n",
    "\n",
    "import numpy as np\n",
    "import matplotlib.pyplot as plt\n",
    "\n",
    "from utilities import reduced_parameter as red\n",
    "from field.utils import profiling_rad\n",
    "\n",
    "import utilities.reduced_parameter as red\n",
    "\n",
    "from utilities.etc import categorizing_result\n",
    "from analyze_tools import plot_tools as pt\n",
    "import analyze_tools.monte_carlo as at\n",
    "\n",
    "import animation as an\n",
    "\n",
    "def assert_path(path):\n",
    "    try: \n",
    "        assert os.path.isdir(path)\n",
    "    except AssertionError:\n",
    "        raise Exception(\"Path {} is not exist\".format(path))\n",
    "\n",
    "linestyle_list = [\"solid\", \"dashed\", \"dotted\",\"dashdot\"]\n",
    "scatter_list = [\"o\", \"^\",\"v\"]"
   ]
  },
  {
   "cell_type": "code",
   "execution_count": 2,
   "id": "01b1d71e-7de3-4dba-b22f-6ca41e176322",
   "metadata": {},
   "outputs": [],
   "source": [
    "pt = importlib.reload(pt)\n",
    "at = importlib.reload(at)\n",
    "red = importlib.reload(red)"
   ]
  },
  {
   "cell_type": "code",
   "execution_count": null,
   "id": "d162718e-a214-460c-9666-db954a9d5b4e",
   "metadata": {},
   "outputs": [],
   "source": [
    "potential_func = lambda r: 4 * red.epsilon_Ar_Xe * ((red.sigma_Ar_Xe**12 / r**12) - (red.sigma_Ar_Xe**6 / r**6))\n",
    "\n",
    "r = np.linspace(1,3,400)\n",
    "fig,ax = plt.subplots()\n",
    "ax.plot(r, potential_func(r))"
   ]
  },
  {
   "cell_type": "code",
   "execution_count": null,
   "id": "77a6978b-816c-4ee1-8758-6131c2edcfb3",
   "metadata": {},
   "outputs": [],
   "source": [
    "red.d0"
   ]
  },
  {
   "cell_type": "code",
   "execution_count": null,
   "id": "a190975c-8a07-425c-bb74-40ba1262b187",
   "metadata": {},
   "outputs": [],
   "source": [
    "red.sigma_Ar_Xe"
   ]
  },
  {
   "cell_type": "code",
   "execution_count": null,
   "id": "0b03891a-de30-482f-a0bb-31b8b72f74e2",
   "metadata": {},
   "outputs": [],
   "source": [
    "dipole_func(1.5)"
   ]
  },
  {
   "cell_type": "code",
   "execution_count": null,
   "id": "cc9044f3-b414-4c96-997a-a969e07372c4",
   "metadata": {},
   "outputs": [],
   "source": [
    "dipole_func = lambda d: red.mu0 * np.exp(-red.a * (d - red.d0)) - red.d7/d**7\n",
    "dipole_func2 = lambda d: red.mu0 * np.exp(-red.a * (d - red.d0))# - red.d7/d**7\n",
    "\n",
    "fig,ax = plt.subplots()\n",
    "ax.plot(r, dipole_func(r))\n",
    "ax.plot(r, dipole_func2(r))"
   ]
  },
  {
   "cell_type": "code",
   "execution_count": 3,
   "id": "953f17e1-07f1-449b-955d-7325bdbabbf9",
   "metadata": {},
   "outputs": [],
   "source": [
    "ROOT2 = \"pickle_jar/\"\n",
    "\n",
    "temperature_list = []\n",
    "\n",
    "nofield_path = ROOT2 + \"nofield-292_256_157\"\n",
    "freefield_path = ROOT2 + \"free-292_256_157-zero_0_0-c0\"\n",
    "cavityfield_path = ROOT2 + \"cavity-292_256_157-zpve_0_0-c1_Lxy-microz\"\n",
    "\n",
    "assert_path(nofield_path)\n",
    "assert_path(freefield_path)\n",
    "assert_path(cavityfield_path)\n",
    "\n",
    "fig_root = \"figure/Final_temp\"\n",
    "if not os.path.isdir(fig_root):\n",
    "    os.mkdir(fig_root)"
   ]
  },
  {
   "cell_type": "code",
   "execution_count": 64,
   "id": "c946bd23-63c1-476b-9788-a2df397532ba",
   "metadata": {},
   "outputs": [],
   "source": [
    "nofield_result_dict = categorizing_result(nofield_path,KEYWORDS = \"\")\n",
    "freefield_result_dict = categorizing_result(freefield_path, KEYWORDS = '')\n",
    "cavityfield_result_dict = categorizing_result(cavityfield_path, KEYWORDS = '')"
   ]
  },
  {
   "cell_type": "code",
   "execution_count": 65,
   "id": "d7ac1a2d-8647-4ae8-ae63-740f9d15bc93",
   "metadata": {},
   "outputs": [],
   "source": [
    "k_list = np.sort(freefield_result_dict[0]['field'].k_val)\n",
    "#k_list = np.arange(1,200) * (2 * np.pi / 2e7)\n",
    "wn_list = np.array(k_list * red.c)"
   ]
  },
  {
   "cell_type": "code",
   "execution_count": 66,
   "id": "81f25230-151c-490e-b277-994df2a77ece",
   "metadata": {},
   "outputs": [],
   "source": [
    "def fft(wn_list, time, mu):\n",
    "    def single_fft(wn, time, mu):\n",
    "        e = np.exp(1j *  wn * time)\n",
    "        return np.sum(e * mu, axis = 0)\n",
    "    \n",
    "    fft_result = []\n",
    "\n",
    "    if len(mu.shape)  == 2:\n",
    "        time = np.tile(time[:,np.newaxis], (1, mu.shape[1]))\n",
    "    \n",
    "    #wn_list = np.arange(0.5, 1000, 0.1)\n",
    "    for wn in wn_list:\n",
    "        fft_result.append(single_fft(wn = wn, time = time, mu = mu))\n",
    "    \n",
    "    fft_result = np.array(fft_result)\n",
    "\n",
    "    return fft_result\n",
    "\n",
    "def dipole_spectra(result_dict, wavenumber, limit = None):\n",
    "    autocorr_list = []\n",
    "    wavenumber = np.array(wavenumber)\n",
    "    \n",
    "    for i, result in nofield_result_dict.items():\n",
    "        \n",
    "        if limit and i > limit : \n",
    "            continue\n",
    "            \n",
    "        t = red.convert_time(np.array(\n",
    "            result['atoms'].observable['t']))\n",
    "        t -= t[0]\n",
    "        total_dipole = np.array(\n",
    "            result['atoms'].observable['dipole_velocity']\n",
    "        ) #/ 2\n",
    "        \n",
    "        autocorr = fft(wavenumber, t, total_dipole)\n",
    "        \n",
    "        autocorr_list.append( np.einsum('ni,ni->n',autocorr, np.conjugate(autocorr)) )\n",
    "        #autocorr_list.append( autocorr * np.conjugate(autocorr) )\n",
    "    \n",
    "    autocorr = np.mean(autocorr_list, axis = 0)\n",
    "    \n",
    "    spec = (2 * np.pi)**4 * autocorr * wavenumber**2\n",
    "\n",
    "    return spec\n",
    "\n",
    "def field_spectra(result_dict, limit = None):\n",
    "    rad_profile = []\n",
    "    \n",
    "    for i, rd in result_dict.items():\n",
    "\n",
    "        if limit and i > limit : \n",
    "            continue\n",
    "        \n",
    "        Afield = rd[\"field\"]\n",
    "        \n",
    "        rad_energy = red.convert_energy(np.array(Afield.history[\"energy\"][-1]), \"ev\") \n",
    "        omega = red.convert_wavenumber(Afield.k_val)\n",
    "        omega_profile, final_rad_profile = profiling_rad(omega, rad_energy)\n",
    "        \n",
    "        foo = np.argsort(omega_profile)\n",
    "        omega_profile = np.array(omega_profile)[foo]\n",
    "        final_rad_profile = np.array(final_rad_profile)[foo]\n",
    "        \n",
    "        rad_profile.append(final_rad_profile)\n",
    "        \n",
    "    rad_profile = np.mean(rad_profile, axis = 0)\n",
    "    \n",
    "    return omega_profile, rad_profile"
   ]
  },
  {
   "cell_type": "code",
   "execution_count": 67,
   "id": "3f39db70-8f7f-4909-b01d-1a091728e0dd",
   "metadata": {},
   "outputs": [
    {
     "data": {
      "image/png": "[encoded data removed]",
      "text/plain": [
       "<Figure size 600x1200 with 3 Axes>"
      ]
     },
     "metadata": {},
     "output_type": "display_data"
    }
   ],
   "source": [
    "from copy import deepcopy\n",
    "fig,ax = plt.subplots(3, figsize = (6,12))\n",
    "\n",
    "spec1 = dipole_spectra(nofield_result_dict, wavenumber = wn_list)\n",
    "\n",
    "wn_real = red.convert_wavenumber(k_list)\n",
    "w, s = pt.moving_average(wn_real, spec1, w = 6)\n",
    "ax[0].plot(w, s)\n",
    "\n",
    "omega_profile, rad_profile = field_spectra(freefield_result_dict, limit = 0)\n",
    "ax[1].scatter(omega_profile, rad_profile, s = 5)\n",
    "o, f = pt.moving_average(omega_profile, rad_profile, w = 6)\n",
    "ax[1].plot(o, f, c = \"b\")\n",
    "\n",
    "#\"\"\"\n",
    "omega_profile, rad_profile = field_spectra(cavityfield_result_dict, limit = 0)\n",
    "ax[2].scatter(omega_profile, rad_profile, s = 5)\n",
    "o, f = pt.moving_average(omega_profile, rad_profile, w = 6)\n",
    "ax[2].plot(o, f, c= 'r')\n",
    "#\"\"\"\n",
    "\n",
    "fig.savefig(\"test.jpeg\",dpi = 600)"
   ]
  },
  {
   "cell_type": "code",
   "execution_count": 47,
   "id": "927bd01f-703f-46d8-80dd-bbbfb3945e44",
   "metadata": {},
   "outputs": [],
   "source": [
    "bins_arr = np.arange(0,5,0.05)\n",
    "\n",
    "def getall_colliding_time(result_dict, limit = None):\n",
    "    all_colliding_time = np.array([])\n",
    "    \n",
    "    for i, rd in result_dict.items():\n",
    "        if limit and i > limit: \n",
    "            continue\n",
    "            \n",
    "        atoms = rd['atoms']\n",
    "        \n",
    "        time = at.get_colliding_time(atoms, dipole_threshold = 0)\n",
    "    \n",
    "        all_colliding_time = np.hstack([all_colliding_time, time])\n",
    "    return all_colliding_time"
   ]
  },
  {
   "cell_type": "code",
   "execution_count": 48,
   "id": "464d4f52-7dbd-4f54-9be7-4538c41ec5c7",
   "metadata": {},
   "outputs": [
    {
     "data": {
      "text/plain": [
       "<matplotlib.collections.PathCollection at 0x120669280>"
      ]
     },
     "execution_count": 48,
     "metadata": {},
     "output_type": "execute_result"
    },
    {
     "data": {
      "image/png": "[encoded data removed]",
      "text/plain": [
       "<Figure size 1000x800 with 3 Axes>"
      ]
     },
     "metadata": {},
     "output_type": "display_data"
    }
   ],
   "source": [
    "fig,ax = plt.subplots(3, figsize = (10,8))\n",
    "\n",
    "hist1 = ax[0].hist(getall_colliding_time(freefield_result_dict, limit = 10), bins_arr)\n",
    "hist2 = ax[1].hist(getall_colliding_time(cavityfield_result_dict, limit = 10), bins_arr)\n",
    "\n",
    "ax[2].scatter(bins_arr[:-1], hist1[0] - hist2[0])"
   ]
  },
  {
   "cell_type": "code",
   "execution_count": 58,
   "id": "1d5da46a-4efe-40a1-aced-2163b8145268",
   "metadata": {},
   "outputs": [
    {
     "name": "stdout",
     "output_type": "stream",
     "text": [
      "(3318.4644844772656+0j)\n",
      "(3318.4446718361783+0j)\n"
     ]
    },
    {
     "data": {
      "text/plain": [
       "[<matplotlib.lines.Line2D at 0x123b48650>]"
      ]
     },
     "execution_count": 58,
     "metadata": {},
     "output_type": "execute_result"
    },
    {
     "data": {
      "image/png": "[encoded data removed]",
      "text/plain": [
       "<Figure size 640x480 with 2 Axes>"
      ]
     },
     "metadata": {},
     "output_type": "display_data"
    }
   ],
   "source": [
    "atoms = cavityfield_result_dict[0]['atoms']\n",
    "field = cavityfield_result_dict[0]['field']\n",
    "\n",
    "k = np.array(atoms.observable['kinetic'])\n",
    "v = np.array(atoms.observable['potential'])\n",
    "\n",
    "hrad = np.sum(field.history['energy'], axis = 1)\n",
    "t = field.history['t']\n",
    "\n",
    "total = k + v + hrad\n",
    "print(total[0])\n",
    "print(total[-1])\n",
    "\n",
    "fig,ax = plt.subplots(2)\n",
    "\n",
    "ax[0].plot(t, total)\n",
    "ax[1].plot(t, hrad)"
   ]
  },
  {
   "cell_type": "code",
   "execution_count": null,
   "id": "03c68bfa-5dba-45fb-8c45-44d794500d67",
   "metadata": {},
   "outputs": [],
   "source": [
    "at = importlib.reload(at)\n",
    "\n",
    "fig,ax = plt.subplots(1)\n",
    "\n",
    "colliding_time0_list = []\n",
    "for i, result in free_result_dict.items():\n",
    "    atoms = result['atoms']\n",
    "    time = at.get_colliding_time(atoms,red.mu0, 1e-5)\n",
    "    colliding_time0_list.append(time)\n",
    "\n",
    "colliding_time0 = np.hstack(colliding_time0_list)\n",
    "\n",
    "#\"\"\"\n",
    "longest_time = 0 \n",
    "longest_i = None\n",
    "longest_pair = None\n",
    "\n",
    "colliding_time_list = []\n",
    "\n",
    "for i, result in cave_result_dict.items():\n",
    "    atoms = result['atoms']\n",
    "    time = at.get_colliding_time(atoms,red.mu0, 1e-5)\n",
    "    colliding_time_list.append(time)\n",
    "\n",
    "    if np.max(time) > longest_time:\n",
    "        longest_time = np.max(time)\n",
    "        longest_i = i\n",
    "        longest_pair = np.argmax(time)\n",
    "\n",
    "colliding_time = np.hstack(colliding_time_list)\n",
    "\n",
    "time_diff = np.array(colliding_time) - colliding_time0\n",
    "#time_diff = time_diff[np.abs(time_diff) > 0.1]\n",
    "hist = ax.hist(time_diff,bins = np.arange(-2,10,0.1))\n",
    "\n",
    "#ax[0].set_xlabel(\"collision time (ps)\")\n",
    "ax.set_ylabel(\"Number of Ar-Xe pairs\")\n",
    "\n",
    "ax.set_xlabel(\"collision time difference (ps)\")\n",
    "#print(hist)\n",
    "del hist\n",
    "#ax[1].set_ylabel(\"Number of Ar-Xe pairs\")\n",
    "#\"\"\"\n",
    "#fig.savefig(fig_root + '/' + 'histogram.jpeg')"
   ]
  },
  {
   "cell_type": "code",
   "execution_count": null,
   "id": "7bb4dd23-1288-4070-98a7-ddf233b17bbb",
   "metadata": {},
   "outputs": [],
   "source": [
    "count_no_zeroes = lambda array: np.sum(np.array(array) > 0)\n",
    "print(list(map(count_no_zeroes, colliding_time_list)))"
   ]
  },
  {
   "cell_type": "code",
   "execution_count": null,
   "id": "d235edf2-b835-450d-87c6-46085672a8fb",
   "metadata": {},
   "outputs": [],
   "source": [
    "L = cave_result_dict[0]['cavity_field'].L\n",
    "L * red.sigma"
   ]
  },
  {
   "cell_type": "code",
   "execution_count": null,
   "id": "afe3a744-4aed-4126-af56-1f353b62cebb",
   "metadata": {},
   "outputs": [],
   "source": [
    "cave_result_dict[0].keys()"
   ]
  },
  {
   "cell_type": "code",
   "execution_count": null,
   "id": "5d0e410e-b5a1-4b53-ab3a-920fd4437919",
   "metadata": {},
   "outputs": [],
   "source": [
    "red.convert_wavenumber(cave_result_dict[0]['probe_field'].k_vector)"
   ]
  },
  {
   "cell_type": "code",
   "execution_count": null,
   "id": "6ab9fdc3-ac02-4248-9c5c-148f6c8cc2d2",
   "metadata": {},
   "outputs": [],
   "source": [
    "red.convert_wavenumber(cave_result_dict[0]['cavity_field'].k_val)"
   ]
  },
  {
   "cell_type": "code",
   "execution_count": null,
   "id": "09053188-cf58-431e-95f1-fc20d8003b73",
   "metadata": {},
   "outputs": [],
   "source": [
    "def get_kinetic_potential(result_dict, i, pair):\n",
    "    longest_atom = result_dict[longest_i]['atoms']\n",
    "    r = np.array(longest_atom.trajectory[\"r\"])\n",
    "    t = red.convert_time(np.array(longest_atom.trajectory[\"t\"]))\n",
    "    r_ar = r[:, longest_pair, :]\n",
    "    r_xe = r[:, longest_pair + 512, :]\n",
    "    d_ar_xe = r_ar - r_xe\n",
    "    d_ar_xe = np.sqrt(np.einsum(\"ni,ni->n\",d_ar_xe,d_ar_xe))\n",
    "    potential = potential_func(d_ar_xe)\n",
    "    del r\n",
    "    \n",
    "    v = np.array(longest_atom.trajectory[\"r_dot\"])\n",
    "    v_ar = v[:, longest_pair, :]\n",
    "    v_xe = v[:, longest_pair + 512, :]\n",
    "    kinetic = 0.5 * np.einsum(\"ni,ni->n\", v_ar,v_ar) * red.mass_dict[\"Xe\"]\n",
    "    kinetic += 0.5 * np.einsum(\"ni,ni->n\", v_xe,v_xe) * red.mass_dict[\"Ar\"]\n",
    "    del v\n",
    "    \n",
    "    return kinetic, potential, t, longest_atom"
   ]
  },
  {
   "cell_type": "code",
   "execution_count": null,
   "id": "e3daa648-3afb-4bcf-922c-e00cef5b8e09",
   "metadata": {},
   "outputs": [],
   "source": [
    "fig,ax = plt.subplots(2,2, figsize = (8,6))\n",
    "\n",
    "foo = get_kinetic_potential(cave_result_dict, i=longest_i, pair = longest_pair)\n",
    "kinetic , potential, t , cave_atoms = foo\n",
    "kinetic = red.convert_energy(kinetic,'ev') * 1e2\n",
    "potential = red.convert_energy(potential,'ev') * 1e2\n",
    "t = red.convert_time(t)\n",
    "\n",
    "ax[0,1].plot(t, kinetic)\n",
    "ax[1,1].plot(t, potential)\n",
    "\n",
    "ax[0,0].set_ylabel(r\"Kinetic energy $(10^{-3} eV)$\")\n",
    "ax[1,0].set_ylabel(r\"Potential energy $(10^{-3} eV)$\")\n",
    "ax[1,1].set_xlabel(\"Time (ps)\")\n",
    "    \n",
    "foo = get_kinetic_potential(free_result_dict, i=longest_i, pair = longest_pair)\n",
    "kinetic , potential, t , free_atoms = foo\n",
    "kinetic = red.convert_energy(kinetic,'ev') * 1e2\n",
    "potential = red.convert_energy(potential,'ev') * 1e2\n",
    "t = red.convert_time(t)\n",
    "\n",
    "ax[1,0].plot(t, potential)\n",
    "ax[0,0].plot(t, kinetic)\n",
    "ax[1,0].set_xlabel(\"Time (ps)\")\n",
    "\n",
    "#cavity = cave_result_dict[longest_i]['cavity_field']\n",
    "#ax[2,0].plot(cavity.history['t'], np.sum(cavity.history['energy'],axis = 1) )"
   ]
  },
  {
   "cell_type": "code",
   "execution_count": null,
   "id": "4925f44d-62ad-42c9-881e-a3d4c029a055",
   "metadata": {
    "scrolled": true
   },
   "outputs": [],
   "source": [
    "an = importlib.reload(an)\n",
    "\n",
    "an.anime(cave_atoms, free_atoms, index = longest_pair, N_pairs = 512, save_path =\"figure2/longest_anime\")"
   ]
  },
  {
   "cell_type": "code",
   "execution_count": null,
   "id": "bfeae0a8-9536-4691-ae3b-9ff0cf6edfec",
   "metadata": {},
   "outputs": [],
   "source": [
    "cave_result_dict[0]['cavity_field']"
   ]
  },
  {
   "cell_type": "code",
   "execution_count": null,
   "id": "a6b0e953-0fa2-4fed-8183-21001e343c66",
   "metadata": {},
   "outputs": [],
   "source": [
    "spectrum = pt.Plot(n_spec_plots = 2)\n",
    "\n",
    "for i in range(19,15,-1):\n",
    "    em = free_result_dict[i]['probe_field']\n",
    "    wavenumber = red.convert_wavenumber(em.k_val)\n",
    "    final_rad_energy = red.convert_energy(em.history['energy'][-1], 'cm-1')# * 1e5\n",
    "    wn, erad = profiling_rad(wavenumber, final_rad_energy)\n",
    "\n",
    "    if i == 19: wn0 = wn; erad0 = erad\n",
    "    \n",
    "    spectrum.add_spec_plot(\n",
    "        0, wn, erad, scatter = True if i == 4 else False, \n",
    "        line_label = \"after {} cycles\".format(i))\n",
    "\n",
    "spectrum.add_label(0, spec_label = (\"Wavenumber (1/cm)\",r'Energy ($ cm^{-1}$)'))\n",
    "\n",
    "#\"\"\"\n",
    "\n",
    "for i in range(19,15,-1):\n",
    "    em = cave_result_dict[i]['probe_field']\n",
    "    wavenumber = red.convert_wavenumber(em.k_val)\n",
    "    final_rad_energy = red.convert_energy(em.history['energy'][-1], 'cm-1')# * 1e5\n",
    "    wn, erad = profiling_rad(wavenumber, final_rad_energy)\n",
    "\n",
    "    spectrum.add_spec_plot(\n",
    "        0 + 1, wn, erad, scatter = True if i == 4 else False, \n",
    "        line_label = \"after {} cycles\".format(i))\n",
    "\n",
    "spectrum.add_label(0 + 1, spec_label = (\"Wavenumber (1/cm)\",r'Energy ($cm^{-1}$)'))\n",
    "#\"\"\"\n",
    "\n",
    "spectrum.add_legend(0)\n",
    "spectrum.add_legend(1)\n",
    "#spectrum.add_legend(2)\n",
    "\n",
    "spectrum.annotate(spec_plots = True)\n",
    "\n",
    "spectrum.savefig(fig_root + '/general_')"
   ]
  },
  {
   "cell_type": "code",
   "execution_count": null,
   "id": "92083a68-3478-4180-8310-cd763f81461b",
   "metadata": {},
   "outputs": [],
   "source": [
    "spectrum2 = pt.Plot(n_spec_plots = 2)\n",
    "\n",
    "result_dict = cave_result_dict\n",
    "\n",
    "em = result_dict[19]['probe_field']\n",
    "wavenumber = red.convert_wavenumber(em.k_val)\n",
    "final_rad_energy = red.convert_energy(em.history['energy'][-1], 'cm-1')# * 1e5\n",
    "wn, erad = profiling_rad(wavenumber, final_rad_energy)\n",
    "\n",
    "spectrum2.add_spec_plot(\n",
    "    0, wn, erad, ma_w = 10, scatter = True)\n",
    "spectrum2.add_label(0, spec_label = (None,r'Energy ($cm^{-1}$)'))\n",
    "\n",
    "j = 1\n",
    "spectrum2.add_spec_plot(\n",
    "    j, wn, erad, ma_w = 10, scatter = False, line_label = \"Inside the cavity\")\n",
    "\n",
    "spectrum2.add_spec_plot(\n",
    "    j, wn0, np.array(erad0), ma_w = 10, scatter = False, linestyle = \"--\", line_label = \"Outside the cavity\")\n",
    "\n",
    "spectrum2.add_label(j, spec_label = (\"Wavenumber (1/cm)\",r'Energy ($cm^{-1}$)'))\n",
    "spectrum2.add_legend(1)\n",
    "\n",
    "spectrum2.annotate(spec_plots = True)\n",
    "spectrum2.savefig(fig_root + '/cavity_')"
   ]
  },
  {
   "cell_type": "code",
   "execution_count": null,
   "id": "30be8604-4978-4c93-a84d-f54be13e7c70",
   "metadata": {},
   "outputs": [],
   "source": [
    "free_result_folders"
   ]
  },
  {
   "cell_type": "code",
   "execution_count": null,
   "id": "6529c923-4dbf-4af9-85a9-bdbe986d2dc7",
   "metadata": {
    "scrolled": true
   },
   "outputs": [],
   "source": [
    "##############################################################\n",
    "##############################################################\n",
    "### PLOT SPECTRUM IN FREE SPACE FOR DIFFERENCE TEMPERATURE ###\n",
    "##############################################################\n",
    "##############################################################\n",
    "\n",
    "ma_windows = 10\n",
    "free_plot = pt.Plot(n_spec_plots = 2)\n",
    "temperature_list = [200,292]\n",
    "\n",
    "for i , free_result_folders in enumerate([all200, all292]):\n",
    "    result_dict = categorizing_result(free_result_folders, KEYWORDS=\"free\")\n",
    "\n",
    "    cycle = 4\n",
    "    Afield = result_dict[cycle][\"probe_field\"]\n",
    "\n",
    "    rad_energy = red.convert_energy(np.array(Afield.history[\"energy\"][-1]), \"cm-1\") * 1e8\n",
    "    omega = red.convert_wavenumber(Afield.k_val)\n",
    "    omega_profile, final_rad_profile = profiling_rad(omega, rad_energy)\n",
    "\n",
    "    free_plot.add_spec_plot(\n",
    "        0, omega_profile, final_rad_profile, ma_w = ma_windows, \n",
    "        line_label = \"T = {}K\".format(temperature_list[i]),\n",
    "        linestyle = linestyle_list[1 - i]\n",
    "        )\n",
    "\n",
    "    if i == 0: continue\n",
    "    else: i -= 1\n",
    "\n",
    "    for j, cycle in enumerate(range(15,20,2)):\n",
    "        Afield = result_dict[cycle][\"probe_field\"]\n",
    "\n",
    "        rad_energy = red.convert_energy(np.array(Afield.history[\"energy\"][-1]), \"cm-1\") * 1e8\n",
    "        omega = red.convert_wavenumber(Afield.k_val)\n",
    "        omega_profile, final_rad_profile = profiling_rad(omega, rad_energy)\n",
    "\n",
    "        free_plot.add_spec_plot(\n",
    "            i + 1, omega_profile, final_rad_profile, ma_w = ma_windows, scatter = False,\n",
    "            line_label = \"after {} cycles\".format(cycle + 1),\n",
    "            linestyle = linestyle_list[2 - j],\n",
    "            scatter_marker = scatter_list[2 - j]\n",
    "        )\n",
    "\n",
    "    del Afield\n",
    "    del result_dict\n",
    "\n",
    "free_plot.add_label(0, (None, \"Radiation energy ($10^{-8} cm^{-1}$)\"))\n",
    "free_plot.add_legend(0)\n",
    "free_plot.add_label(1, (r'Wavenumber $(cm^{-1})$', \"Radiation energy ($10^{-8} cm^{-1}$)\"))\n",
    "free_plot.add_legend(1)\n",
    "#free_plot.add_label(2, (r'Wavenumber $(cm^{-1})$', \"Radiation energy ($10^{-8} cm^{-1}$)\"))\n",
    "\n",
    "free_plot.annotate()\n",
    "#free_plot.add_legend(2)\n",
    "\n",
    "free_plot.savefig(fig_root + \"/free2_field_\")\n"
   ]
  },
  {
   "cell_type": "code",
   "execution_count": null,
   "id": "9db31f34-55b5-4fa8-bf67-ef18b92082e3",
   "metadata": {},
   "outputs": [],
   "source": [
    "free_result_dict = categorizing_result(ROOT + free200, KEYWORDS=\"free\")\n",
    "nofield_result_dict = categorizing_result(ROOT2 + nofield200, KEYWORDS=\"nofield\")\n",
    "\n",
    "cavity_result_dict_list = []\n",
    "for folder in cav_result_folders_list200:\n",
    "    cavity_result_dict_list.append(\n",
    "        categorizing_result(ROOT + folder, KEYWORDS = \"cavity\"))"
   ]
  },
  {
   "cell_type": "code",
   "execution_count": null,
   "id": "1586d65f-ed8b-4f5e-8634-2eaf837a497a",
   "metadata": {},
   "outputs": [],
   "source": [
    "dipole_plot = pt.Plot(n_spec_plots = 0, n_dipole_plots = 5)\n",
    "for i, result in free_result_dict.items():\n",
    "    #if i >= 10 : continue\n",
    "    free_obs = result[\"atoms\"].observable\n",
    "    nofield_obs = nofield_result_dict[i][\"atoms\"].observable\n",
    "    dipole_plot.add_dipole_plot(0, nofield_obs['t'], nofield_obs['total_dipole'], index = i)\n",
    "    dipole_plot.add_dipole_plot(1, free_obs['t'], free_obs['total_dipole'], index = i)\n",
    "\n",
    "    for j, result_dict in enumerate(cavity_result_dict_list):\n",
    "        cav_obs = result_dict[i][\"atoms\"].observable\n",
    "        dipole_plot.add_dipole_plot(2 + j, cav_obs['t'], cav_obs['total_dipole'], index = i)\n",
    "\n",
    "    #print(i)\n",
    "    #print(nofield_obs['kinetic'][0])\n",
    "    #print(free_obs['kinetic'][0])"
   ]
  },
  {
   "cell_type": "code",
   "execution_count": null,
   "id": "4edcbdba-393c-43df-ac86-539835654b49",
   "metadata": {},
   "outputs": [],
   "source": [
    "cavity_result_dict_list"
   ]
  },
  {
   "cell_type": "code",
   "execution_count": null,
   "id": "c2aee04d-10c7-4024-a2d7-e320310f4b04",
   "metadata": {},
   "outputs": [],
   "source": [
    "with open(ROOT2 + nofield200 + \"/metadata_nofield.pkl\",\"rb\") as handle:\n",
    "    info1 = pickle.load(handle)\n",
    "\n",
    "with open(ROOT + free200 + \"/metadata_free.pkl\",\"rb\") as handle:\n",
    "    info2 = pickle.load(handle)"
   ]
  },
  {
   "cell_type": "code",
   "execution_count": null,
   "id": "aa92a826-14ae-4b36-a26c-94ebc0165f60",
   "metadata": {},
   "outputs": [],
   "source": [
    "info1['seed_list'] - info2['seed_list']"
   ]
  },
  {
   "cell_type": "code",
   "execution_count": null,
   "id": "6dbd9049-abd7-4da3-8cc4-6d232a3da001",
   "metadata": {},
   "outputs": [],
   "source": [
    "print(red.convert_wavenumber(25 * 2 * np.pi / result['atoms'].L))\n",
    "print(red.convert_wavenumber(40 * 2 * np.pi / result['atoms'].L))\n",
    "print(red.convert_wavenumber(60 * 2 * np.pi / result['atoms'].L))\n",
    "print(red.convert_wavenumber(80 * 2 * np.pi / result['atoms'].L))"
   ]
  },
  {
   "cell_type": "code",
   "execution_count": null,
   "id": "b5bb9bf9-3ed3-4977-8b9b-62b5b12660a7",
   "metadata": {},
   "outputs": [],
   "source": []
  }
 ],
 "metadata": {
  "kernelspec": {
   "display_name": "Python 3 (ipykernel)",
   "language": "python",
   "name": "python3"
  },
  "language_info": {
   "codemirror_mode": {
    "name": "ipython",
    "version": 3
   },
   "file_extension": ".py",
   "mimetype": "text/x-python",
   "name": "python",
   "nbconvert_exporter": "python",
   "pygments_lexer": "ipython3",
   "version": "3.12.3"
  }
 },
 "nbformat": 4,
 "nbformat_minor": 5
}
