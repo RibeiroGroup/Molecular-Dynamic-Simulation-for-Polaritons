{
 "cells": [
  {
   "cell_type": "code",
   "execution_count": 1,
   "id": "c6d52d8d-756c-469b-bd8c-90af89b190d0",
   "metadata": {},
   "outputs": [
    {
     "name": "stdout",
     "output_type": "stream",
     "text": [
      "Epsilon (erg) 1.6538969109051514e-14\n",
      "Reduced epsilon (Ar-Ar, Ar-Xe, Xe-Xe): 1.0 ; 1.3825301204819278 ; 1.9116465863453815\n",
      "CGS epsilon (Ar-Ar, Ar-Xe, Xe-Xe): 1.6538969109051514e-14 ; 2.286562295498387e-14 ; 3.161666383899004e-14\n",
      "######################\n",
      "Length multiple - Sigma (cm) 3.41e-08\n",
      "Reduced sigma (Ar-Ar, Ar-Xe, Xe-Xe): 1.0 ; 1.095307917888563 ; 1.190615835777126\n",
      "######################\n",
      "Mass multiples (g) 6.633521465546083e-23\n",
      "Reduced Mass (Ar, Xe): 1.0 ; 3.286597576849905\n",
      "######################\n",
      "Dipole unit multiple (statC . cm) 8.09814943451058e-19\n",
      "Reduced dipole parameter:\n",
      "mu0 =  0.08920009870622121\n",
      "a =  7.8952761266316935\n",
      "d0 =  1.1018059229945159\n",
      "d7 =  0.030776244402154505\n",
      "CGS dipole parameter:\n",
      "mu0 =  7.223557288960733e-20\n",
      "a = 2.32E+08\n",
      "d0 =  3.757158197411299e-08\n",
      "######################\n",
      "Time 2.159594587679023e-12\n",
      "Velocity multiple (cm/s) 15790.00067630667\n",
      "Temperature  119.79126562255514\n",
      "######################\n",
      "c:  1899936.5874009002\n",
      "Epsilon parameters matrix \n",
      "[[1.         1.38253012]\n",
      " [1.38253012 1.91164659]]\n",
      "Sigma parameters matrix \n",
      "[[1.         1.09530792]\n",
      " [1.09530792 1.19061584]]\n",
      "0.02952537992104174\n"
     ]
    }
   ],
   "source": [
    "import warnings\n",
    "\n",
    "import argparse\n",
    "import os, sys, importlib\n",
    "from glob import glob\n",
    "import pickle\n",
    "\n",
    "import numpy as np\n",
    "import pandas as pd\n",
    "import matplotlib\n",
    "import matplotlib.pyplot as plt\n",
    "from matplotlib.ticker import (MultipleLocator, AutoMinorLocator)\n",
    "import scipy\n",
    "\n",
    "from utilities import reduced_parameter as red\n",
    "from field.utils import profiling_rad\n",
    "\n",
    "import utilities.reduced_parameter as red\n",
    "\n",
    "from utilities.etc import categorizing_pickle, moving_average\n",
    "from analyze_tools.monte_carlo import get_colliding_time\n",
    "#from analyze_tools.utils import field_spectra, DipoleSpectra\n",
    "import analyze_tools.utils as spectra_utils\n",
    "\n",
    "import animation as an\n",
    "from analyze_tools.IR_DACF import calc_FFT, calc_ACF, calc_derivative\n",
    "import analyze_tools.utils as atu\n",
    "\n",
    "import gc\n",
    "import sklearn\n",
    "\n",
    "plt.rcParams.update({\n",
    "    #\"text.usetex\": True,\n",
    "    \"font.family\": \"sans-serif\",\n",
    "    \"font.sans-serif\": [\"Helvetica\"]})\n",
    "\n",
    "font = {'size'   : 12}\n",
    "matplotlib.rc('font', **font)\n",
    "\n",
    "#matplotlib.rc('xtick', labelsize=20) \n",
    "#matplotlib.rc('ytick', labelsize=20) \n"
   ]
  },
  {
   "cell_type": "code",
   "execution_count": null,
   "id": "246a8b5c-f18f-44f9-a2d0-e3052f9987a2",
   "metadata": {},
   "outputs": [],
   "source": [
    "path = 'pickle_jar/cavity-100.0_512_8512210-boltzmann_1_520-c_Lxy1e1-doublez/'\n",
    "\n",
    "pickle_path = path + 'result_0.pkl'\n",
    "metadata_path = path + 'metadata.pkl'"
   ]
  }
 ],
 "metadata": {
  "kernelspec": {
   "display_name": "Python 3 (ipykernel)",
   "language": "python",
   "name": "python3"
  },
  "language_info": {
   "codemirror_mode": {
    "name": "ipython",
    "version": 3
   },
   "file_extension": ".py",
   "mimetype": "text/x-python",
   "name": "python",
   "nbconvert_exporter": "python",
   "pygments_lexer": "ipython3",
   "version": "3.12.0"
  }
 },
 "nbformat": 4,
 "nbformat_minor": 5
}
