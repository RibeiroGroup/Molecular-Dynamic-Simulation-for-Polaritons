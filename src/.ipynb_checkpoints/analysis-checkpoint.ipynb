{
 "cells": [
  {
   "cell_type": "code",
   "execution_count": 10,
   "id": "508f6747-2873-4c61-b15f-9cfb049d84f8",
   "metadata": {},
   "outputs": [],
   "source": [
    "import pickle \n",
    "import os, sys, glob\n",
    "\n",
    "import numpy as np\n",
    "import matplotlib.pyplot as plt\n",
    "import pandas as pd\n",
    "\n",
    "from field.utils import profiling_rad"
   ]
  },
  {
   "cell_type": "code",
   "execution_count": 3,
   "id": "9a629b86-8483-4ba6-b246-bca1b1855890",
   "metadata": {},
   "outputs": [],
   "source": [
    "pickled_archive_list = [\n",
    "    \"/home/ribeirogroup/code/mm_polariton_pickle_ja/result_Jul10th_2024_1421_mu1e3/*\",\n",
    "    \"/home/ribeirogroup/code/mm_polariton_pickle_ja/result_Jul11st_2024_0928/*\",\n",
    "    \"/home/ribeirogroup/code/mm_polariton_pickle_ja/result_Jul11st_2024_1319/*\",\n",
    "    \"/home/ribeirogroup/code/mm_polariton_pickle_ja/result_Jul12nd_2024_0939/*\",\n",
    "    \"/home/ribeirogroup/code/mm_polariton_pickle_ja/result_Jul13th_2024_0956/*\",\n",
    "    \"/home/ribeirogroup/code/mm_polariton_pickle_ja/result_Jul15th_2024_0902/*\",\n",
    "    \"/home/ribeirogroup/code/mm_polariton_pickle_ja/result_Jul15th_2024_1536/*\",\n",
    "    \"/home/ribeirogroup/code/mm_polariton_pickle_ja/result_Jul16th_2024_1033/*\",\n",
    "    \"/home/ribeirogroup/code/mm_polariton_pickle_ja/result_Jul16th_2024_1539/*\",\n",
    "    \"/home/ribeirogroup/code/mm_polariton_pickle_ja/result_Jul17th_2024_0922/*\"\n",
    "]"
   ]
  },
  {
   "cell_type": "code",
   "execution_count": 8,
   "id": "514bb367-318f-4b5b-812e-4758a14c6089",
   "metadata": {},
   "outputs": [],
   "source": [
    "def get_all_file_from_path(path):\n",
    "    file_dict = {\"cavity\":{}, \"free\":{}}\n",
    "\n",
    "    for KEYWORDS in [\"free\",\"cavity\"]:\n",
    "        for file in glob.glob(path):\n",
    "\n",
    "            if os.path.isdir(file):\n",
    "                continue\n",
    "            elif KEYWORDS not in file or \"result\" not in file:\n",
    "                continue\n",
    "    \n",
    "            number = file.split(\".\")[0]\n",
    "            number = number.split(\"_\")[-1]\n",
    "            number = int(number)\n",
    "\n",
    "            file_dict[KEYWORDS][number] = file\n",
    "                \n",
    "    return file_dict\n",
    "\n",
    "def get_descriptor(file_dict):\n",
    "\n",
    "    descriptor = {}\n",
    "    \n",
    "    for KW in [\"free\",\"cavity\"]:\n",
    "        \n",
    "        last_file_path_key = len(file_dict[KW]) - 1\n",
    "        \n",
    "        for i,file_path in file_dict[KW].items():\n",
    "            \n",
    "            with open(file_path,\"rb\") as handle:\n",
    "                result = pickle.load(handle)\n",
    "\n",
    "            if i == last_file_path_key:\n",
    "                \n",
    "\n",
    "    \n"
   ]
  },
  {
   "cell_type": "code",
   "execution_count": 9,
   "id": "ed2ba12b-7d4d-42bc-9af0-8fbd12229855",
   "metadata": {},
   "outputs": [
    {
     "data": {
      "text/plain": [
       "2"
      ]
     },
     "execution_count": 9,
     "metadata": {},
     "output_type": "execute_result"
    }
   ],
   "source": []
  },
  {
   "cell_type": "code",
   "execution_count": null,
   "id": "01b6a853-f43a-4b27-9899-c98ff8e758e9",
   "metadata": {},
   "outputs": [],
   "source": []
  }
 ],
 "metadata": {
  "kernelspec": {
   "display_name": "Python 3 (ipykernel)",
   "language": "python",
   "name": "python3"
  },
  "language_info": {
   "codemirror_mode": {
    "name": "ipython",
    "version": 3
   },
   "file_extension": ".py",
   "mimetype": "text/x-python",
   "name": "python",
   "nbconvert_exporter": "python",
   "pygments_lexer": "ipython3",
   "version": "3.12.0"
  }
 },
 "nbformat": 4,
 "nbformat_minor": 5
}
