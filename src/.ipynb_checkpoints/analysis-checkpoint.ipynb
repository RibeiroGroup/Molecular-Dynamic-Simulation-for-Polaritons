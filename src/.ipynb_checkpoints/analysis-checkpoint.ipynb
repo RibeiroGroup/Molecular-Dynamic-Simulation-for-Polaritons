{
 "cells": [
  {
   "cell_type": "code",
   "execution_count": 1,
   "id": "508f6747-2873-4c61-b15f-9cfb049d84f8",
   "metadata": {},
   "outputs": [],
   "source": [
    "import pickle \n",
    "import os, sys, glob\n",
    "import importlib\n",
    "from copy import deepcopy\n",
    "\n",
    "import numpy as np\n",
    "import matplotlib.pyplot as plt\n",
    "import pandas as pd\n",
    "\n",
    "from field.utils import profiling_rad\n",
    "\n",
    "import analyze_tools.monte_carlo as mc\n",
    "from analyze_tools.monte_carlo import get_colliding_time\n",
    "from utilities.etc import categorizing_pickle"
   ]
  },
  {
   "cell_type": "code",
   "execution_count": 2,
   "id": "9a629b86-8483-4ba6-b246-bca1b1855890",
   "metadata": {},
   "outputs": [],
   "source": [
    "root = \"/Users/macbook/OneDrive - Emory/Research data/mm_polariton/pickle_jar\"\n",
    "pickled_archive_list = [\n",
    "    \"/result_Jul10th_2024_1421_mu1e3\", #0\n",
    "    \"/result_Jul11st_2024_0928\", #1\n",
    "    \"/result_Jul11st_2024_1319\", #2\n",
    "    \"/result_Jul12nd_2024_0939\", #3 \n",
    "    \"/result_Jul13th_2024_0956\", #4\n",
    "    \"/result_Jul15th_2024_0902\", #5\n",
    "    \"/result_Jul15th_2024_1536\", #6\n",
    "    \"/result_Jul16th_2024_1033\", #7\n",
    "    \"/result_Jul16th_2024_1539\", #8\n",
    "    \"/result_Jul17th_2024_0922\"  #9\n",
    "]\n",
    "pickled_archive_list = [root + path for path in pickled_archive_list]"
   ]
  },
  {
   "cell_type": "code",
   "execution_count": 53,
   "id": "514bb367-318f-4b5b-812e-4758a14c6089",
   "metadata": {},
   "outputs": [],
   "source": [
    "pickle_idx = 7\n",
    "cavity_file_dict = categorizing_pickle(pickled_archive_list[pickle_idx], KEYWORDS = \"cavity\")\n",
    "free_file_dict = categorizing_pickle(pickled_archive_list[pickle_idx], KEYWORDS = \"free\")"
   ]
  },
  {
   "cell_type": "code",
   "execution_count": 54,
   "id": "cc8aebba-6265-4296-8c75-ef00ac2366da",
   "metadata": {},
   "outputs": [],
   "source": [
    "max_time_vs_sys = {}\n",
    "\n",
    "for i, PICKLE_PATH in cavity_file_dict.items():\n",
    "    with open(PICKLE_PATH, \"rb\") as handle:\n",
    "        result = pickle.load(handle)\n",
    "\n",
    "    atoms = result[\"atoms\"]\n",
    "    cavity_field = result[\"cavity_field\"]\n",
    "    mu0 = result[\"mu0\"]\n",
    "    colliding_time = mc.get_colliding_time(atoms, mu0, 1e-3)\n",
    "\n",
    "    max_time_vs_sys.update(\n",
    "        {max(colliding_time): (deepcopy(atoms), deepcopy(cavity_field), deepcopy(colliding_time))})\n",
    "    "
   ]
  },
  {
   "cell_type": "code",
   "execution_count": 56,
   "id": "f937ac4b-319e-46ba-bfc1-4e372004ef5b",
   "metadata": {},
   "outputs": [
    {
     "name": "stdout",
     "output_type": "stream",
     "text": [
      "325\n"
     ]
    }
   ],
   "source": [
    "print(result['temperature'])"
   ]
  },
  {
   "cell_type": "code",
   "execution_count": 57,
   "id": "f8ccf82e-b4df-4089-a662-03a0b5d46f67",
   "metadata": {},
   "outputs": [],
   "source": [
    "sorted_sys_colliding_time = sorted(max_time_vs_sys.keys())"
   ]
  },
  {
   "cell_type": "code",
   "execution_count": 58,
   "id": "d9b0ffb3-3d74-47c6-8208-fb5ddbb39300",
   "metadata": {},
   "outputs": [],
   "source": [
    "atoms, cavity_field, colliding_time = max_time_vs_sys[sorted_sys_colliding_time[-1]]\n",
    "N_atom_pairs = int(atoms.N_atoms / 2)"
   ]
  },
  {
   "cell_type": "code",
   "execution_count": 62,
   "id": "2d90941d-3ea8-4805-9b26-6cfdfaf90441",
   "metadata": {},
   "outputs": [
    {
     "name": "stdout",
     "output_type": "stream",
     "text": [
      "0\n",
      "[[  35.74130617+0.j  -42.88031363+0.j -319.55574326+0.j]\n",
      " [  35.7733376 +0.j  -42.89228226+0.j -318.89184633+0.j]]\n",
      "[[[ 0.        +0.j  0.        +0.j -0.00089809+0.j]\n",
      "  [ 0.        +0.j  0.        +0.j  0.00033565+0.j]\n",
      "  [ 0.00042623+0.j -0.00308591+0.j  0.        +0.j]]\n",
      "\n",
      " [[ 0.        +0.j  0.        +0.j -0.0008979 +0.j]\n",
      "  [ 0.        +0.j  0.        +0.j  0.00033542+0.j]\n",
      "  [ 0.00042628+0.j -0.00309785+0.j  0.        +0.j]]]\n"
     ]
    }
   ],
   "source": [
    "longest_atoms_idx = np.argsort(colliding_time)[0]\n",
    "print(colliding_time[longest_atoms_idx])\n",
    "t = atoms.trajectory[\"t\"][longest_atoms_idx]\n",
    "pos = np.vstack([atoms.r[longest_atoms_idx], \n",
    "    atoms.r[N_atom_pairs + longest_atoms_idx]])\n",
    "velocity = np.vstack([atoms.r_dot[longest_atoms_idx], \n",
    "    atoms.r_dot[N_atom_pairs + longest_atoms_idx]])\n",
    "\n",
    "print(cavity_field(t,pos))\n",
    "print(cavity_field.gradient(t, pos))"
   ]
  },
  {
   "cell_type": "code",
   "execution_count": 52,
   "id": "22e8788b-8d34-4d82-b448-a3c8e0c4e0ca",
   "metadata": {},
   "outputs": [
    {
     "data": {
      "text/plain": [
       "array([[-0.43355167, -0.60667299,  0.13640734],\n",
       "       [ 0.26965745, -0.00658922,  0.30747808]])"
      ]
     },
     "execution_count": 52,
     "metadata": {},
     "output_type": "execute_result"
    }
   ],
   "source": [
    "velocity"
   ]
  },
  {
   "cell_type": "code",
   "execution_count": null,
   "id": "0ea0f939-2a26-4526-b924-c5be6df90fb4",
   "metadata": {},
   "outputs": [],
   "source": []
  }
 ],
 "metadata": {
  "kernelspec": {
   "display_name": "Python 3 (ipykernel)",
   "language": "python",
   "name": "python3"
  },
  "language_info": {
   "codemirror_mode": {
    "name": "ipython",
    "version": 3
   },
   "file_extension": ".py",
   "mimetype": "text/x-python",
   "name": "python",
   "nbconvert_exporter": "python",
   "pygments_lexer": "ipython3",
   "version": "3.12.3"
  }
 },
 "nbformat": 4,
 "nbformat_minor": 5
}
