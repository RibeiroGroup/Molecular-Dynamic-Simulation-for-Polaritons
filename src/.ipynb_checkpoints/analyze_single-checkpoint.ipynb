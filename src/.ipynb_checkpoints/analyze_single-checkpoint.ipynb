{
 "cells": [
  {
   "cell_type": "code",
   "execution_count": 1,
   "id": "94fa355f-8790-44c2-8587-34e6daefb06d",
   "metadata": {},
   "outputs": [],
   "source": [
    "import warnings\n",
    "warnings.filterwarnings('ignore')\n",
    "\n",
    "import argparse\n",
    "import os, sys, importlib, copy\n",
    "from glob import glob\n",
    "import pickle\n",
    "import tqdm\n",
    "\n",
    "import numpy as np\n",
    "import pandas as pd\n",
    "import matplotlib.pyplot as plt\n",
    "from matplotlib.ticker import (MultipleLocator, AutoMinorLocator)\n",
    "import scipy\n",
    "\n",
    "from utilities import reduced_parameter as red\n",
    "from field.electromagnetic import FreeVectorPotential, CavityVectorPotential\n",
    "\n",
    "from matter.atoms import AtomsInBox\n",
    "from calculator.calculator import Calculator\n",
    "\n",
    "from utilities.etc import categorizing_result\n",
    "\n",
    "import animation as an\n",
    "import analyze_tools.utils as atu\n",
    "import analyze_tools.monte_carlo as atm\n",
    "\n",
    "from simulation.single import single_collision_simulation\n",
    "import utilities.reduced_parameter as red\n",
    "from utilities.etc import moving_average\n"
   ]
  },
  {
   "cell_type": "code",
   "execution_count": 2,
   "id": "9ea29fb5-df6c-460b-98a9-4a19368ecd5c",
   "metadata": {},
   "outputs": [],
   "source": [
    "#\n",
    "# DEFINING FUNCTION\n",
    "## WARNING: NEXT CELL WILL RUN SIMULATIONS\n",
    "#\n",
    "\n",
    "\n",
    "Lxy = 3e7; Lz = 3e3\n",
    "def get_ArXePair(d_arxe, v_ar = 0, h = 0, n_pairs = 1, Lxy=Lxy, Lz=Lz):\n",
    "    \"\"\"\n",
    "    \"\"\"\n",
    "    atoms = AtomsInBox(\n",
    "        Lxy = Lxy, Lz = Lz, cell_width = (1e6,1e2), \n",
    "        mass_dict = red.mass_dict)\n",
    "\n",
    "    v_xe = - v_ar / np.sqrt(red.mass_dict['Xe'])\n",
    "\n",
    "    for i in range(n_pairs):\n",
    "        if i == 0:\n",
    "            r0 = np.zeros(3)\n",
    "        else:\n",
    "            r0 = np.hstack(\n",
    "                [\n",
    "                    #np.random.uniform(-Lxy/2+10, Lxy/2-10, size = 2), \n",
    "                    np.zeros(2),\n",
    "                    np.random.uniform(-Lz/2+10, Lz/2-10)]\n",
    "            )\n",
    "        atoms.add(\n",
    "                elements = [\"Ar\"],\n",
    "                r = np.array([[0.0, h, -d_arxe/2]]) + r0,\n",
    "                r_dot = np.array([[0.0, 0.0, v_ar]])# / np.sqrt(2)\n",
    "                )\n",
    "        \n",
    "        atoms.add(\n",
    "                elements = [\"Xe\"],\n",
    "                r = np.array([[0.0,0.0,d_arxe/2]]) + r0,\n",
    "                r_dot = np.array([[0.00, 0.00, v_xe]])# / np.sqrt(2)\n",
    "                )\n",
    "    \n",
    "    idxAr = atoms.element_idx(element = \"Ar\")\n",
    "    idxXe = atoms.element_idx(element = \"Xe\")\n",
    "    epsilon_mat, sigma_mat = red.generate_LJparam_matrix(idxAr = idxAr, idxXe = idxXe)\n",
    "    \n",
    "    # calculator to the atoms object\n",
    "    atoms.add_calculator(\n",
    "        calculator_class = Calculator,\n",
    "        calculator_kwargs = {\n",
    "            \"epsilon\": epsilon_mat, \"sigma\" : sigma_mat, \n",
    "            \"positive_atom_idx\" : idxXe, \"negative_atom_idx\" : idxAr,\n",
    "            \"mu0\" : red.mu0, \"d\" : red.d0, \"a\" : red.a, 'd7':red.d7\n",
    "        })\n",
    "    \n",
    "    atoms.update_distance()\n",
    "    \n",
    "    return atoms\n",
    "\n",
    "def get_field(coup_str, mode = False, Lxy = Lxy, Lz = Lz, field = 'cavity'):\n",
    "    if mode == 'multi':\n",
    "        k_vector_int = np.array(\n",
    "            [[i,0,0] for i in range(1,100)]\n",
    "            ,dtype=np.float64)\n",
    "    elif isinstance(mode, int):\n",
    "        k_vector_int = np.array([[mode,0,0]])\n",
    "    elif isinstance(mode, list):\n",
    "        k_vector_int = np.array(\n",
    "            [[i,0,0] for i in mode], \n",
    "            dtype = np.float64)\n",
    "    else:\n",
    "        raise Exception('Mode have to be either \"multi\" or an integer!')\n",
    "    \n",
    "    amplitude = np.vstack([\n",
    "        np.zeros(2) for i in range(len(k_vector_int))\n",
    "        ])\n",
    "\n",
    "    if field == 'cavity':\n",
    "        VectorPotentialClass = CavityVectorPotential\n",
    "    elif field == 'free':\n",
    "        VectorPotentialClass = FreeVectorPotential\n",
    "    \n",
    "    Afield = VectorPotentialClass(\n",
    "            k_vector_int = k_vector_int, amplitude = amplitude,\n",
    "            Lxy = Lxy, Lz = Lz, constant_c = red.c, coupling_strength = coup_str\n",
    "            )\n",
    "\n",
    "    return Afield\n",
    "\n",
    "def get_radprofile(rd, windows = 10):\n",
    "    Afield = rd['field']\n",
    "    \n",
    "    rad_energy = red.convert_energy(np.array(Afield.history[\"energy\"][-1]), \"ev\") \n",
    "    omega = red.convert_wavenumber(Afield.k_val)\n",
    "    omega_profile, final_rad_profile = at.profiling_rad(omega, rad_energy)\n",
    "    \n",
    "    sorted_idx = np.argsort(omega_profile)\n",
    "\n",
    "    if windows == 0:\n",
    "        omega_profile = np.array(omega_profile)[sorted_idx] \n",
    "        final_rad_profile = np.array(final_rad_profile)[sorted_idx]\n",
    "    else:\n",
    "        omega_profile, final_rad_profile = moving_average(\n",
    "            np.array(omega_profile)[sorted_idx], \n",
    "            np.array(final_rad_profile)[sorted_idx], windows)\n",
    "\n",
    "    return omega_profile, final_rad_profile"
   ]
  },
  {
   "cell_type": "code",
   "execution_count": null,
   "id": "6ff95080-f9ba-43a2-9d39-e7079fa35bff",
   "metadata": {
    "scrolled": true
   },
   "outputs": [],
   "source": [
    "# \n",
    "# CALCULATING SPECTRA\n",
    "# Run simulation of head on collision coupled to FREE field \n",
    "# at various total energy as temperature \n",
    "# \n",
    "\n",
    "result_dict = {}\n",
    "velocity_dict = {}\n",
    "\n",
    "for T in tqdm.tqdm(np.arange(92, 850, 10)):\n",
    "    \n",
    "    vt = np.sqrt((T * red.boltzmann / red.epsilon) )\n",
    "    atoms = get_ArXePair(d_arxe = 6, h = 0.0 , v_ar = vt, n_pairs = 1)\n",
    "    \n",
    "    field = get_field(mode = list(range(1,300)), coup_str = 1, Lz = Lxy, field = 'free')\n",
    "        \n",
    "    t, rd = single_collision_simulation(\n",
    "        0, h = 1e-2, atoms = atoms, field = field, \n",
    "        max_steps = 10000, verbose = False)\n",
    "\n",
    "    result_dict.update({T : rd})\n",
    "    velocity_dict.update({T : (vt, vt / np.sqrt(M_Xe))})"
   ]
  },
  {
   "cell_type": "code",
   "execution_count": null,
   "id": "f004cbb6-76ce-479d-9dfa-234d39032e9d",
   "metadata": {
    "scrolled": true
   },
   "outputs": [],
   "source": [
    "#\n",
    "# PLOTTING SPECTRA\n",
    "#\n",
    "\n",
    "fig,ax = plt.subplots(2, figsize = (6,8))\n",
    "\n",
    "total = 0\n",
    "\n",
    "prob_list = []\n",
    "\n",
    "for T in result_dict.keys():\n",
    "    prob_list.append(T * np.exp(- T / 292))\n",
    "\n",
    "prob_list = np.array(prob_list)\n",
    "prob_list = prob_list / np.sum(prob_list)\n",
    "\n",
    "for i, (T,rd) in enumerate(result_dict.items()):\n",
    "    \n",
    "    omega_profile, final_rad_profile = get_radprofile(rd,0 )\n",
    "    final_rad_profile *= 1e25\n",
    "    total += final_rad_profile * prob_list[i]\n",
    "\n",
    "    if i % 5 == 0:\n",
    "        ax[0].plot(\n",
    "            omega_profile, final_rad_profile, label = 'T = {} K'.format(T), \n",
    "            linestyle = 'dashdot' if i >= 35 else None)\n",
    "\n",
    "ax[1].plot(omega_profile, total, label = 'Scaled total spectrum')\n",
    "  \n",
    "tax = ax[1].twinx()\n",
    "exp_data = pd.read_csv('data/plot-data.csv')\n",
    "tax.scatter(\n",
    "    exp_data.loc[:,'x'],\n",
    "    exp_data.loc[:,' y'],\n",
    "    s = 5, alpha = 0.5, c = 'black'\n",
    ")\n",
    "ax[1].scatter([],[], c = 'black', label = 'Exp. @ 292K')\n",
    "\n",
    "ax[0].set_ylabel(r\"Calculated EM field energy $(10^{-25} eV)$\")\n",
    "ax[1].set_ylabel(r\"Sum of scaled EM field energy $(10^{-25} eV)$\")\n",
    "ax[1].set_xlabel(r\"Wavenumber $(cm^{-1})$\")\n",
    "\n",
    "tax.set_ylabel(r'Exp. absorption $(10^{-6} cm^{-1} amagat^{-2})$')\n",
    "\n",
    "ax[0].annotate('(a)',xy = (0.9,0.9), xycoords = 'axes fraction')\n",
    "ax[1].annotate('(b)',xy = (0.9,0.7), xycoords = 'axes fraction')\n",
    "\n",
    "ax[0].legend(loc='lower center', bbox_to_anchor=(0.5, 1.0), ncol=4)\n",
    "ax[1].legend()\n",
    "fig.savefig('figure/manuscript/free_spectrum_singleT.jpeg',dpi = 600, bbox_inches = 'tight')"
   ]
  },
  {
   "cell_type": "code",
   "execution_count": 3,
   "id": "f1c60722-f0af-4ba1-9898-9b663d753f85",
   "metadata": {
    "scrolled": true
   },
   "outputs": [
    {
     "name": "stdin",
     "output_type": "stream",
     "text": [
      "Load file?(Y)/N N\n"
     ]
    },
    {
     "name": "stdout",
     "output_type": "stream",
     "text": [
      "h =  0.0  coupling strength =  15\n"
     ]
    },
    {
     "name": "stderr",
     "output_type": "stream",
     "text": [
      " 14%|███████████████████████▏                                                                                                                                                | 4/29 [00:35<03:44,  8.97s/it]\n"
     ]
    },
    {
     "name": "stdout",
     "output_type": "stream",
     "text": [
      "collide time =  206.9107574455581  break @  49\n",
      "h =  0.2  coupling strength =  15\n"
     ]
    },
    {
     "name": "stderr",
     "output_type": "stream",
     "text": [
      " 14%|███████████████████████▏                                                                                                                                                | 4/29 [00:34<03:38,  8.74s/it]\n"
     ]
    },
    {
     "name": "stdout",
     "output_type": "stream",
     "text": [
      "collide time =  206.88916149968128  break @  49\n",
      "h =  0.4  coupling strength =  15\n"
     ]
    },
    {
     "name": "stderr",
     "output_type": "stream",
     "text": [
      " 24%|████████████████████████████████████████▌                                                                                                                               | 7/29 [01:06<03:29,  9.53s/it]\n"
     ]
    },
    {
     "name": "stdout",
     "output_type": "stream",
     "text": [
      "collide time =  206.21968717750082  break @  43\n",
      "h =  0.6  coupling strength =  15\n"
     ]
    },
    {
     "name": "stderr",
     "output_type": "stream",
     "text": [
      " 34%|█████████████████████████████████████████████████████████▌                                                                                                             | 10/29 [01:11<02:15,  7.15s/it]\n"
     ]
    },
    {
     "name": "stdout",
     "output_type": "stream",
     "text": [
      "collide time =  205.3990412341828  break @  37\n",
      "h =  0.8  coupling strength =  15\n"
     ]
    },
    {
     "name": "stderr",
     "output_type": "stream",
     "text": [
      " 45%|██████████████████████████████████████████████████████████████████████████▊                                                                                            | 13/29 [01:16<01:34,  5.88s/it]\n"
     ]
    },
    {
     "name": "stdout",
     "output_type": "stream",
     "text": [
      "collide time =  204.27605204858972  break @  31\n",
      "h =  1.0  coupling strength =  15\n"
     ]
    },
    {
     "name": "stderr",
     "output_type": "stream",
     "text": [
      " 55%|████████████████████████████████████████████████████████████████████████████████████████████▏                                                                          | 16/29 [01:25<01:09,  5.32s/it]\n"
     ]
    },
    {
     "name": "stdout",
     "output_type": "stream",
     "text": [
      "collide time =  202.78593178309123  break @  25\n",
      "h =  1.2  coupling strength =  15\n"
     ]
    },
    {
     "name": "stderr",
     "output_type": "stream",
     "text": [
      " 66%|█████████████████████████████████████████████████████████████████████████████████████████████████████████████▍                                                         | 19/29 [01:35<00:50,  5.05s/it]\n"
     ]
    },
    {
     "name": "stdout",
     "output_type": "stream",
     "text": [
      "collide time =  200.64793314128906  break @  19\n",
      "h =  0.0  coupling strength =  10.0\n"
     ]
    },
    {
     "name": "stderr",
     "output_type": "stream",
     "text": [
      " 66%|█████████████████████████████████████████████████████████████████████████████████████████████████████████████▍                                                         | 19/29 [01:56<01:01,  6.13s/it]\n"
     ]
    },
    {
     "name": "stdout",
     "output_type": "stream",
     "text": [
      "collide time =  201.87890205626607  break @  19\n",
      "h =  0.2  coupling strength =  10.0\n"
     ]
    },
    {
     "name": "stderr",
     "output_type": "stream",
     "text": [
      " 66%|█████████████████████████████████████████████████████████████████████████████████████████████████████████████▍                                                         | 19/29 [01:41<00:53,  5.36s/it]\n"
     ]
    },
    {
     "name": "stdout",
     "output_type": "stream",
     "text": [
      "collide time =  201.83571016451248  break @  19\n",
      "h =  0.4  coupling strength =  10.0\n"
     ]
    },
    {
     "name": "stderr",
     "output_type": "stream",
     "text": [
      " 66%|█████████████████████████████████████████████████████████████████████████████████████████████████████████████▍                                                         | 19/29 [01:36<00:50,  5.05s/it]\n"
     ]
    },
    {
     "name": "stdout",
     "output_type": "stream",
     "text": [
      "collide time =  201.74932638100532  break @  19\n",
      "h =  0.6  coupling strength =  10.0\n"
     ]
    },
    {
     "name": "stderr",
     "output_type": "stream",
     "text": [
      " 69%|███████████████████████████████████████████████████████████████████████████████████████████████████████████████████▏                                                   | 20/29 [01:40<00:45,  5.01s/it]\n"
     ]
    },
    {
     "name": "stdout",
     "output_type": "stream",
     "text": [
      "collide time =  200.84229665418016  break @  17\n",
      "h =  0.8  coupling strength =  10.0\n"
     ]
    },
    {
     "name": "stderr",
     "output_type": "stream",
     "text": [
      " 72%|████████████████████████████████████████████████████████████████████████████████████████████████████████████████████████▉                                              | 21/29 [01:41<00:38,  4.82s/it]\n"
     ]
    },
    {
     "name": "stdout",
     "output_type": "stream",
     "text": [
      "collide time =  199.7193074685871  break @  15\n",
      "h =  1.0  coupling strength =  10.0\n"
     ]
    },
    {
     "name": "stderr",
     "output_type": "stream",
     "text": [
      " 79%|████████████████████████████████████████████████████████████████████████████████████████████████████████████████████████████████████▍                                  | 23/29 [02:02<00:31,  5.32s/it]\n"
     ]
    },
    {
     "name": "stdout",
     "output_type": "stream",
     "text": [
      "collide time =  196.955026396358  break @  11\n",
      "h =  1.2  coupling strength =  10.0\n"
     ]
    },
    {
     "name": "stderr",
     "output_type": "stream",
     "text": [
      " 83%|██████████████████████████████████████████████████████████████████████████████████████████████████████████████████████████████████████████▏                            | 24/29 [02:01<00:25,  5.06s/it]\n"
     ]
    },
    {
     "name": "stdout",
     "output_type": "stream",
     "text": [
      "collide time =  194.70904802517185  break @  9\n",
      "h =  0.0  coupling strength =  1\n"
     ]
    },
    {
     "name": "stderr",
     "output_type": "stream",
     "text": [
      " 10%|█████████████████▍                                                                                                                                                      | 3/29 [00:04<00:41,  1.58s/it]\n"
     ]
    },
    {
     "name": "stdout",
     "output_type": "stream",
     "text": [
      "h =  0.2  coupling strength =  1\n"
     ]
    },
    {
     "name": "stderr",
     "output_type": "stream",
     "text": [
      " 10%|█████████████████▍                                                                                                                                                      | 3/29 [00:04<00:40,  1.57s/it]\n"
     ]
    },
    {
     "name": "stdout",
     "output_type": "stream",
     "text": [
      "h =  0.4  coupling strength =  1\n"
     ]
    },
    {
     "name": "stderr",
     "output_type": "stream",
     "text": [
      " 10%|█████████████████▍                                                                                                                                                      | 3/29 [00:04<00:42,  1.65s/it]\n"
     ]
    },
    {
     "name": "stdout",
     "output_type": "stream",
     "text": [
      "h =  0.6  coupling strength =  1\n"
     ]
    },
    {
     "name": "stderr",
     "output_type": "stream",
     "text": [
      " 10%|█████████████████▍                                                                                                                                                      | 3/29 [00:04<00:43,  1.66s/it]\n"
     ]
    },
    {
     "name": "stdout",
     "output_type": "stream",
     "text": [
      "h =  0.8  coupling strength =  1\n"
     ]
    },
    {
     "name": "stderr",
     "output_type": "stream",
     "text": [
      " 10%|█████████████████▍                                                                                                                                                      | 3/29 [00:05<00:43,  1.68s/it]\n"
     ]
    },
    {
     "name": "stdout",
     "output_type": "stream",
     "text": [
      "h =  1.0  coupling strength =  1\n"
     ]
    },
    {
     "name": "stderr",
     "output_type": "stream",
     "text": [
      " 10%|█████████████████▍                                                                                                                                                      | 3/29 [00:05<00:45,  1.75s/it]\n"
     ]
    },
    {
     "name": "stdout",
     "output_type": "stream",
     "text": [
      "h =  1.2  coupling strength =  1\n"
     ]
    },
    {
     "name": "stderr",
     "output_type": "stream",
     "text": [
      " 10%|█████████████████▍                                                                                                                                                      | 3/29 [00:05<00:45,  1.76s/it]\n"
     ]
    }
   ],
   "source": [
    "#\n",
    "# Record (trajectory @ 40K, highest temperature that Ar-Xe complex form, previous temperature)\n",
    "#\n",
    "\n",
    "single_collision_multimode_data = {}\n",
    "\n",
    "prompt = input('Load file?(Y)/N')\n",
    "if prompt != 'N':\n",
    "    raise Exception\n",
    "    \n",
    "iplist = [0.0, 0.2, 0.4, 0.6, 0.8, 1.0, 1.2]\n",
    "Tlist = list(range(1, 50, 2)) + [60, 100, 150, 200]\n",
    "\n",
    "for ct in [15, 1e1, 1]:\n",
    "    foo = {}\n",
    "    for h in iplist:\n",
    "        print('h = ', h, ' coupling strength = ', ct)\n",
    "        T_break = None\n",
    "\n",
    "        result_dict = {}\n",
    "        \n",
    "        for T in tqdm.tqdm(Tlist[::-1]):\n",
    "\n",
    "            if ct == 1 and T < 100: break\n",
    "            \n",
    "            vt = np.sqrt((T * red.boltzmann / red.epsilon) )\n",
    "            atoms = get_ArXePair(d_arxe = 6, h = h , v_ar = vt, n_pairs = 1)\n",
    "            \n",
    "            field = get_field(\n",
    "                mode = list(range(1,100)), coup_str = ct * Lxy, Lz = Lz, field = 'cavity')\n",
    "                \n",
    "            t, rd = single_collision_simulation(\n",
    "                0, h = 1e-2, atoms = atoms, field = field, potential_threshold = 1e-4,\n",
    "                max_steps = 10000, verbose = False, record_every = 1)\n",
    "            \n",
    "            collide_time = atm.get_colliding_time(rd['atoms'], 0)[0]\n",
    "            \n",
    "            if T == 200: \n",
    "                result_dict.update({'200': copy.deepcopy(rd)})\n",
    "            if T == 150: \n",
    "                result_dict.update({'150': copy.deepcopy(rd)})\n",
    "            if T == 100: \n",
    "                result_dict.update({'100': copy.deepcopy(rd)})\n",
    "            if T == 60: \n",
    "                result_dict.update({'60': copy.deepcopy(rd)})\n",
    "            \n",
    "            if collide_time > 10:\n",
    "                result_dict.update(\n",
    "                    {'last':copy.deepcopy(rd)}\n",
    "                )\n",
    "                T_break = T\n",
    "                print('collide time = ', collide_time, ' break @ ', T)\n",
    "                break\n",
    "\n",
    "        foo.update({h : (result_dict, T_break)})\n",
    "        \n",
    "    single_collision_multimode_data.update({ct : foo})"
   ]
  },
  {
   "cell_type": "code",
   "execution_count": 4,
   "id": "2e2b7c2c-6713-4d15-909c-0e2116b262ba",
   "metadata": {},
   "outputs": [
    {
     "name": "stdin",
     "output_type": "stream",
     "text": [
      "Are you sure you want to overwrite existing data? Y/(N) Y\n",
      "Do you have any doubt that you want to overwrite existing data? (Y)/N N\n"
     ]
    }
   ],
   "source": [
    "prompt = input('Are you sure you want to overwrite existing data? Y/(N)')\n",
    "if prompt != 'Y': raise Exception\n",
    "    \n",
    "prompt = input('Do you have any doubt that you want to overwrite existing data? (Y)/N')\n",
    "if prompt != 'N': raise Exception\n",
    "\n",
    "with open('pickle_jar/single_collision/multimode_time_vs_energy.pkl','wb') as handle:\n",
    "    pickle.dump(single_collision_multimode_data, handle)"
   ]
  },
  {
   "cell_type": "code",
   "execution_count": null,
   "id": "55d2ef99-e605-481c-8a06-31d1e0617228",
   "metadata": {},
   "outputs": [],
   "source": [
    "with open('pickle_jar/single_collision/multimode_time_vs_energy.pkl','rb') as handle:\n",
    "    single_collision_multimode_data = pickle.load(handle)"
   ]
  },
  {
   "cell_type": "code",
   "execution_count": 5,
   "id": "6b3a5fc5-041f-4b51-ae2b-af9f02ad0d8e",
   "metadata": {},
   "outputs": [
    {
     "name": "stdout",
     "output_type": "stream",
     "text": [
      "coupling strength & h & total kinetic energy\n",
      "15 & 0.0 & 49 \\\\ \n",
      "15 & 0.2 & 49 \\\\ \n",
      "15 & 0.4 & 43 \\\\ \n",
      "15 & 0.6 & 37 \\\\ \n",
      "15 & 0.8 & 31 \\\\ \n",
      "15 & 1.0 & 25 \\\\ \n",
      "15 & 1.2 & 19 \\\\ \n",
      "10.0 & 0.0 & 19 \\\\ \n",
      "10.0 & 0.2 & 19 \\\\ \n",
      "10.0 & 0.4 & 19 \\\\ \n",
      "10.0 & 0.6 & 17 \\\\ \n",
      "10.0 & 0.8 & 15 \\\\ \n",
      "10.0 & 1.0 & 11 \\\\ \n",
      "10.0 & 1.2 & 9 \\\\ \n",
      "1 & 0.0 & None \\\\ \n",
      "1 & 0.2 & None \\\\ \n",
      "1 & 0.4 & None \\\\ \n",
      "1 & 0.6 & None \\\\ \n",
      "1 & 0.8 & None \\\\ \n",
      "1 & 1.0 & None \\\\ \n",
      "1 & 1.2 & None \\\\ \n"
     ]
    }
   ],
   "source": [
    "print('coupling strength & h & total kinetic energy')\n",
    "for i, (ct, dict1) in enumerate(single_collision_multimode_data.items()):\n",
    "    for j, (h, data) in enumerate(dict1.items()):\n",
    "        \n",
    "        print(\"{} & {} & {} \\\\\\\\ \".format(ct, h, data[-1]))"
   ]
  },
  {
   "cell_type": "code",
   "execution_count": null,
   "id": "9e0d0805-1b2e-4c3a-99c9-95fe7215518b",
   "metadata": {},
   "outputs": [],
   "source": [
    "single_collision_multimode_data"
   ]
  },
  {
   "cell_type": "code",
   "execution_count": null,
   "id": "64f385e2-d650-4bc8-b0f8-51c615362350",
   "metadata": {},
   "outputs": [],
   "source": [
    "single_collision_multimode_data[ct][h][0]"
   ]
  },
  {
   "cell_type": "code",
   "execution_count": 6,
   "id": "6de1d7e6-6a40-4789-8a44-3d4ca53768d5",
   "metadata": {
    "scrolled": true
   },
   "outputs": [
    {
     "data": {
      "text/html": [
       "<div>\n",
       "<style scoped>\n",
       "    .dataframe tbody tr th:only-of-type {\n",
       "        vertical-align: middle;\n",
       "    }\n",
       "\n",
       "    .dataframe tbody tr th {\n",
       "        vertical-align: top;\n",
       "    }\n",
       "\n",
       "    .dataframe thead th {\n",
       "        text-align: right;\n",
       "    }\n",
       "</style>\n",
       "<table border=\"1\" class=\"dataframe\">\n",
       "  <thead>\n",
       "    <tr style=\"text-align: right;\">\n",
       "      <th></th>\n",
       "      <th>T</th>\n",
       "      <th>coup_str</th>\n",
       "      <th>h</th>\n",
       "      <th>theta_ar</th>\n",
       "      <th>theta_xe</th>\n",
       "    </tr>\n",
       "  </thead>\n",
       "  <tbody>\n",
       "    <tr>\n",
       "      <th>0</th>\n",
       "      <td>150</td>\n",
       "      <td>1</td>\n",
       "      <td>0.0</td>\n",
       "      <td>180.000000</td>\n",
       "      <td>180.000000</td>\n",
       "    </tr>\n",
       "    <tr>\n",
       "      <th>1</th>\n",
       "      <td>150</td>\n",
       "      <td>10</td>\n",
       "      <td>0.0</td>\n",
       "      <td>179.999996</td>\n",
       "      <td>179.999995</td>\n",
       "    </tr>\n",
       "    <tr>\n",
       "      <th>2</th>\n",
       "      <td>150</td>\n",
       "      <td>15</td>\n",
       "      <td>0.0</td>\n",
       "      <td>179.999990</td>\n",
       "      <td>179.999982</td>\n",
       "    </tr>\n",
       "    <tr>\n",
       "      <th>3</th>\n",
       "      <td>150</td>\n",
       "      <td>1</td>\n",
       "      <td>0.2</td>\n",
       "      <td>162.205890</td>\n",
       "      <td>139.492985</td>\n",
       "    </tr>\n",
       "    <tr>\n",
       "      <th>4</th>\n",
       "      <td>150</td>\n",
       "      <td>10</td>\n",
       "      <td>0.2</td>\n",
       "      <td>161.682827</td>\n",
       "      <td>133.259160</td>\n",
       "    </tr>\n",
       "    <tr>\n",
       "      <th>5</th>\n",
       "      <td>150</td>\n",
       "      <td>15</td>\n",
       "      <td>0.2</td>\n",
       "      <td>160.904901</td>\n",
       "      <td>121.064855</td>\n",
       "    </tr>\n",
       "    <tr>\n",
       "      <th>6</th>\n",
       "      <td>150</td>\n",
       "      <td>1</td>\n",
       "      <td>0.4</td>\n",
       "      <td>143.856110</td>\n",
       "      <td>108.666998</td>\n",
       "    </tr>\n",
       "    <tr>\n",
       "      <th>7</th>\n",
       "      <td>150</td>\n",
       "      <td>10</td>\n",
       "      <td>0.4</td>\n",
       "      <td>142.901446</td>\n",
       "      <td>102.724637</td>\n",
       "    </tr>\n",
       "    <tr>\n",
       "      <th>8</th>\n",
       "      <td>150</td>\n",
       "      <td>15</td>\n",
       "      <td>0.4</td>\n",
       "      <td>141.512286</td>\n",
       "      <td>93.633662</td>\n",
       "    </tr>\n",
       "    <tr>\n",
       "      <th>9</th>\n",
       "      <td>150</td>\n",
       "      <td>1</td>\n",
       "      <td>0.6</td>\n",
       "      <td>124.289543</td>\n",
       "      <td>85.219269</td>\n",
       "    </tr>\n",
       "    <tr>\n",
       "      <th>10</th>\n",
       "      <td>150</td>\n",
       "      <td>10</td>\n",
       "      <td>0.6</td>\n",
       "      <td>123.082347</td>\n",
       "      <td>81.174612</td>\n",
       "    </tr>\n",
       "    <tr>\n",
       "      <th>11</th>\n",
       "      <td>150</td>\n",
       "      <td>15</td>\n",
       "      <td>0.6</td>\n",
       "      <td>121.382138</td>\n",
       "      <td>75.619503</td>\n",
       "    </tr>\n",
       "    <tr>\n",
       "      <th>12</th>\n",
       "      <td>150</td>\n",
       "      <td>1</td>\n",
       "      <td>0.8</td>\n",
       "      <td>102.591115</td>\n",
       "      <td>65.220015</td>\n",
       "    </tr>\n",
       "    <tr>\n",
       "      <th>13</th>\n",
       "      <td>150</td>\n",
       "      <td>10</td>\n",
       "      <td>0.8</td>\n",
       "      <td>101.385408</td>\n",
       "      <td>62.879601</td>\n",
       "    </tr>\n",
       "    <tr>\n",
       "      <th>14</th>\n",
       "      <td>150</td>\n",
       "      <td>15</td>\n",
       "      <td>0.8</td>\n",
       "      <td>99.750937</td>\n",
       "      <td>59.824145</td>\n",
       "    </tr>\n",
       "    <tr>\n",
       "      <th>15</th>\n",
       "      <td>150</td>\n",
       "      <td>1</td>\n",
       "      <td>1.0</td>\n",
       "      <td>77.333725</td>\n",
       "      <td>46.171653</td>\n",
       "    </tr>\n",
       "    <tr>\n",
       "      <th>16</th>\n",
       "      <td>150</td>\n",
       "      <td>10</td>\n",
       "      <td>1.0</td>\n",
       "      <td>76.419926</td>\n",
       "      <td>45.078916</td>\n",
       "    </tr>\n",
       "    <tr>\n",
       "      <th>17</th>\n",
       "      <td>150</td>\n",
       "      <td>15</td>\n",
       "      <td>1.0</td>\n",
       "      <td>75.225740</td>\n",
       "      <td>43.686377</td>\n",
       "    </tr>\n",
       "    <tr>\n",
       "      <th>18</th>\n",
       "      <td>150</td>\n",
       "      <td>1</td>\n",
       "      <td>1.2</td>\n",
       "      <td>46.098441</td>\n",
       "      <td>26.150893</td>\n",
       "    </tr>\n",
       "    <tr>\n",
       "      <th>19</th>\n",
       "      <td>150</td>\n",
       "      <td>10</td>\n",
       "      <td>1.2</td>\n",
       "      <td>45.689009</td>\n",
       "      <td>25.828374</td>\n",
       "    </tr>\n",
       "    <tr>\n",
       "      <th>20</th>\n",
       "      <td>150</td>\n",
       "      <td>15</td>\n",
       "      <td>1.2</td>\n",
       "      <td>45.167630</td>\n",
       "      <td>25.421041</td>\n",
       "    </tr>\n",
       "    <tr>\n",
       "      <th>21</th>\n",
       "      <td>100</td>\n",
       "      <td>1</td>\n",
       "      <td>0.0</td>\n",
       "      <td>180.000000</td>\n",
       "      <td>180.000000</td>\n",
       "    </tr>\n",
       "    <tr>\n",
       "      <th>22</th>\n",
       "      <td>100</td>\n",
       "      <td>10</td>\n",
       "      <td>0.0</td>\n",
       "      <td>179.999996</td>\n",
       "      <td>179.999995</td>\n",
       "    </tr>\n",
       "    <tr>\n",
       "      <th>23</th>\n",
       "      <td>100</td>\n",
       "      <td>15</td>\n",
       "      <td>0.0</td>\n",
       "      <td>179.999989</td>\n",
       "      <td>179.999977</td>\n",
       "    </tr>\n",
       "    <tr>\n",
       "      <th>24</th>\n",
       "      <td>100</td>\n",
       "      <td>1</td>\n",
       "      <td>0.2</td>\n",
       "      <td>162.765871</td>\n",
       "      <td>140.612272</td>\n",
       "    </tr>\n",
       "    <tr>\n",
       "      <th>25</th>\n",
       "      <td>100</td>\n",
       "      <td>10</td>\n",
       "      <td>0.2</td>\n",
       "      <td>162.182553</td>\n",
       "      <td>133.245272</td>\n",
       "    </tr>\n",
       "    <tr>\n",
       "      <th>26</th>\n",
       "      <td>100</td>\n",
       "      <td>15</td>\n",
       "      <td>0.2</td>\n",
       "      <td>161.263623</td>\n",
       "      <td>116.772693</td>\n",
       "    </tr>\n",
       "    <tr>\n",
       "      <th>27</th>\n",
       "      <td>100</td>\n",
       "      <td>1</td>\n",
       "      <td>0.4</td>\n",
       "      <td>145.033462</td>\n",
       "      <td>110.325577</td>\n",
       "    </tr>\n",
       "    <tr>\n",
       "      <th>28</th>\n",
       "      <td>100</td>\n",
       "      <td>10</td>\n",
       "      <td>0.4</td>\n",
       "      <td>143.960232</td>\n",
       "      <td>103.202580</td>\n",
       "    </tr>\n",
       "    <tr>\n",
       "      <th>29</th>\n",
       "      <td>100</td>\n",
       "      <td>15</td>\n",
       "      <td>0.4</td>\n",
       "      <td>142.315177</td>\n",
       "      <td>91.508715</td>\n",
       "    </tr>\n",
       "    <tr>\n",
       "      <th>30</th>\n",
       "      <td>100</td>\n",
       "      <td>1</td>\n",
       "      <td>0.6</td>\n",
       "      <td>126.217857</td>\n",
       "      <td>87.238652</td>\n",
       "    </tr>\n",
       "    <tr>\n",
       "      <th>31</th>\n",
       "      <td>100</td>\n",
       "      <td>10</td>\n",
       "      <td>0.6</td>\n",
       "      <td>124.837518</td>\n",
       "      <td>82.274465</td>\n",
       "    </tr>\n",
       "    <tr>\n",
       "      <th>32</th>\n",
       "      <td>100</td>\n",
       "      <td>15</td>\n",
       "      <td>0.6</td>\n",
       "      <td>122.806315</td>\n",
       "      <td>75.154028</td>\n",
       "    </tr>\n",
       "    <tr>\n",
       "      <th>33</th>\n",
       "      <td>100</td>\n",
       "      <td>1</td>\n",
       "      <td>0.8</td>\n",
       "      <td>105.529040</td>\n",
       "      <td>67.680634</td>\n",
       "    </tr>\n",
       "    <tr>\n",
       "      <th>34</th>\n",
       "      <td>100</td>\n",
       "      <td>10</td>\n",
       "      <td>0.8</td>\n",
       "      <td>104.102717</td>\n",
       "      <td>64.688017</td>\n",
       "    </tr>\n",
       "    <tr>\n",
       "      <th>35</th>\n",
       "      <td>100</td>\n",
       "      <td>15</td>\n",
       "      <td>0.8</td>\n",
       "      <td>102.102222</td>\n",
       "      <td>60.674914</td>\n",
       "    </tr>\n",
       "    <tr>\n",
       "      <th>36</th>\n",
       "      <td>100</td>\n",
       "      <td>1</td>\n",
       "      <td>1.0</td>\n",
       "      <td>81.774985</td>\n",
       "      <td>49.288316</td>\n",
       "    </tr>\n",
       "    <tr>\n",
       "      <th>37</th>\n",
       "      <td>100</td>\n",
       "      <td>10</td>\n",
       "      <td>1.0</td>\n",
       "      <td>80.612189</td>\n",
       "      <td>47.775978</td>\n",
       "    </tr>\n",
       "    <tr>\n",
       "      <th>38</th>\n",
       "      <td>100</td>\n",
       "      <td>15</td>\n",
       "      <td>1.0</td>\n",
       "      <td>79.057059</td>\n",
       "      <td>45.820113</td>\n",
       "    </tr>\n",
       "    <tr>\n",
       "      <th>39</th>\n",
       "      <td>100</td>\n",
       "      <td>1</td>\n",
       "      <td>1.2</td>\n",
       "      <td>53.013901</td>\n",
       "      <td>30.346607</td>\n",
       "    </tr>\n",
       "    <tr>\n",
       "      <th>40</th>\n",
       "      <td>100</td>\n",
       "      <td>10</td>\n",
       "      <td>1.2</td>\n",
       "      <td>52.384498</td>\n",
       "      <td>29.808950</td>\n",
       "    </tr>\n",
       "    <tr>\n",
       "      <th>41</th>\n",
       "      <td>100</td>\n",
       "      <td>15</td>\n",
       "      <td>1.2</td>\n",
       "      <td>51.573865</td>\n",
       "      <td>29.126016</td>\n",
       "    </tr>\n",
       "  </tbody>\n",
       "</table>\n",
       "</div>"
      ],
      "text/plain": [
       "      T  coup_str    h    theta_ar    theta_xe\n",
       "0   150         1  0.0  180.000000  180.000000\n",
       "1   150        10  0.0  179.999996  179.999995\n",
       "2   150        15  0.0  179.999990  179.999982\n",
       "3   150         1  0.2  162.205890  139.492985\n",
       "4   150        10  0.2  161.682827  133.259160\n",
       "5   150        15  0.2  160.904901  121.064855\n",
       "6   150         1  0.4  143.856110  108.666998\n",
       "7   150        10  0.4  142.901446  102.724637\n",
       "8   150        15  0.4  141.512286   93.633662\n",
       "9   150         1  0.6  124.289543   85.219269\n",
       "10  150        10  0.6  123.082347   81.174612\n",
       "11  150        15  0.6  121.382138   75.619503\n",
       "12  150         1  0.8  102.591115   65.220015\n",
       "13  150        10  0.8  101.385408   62.879601\n",
       "14  150        15  0.8   99.750937   59.824145\n",
       "15  150         1  1.0   77.333725   46.171653\n",
       "16  150        10  1.0   76.419926   45.078916\n",
       "17  150        15  1.0   75.225740   43.686377\n",
       "18  150         1  1.2   46.098441   26.150893\n",
       "19  150        10  1.2   45.689009   25.828374\n",
       "20  150        15  1.2   45.167630   25.421041\n",
       "21  100         1  0.0  180.000000  180.000000\n",
       "22  100        10  0.0  179.999996  179.999995\n",
       "23  100        15  0.0  179.999989  179.999977\n",
       "24  100         1  0.2  162.765871  140.612272\n",
       "25  100        10  0.2  162.182553  133.245272\n",
       "26  100        15  0.2  161.263623  116.772693\n",
       "27  100         1  0.4  145.033462  110.325577\n",
       "28  100        10  0.4  143.960232  103.202580\n",
       "29  100        15  0.4  142.315177   91.508715\n",
       "30  100         1  0.6  126.217857   87.238652\n",
       "31  100        10  0.6  124.837518   82.274465\n",
       "32  100        15  0.6  122.806315   75.154028\n",
       "33  100         1  0.8  105.529040   67.680634\n",
       "34  100        10  0.8  104.102717   64.688017\n",
       "35  100        15  0.8  102.102222   60.674914\n",
       "36  100         1  1.0   81.774985   49.288316\n",
       "37  100        10  1.0   80.612189   47.775978\n",
       "38  100        15  1.0   79.057059   45.820113\n",
       "39  100         1  1.2   53.013901   30.346607\n",
       "40  100        10  1.2   52.384498   29.808950\n",
       "41  100        15  1.2   51.573865   29.126016"
      ]
     },
     "execution_count": 6,
     "metadata": {},
     "output_type": "execute_result"
    }
   ],
   "source": [
    "from numpy.linalg import norm as norm\n",
    "\n",
    "h = 0.0\n",
    "ct = 15\n",
    "\n",
    "dataframe = {'T':[], 'coup_str':[], 'h':[], 'theta_ar':[], 'theta_xe':[]}\n",
    "\n",
    "for i, T in enumerate([200, 150]):\n",
    "    for h in [0.0, 0.2, 0.4, 0.6, 0.8, 1.0, 1.2]:\n",
    "        for ct in [1, 10, 15]:\n",
    "            v_ar0, v_xe0 = tuple(\n",
    "                single_collision_multimode_data[ct][h][0][str(T)]['atoms'].trajectory['r_dot'][0]\n",
    "            )\n",
    "            v_ar_1, v_xe_1 = tuple(\n",
    "                single_collision_multimode_data[ct][h][0][str(T)]['atoms'].trajectory['r_dot'][-1]\n",
    "            )\n",
    "            \n",
    "            \n",
    "            theta_ar = np.arccos((v_ar0 @ v_ar_1.T) / (norm(v_ar0) * norm(v_ar_1))) * 180 / np.pi\n",
    "            theta_xe = np.arccos((v_xe0 @ v_xe_1.T) / (norm(v_xe0) * norm(v_xe_1))) * 180 / np.pi\n",
    "\n",
    "            dataframe['T'].append(150 if i == 0 else 100)\n",
    "            dataframe['coup_str'].append(ct)\n",
    "            dataframe['h'].append(h)\n",
    "            dataframe['theta_ar'].append(theta_ar)\n",
    "            dataframe['theta_xe'].append(theta_xe)\n",
    "\n",
    "dataframe = pd.DataFrame(dataframe)\n",
    "dataframe"
   ]
  },
  {
   "cell_type": "code",
   "execution_count": null,
   "id": "171d6774-e4bd-4231-b6d4-ee0eb812b45f",
   "metadata": {},
   "outputs": [],
   "source": [
    "dataframe.to_csv('data/deflection_angle.csv')"
   ]
  },
  {
   "cell_type": "code",
   "execution_count": null,
   "id": "e75503c4-a66f-486e-954a-3d7a2eccc961",
   "metadata": {},
   "outputs": [],
   "source": [
    "subdf = dataframe.loc[dataframe['h'] == 1.2]\n",
    "subdf"
   ]
  },
  {
   "cell_type": "code",
   "execution_count": null,
   "id": "ca8123ba-4b6d-4f74-8438-fb4a0a442bd1",
   "metadata": {},
   "outputs": [],
   "source": [
    "atoms"
   ]
  },
  {
   "cell_type": "code",
   "execution_count": null,
   "id": "3ff2e5ea-8ff6-4a42-958c-6520f10daf40",
   "metadata": {},
   "outputs": [],
   "source": [
    "h = 1.0\n",
    "coup_str = 15\n",
    "\n",
    "atoms = single_collision_multimode_data[coup_str][h][0]['last']['atoms']\n",
    "\n",
    "coltime = np.array(atm.get_colliding_time(atoms, 0))\n",
    "result_idx = np.argmax(coltime)\n",
    "print(coltime[result_idx])\n",
    "\n",
    "field = single_collision_multimode_data[coup_str][h][0]['last']['field']\n",
    "\n",
    "N_pairs = int(len(atoms.r)/2)\n",
    "\n",
    "r_ar = np.array(atoms.trajectory['r'])[:,result_idx]\n",
    "r_xe = np.array(atoms.trajectory['r'])[:,result_idx + N_pairs]\n",
    "\n",
    "v_ar = np.array(atoms.trajectory['r_dot'])[:,result_idx]\n",
    "v_xe = np.array(atoms.trajectory['r_dot'])[:,result_idx + N_pairs]\n",
    "\n",
    "t = np.array(atoms.trajectory['t'])"
   ]
  },
  {
   "cell_type": "code",
   "execution_count": null,
   "id": "e130dcef-8516-4c57-a250-de847e3f804b",
   "metadata": {},
   "outputs": [],
   "source": [
    "from calculator.function import LJ_potential\n",
    "\n",
    "k = 0.5 * red.mass_dict['Ar'] * np.einsum('ni,ni->n',v_ar,v_ar)\\\n",
    "    + 0.5 * red.mass_dict['Xe'] * np.einsum('ni,ni->n',v_xe,v_xe)\n",
    "k = red.convert_energy(k,'ev') * 1e3\n",
    "\n",
    "d_arxe = r_ar - r_xe\n",
    "d_arxe = np.sqrt(np.einsum('ni,ni->n',d_arxe,d_arxe))\n",
    "v = LJ_potential(red.sigma_Ar_Xe, red.epsilon_Ar_Xe, d_arxe)\n",
    "v = red.convert_energy(v,'ev') * 1e3\n",
    "\n",
    "hem = red.convert_energy(\n",
    "    np.sum(field.history['energy'],axis = 1), 'ev') * 1e3\n",
    "tem = field.history['t']\n",
    "\n",
    "fig,ax = plt.subplots(3,figsize = (10,12))\n",
    "#ax[0].plot(t[200:], d[200:])\n",
    "ax[0].plot(t, k)\n",
    "ax[1].plot(t, v)\n",
    "ax[2].plot(tem[300:], hem[300:])\n",
    "\n",
    "#ax[0].set_xlim(t[0],t[-1])\n",
    "ax[0].set_xlim(t[300],t[-1])\n",
    "ax[1].set_xlim(t[300],t[-1])\n",
    "ax[2].set_xlim(tem[300],tem[-1])\n",
    "\n",
    "ax[0].xaxis.set_major_locator(MultipleLocator(5))\n",
    "ax[0].xaxis.set_major_formatter('{x:.0f}')\n",
    "\n",
    "ax[1].xaxis.set_major_locator(MultipleLocator(5))\n",
    "ax[1].xaxis.set_major_formatter('{x:.0f}')\n",
    "\n",
    "ax[2].xaxis.set_major_locator(MultipleLocator(5))\n",
    "ax[2].xaxis.set_major_formatter('{x:.0f}')\n",
    "\n",
    "#ax[0].set_ylabel(r'Ar-Xe distance (nm)')\n",
    "ax[0].set_ylabel(r'Kinetic energy ($10^{-3}$ eV)')\n",
    "ax[1].set_ylabel(r'Potential energy ($10^{-3}$ eV)')\n",
    "ax[2].set_ylabel(r'Total cavity modes energy ($10^{-3}$ eV)')\n",
    "\n",
    "ax[2].set_xlabel('Time (ps)')\n",
    "\n",
    "ax[0].annotate('(a)',xy = (0.9,0.9), xycoords = 'axes fraction')\n",
    "ax[1].annotate('(b)',xy = (0.9,0.9), xycoords = 'axes fraction')\n",
    "ax[2].annotate('(c)',xy = (0.9,0.9), xycoords = 'axes fraction')\n",
    "\n",
    "#fig.savefig(fig_root + 'energy_breakdown.jpeg',dpi=600, bbox_inches = 'tight')"
   ]
  },
  {
   "cell_type": "code",
   "execution_count": null,
   "id": "22f6c4f9-19e9-4bff-9a72-343f6c9f8274",
   "metadata": {},
   "outputs": [],
   "source": [
    "an = importlib.reload(an)\n",
    "\n",
    "an.single_anime(atoms, index = 0 , N_pairs = N_pairs, save_path = 'figure2/longest_single_anime')"
   ]
  },
  {
   "cell_type": "code",
   "execution_count": null,
   "id": "61858bc7-7c32-4f72-af08-1038006f9226",
   "metadata": {},
   "outputs": [],
   "source": []
  },
  {
   "cell_type": "code",
   "execution_count": null,
   "id": "97100e42-2e4d-45ef-acea-d90371f06294",
   "metadata": {},
   "outputs": [],
   "source": []
  },
  {
   "cell_type": "code",
   "execution_count": null,
   "id": "2686f420-a001-4777-8bcf-28f00bf9c882",
   "metadata": {},
   "outputs": [],
   "source": []
  },
  {
   "cell_type": "code",
   "execution_count": null,
   "id": "77e012a9-c75d-434d-9012-a3cef35523ee",
   "metadata": {},
   "outputs": [],
   "source": []
  },
  {
   "cell_type": "code",
   "execution_count": null,
   "id": "bdb82835-f259-4790-8ae5-1a0da24a9a2a",
   "metadata": {},
   "outputs": [],
   "source": []
  },
  {
   "cell_type": "code",
   "execution_count": null,
   "id": "f10155ea-abc0-4d9a-9ac6-afda553c2c80",
   "metadata": {},
   "outputs": [],
   "source": []
  },
  {
   "cell_type": "code",
   "execution_count": null,
   "id": "14930c45-f299-42ac-bb9d-4c4285c0ecef",
   "metadata": {},
   "outputs": [],
   "source": []
  },
  {
   "cell_type": "code",
   "execution_count": null,
   "id": "95d72205-9cbe-40e0-9e15-2876b024c485",
   "metadata": {},
   "outputs": [],
   "source": []
  },
  {
   "cell_type": "code",
   "execution_count": null,
   "id": "006eb184-0323-4755-a4c1-fdd5abdf277b",
   "metadata": {},
   "outputs": [],
   "source": []
  },
  {
   "cell_type": "code",
   "execution_count": null,
   "id": "9c79e866-4529-480f-8457-0b7a06c4c9f1",
   "metadata": {},
   "outputs": [],
   "source": []
  },
  {
   "cell_type": "code",
   "execution_count": null,
   "id": "163f8a84-0a5c-42df-8fbe-a4953f1915a6",
   "metadata": {},
   "outputs": [],
   "source": []
  }
 ],
 "metadata": {
  "kernelspec": {
   "display_name": "Python 3 (ipykernel)",
   "language": "python",
   "name": "python3"
  },
  "language_info": {
   "codemirror_mode": {
    "name": "ipython",
    "version": 3
   },
   "file_extension": ".py",
   "mimetype": "text/x-python",
   "name": "python",
   "nbconvert_exporter": "python",
   "pygments_lexer": "ipython3",
   "version": "3.12.0"
  }
 },
 "nbformat": 4,
 "nbformat_minor": 5
}
