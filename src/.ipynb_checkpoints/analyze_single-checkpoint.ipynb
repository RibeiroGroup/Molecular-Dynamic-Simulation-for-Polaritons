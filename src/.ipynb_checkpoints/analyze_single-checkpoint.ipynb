{
 "cells": [
  {
   "cell_type": "code",
   "execution_count": 1,
   "id": "94fa355f-8790-44c2-8587-34e6daefb06d",
   "metadata": {},
   "outputs": [],
   "source": [
    "import warnings\n",
    "warnings.filterwarnings('ignore')\n",
    "\n",
    "import argparse\n",
    "import os, sys, importlib, copy\n",
    "from glob import glob\n",
    "import pickle\n",
    "import tqdm\n",
    "\n",
    "import numpy as np\n",
    "import pandas as pd\n",
    "import matplotlib.pyplot as plt\n",
    "from matplotlib.ticker import (MultipleLocator, AutoMinorLocator)\n",
    "import scipy\n",
    "\n",
    "from utilities import reduced_parameter as red\n",
    "from field.electromagnetic import FreeVectorPotential, CavityVectorPotential\n",
    "\n",
    "from matter.atoms import AtomsInBox\n",
    "from calculator.calculator import Calculator\n",
    "\n",
    "from utilities.etc import categorizing_result\n",
    "\n",
    "import animation as an\n",
    "import analyze_tools.utils as atu\n",
    "from analyze_tools.monte_carlo import get_colliding_time\n",
    "\n",
    "from simulation.single import single_collision_simulation\n",
    "import utilities.reduced_parameter as red\n",
    "from utilities.etc import moving_average\n"
   ]
  },
  {
   "cell_type": "code",
   "execution_count": 2,
   "id": "9ea29fb5-df6c-460b-98a9-4a19368ecd5c",
   "metadata": {},
   "outputs": [],
   "source": [
    "#\n",
    "# DEFINING FUNCTION\n",
    "## WARNING: NEXT CELL WILL RUN SIMULATIONS\n",
    "#\n",
    "\n",
    "\n",
    "Lxy = 3e7; Lz = 3e3\n",
    "def get_ArXePair(d_arxe, v_ar = 0, h = 0, n_pairs = 1, Lxy=Lxy, Lz=Lz):\n",
    "    \"\"\"\n",
    "    \"\"\"\n",
    "    atoms = AtomsInBox(\n",
    "        Lxy = Lxy, Lz = Lz, cell_width = (1e6,1e2), \n",
    "        mass_dict = red.mass_dict)\n",
    "\n",
    "    v_xe = - v_ar / np.sqrt(red.mass_dict['Xe'])\n",
    "\n",
    "    for i in range(n_pairs):\n",
    "        if i == 0:\n",
    "            r0 = np.zeros(3)\n",
    "        else:\n",
    "            r0 = np.hstack(\n",
    "                [\n",
    "                    #np.random.uniform(-Lxy/2+10, Lxy/2-10, size = 2), \n",
    "                    np.zeros(2),\n",
    "                    np.random.uniform(-Lz/2+10, Lz/2-10)]\n",
    "            )\n",
    "        atoms.add(\n",
    "                elements = [\"Ar\"],\n",
    "                r = np.array([[0.0, h, -d_arxe/2]]) + r0,\n",
    "                r_dot = np.array([[0.0, 0.0, v_ar]])# / np.sqrt(2)\n",
    "                )\n",
    "        \n",
    "        atoms.add(\n",
    "                elements = [\"Xe\"],\n",
    "                r = np.array([[0.0,0.0,d_arxe/2]]) + r0,\n",
    "                r_dot = np.array([[0.00, 0.00, v_xe]])# / np.sqrt(2)\n",
    "                )\n",
    "    \n",
    "    idxAr = atoms.element_idx(element = \"Ar\")\n",
    "    idxXe = atoms.element_idx(element = \"Xe\")\n",
    "    epsilon_mat, sigma_mat = red.generate_LJparam_matrix(idxAr = idxAr, idxXe = idxXe)\n",
    "    \n",
    "    # calculator to the atoms object\n",
    "    atoms.add_calculator(\n",
    "        calculator_class = Calculator,\n",
    "        calculator_kwargs = {\n",
    "            \"epsilon\": epsilon_mat, \"sigma\" : sigma_mat, \n",
    "            \"positive_atom_idx\" : idxXe, \"negative_atom_idx\" : idxAr,\n",
    "            \"mu0\" : red.mu0, \"d\" : red.d0, \"a\" : red.a, 'd7':red.d7\n",
    "        })\n",
    "    \n",
    "    atoms.update_distance()\n",
    "    \n",
    "    return atoms\n",
    "\n",
    "def get_field(coup_str, amplitude, T = None, mode = False, Lxy = Lxy, Lz = Lz, field = 'cavity'):\n",
    "    if mode == 'multi':\n",
    "        k_vector_int = np.array(\n",
    "            [[i,0,0] for i in range(1,100)]\n",
    "            ,dtype=np.float64)\n",
    "    elif isinstance(mode, int):\n",
    "        k_vector_int = np.array([[mode,0,0]])\n",
    "    elif isinstance(mode, list):\n",
    "        k_vector_int = np.array(\n",
    "            [[i,0,0] for i in mode], \n",
    "            dtype = np.float64)\n",
    "    else:\n",
    "        raise Exception('Mode have to be either \"multi\" or an integer!')\n",
    "    \n",
    "    if field == 'cavity':\n",
    "        VectorPotentialClass = CavityVectorPotential\n",
    "    elif field == 'free':\n",
    "        VectorPotentialClass = FreeVectorPotential\n",
    "    \n",
    "    Afield = VectorPotentialClass(\n",
    "            k_vector_int = k_vector_int, amplitude = amplitude,\n",
    "            Lxy = Lxy, Lz = Lz, constant_c = red.c, coupling_strength = coup_str, T = T\n",
    "            )\n",
    "\n",
    "    return Afield\n",
    "\n",
    "def get_radprofile(rd, windows = 10):\n",
    "    Afield = rd['field']\n",
    "    \n",
    "    rad_energy = red.convert_energy(np.array(Afield.history[\"energy\"][-1]), \"ev\") \n",
    "    omega = red.convert_wavenumber(Afield.k_val)\n",
    "    omega_profile, final_rad_profile = at.profiling_rad(omega, rad_energy)\n",
    "    \n",
    "    sorted_idx = np.argsort(omega_profile)\n",
    "\n",
    "    if windows == 0:\n",
    "        omega_profile = np.array(omega_profile)[sorted_idx] \n",
    "        final_rad_profile = np.array(final_rad_profile)[sorted_idx]\n",
    "    else:\n",
    "        omega_profile, final_rad_profile = moving_average(\n",
    "            np.array(omega_profile)[sorted_idx], \n",
    "            np.array(final_rad_profile)[sorted_idx], windows)\n",
    "\n",
    "    return omega_profile, final_rad_profile"
   ]
  },
  {
   "cell_type": "code",
   "execution_count": null,
   "id": "6ff95080-f9ba-43a2-9d39-e7079fa35bff",
   "metadata": {
    "scrolled": true
   },
   "outputs": [],
   "source": [
    "# \n",
    "# CALCULATING SPECTRA\n",
    "# Run simulation of head on collision coupled to FREE field \n",
    "# at various total energy as temperature \n",
    "# \n",
    "\n",
    "result_dict = {}\n",
    "velocity_dict = {}\n",
    "\n",
    "for T in tqdm.tqdm(np.arange(92, 850, 10)):\n",
    "    \n",
    "    vt = np.sqrt((T * red.boltzmann / red.epsilon) )\n",
    "    atoms = get_ArXePair(d_arxe = 6, h = 0.0 , v_ar = vt, n_pairs = 1)\n",
    "    \n",
    "    field = get_field(amplitude = 'zero', mode = list(range(1,300)), coup_str = 1, Lz = Lxy, field = 'free')\n",
    "        \n",
    "    t, rd = single_collision_simulation(\n",
    "        0, h = 1e-2, atoms = atoms, field = field, \n",
    "        max_steps = 10000, verbose = False)\n",
    "\n",
    "    result_dict.update({T : rd})\n",
    "    velocity_dict.update({T : (vt, vt / np.sqrt(M_Xe))})"
   ]
  },
  {
   "cell_type": "code",
   "execution_count": null,
   "id": "f004cbb6-76ce-479d-9dfa-234d39032e9d",
   "metadata": {
    "scrolled": true
   },
   "outputs": [],
   "source": [
    "#\n",
    "# PLOTTING SPECTRA\n",
    "#\n",
    "\n",
    "fig,ax = plt.subplots(2, figsize = (6,8))\n",
    "\n",
    "total = 0\n",
    "\n",
    "prob_list = []\n",
    "\n",
    "for T in result_dict.keys():\n",
    "    prob_list.append(T * np.exp(- T / 292))\n",
    "\n",
    "prob_list = np.array(prob_list)\n",
    "prob_list = prob_list / np.sum(prob_list)\n",
    "\n",
    "for i, (T,rd) in enumerate(result_dict.items()):\n",
    "    \n",
    "    omega_profile, final_rad_profile = get_radprofile(rd,0 )\n",
    "    final_rad_profile *= 1e25\n",
    "    total += final_rad_profile * prob_list[i]\n",
    "\n",
    "    if i % 5 == 0:\n",
    "        ax[0].plot(\n",
    "            omega_profile, final_rad_profile, label = 'T = {} K'.format(T), \n",
    "            linestyle = 'dashdot' if i >= 35 else None)\n",
    "\n",
    "ax[1].plot(omega_profile, total, label = 'Scaled total spectrum')\n",
    "  \n",
    "tax = ax[1].twinx()\n",
    "exp_data = pd.read_csv('data/plot-data.csv')\n",
    "tax.scatter(\n",
    "    exp_data.loc[:,'x'],\n",
    "    exp_data.loc[:,' y'],\n",
    "    s = 5, alpha = 0.5, c = 'black'\n",
    ")\n",
    "ax[1].scatter([],[], c = 'black', label = 'Exp. @ 292K')\n",
    "\n",
    "ax[0].set_ylabel(r\"Calculated EM field energy $(10^{-25} eV)$\")\n",
    "ax[1].set_ylabel(r\"Sum of scaled EM field energy $(10^{-25} eV)$\")\n",
    "ax[1].set_xlabel(r\"Wavenumber $(cm^{-1})$\")\n",
    "\n",
    "tax.set_ylabel(r'Exp. absorption $(10^{-6} cm^{-1} amagat^{-2})$')\n",
    "\n",
    "ax[0].annotate('(a)',xy = (0.9,0.9), xycoords = 'axes fraction')\n",
    "ax[1].annotate('(b)',xy = (0.9,0.7), xycoords = 'axes fraction')\n",
    "\n",
    "ax[0].legend(loc='lower center', bbox_to_anchor=(0.5, 1.0), ncol=4)\n",
    "ax[1].legend()\n",
    "fig.savefig('figure/manuscript/free_spectrum_singleT.jpeg',dpi = 600, bbox_inches = 'tight')"
   ]
  },
  {
   "cell_type": "code",
   "execution_count": 18,
   "id": "f1c60722-f0af-4ba1-9898-9b663d753f85",
   "metadata": {
    "scrolled": true
   },
   "outputs": [
    {
     "name": "stdin",
     "output_type": "stream",
     "text": [
      "Load file?(Y)/N N\n"
     ]
    },
    {
     "name": "stdout",
     "output_type": "stream",
     "text": [
      "pickle_jar/single_collision_boltzmann_cavity\n",
      "h =  0.0  coupling strength =  20\n"
     ]
    },
    {
     "name": "stderr",
     "output_type": "stream",
     "text": [
      "100%|███████████████████████████████████████████████████████████████████████████████████████████████████████████████████████████████████████████████████████████████████████| 48/48 [01:25<00:00,  1.77s/it]\n"
     ]
    },
    {
     "name": "stdout",
     "output_type": "stream",
     "text": [
      "h =  0.3  coupling strength =  20\n"
     ]
    },
    {
     "name": "stderr",
     "output_type": "stream",
     "text": [
      "100%|███████████████████████████████████████████████████████████████████████████████████████████████████████████████████████████████████████████████████████████████████████| 48/48 [01:29<00:00,  1.86s/it]\n"
     ]
    },
    {
     "name": "stdout",
     "output_type": "stream",
     "text": [
      "h =  0.6  coupling strength =  20\n"
     ]
    },
    {
     "name": "stderr",
     "output_type": "stream",
     "text": [
      "100%|███████████████████████████████████████████████████████████████████████████████████████████████████████████████████████████████████████████████████████████████████████| 48/48 [01:29<00:00,  1.86s/it]\n"
     ]
    },
    {
     "name": "stdout",
     "output_type": "stream",
     "text": [
      "h =  0.9  coupling strength =  20\n"
     ]
    },
    {
     "name": "stderr",
     "output_type": "stream",
     "text": [
      "100%|███████████████████████████████████████████████████████████████████████████████████████████████████████████████████████████████████████████████████████████████████████| 48/48 [01:31<00:00,  1.91s/it]\n"
     ]
    },
    {
     "name": "stdout",
     "output_type": "stream",
     "text": [
      "h =  1.2  coupling strength =  20\n"
     ]
    },
    {
     "name": "stderr",
     "output_type": "stream",
     "text": [
      "100%|███████████████████████████████████████████████████████████████████████████████████████████████████████████████████████████████████████████████████████████████████████| 48/48 [01:52<00:00,  2.34s/it]\n"
     ]
    },
    {
     "name": "stdout",
     "output_type": "stream",
     "text": [
      "h =  0.0  coupling strength =  15\n"
     ]
    },
    {
     "name": "stderr",
     "output_type": "stream",
     "text": [
      "100%|███████████████████████████████████████████████████████████████████████████████████████████████████████████████████████████████████████████████████████████████████████| 48/48 [01:32<00:00,  1.92s/it]\n"
     ]
    },
    {
     "name": "stdout",
     "output_type": "stream",
     "text": [
      "h =  0.3  coupling strength =  15\n"
     ]
    },
    {
     "name": "stderr",
     "output_type": "stream",
     "text": [
      "100%|███████████████████████████████████████████████████████████████████████████████████████████████████████████████████████████████████████████████████████████████████████| 48/48 [01:29<00:00,  1.86s/it]\n"
     ]
    },
    {
     "name": "stdout",
     "output_type": "stream",
     "text": [
      "h =  0.6  coupling strength =  15\n"
     ]
    },
    {
     "name": "stderr",
     "output_type": "stream",
     "text": [
      "100%|███████████████████████████████████████████████████████████████████████████████████████████████████████████████████████████████████████████████████████████████████████| 48/48 [01:37<00:00,  2.02s/it]\n"
     ]
    },
    {
     "name": "stdout",
     "output_type": "stream",
     "text": [
      "h =  0.9  coupling strength =  15\n"
     ]
    },
    {
     "name": "stderr",
     "output_type": "stream",
     "text": [
      "100%|███████████████████████████████████████████████████████████████████████████████████████████████████████████████████████████████████████████████████████████████████████| 48/48 [01:40<00:00,  2.10s/it]\n"
     ]
    },
    {
     "name": "stdout",
     "output_type": "stream",
     "text": [
      "h =  1.2  coupling strength =  15\n"
     ]
    },
    {
     "name": "stderr",
     "output_type": "stream",
     "text": [
      "100%|███████████████████████████████████████████████████████████████████████████████████████████████████████████████████████████████████████████████████████████████████████| 48/48 [01:52<00:00,  2.34s/it]\n"
     ]
    },
    {
     "name": "stdout",
     "output_type": "stream",
     "text": [
      "h =  0.0  coupling strength =  10.0\n"
     ]
    },
    {
     "name": "stderr",
     "output_type": "stream",
     "text": [
      "100%|███████████████████████████████████████████████████████████████████████████████████████████████████████████████████████████████████████████████████████████████████████| 48/48 [01:35<00:00,  2.00s/it]\n"
     ]
    },
    {
     "name": "stdout",
     "output_type": "stream",
     "text": [
      "h =  0.3  coupling strength =  10.0\n"
     ]
    },
    {
     "name": "stderr",
     "output_type": "stream",
     "text": [
      "100%|███████████████████████████████████████████████████████████████████████████████████████████████████████████████████████████████████████████████████████████████████████| 48/48 [01:38<00:00,  2.06s/it]\n"
     ]
    },
    {
     "name": "stdout",
     "output_type": "stream",
     "text": [
      "h =  0.6  coupling strength =  10.0\n"
     ]
    },
    {
     "name": "stderr",
     "output_type": "stream",
     "text": [
      "100%|███████████████████████████████████████████████████████████████████████████████████████████████████████████████████████████████████████████████████████████████████████| 48/48 [01:38<00:00,  2.06s/it]\n"
     ]
    },
    {
     "name": "stdout",
     "output_type": "stream",
     "text": [
      "h =  0.9  coupling strength =  10.0\n"
     ]
    },
    {
     "name": "stderr",
     "output_type": "stream",
     "text": [
      "100%|███████████████████████████████████████████████████████████████████████████████████████████████████████████████████████████████████████████████████████████████████████| 48/48 [01:54<00:00,  2.38s/it]\n"
     ]
    },
    {
     "name": "stdout",
     "output_type": "stream",
     "text": [
      "h =  1.2  coupling strength =  10.0\n"
     ]
    },
    {
     "name": "stderr",
     "output_type": "stream",
     "text": [
      "100%|███████████████████████████████████████████████████████████████████████████████████████████████████████████████████████████████████████████████████████████████████████| 48/48 [01:59<00:00,  2.48s/it]\n"
     ]
    }
   ],
   "source": [
    "#\n",
    "# Record (trajectory @ 40K, highest temperature that Ar-Xe complex form, previous temperature)\n",
    "#\n",
    "\n",
    "single_collision_multimode_data = {}\n",
    "\n",
    "prompt = input('Load file?(Y)/N')\n",
    "if prompt != 'N':\n",
    "    raise Exception\n",
    "    \n",
    "iplist = [0.0, 0.3, 0.6, 0.9, 1.2]\n",
    "Tlist = list(np.arange(10, 106, 2))\n",
    "\n",
    "cavity_init = 'boltzmann'\n",
    "save_path = 'pickle_jar/single_collision_{}_cavity'.format(cavity_init)\n",
    "print(save_path)\n",
    "assert os.path.isdir(save_path)\n",
    "\n",
    "for ct in [20, 15, 1e1]:\n",
    "    result_dict = {}\n",
    "    for h in iplist:\n",
    "        print('h = ', h, ' coupling strength = ', ct)\n",
    "        T_break = None\n",
    "\n",
    "        foo = {}\n",
    "        \n",
    "        for T in tqdm.tqdm(Tlist[::-1]):\n",
    "\n",
    "            vt = np.sqrt((T * red.boltzmann / red.epsilon) )\n",
    "            atoms = get_ArXePair(d_arxe = 6, h = h , v_ar = vt, n_pairs = 1)\n",
    "            \n",
    "            field = get_field(\n",
    "                amplitude = cavity_init, T = T,\n",
    "                mode = list(range(1,100)), coup_str = ct * Lxy, Lz = Lz, field = 'cavity'\n",
    "            )\n",
    "                \n",
    "            t, rd = single_collision_simulation(\n",
    "                0, h = 1e-2, atoms = atoms, field = field, potential_threshold = 1e-4,\n",
    "                max_steps = 5000, verbose = False, record_every = 1) # 10000 it ~ 200 ps\n",
    "\n",
    "            foo.update({T:rd})\n",
    "            \n",
    "        result_dict.update({ct : foo})\n",
    "\n",
    "    with open(save_path + '/coup_str_{}.pkl'.format(ct),'wb') as handle:\n",
    "        pickle.dump(result_dict, handle)\n",
    "            "
   ]
  },
  {
   "cell_type": "code",
   "execution_count": 15,
   "id": "de96a25d-faae-4032-8362-17d98b7600c7",
   "metadata": {},
   "outputs": [
    {
     "name": "stdin",
     "output_type": "stream",
     "text": [
      "Load file?(Y)/N N\n"
     ]
    },
    {
     "name": "stdout",
     "output_type": "stream",
     "text": [
      "pickle_jar/single_collision_zero_cavity\n",
      "h =  0.0  coupling strength =  20\n"
     ]
    },
    {
     "name": "stderr",
     "output_type": "stream",
     "text": [
      "  2%|███▌                                                                                                                                                                    | 1/48 [00:24<19:20, 24.69s/it]\n"
     ]
    },
    {
     "name": "stdout",
     "output_type": "stream",
     "text": [
      "break @ 102 K, with collide time 101.60892535029511ps\n",
      "h =  0.3  coupling strength =  20\n"
     ]
    },
    {
     "name": "stderr",
     "output_type": "stream",
     "text": [
      " 15%|████████████████████████▌                                                                                                                                               | 7/48 [00:59<05:47,  8.48s/it]\n"
     ]
    },
    {
     "name": "stdout",
     "output_type": "stream",
     "text": [
      "break @ 90 K, with collide time 101.17700643275931ps\n",
      "h =  0.6  coupling strength =  20\n"
     ]
    },
    {
     "name": "stderr",
     "output_type": "stream",
     "text": [
      " 38%|██████████████████████████████████████████████████████████████▋                                                                                                        | 18/48 [01:26<02:24,  4.82s/it]\n"
     ]
    },
    {
     "name": "stdout",
     "output_type": "stream",
     "text": [
      "break @ 68 K, with collide time 100.05401724716624ps\n",
      "h =  0.9  coupling strength =  20\n"
     ]
    },
    {
     "name": "stderr",
     "output_type": "stream",
     "text": [
      " 60%|████████████████████████████████████████████████████████████████████████████████████████████████████▉                                                                  | 29/48 [01:51<01:12,  3.84s/it]\n"
     ]
    },
    {
     "name": "stdout",
     "output_type": "stream",
     "text": [
      "break @ 46 K, with collide time 98.15357401000874ps\n",
      "h =  1.2  coupling strength =  20\n"
     ]
    },
    {
     "name": "stderr",
     "output_type": "stream",
     "text": [
      " 77%|████████████████████████████████████████████████████████████████████████████████████████████████████████████████████████████████▋                                      | 37/48 [02:05<00:37,  3.40s/it]"
     ]
    },
    {
     "name": "stdout",
     "output_type": "stream",
     "text": [
      "break @ 30 K, with collide time 95.51886861304038ps\n"
     ]
    },
    {
     "name": "stderr",
     "output_type": "stream",
     "text": [
      "\n"
     ]
    },
    {
     "name": "stdout",
     "output_type": "stream",
     "text": [
      "h =  0.0  coupling strength =  15\n"
     ]
    },
    {
     "name": "stderr",
     "output_type": "stream",
     "text": [
      " 56%|█████████████████████████████████████████████████████████████████████████████████████████████▉                                                                         | 27/48 [01:54<01:29,  4.25s/it]\n"
     ]
    },
    {
     "name": "stdout",
     "output_type": "stream",
     "text": [
      "break @ 50 K, with collide time 99.01741184508033ps\n",
      "h =  0.3  coupling strength =  15\n"
     ]
    },
    {
     "name": "stderr",
     "output_type": "stream",
     "text": [
      " 60%|████████████████████████████████████████████████████████████████████████████████████████████████████▉                                                                  | 29/48 [02:01<01:19,  4.20s/it]\n"
     ]
    },
    {
     "name": "stdout",
     "output_type": "stream",
     "text": [
      "break @ 46 K, with collide time 98.58549292754454ps\n",
      "h =  0.6  coupling strength =  15\n"
     ]
    },
    {
     "name": "stderr",
     "output_type": "stream",
     "text": [
      " 69%|██████████████████████████████████████████████████████████████████████████████████████████████████████████████████▊                                                    | 33/48 [02:02<00:55,  3.70s/it]\n"
     ]
    },
    {
     "name": "stdout",
     "output_type": "stream",
     "text": [
      "break @ 38 K, with collide time 97.54888752545862ps\n",
      "h =  0.9  coupling strength =  15\n"
     ]
    },
    {
     "name": "stderr",
     "output_type": "stream",
     "text": [
      " 79%|████████████████████████████████████████████████████████████████████████████████████████████████████████████████████████████████████▏                                  | 38/48 [02:12<00:34,  3.49s/it]\n"
     ]
    },
    {
     "name": "stdout",
     "output_type": "stream",
     "text": [
      "break @ 28 K, with collide time 95.62684834242434ps\n",
      "h =  1.2  coupling strength =  15\n"
     ]
    },
    {
     "name": "stderr",
     "output_type": "stream",
     "text": [
      " 90%|█████████████████████████████████████████████████████████████████████████████████████████████████████████████████████████████████████████████████████▌                 | 43/48 [02:36<00:18,  3.64s/it]"
     ]
    },
    {
     "name": "stdout",
     "output_type": "stream",
     "text": [
      "break @ 18 K, with collide time 92.30107267739871ps\n"
     ]
    },
    {
     "name": "stderr",
     "output_type": "stream",
     "text": [
      "\n"
     ]
    },
    {
     "name": "stdout",
     "output_type": "stream",
     "text": [
      "h =  0.0  coupling strength =  10.0\n"
     ]
    },
    {
     "name": "stderr",
     "output_type": "stream",
     "text": [
      " 88%|██████████████████████████████████████████████████████████████████████████████████████████████████████████████████████████████████████████████████▏                    | 42/48 [02:30<00:21,  3.59s/it]\n"
     ]
    },
    {
     "name": "stdout",
     "output_type": "stream",
     "text": [
      "break @ 20 K, with collide time 94.22311186043301ps\n",
      "h =  0.3  coupling strength =  10.0\n"
     ]
    },
    {
     "name": "stderr",
     "output_type": "stream",
     "text": [
      " 90%|█████████████████████████████████████████████████████████████████████████████████████████████████████████████████████████████████████████████████████▌                 | 43/48 [02:39<00:18,  3.72s/it]\n"
     ]
    },
    {
     "name": "stdout",
     "output_type": "stream",
     "text": [
      "break @ 18 K, with collide time 93.46725375474536ps\n",
      "h =  0.6  coupling strength =  10.0\n"
     ]
    },
    {
     "name": "stderr",
     "output_type": "stream",
     "text": [
      " 92%|█████████████████████████████████████████████████████████████████████████████████████████████████████████████████████████████████████████████████████████              | 44/48 [02:38<00:14,  3.60s/it]\n"
     ]
    },
    {
     "name": "stdout",
     "output_type": "stream",
     "text": [
      "break @ 16 K, with collide time 92.45224429853624ps\n",
      "h =  0.9  coupling strength =  10.0\n"
     ]
    },
    {
     "name": "stderr",
     "output_type": "stream",
     "text": [
      " 96%|████████████████████████████████████████████████████████████████████████████████████████████████████████████████████████████████████████████████████████████████       | 46/48 [02:47<00:07,  3.65s/it]\n"
     ]
    },
    {
     "name": "stdout",
     "output_type": "stream",
     "text": [
      "break @ 12 K, with collide time 89.86073079332147ps\n",
      "h =  1.2  coupling strength =  10.0\n"
     ]
    },
    {
     "name": "stderr",
     "output_type": "stream",
     "text": [
      " 98%|███████████████████████████████████████████████████████████████████████████████████████████████████████████████████████████████████████████████████████████████████▌   | 47/48 [02:43<00:03,  3.48s/it]"
     ]
    },
    {
     "name": "stdout",
     "output_type": "stream",
     "text": [
      "break @ 10 K, with collide time 87.6795402597657ps\n"
     ]
    },
    {
     "name": "stderr",
     "output_type": "stream",
     "text": [
      "\n"
     ]
    }
   ],
   "source": [
    "#\n",
    "# Record (trajectory @ 40K, highest temperature that Ar-Xe complex form, previous temperature)\n",
    "#\n",
    "\n",
    "single_collision_multimode_data = {}\n",
    "\n",
    "prompt = input('Load file?(Y)/N')\n",
    "if prompt != 'N':\n",
    "    raise Exception\n",
    "    \n",
    "iplist = [0.0, 0.3, 0.6, 0.9, 1.2]\n",
    "Tlist = list(np.arange(10, 106, 2))\n",
    "\n",
    "cavity_init = 'zero'\n",
    "save_path = 'pickle_jar/single_collision_{}_cavity'.format(cavity_init)\n",
    "print(save_path)\n",
    "assert os.path.isdir(save_path)\n",
    "\n",
    "for ct in [20, 15, 1e1]:\n",
    "    foo = {}\n",
    "\n",
    "    result_dict = {}\n",
    "    \n",
    "    for h in iplist:\n",
    "        print('h = ', h, ' coupling strength = ', ct)\n",
    "        T_break = None\n",
    "\n",
    "        for T in tqdm.tqdm(Tlist[::-1]):\n",
    "\n",
    "            vt = np.sqrt((T * red.boltzmann / red.epsilon) )\n",
    "            atoms = get_ArXePair(d_arxe = 6, h = h , v_ar = vt, n_pairs = 1)\n",
    "            \n",
    "            field = get_field(\n",
    "                amplitude = cavity_init, T = T,\n",
    "                mode = list(range(1,100)), coup_str = ct * Lxy, Lz = Lz, field = 'cavity'\n",
    "            )\n",
    "                \n",
    "            t, rd = single_collision_simulation(\n",
    "                0, h = 1e-2, atoms = atoms, field = field, potential_threshold = 1e-4,\n",
    "                max_steps = 5000, verbose = False, record_every = 1) # 10000 it ~ 200 ps\n",
    "\n",
    "            collide_time = get_colliding_time(rd['atoms'], dipole_threshold = 0)[0]\n",
    "\n",
    "            if collide_time > 10: \n",
    "                print('break @ {} K, with collide time {}ps'.format(T, collide_time))\n",
    "                result_dict.update({h : {'break T':T, 'result_dict':rd}})\n",
    "                break\n",
    "\n",
    "    with open(save_path + '/coup_str_{}.pkl'.format(ct),'wb') as handle:\n",
    "        pickle.dump(result_dict, handle)"
   ]
  },
  {
   "cell_type": "code",
   "execution_count": null,
   "id": "2e2b7c2c-6713-4d15-909c-0e2116b262ba",
   "metadata": {},
   "outputs": [],
   "source": [
    "prompt = input('Are you sure you want to overwrite existing data? Y/(N)')\n",
    "if prompt != 'Y': raise Exception\n",
    "    \n",
    "prompt = input('Do you have any doubt that you want to overwrite existing data? (Y)/N')\n",
    "if prompt != 'N': raise Exception\n",
    "\n",
    "with open('pickle_jar/single_collision/multimode_time_vs_energy_zero.pkl','wb') as handle:\n",
    "    pickle.dump(single_collision_multimode_data, handle)"
   ]
  },
  {
   "cell_type": "code",
   "execution_count": 10,
   "id": "10578b46-1282-4ecb-943f-02ebf51c972e",
   "metadata": {},
   "outputs": [
    {
     "data": {
      "text/plain": [
       "{'h': 1.2,\n",
       " 'break T': 10,\n",
       " 'result_dict': {'atoms': <matter.atoms.AtomsInBox at 0x7b45cf00c740>,\n",
       "  'field': <field.electromagnetic.CavityVectorPotential at 0x7b45d05a19d0>}}"
      ]
     },
     "execution_count": 10,
     "metadata": {},
     "output_type": "execute_result"
    }
   ],
   "source": [
    "result_dict"
   ]
  },
  {
   "cell_type": "code",
   "execution_count": 19,
   "id": "55d2ef99-e605-481c-8a06-31d1e0617228",
   "metadata": {},
   "outputs": [
    {
     "name": "stdout",
     "output_type": "stream",
     "text": [
      "pickle_jar/single_collision_boltzmann_cavity/coup_str_10.0.pkl\n",
      "{10.0: {104: {'atoms': <matter.atoms.AtomsInBox object at 0x7b45d2626ba0>, 'field': <field.electromagnetic.CavityVectorPotential object at 0x7b45d8b72390>}, 102: {'atoms': <matter.atoms.AtomsInBox object at 0x7b45ce1f7c20>, 'field': <field.electromagnetic.CavityVectorPotential object at 0x7b45cf2388c0>}, 100: {'atoms': <matter.atoms.AtomsInBox object at 0x7b45ccdd0050>, 'field': <field.electromagnetic.CavityVectorPotential object at 0x7b45ced3e720>}, 98: {'atoms': <matter.atoms.AtomsInBox object at 0x7b45cd1532f0>, 'field': <field.electromagnetic.CavityVectorPotential object at 0x7b45cd79c290>}, 96: {'atoms': <matter.atoms.AtomsInBox object at 0x7b45d0ed5a90>, 'field': <field.electromagnetic.CavityVectorPotential object at 0x7b45d1aa8d70>}, 94: {'atoms': <matter.atoms.AtomsInBox object at 0x7b45cb97f560>, 'field': <field.electromagnetic.CavityVectorPotential object at 0x7b45d2c5fda0>}, 92: {'atoms': <matter.atoms.AtomsInBox object at 0x7b45cbe70aa0>, 'field': <field.electromagnetic.CavityVectorPotential object at 0x7b45ccf7ecf0>}, 90: {'atoms': <matter.atoms.AtomsInBox object at 0x7b45d00b42c0>, 'field': <field.electromagnetic.CavityVectorPotential object at 0x7b45d00effb0>}, 88: {'atoms': <matter.atoms.AtomsInBox object at 0x7b45ccc93110>, 'field': <field.electromagnetic.CavityVectorPotential object at 0x7b45ce300ad0>}, 86: {'atoms': <matter.atoms.AtomsInBox object at 0x7b45cedab9e0>, 'field': <field.electromagnetic.CavityVectorPotential object at 0x7b45d3ee75f0>}, 84: {'atoms': <matter.atoms.AtomsInBox object at 0x7b45d3603590>, 'field': <field.electromagnetic.CavityVectorPotential object at 0x7b45d30a2a20>}, 82: {'atoms': <matter.atoms.AtomsInBox object at 0x7b45cefaaba0>, 'field': <field.electromagnetic.CavityVectorPotential object at 0x7b45cbfcf800>}, 80: {'atoms': <matter.atoms.AtomsInBox object at 0x7b45cb71bb60>, 'field': <field.electromagnetic.CavityVectorPotential object at 0x7b45ca9cdee0>}, 78: {'atoms': <matter.atoms.AtomsInBox object at 0x7b45ca9cb1d0>, 'field': <field.electromagnetic.CavityVectorPotential object at 0x7b45d12e2f90>}, 76: {'atoms': <matter.atoms.AtomsInBox object at 0x7b45cb91cfe0>, 'field': <field.electromagnetic.CavityVectorPotential object at 0x7b45ccdafb60>}, 74: {'atoms': <matter.atoms.AtomsInBox object at 0x7b45ccd1b290>, 'field': <field.electromagnetic.CavityVectorPotential object at 0x7b45d305ef00>}, 72: {'atoms': <matter.atoms.AtomsInBox object at 0x7b45d3087b30>, 'field': <field.electromagnetic.CavityVectorPotential object at 0x7b45ccf442f0>}, 70: {'atoms': <matter.atoms.AtomsInBox object at 0x7b45ccf2c260>, 'field': <field.electromagnetic.CavityVectorPotential object at 0x7b45d25015e0>}, 68: {'atoms': <matter.atoms.AtomsInBox object at 0x7b45d25ca0f0>, 'field': <field.electromagnetic.CavityVectorPotential object at 0x7b45cc1aa330>}, 66: {'atoms': <matter.atoms.AtomsInBox object at 0x7b45d0d645c0>, 'field': <field.electromagnetic.CavityVectorPotential object at 0x7b45d37f94c0>}, 64: {'atoms': <matter.atoms.AtomsInBox object at 0x7b45d282d730>, 'field': <field.electromagnetic.CavityVectorPotential object at 0x7b45d2d13d70>}, 62: {'atoms': <matter.atoms.AtomsInBox object at 0x7b45ce15fec0>, 'field': <field.electromagnetic.CavityVectorPotential object at 0x7b45d3d7fb60>}, 60: {'atoms': <matter.atoms.AtomsInBox object at 0x7b45d9572570>, 'field': <field.electromagnetic.CavityVectorPotential object at 0x7b45d88cf1d0>}, 58: {'atoms': <matter.atoms.AtomsInBox object at 0x7b45ce6ff950>, 'field': <field.electromagnetic.CavityVectorPotential object at 0x7b45d32dcd70>}, 56: {'atoms': <matter.atoms.AtomsInBox object at 0x7b45d3297890>, 'field': <field.electromagnetic.CavityVectorPotential object at 0x7b45cb5571a0>}, 54: {'atoms': <matter.atoms.AtomsInBox object at 0x7b45cb5bd4c0>, 'field': <field.electromagnetic.CavityVectorPotential object at 0x7b45cbbd7a40>}, 52: {'atoms': <matter.atoms.AtomsInBox object at 0x7b45ce45ee70>, 'field': <field.electromagnetic.CavityVectorPotential object at 0x7b45d0152930>}, 50: {'atoms': <matter.atoms.AtomsInBox object at 0x7b45cfcf4800>, 'field': <field.electromagnetic.CavityVectorPotential object at 0x7b45d13c3aa0>}, 48: {'atoms': <matter.atoms.AtomsInBox object at 0x7b45cf3e3890>, 'field': <field.electromagnetic.CavityVectorPotential object at 0x7b45cbce9160>}, 46: {'atoms': <matter.atoms.AtomsInBox object at 0x7b45cdd23080>, 'field': <field.electromagnetic.CavityVectorPotential object at 0x7b45d1cdbce0>}, 44: {'atoms': <matter.atoms.AtomsInBox object at 0x7b45cb0284a0>, 'field': <field.electromagnetic.CavityVectorPotential object at 0x7b45d07eb800>}, 42: {'atoms': <matter.atoms.AtomsInBox object at 0x7b45d3b35340>, 'field': <field.electromagnetic.CavityVectorPotential object at 0x7b45ce806360>}, 40: {'atoms': <matter.atoms.AtomsInBox object at 0x7b45cd04acc0>, 'field': <field.electromagnetic.CavityVectorPotential object at 0x7b45d84df500>}, 38: {'atoms': <matter.atoms.AtomsInBox object at 0x7b45cc291a90>, 'field': <field.electromagnetic.CavityVectorPotential object at 0x7b45d87a95b0>}, 36: {'atoms': <matter.atoms.AtomsInBox object at 0x7b45d0229490>, 'field': <field.electromagnetic.CavityVectorPotential object at 0x7b45cf200e30>}, 34: {'atoms': <matter.atoms.AtomsInBox object at 0x7b45d16241d0>, 'field': <field.electromagnetic.CavityVectorPotential object at 0x7b45cd116810>}, 32: {'atoms': <matter.atoms.AtomsInBox object at 0x7b45cc4cfc80>, 'field': <field.electromagnetic.CavityVectorPotential object at 0x7b45d2104440>}, 30: {'atoms': <matter.atoms.AtomsInBox object at 0x7b45d2b22bd0>, 'field': <field.electromagnetic.CavityVectorPotential object at 0x7b45d0337350>}, 28: {'atoms': <matter.atoms.AtomsInBox object at 0x7b45d261d7f0>, 'field': <field.electromagnetic.CavityVectorPotential object at 0x7b45cc0ccb90>}, 26: {'atoms': <matter.atoms.AtomsInBox object at 0x7b45cc666690>, 'field': <field.electromagnetic.CavityVectorPotential object at 0x7b45cb8df950>}, 24: {'atoms': <matter.atoms.AtomsInBox object at 0x7b45d239a420>, 'field': <field.electromagnetic.CavityVectorPotential object at 0x7b45cae5fc20>}, 22: {'atoms': <matter.atoms.AtomsInBox object at 0x7b45cad249b0>, 'field': <field.electromagnetic.CavityVectorPotential object at 0x7b45caa8fb30>}, 20: {'atoms': <matter.atoms.AtomsInBox object at 0x7b45ca87f560>, 'field': <field.electromagnetic.CavityVectorPotential object at 0x7b45ca669460>}, 18: {'atoms': <matter.atoms.AtomsInBox object at 0x7b45ca516510>, 'field': <field.electromagnetic.CavityVectorPotential object at 0x7b45ca1ca4b0>}, 16: {'atoms': <matter.atoms.AtomsInBox object at 0x7b45c9f7c5f0>, 'field': <field.electromagnetic.CavityVectorPotential object at 0x7b45c9dcc7d0>}, 14: {'atoms': <matter.atoms.AtomsInBox object at 0x7b45c9c94a10>, 'field': <field.electromagnetic.CavityVectorPotential object at 0x7b45c99afa70>}, 12: {'atoms': <matter.atoms.AtomsInBox object at 0x7b45c98e3410>, 'field': <field.electromagnetic.CavityVectorPotential object at 0x7b45c94df710>}, 10: {'atoms': <matter.atoms.AtomsInBox object at 0x7b45c9255a00>, 'field': <field.electromagnetic.CavityVectorPotential object at 0x7b45c90c0920>}}}\n",
      "pickle_jar/single_collision_boltzmann_cavity/coup_str_20.pkl\n",
      "{20: {104: {'atoms': <matter.atoms.AtomsInBox object at 0x7b45d2625eb0>, 'field': <field.electromagnetic.CavityVectorPotential object at 0x7b45cc0ec470>}, 102: {'atoms': <matter.atoms.AtomsInBox object at 0x7b45cb27c6e0>, 'field': <field.electromagnetic.CavityVectorPotential object at 0x7b45d94eecc0>}, 100: {'atoms': <matter.atoms.AtomsInBox object at 0x7b45cd153200>, 'field': <field.electromagnetic.CavityVectorPotential object at 0x7b45d1792ba0>}, 98: {'atoms': <matter.atoms.AtomsInBox object at 0x7b45d2a427e0>, 'field': <field.electromagnetic.CavityVectorPotential object at 0x7b45cb6dcc80>}, 96: {'atoms': <matter.atoms.AtomsInBox object at 0x7b45ce4aa990>, 'field': <field.electromagnetic.CavityVectorPotential object at 0x7b45cef641a0>}, 94: {'atoms': <matter.atoms.AtomsInBox object at 0x7b45cdfd8620>, 'field': <field.electromagnetic.CavityVectorPotential object at 0x7b45cdd31b20>}, 92: {'atoms': <matter.atoms.AtomsInBox object at 0x7b45cdeec140>, 'field': <field.electromagnetic.CavityVectorPotential object at 0x7b45cbec90d0>}, 90: {'atoms': <matter.atoms.AtomsInBox object at 0x7b45d3602360>, 'field': <field.electromagnetic.CavityVectorPotential object at 0x7b45cff63560>}, 88: {'atoms': <matter.atoms.AtomsInBox object at 0x7b45cbee4f80>, 'field': <field.electromagnetic.CavityVectorPotential object at 0x7b45ca9cde50>}, 86: {'atoms': <matter.atoms.AtomsInBox object at 0x7b45ccdafe90>, 'field': <field.electromagnetic.CavityVectorPotential object at 0x7b45d282ddc0>}, 84: {'atoms': <matter.atoms.AtomsInBox object at 0x7b45d88ce510>, 'field': <field.electromagnetic.CavityVectorPotential object at 0x7b45cfcf5940>}, 82: {'atoms': <matter.atoms.AtomsInBox object at 0x7b45cdd23440>, 'field': <field.electromagnetic.CavityVectorPotential object at 0x7b45d02296d0>}, 80: {'atoms': <matter.atoms.AtomsInBox object at 0x7b45d2106870>, 'field': <field.electromagnetic.CavityVectorPotential object at 0x7b45cae5dc10>}, 78: {'atoms': <matter.atoms.AtomsInBox object at 0x7b45ca515d30>, 'field': <field.electromagnetic.CavityVectorPotential object at 0x7b45d84fb920>}, 76: {'atoms': <matter.atoms.AtomsInBox object at 0x7b45d8444b00>, 'field': <field.electromagnetic.CavityVectorPotential object at 0x7b45ccf83f20>}, 74: {'atoms': <matter.atoms.AtomsInBox object at 0x7b45cb047aa0>, 'field': <field.electromagnetic.CavityVectorPotential object at 0x7b45c8fd9b80>}, 72: {'atoms': <matter.atoms.AtomsInBox object at 0x7b45d25fc7d0>, 'field': <field.electromagnetic.CavityVectorPotential object at 0x7b45ce38f920>}, 70: {'atoms': <matter.atoms.AtomsInBox object at 0x7b45d2d2a090>, 'field': <field.electromagnetic.CavityVectorPotential object at 0x7b45cc55b830>}, 68: {'atoms': <matter.atoms.AtomsInBox object at 0x7b45cc5da570>, 'field': <field.electromagnetic.CavityVectorPotential object at 0x7b45d81e3290>}, 66: {'atoms': <matter.atoms.AtomsInBox object at 0x7b45d0fe3a70>, 'field': <field.electromagnetic.CavityVectorPotential object at 0x7b45d36889e0>}, 64: {'atoms': <matter.atoms.AtomsInBox object at 0x7b45d8857260>, 'field': <field.electromagnetic.CavityVectorPotential object at 0x7b45d29aeae0>}, 62: {'atoms': <matter.atoms.AtomsInBox object at 0x7b45d29db6e0>, 'field': <field.electromagnetic.CavityVectorPotential object at 0x7b45d011c4d0>}, 60: {'atoms': <matter.atoms.AtomsInBox object at 0x7b45d01af410>, 'field': <field.electromagnetic.CavityVectorPotential object at 0x7b45cd4c45f0>}, 58: {'atoms': <matter.atoms.AtomsInBox object at 0x7b45cd43d010>, 'field': <field.electromagnetic.CavityVectorPotential object at 0x7b45d8245670>}, 56: {'atoms': <matter.atoms.AtomsInBox object at 0x7b45d87b9af0>, 'field': <field.electromagnetic.CavityVectorPotential object at 0x7b45cf225d90>}, 54: {'atoms': <matter.atoms.AtomsInBox object at 0x7b45ccc50050>, 'field': <field.electromagnetic.CavityVectorPotential object at 0x7b45ce6859d0>}, 52: {'atoms': <matter.atoms.AtomsInBox object at 0x7b45c9dec800>, 'field': <field.electromagnetic.CavityVectorPotential object at 0x7b45cb87ec30>}, 50: {'atoms': <matter.atoms.AtomsInBox object at 0x7b45d1c1b9e0>, 'field': <field.electromagnetic.CavityVectorPotential object at 0x7b45cd1f71a0>}, 48: {'atoms': <matter.atoms.AtomsInBox object at 0x7b45d07eeed0>, 'field': <field.electromagnetic.CavityVectorPotential object at 0x7b45cd09e030>}, 46: {'atoms': <matter.atoms.AtomsInBox object at 0x7b45d2691a30>, 'field': <field.electromagnetic.CavityVectorPotential object at 0x7b45cac3a870>}, 44: {'atoms': <matter.atoms.AtomsInBox object at 0x7b45caa29100>, 'field': <field.electromagnetic.CavityVectorPotential object at 0x7b45cf3a7140>}, 42: {'atoms': <matter.atoms.AtomsInBox object at 0x7b45ccdce2d0>, 'field': <field.electromagnetic.CavityVectorPotential object at 0x7b45caf5a990>}, 40: {'atoms': <matter.atoms.AtomsInBox object at 0x7b45ca456e40>, 'field': <field.electromagnetic.CavityVectorPotential object at 0x7b45c9227380>}, 38: {'atoms': <matter.atoms.AtomsInBox object at 0x7b45c9147770>, 'field': <field.electromagnetic.CavityVectorPotential object at 0x7b45d0d84a70>}, 36: {'atoms': <matter.atoms.AtomsInBox object at 0x7b45cb687500>, 'field': <field.electromagnetic.CavityVectorPotential object at 0x7b45cb5e0e00>}, 34: {'atoms': <matter.atoms.AtomsInBox object at 0x7b45cb5adbb0>, 'field': <field.electromagnetic.CavityVectorPotential object at 0x7b45ca757aa0>}, 32: {'atoms': <matter.atoms.AtomsInBox object at 0x7b45ca688bf0>, 'field': <field.electromagnetic.CavityVectorPotential object at 0x7b45c9ae5d90>}, 30: {'atoms': <matter.atoms.AtomsInBox object at 0x7b45ccb847d0>, 'field': <field.electromagnetic.CavityVectorPotential object at 0x7b45d03923f0>}, 28: {'atoms': <matter.atoms.AtomsInBox object at 0x7b45d004b350>, 'field': <field.electromagnetic.CavityVectorPotential object at 0x7b45cb9e00b0>}, 26: {'atoms': <matter.atoms.AtomsInBox object at 0x7b45cc45c890>, 'field': <field.electromagnetic.CavityVectorPotential object at 0x7b45cfc645f0>}, 24: {'atoms': <matter.atoms.AtomsInBox object at 0x7b45cc60c5f0>, 'field': <field.electromagnetic.CavityVectorPotential object at 0x7b45c9321430>}, 22: {'atoms': <matter.atoms.AtomsInBox object at 0x7b45c93f1ca0>, 'field': <field.electromagnetic.CavityVectorPotential object at 0x7b45c8d50740>}, 20: {'atoms': <matter.atoms.AtomsInBox object at 0x7b45c8df7da0>, 'field': <field.electromagnetic.CavityVectorPotential object at 0x7b45c8bc0c80>}, 18: {'atoms': <matter.atoms.AtomsInBox object at 0x7b45c8a5b500>, 'field': <field.electromagnetic.CavityVectorPotential object at 0x7b45c88a1640>}, 16: {'atoms': <matter.atoms.AtomsInBox object at 0x7b45c876c830>, 'field': <field.electromagnetic.CavityVectorPotential object at 0x7b45c859b8f0>}, 14: {'atoms': <matter.atoms.AtomsInBox object at 0x7b45c84732c0>, 'field': <field.electromagnetic.CavityVectorPotential object at 0x7b45c81a4980>}, 12: {'atoms': <matter.atoms.AtomsInBox object at 0x7b45c80b35f0>, 'field': <field.electromagnetic.CavityVectorPotential object at 0x7b45c7c22cf0>}, 10: {'atoms': <matter.atoms.AtomsInBox object at 0x7b45c7b5e9c0>, 'field': <field.electromagnetic.CavityVectorPotential object at 0x7b45c788ec60>}}}\n",
      "pickle_jar/single_collision_boltzmann_cavity/coup_str_15.pkl\n",
      "{15: {104: {'atoms': <matter.atoms.AtomsInBox object at 0x7b45d867cfb0>, 'field': <field.electromagnetic.CavityVectorPotential object at 0x7b45cc5943b0>}, 102: {'atoms': <matter.atoms.AtomsInBox object at 0x7b45cf23a720>, 'field': <field.electromagnetic.CavityVectorPotential object at 0x7b45cf084410>}, 100: {'atoms': <matter.atoms.AtomsInBox object at 0x7b45d94ee690>, 'field': <field.electromagnetic.CavityVectorPotential object at 0x7b45ccebaf90>}, 98: {'atoms': <matter.atoms.AtomsInBox object at 0x7b45d043fe60>, 'field': <field.electromagnetic.CavityVectorPotential object at 0x7b45cf9a5700>}, 96: {'atoms': <matter.atoms.AtomsInBox object at 0x7b45cb97f800>, 'field': <field.electromagnetic.CavityVectorPotential object at 0x7b45cba88f50>}, 94: {'atoms': <matter.atoms.AtomsInBox object at 0x7b45cdfdaf90>, 'field': <field.electromagnetic.CavityVectorPotential object at 0x7b45d00ef350>}, 92: {'atoms': <matter.atoms.AtomsInBox object at 0x7b45d3eff440>, 'field': <field.electromagnetic.CavityVectorPotential object at 0x7b45cb378980>}, 90: {'atoms': <matter.atoms.AtomsInBox object at 0x7b45cddfa1e0>, 'field': <field.electromagnetic.CavityVectorPotential object at 0x7b45ccfea900>}, 88: {'atoms': <matter.atoms.AtomsInBox object at 0x7b45d282fa40>, 'field': <field.electromagnetic.CavityVectorPotential object at 0x7b45d8444350>}, 86: {'atoms': <matter.atoms.AtomsInBox object at 0x7b45ce38e300>, 'field': <field.electromagnetic.CavityVectorPotential object at 0x7b45d01afda0>}, 84: {'atoms': <matter.atoms.AtomsInBox object at 0x7b45ccc52c60>, 'field': <field.electromagnetic.CavityVectorPotential object at 0x7b45ca455370>}, 82: {'atoms': <matter.atoms.AtomsInBox object at 0x7b45d26263f0>, 'field': <field.electromagnetic.CavityVectorPotential object at 0x7b45c8df4ce0>}, 80: {'atoms': <matter.atoms.AtomsInBox object at 0x7b45c80b1880>, 'field': <field.electromagnetic.CavityVectorPotential object at 0x7b45c9bd60c0>}, 78: {'atoms': <matter.atoms.AtomsInBox object at 0x7b45c77cc980>, 'field': <field.electromagnetic.CavityVectorPotential object at 0x7b45ce9db8c0>}, 76: {'atoms': <matter.atoms.AtomsInBox object at 0x7b45ccb3b1d0>, 'field': <field.electromagnetic.CavityVectorPotential object at 0x7b45cad2cad0>}, 74: {'atoms': <matter.atoms.AtomsInBox object at 0x7b45cad63860>, 'field': <field.electromagnetic.CavityVectorPotential object at 0x7b45cc1ebaa0>}, 72: {'atoms': <matter.atoms.AtomsInBox object at 0x7b45d896dd30>, 'field': <field.electromagnetic.CavityVectorPotential object at 0x7b45c94fa690>}, 70: {'atoms': <matter.atoms.AtomsInBox object at 0x7b45c947ac90>, 'field': <field.electromagnetic.CavityVectorPotential object at 0x7b45d0712a50>}, 68: {'atoms': <matter.atoms.AtomsInBox object at 0x7b45cbffea80>, 'field': <field.electromagnetic.CavityVectorPotential object at 0x7b45c99ea240>}, 66: {'atoms': <matter.atoms.AtomsInBox object at 0x7b45ca7b3f50>, 'field': <field.electromagnetic.CavityVectorPotential object at 0x7b45d1b09610>}, 64: {'atoms': <matter.atoms.AtomsInBox object at 0x7b45d11782c0>, 'field': <field.electromagnetic.CavityVectorPotential object at 0x7b45d2c93b00>}, 62: {'atoms': <matter.atoms.AtomsInBox object at 0x7b45cbd33890>, 'field': <field.electromagnetic.CavityVectorPotential object at 0x7b45cb175670>}, 60: {'atoms': <matter.atoms.AtomsInBox object at 0x7b45c9132690>, 'field': <field.electromagnetic.CavityVectorPotential object at 0x7b45caf45e50>}, 58: {'atoms': <matter.atoms.AtomsInBox object at 0x7b45d8427b60>, 'field': <field.electromagnetic.CavityVectorPotential object at 0x7b45ce496240>}, 56: {'atoms': <matter.atoms.AtomsInBox object at 0x7b45cbbb76e0>, 'field': <field.electromagnetic.CavityVectorPotential object at 0x7b45d1ae9040>}, 54: {'atoms': <matter.atoms.AtomsInBox object at 0x7b45d1a7de20>, 'field': <field.electromagnetic.CavityVectorPotential object at 0x7b45cf250da0>}, 52: {'atoms': <matter.atoms.AtomsInBox object at 0x7b45d02ca690>, 'field': <field.electromagnetic.CavityVectorPotential object at 0x7b45cf3f7c50>}, 50: {'atoms': <matter.atoms.AtomsInBox object at 0x7b45ce6de8a0>, 'field': <field.electromagnetic.CavityVectorPotential object at 0x7b45caef8620>}, 48: {'atoms': <matter.atoms.AtomsInBox object at 0x7b45cc0f75f0>, 'field': <field.electromagnetic.CavityVectorPotential object at 0x7b45d1609cd0>}, 46: {'atoms': <matter.atoms.AtomsInBox object at 0x7b45ce8fb170>, 'field': <field.electromagnetic.CavityVectorPotential object at 0x7b45d0173cb0>}, 44: {'atoms': <matter.atoms.AtomsInBox object at 0x7b45d95603e0>, 'field': <field.electromagnetic.CavityVectorPotential object at 0x7b45d0f12f60>}, 42: {'atoms': <matter.atoms.AtomsInBox object at 0x7b45d0f8a690>, 'field': <field.electromagnetic.CavityVectorPotential object at 0x7b45c929b830>}, 40: {'atoms': <matter.atoms.AtomsInBox object at 0x7b45c96de270>, 'field': <field.electromagnetic.CavityVectorPotential object at 0x7b45cd41c890>}, 38: {'atoms': <matter.atoms.AtomsInBox object at 0x7b45cb087cb0>, 'field': <field.electromagnetic.CavityVectorPotential object at 0x7b45d370bd10>}, 36: {'atoms': <matter.atoms.AtomsInBox object at 0x7b45d37f1eb0>, 'field': <field.electromagnetic.CavityVectorPotential object at 0x7b45ca8093d0>}, 34: {'atoms': <matter.atoms.AtomsInBox object at 0x7b45d2154fb0>, 'field': <field.electromagnetic.CavityVectorPotential object at 0x7b45d8258530>}, 32: {'atoms': <matter.atoms.AtomsInBox object at 0x7b45d8150140>, 'field': <field.electromagnetic.CavityVectorPotential object at 0x7b45d8890c20>}, 30: {'atoms': <matter.atoms.AtomsInBox object at 0x7b45d2d2d2e0>, 'field': <field.electromagnetic.CavityVectorPotential object at 0x7b45cb91f500>}, 28: {'atoms': <matter.atoms.AtomsInBox object at 0x7b45c9026780>, 'field': <field.electromagnetic.CavityVectorPotential object at 0x7b45d23389e0>}, 26: {'atoms': <matter.atoms.AtomsInBox object at 0x7b45d1971c40>, 'field': <field.electromagnetic.CavityVectorPotential object at 0x7b45ccdc0740>}, 24: {'atoms': <matter.atoms.AtomsInBox object at 0x7b45c8e45df0>, 'field': <field.electromagnetic.CavityVectorPotential object at 0x7b45c88e3ec0>}, 22: {'atoms': <matter.atoms.AtomsInBox object at 0x7b45c8402d50>, 'field': <field.electromagnetic.CavityVectorPotential object at 0x7b45c7fa36b0>}, 20: {'atoms': <matter.atoms.AtomsInBox object at 0x7b45c7db9cd0>, 'field': <field.electromagnetic.CavityVectorPotential object at 0x7b45c9c78950>}, 18: {'atoms': <matter.atoms.AtomsInBox object at 0x7b45c9cf20c0>, 'field': <field.electromagnetic.CavityVectorPotential object at 0x7b45d2b4ade0>}, 16: {'atoms': <matter.atoms.AtomsInBox object at 0x7b45cb70f5c0>, 'field': <field.electromagnetic.CavityVectorPotential object at 0x7b45c83fe2a0>}, 14: {'atoms': <matter.atoms.AtomsInBox object at 0x7b45ce1fba40>, 'field': <field.electromagnetic.CavityVectorPotential object at 0x7b45c82d2de0>}, 12: {'atoms': <matter.atoms.AtomsInBox object at 0x7b45ca522900>, 'field': <field.electromagnetic.CavityVectorPotential object at 0x7b45d0eca120>}, 10: {'atoms': <matter.atoms.AtomsInBox object at 0x7b45d25b3e60>, 'field': <field.electromagnetic.CavityVectorPotential object at 0x7b45ca963f20>}}}\n"
     ]
    }
   ],
   "source": [
    "for file in glob('pickle_jar/single_collision_boltzmann_cavity/*'):\n",
    "    print(file)\n",
    "    with open(file, 'rb') as handle:\n",
    "        result_dict = pickle.load(handle)\n",
    "        print(result_dict)\n",
    "        "
   ]
  },
  {
   "cell_type": "code",
   "execution_count": null,
   "id": "6b3a5fc5-041f-4b51-ae2b-af9f02ad0d8e",
   "metadata": {},
   "outputs": [],
   "source": [
    "print('coupling strength & h & total kinetic energy')\n",
    "for i, (ct, dict1) in enumerate(single_collision_multimode_data.items()):\n",
    "    for j, (h, data) in enumerate(dict1.items()):\n",
    "        \n",
    "        print(\"{} & {} & {} \\\\\\\\ \".format(ct, h, data[-1]))"
   ]
  },
  {
   "cell_type": "code",
   "execution_count": null,
   "id": "3ff2e5ea-8ff6-4a42-958c-6520f10daf40",
   "metadata": {},
   "outputs": [],
   "source": [
    "h = 1.0\n",
    "coup_str = 15\n",
    "\n",
    "atoms = single_collision_multimode_data[coup_str][h][0]['last']['atoms']\n",
    "\n",
    "coltime = np.array(atm.get_colliding_time(atoms, 0))\n",
    "result_idx = np.argmax(coltime)\n",
    "print(coltime[result_idx])\n",
    "\n",
    "field = single_collision_multimode_data[coup_str][h][0]['last']['field']\n",
    "\n",
    "N_pairs = int(len(atoms.r)/2)\n",
    "\n",
    "r_ar = np.array(atoms.trajectory['r'])[:,result_idx]\n",
    "r_xe = np.array(atoms.trajectory['r'])[:,result_idx + N_pairs]\n",
    "\n",
    "v_ar = np.array(atoms.trajectory['r_dot'])[:,result_idx]\n",
    "v_xe = np.array(atoms.trajectory['r_dot'])[:,result_idx + N_pairs]\n",
    "\n",
    "t = np.array(atoms.trajectory['t'])"
   ]
  },
  {
   "cell_type": "code",
   "execution_count": null,
   "id": "e130dcef-8516-4c57-a250-de847e3f804b",
   "metadata": {},
   "outputs": [],
   "source": [
    "from calculator.function import LJ_potential\n",
    "\n",
    "k = 0.5 * red.mass_dict['Ar'] * np.einsum('ni,ni->n',v_ar,v_ar)\\\n",
    "    + 0.5 * red.mass_dict['Xe'] * np.einsum('ni,ni->n',v_xe,v_xe)\n",
    "k = red.convert_energy(k,'ev') * 1e3\n",
    "\n",
    "d_arxe = r_ar - r_xe\n",
    "d_arxe = np.sqrt(np.einsum('ni,ni->n',d_arxe,d_arxe))\n",
    "v = LJ_potential(red.sigma_Ar_Xe, red.epsilon_Ar_Xe, d_arxe)\n",
    "v = red.convert_energy(v,'ev') * 1e3\n",
    "\n",
    "hem = red.convert_energy(\n",
    "    np.sum(field.history['energy'],axis = 1), 'ev') * 1e3\n",
    "tem = field.history['t']\n",
    "\n",
    "fig,ax = plt.subplots(3,figsize = (10,12))\n",
    "#ax[0].plot(t[200:], d[200:])\n",
    "ax[0].plot(t, k)\n",
    "ax[1].plot(t, v)\n",
    "ax[2].plot(tem[300:], hem[300:])\n",
    "\n",
    "#ax[0].set_xlim(t[0],t[-1])\n",
    "ax[0].set_xlim(t[300],t[-1])\n",
    "ax[1].set_xlim(t[300],t[-1])\n",
    "ax[2].set_xlim(tem[300],tem[-1])\n",
    "\n",
    "ax[0].xaxis.set_major_locator(MultipleLocator(5))\n",
    "ax[0].xaxis.set_major_formatter('{x:.0f}')\n",
    "\n",
    "ax[1].xaxis.set_major_locator(MultipleLocator(5))\n",
    "ax[1].xaxis.set_major_formatter('{x:.0f}')\n",
    "\n",
    "ax[2].xaxis.set_major_locator(MultipleLocator(5))\n",
    "ax[2].xaxis.set_major_formatter('{x:.0f}')\n",
    "\n",
    "#ax[0].set_ylabel(r'Ar-Xe distance (nm)')\n",
    "ax[0].set_ylabel(r'Kinetic energy ($10^{-3}$ eV)')\n",
    "ax[1].set_ylabel(r'Potential energy ($10^{-3}$ eV)')\n",
    "ax[2].set_ylabel(r'Total cavity modes energy ($10^{-3}$ eV)')\n",
    "\n",
    "ax[2].set_xlabel('Time (ps)')\n",
    "\n",
    "ax[0].annotate('(a)',xy = (0.9,0.9), xycoords = 'axes fraction')\n",
    "ax[1].annotate('(b)',xy = (0.9,0.9), xycoords = 'axes fraction')\n",
    "ax[2].annotate('(c)',xy = (0.9,0.9), xycoords = 'axes fraction')\n",
    "\n",
    "#fig.savefig(fig_root + 'energy_breakdown.jpeg',dpi=600, bbox_inches = 'tight')"
   ]
  },
  {
   "cell_type": "code",
   "execution_count": null,
   "id": "22f6c4f9-19e9-4bff-9a72-343f6c9f8274",
   "metadata": {},
   "outputs": [],
   "source": [
    "an = importlib.reload(an)\n",
    "\n",
    "an.single_anime(atoms, index = 0 , N_pairs = N_pairs, save_path = 'figure2/longest_single_anime')"
   ]
  },
  {
   "cell_type": "code",
   "execution_count": null,
   "id": "61858bc7-7c32-4f72-af08-1038006f9226",
   "metadata": {},
   "outputs": [],
   "source": []
  },
  {
   "cell_type": "code",
   "execution_count": null,
   "id": "97100e42-2e4d-45ef-acea-d90371f06294",
   "metadata": {},
   "outputs": [],
   "source": []
  },
  {
   "cell_type": "code",
   "execution_count": null,
   "id": "2686f420-a001-4777-8bcf-28f00bf9c882",
   "metadata": {},
   "outputs": [],
   "source": []
  },
  {
   "cell_type": "code",
   "execution_count": null,
   "id": "77e012a9-c75d-434d-9012-a3cef35523ee",
   "metadata": {},
   "outputs": [],
   "source": []
  },
  {
   "cell_type": "code",
   "execution_count": null,
   "id": "bdb82835-f259-4790-8ae5-1a0da24a9a2a",
   "metadata": {},
   "outputs": [],
   "source": []
  },
  {
   "cell_type": "code",
   "execution_count": null,
   "id": "f10155ea-abc0-4d9a-9ac6-afda553c2c80",
   "metadata": {},
   "outputs": [],
   "source": []
  },
  {
   "cell_type": "code",
   "execution_count": null,
   "id": "14930c45-f299-42ac-bb9d-4c4285c0ecef",
   "metadata": {},
   "outputs": [],
   "source": []
  },
  {
   "cell_type": "code",
   "execution_count": null,
   "id": "95d72205-9cbe-40e0-9e15-2876b024c485",
   "metadata": {},
   "outputs": [],
   "source": []
  },
  {
   "cell_type": "code",
   "execution_count": null,
   "id": "006eb184-0323-4755-a4c1-fdd5abdf277b",
   "metadata": {},
   "outputs": [],
   "source": []
  },
  {
   "cell_type": "code",
   "execution_count": null,
   "id": "9c79e866-4529-480f-8457-0b7a06c4c9f1",
   "metadata": {},
   "outputs": [],
   "source": []
  },
  {
   "cell_type": "code",
   "execution_count": null,
   "id": "163f8a84-0a5c-42df-8fbe-a4953f1915a6",
   "metadata": {},
   "outputs": [],
   "source": []
  }
 ],
 "metadata": {
  "kernelspec": {
   "display_name": "Python 3 (ipykernel)",
   "language": "python",
   "name": "python3"
  },
  "language_info": {
   "codemirror_mode": {
    "name": "ipython",
    "version": 3
   },
   "file_extension": ".py",
   "mimetype": "text/x-python",
   "name": "python",
   "nbconvert_exporter": "python",
   "pygments_lexer": "ipython3",
   "version": "3.12.0"
  }
 },
 "nbformat": 4,
 "nbformat_minor": 5
}
