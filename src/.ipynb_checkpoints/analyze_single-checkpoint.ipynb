{
 "cells": [
  {
   "cell_type": "code",
   "execution_count": 1,
   "id": "94fa355f-8790-44c2-8587-34e6daefb06d",
   "metadata": {},
   "outputs": [],
   "source": [
    "import warnings\n",
    "warnings.filterwarnings('ignore')\n",
    "\n",
    "import argparse\n",
    "import os, sys, importlib, copy\n",
    "from glob import glob\n",
    "import pickle\n",
    "import tqdm\n",
    "\n",
    "import numpy as np\n",
    "import pandas as pd\n",
    "import matplotlib.pyplot as plt\n",
    "from matplotlib.ticker import (MultipleLocator, AutoMinorLocator)\n",
    "import scipy\n",
    "\n",
    "from utilities import reduced_parameter as red\n",
    "from field.electromagnetic import FreeVectorPotential, CavityVectorPotential\n",
    "\n",
    "from matter.atoms import AtomsInBox\n",
    "from calculator.calculator import Calculator\n",
    "\n",
    "from utilities.etc import categorizing_result\n",
    "\n",
    "import animation as an\n",
    "import analyze_tools.utils as atu\n",
    "import analyze_tools.monte_carlo as atm\n",
    "\n",
    "from simulation.single import single_collision_simulation\n",
    "import utilities.reduced_parameter as red\n",
    "from utilities.etc import moving_average\n"
   ]
  },
  {
   "cell_type": "code",
   "execution_count": 3,
   "id": "9ea29fb5-df6c-460b-98a9-4a19368ecd5c",
   "metadata": {},
   "outputs": [],
   "source": [
    "#\n",
    "# DEFINING FUNCTION\n",
    "## WARNING: NEXT CELL WILL RUN SIMULATIONS\n",
    "#\n",
    "\n",
    "\n",
    "Lxy = 3e7; Lz = 3e3\n",
    "def get_ArXePair(d_arxe, v_ar = 0, h = 0, n_pairs = 1, Lxy=Lxy, Lz=Lz):\n",
    "    \"\"\"\n",
    "    \"\"\"\n",
    "    atoms = AtomsInBox(\n",
    "        Lxy = Lxy, Lz = Lz, cell_width = (1e6,1e2), \n",
    "        mass_dict = red.mass_dict)\n",
    "\n",
    "    v_xe = - v_ar / np.sqrt(red.mass_dict['Xe'])\n",
    "\n",
    "    for i in range(n_pairs):\n",
    "        if i == 0:\n",
    "            r0 = np.zeros(3)\n",
    "        else:\n",
    "            r0 = np.hstack(\n",
    "                [\n",
    "                    #np.random.uniform(-Lxy/2+10, Lxy/2-10, size = 2), \n",
    "                    np.zeros(2),\n",
    "                    np.random.uniform(-Lz/2+10, Lz/2-10)]\n",
    "            )\n",
    "        atoms.add(\n",
    "                elements = [\"Ar\"],\n",
    "                r = np.array([[0.0, h, -d_arxe/2]]) + r0,\n",
    "                r_dot = np.array([[0.0, 0.0, v_ar]])# / np.sqrt(2)\n",
    "                )\n",
    "        \n",
    "        atoms.add(\n",
    "                elements = [\"Xe\"],\n",
    "                r = np.array([[0.0,0.0,d_arxe/2]]) + r0,\n",
    "                r_dot = np.array([[0.00, 0.00, v_xe]])# / np.sqrt(2)\n",
    "                )\n",
    "    \n",
    "    idxAr = atoms.element_idx(element = \"Ar\")\n",
    "    idxXe = atoms.element_idx(element = \"Xe\")\n",
    "    epsilon_mat, sigma_mat = red.generate_LJparam_matrix(idxAr = idxAr, idxXe = idxXe)\n",
    "    \n",
    "    # calculator to the atoms object\n",
    "    atoms.add_calculator(\n",
    "        calculator_class = Calculator,\n",
    "        calculator_kwargs = {\n",
    "            \"epsilon\": epsilon_mat, \"sigma\" : sigma_mat, \n",
    "            \"positive_atom_idx\" : idxXe, \"negative_atom_idx\" : idxAr,\n",
    "            \"mu0\" : red.mu0, \"d\" : red.d0, \"a\" : red.a, 'd7':red.d7\n",
    "        })\n",
    "    \n",
    "    atoms.update_distance()\n",
    "    \n",
    "    return atoms\n",
    "\n",
    "def get_field(coup_str, amplitude, T = None, mode = False, Lxy = Lxy, Lz = Lz, field = 'cavity'):\n",
    "    if mode == 'multi':\n",
    "        k_vector_int = np.array(\n",
    "            [[i,0,0] for i in range(1,100)]\n",
    "            ,dtype=np.float64)\n",
    "    elif isinstance(mode, int):\n",
    "        k_vector_int = np.array([[mode,0,0]])\n",
    "    elif isinstance(mode, list):\n",
    "        k_vector_int = np.array(\n",
    "            [[i,0,0] for i in mode], \n",
    "            dtype = np.float64)\n",
    "    else:\n",
    "        raise Exception('Mode have to be either \"multi\" or an integer!')\n",
    "    \n",
    "    if field == 'cavity':\n",
    "        VectorPotentialClass = CavityVectorPotential\n",
    "    elif field == 'free':\n",
    "        VectorPotentialClass = FreeVectorPotential\n",
    "    \n",
    "    Afield = VectorPotentialClass(\n",
    "            k_vector_int = k_vector_int, amplitude = amplitude,\n",
    "            Lxy = Lxy, Lz = Lz, constant_c = red.c, coupling_strength = coup_str, T = T\n",
    "            )\n",
    "\n",
    "    return Afield\n",
    "\n",
    "def get_radprofile(rd, windows = 10):\n",
    "    Afield = rd['field']\n",
    "    \n",
    "    rad_energy = red.convert_energy(np.array(Afield.history[\"energy\"][-1]), \"ev\") \n",
    "    omega = red.convert_wavenumber(Afield.k_val)\n",
    "    omega_profile, final_rad_profile = at.profiling_rad(omega, rad_energy)\n",
    "    \n",
    "    sorted_idx = np.argsort(omega_profile)\n",
    "\n",
    "    if windows == 0:\n",
    "        omega_profile = np.array(omega_profile)[sorted_idx] \n",
    "        final_rad_profile = np.array(final_rad_profile)[sorted_idx]\n",
    "    else:\n",
    "        omega_profile, final_rad_profile = moving_average(\n",
    "            np.array(omega_profile)[sorted_idx], \n",
    "            np.array(final_rad_profile)[sorted_idx], windows)\n",
    "\n",
    "    return omega_profile, final_rad_profile"
   ]
  },
  {
   "cell_type": "code",
   "execution_count": null,
   "id": "6ff95080-f9ba-43a2-9d39-e7079fa35bff",
   "metadata": {
    "scrolled": true
   },
   "outputs": [],
   "source": [
    "# \n",
    "# CALCULATING SPECTRA\n",
    "# Run simulation of head on collision coupled to FREE field \n",
    "# at various total energy as temperature \n",
    "# \n",
    "\n",
    "result_dict = {}\n",
    "velocity_dict = {}\n",
    "\n",
    "for T in tqdm.tqdm(np.arange(92, 850, 10)):\n",
    "    \n",
    "    vt = np.sqrt((T * red.boltzmann / red.epsilon) )\n",
    "    atoms = get_ArXePair(d_arxe = 6, h = 0.0 , v_ar = vt, n_pairs = 1)\n",
    "    \n",
    "    field = get_field(amplitude = 'zero', mode = list(range(1,300)), coup_str = 1, Lz = Lxy, field = 'free')\n",
    "        \n",
    "    t, rd = single_collision_simulation(\n",
    "        0, h = 1e-2, atoms = atoms, field = field, \n",
    "        max_steps = 10000, verbose = False)\n",
    "\n",
    "    result_dict.update({T : rd})\n",
    "    velocity_dict.update({T : (vt, vt / np.sqrt(M_Xe))})"
   ]
  },
  {
   "cell_type": "code",
   "execution_count": null,
   "id": "f004cbb6-76ce-479d-9dfa-234d39032e9d",
   "metadata": {
    "scrolled": true
   },
   "outputs": [],
   "source": [
    "#\n",
    "# PLOTTING SPECTRA\n",
    "#\n",
    "\n",
    "fig,ax = plt.subplots(2, figsize = (6,8))\n",
    "\n",
    "total = 0\n",
    "\n",
    "prob_list = []\n",
    "\n",
    "for T in result_dict.keys():\n",
    "    prob_list.append(T * np.exp(- T / 292))\n",
    "\n",
    "prob_list = np.array(prob_list)\n",
    "prob_list = prob_list / np.sum(prob_list)\n",
    "\n",
    "for i, (T,rd) in enumerate(result_dict.items()):\n",
    "    \n",
    "    omega_profile, final_rad_profile = get_radprofile(rd,0 )\n",
    "    final_rad_profile *= 1e25\n",
    "    total += final_rad_profile * prob_list[i]\n",
    "\n",
    "    if i % 5 == 0:\n",
    "        ax[0].plot(\n",
    "            omega_profile, final_rad_profile, label = 'T = {} K'.format(T), \n",
    "            linestyle = 'dashdot' if i >= 35 else None)\n",
    "\n",
    "ax[1].plot(omega_profile, total, label = 'Scaled total spectrum')\n",
    "  \n",
    "tax = ax[1].twinx()\n",
    "exp_data = pd.read_csv('data/plot-data.csv')\n",
    "tax.scatter(\n",
    "    exp_data.loc[:,'x'],\n",
    "    exp_data.loc[:,' y'],\n",
    "    s = 5, alpha = 0.5, c = 'black'\n",
    ")\n",
    "ax[1].scatter([],[], c = 'black', label = 'Exp. @ 292K')\n",
    "\n",
    "ax[0].set_ylabel(r\"Calculated EM field energy $(10^{-25} eV)$\")\n",
    "ax[1].set_ylabel(r\"Sum of scaled EM field energy $(10^{-25} eV)$\")\n",
    "ax[1].set_xlabel(r\"Wavenumber $(cm^{-1})$\")\n",
    "\n",
    "tax.set_ylabel(r'Exp. absorption $(10^{-6} cm^{-1} amagat^{-2})$')\n",
    "\n",
    "ax[0].annotate('(a)',xy = (0.9,0.9), xycoords = 'axes fraction')\n",
    "ax[1].annotate('(b)',xy = (0.9,0.7), xycoords = 'axes fraction')\n",
    "\n",
    "ax[0].legend(loc='lower center', bbox_to_anchor=(0.5, 1.0), ncol=4)\n",
    "ax[1].legend()\n",
    "fig.savefig('figure/manuscript/free_spectrum_singleT.jpeg',dpi = 600, bbox_inches = 'tight')"
   ]
  },
  {
   "cell_type": "code",
   "execution_count": null,
   "id": "f1c60722-f0af-4ba1-9898-9b663d753f85",
   "metadata": {
    "scrolled": true
   },
   "outputs": [
    {
     "name": "stdin",
     "output_type": "stream",
     "text": [
      "Load file?(Y)/N N\n"
     ]
    },
    {
     "name": "stdout",
     "output_type": "stream",
     "text": [
      "pickle_jar/single_collision_zero_cavity\n",
      "h =  0.0  coupling strength =  20\n"
     ]
    },
    {
     "name": "stderr",
     "output_type": "stream",
     "text": [
      "100%|███████████████████████████████████████████████████████████████████████████████████████████████████████████████████████████████████████████████████████████████████████| 20/20 [04:17<00:00, 12.88s/it]\n"
     ]
    },
    {
     "name": "stdout",
     "output_type": "stream",
     "text": [
      "h =  0.3  coupling strength =  20\n"
     ]
    },
    {
     "name": "stderr",
     "output_type": "stream",
     "text": [
      "100%|███████████████████████████████████████████████████████████████████████████████████████████████████████████████████████████████████████████████████████████████████████| 20/20 [04:01<00:00, 12.07s/it]\n"
     ]
    },
    {
     "name": "stdout",
     "output_type": "stream",
     "text": [
      "h =  0.6  coupling strength =  20\n"
     ]
    },
    {
     "name": "stderr",
     "output_type": "stream",
     "text": [
      "100%|███████████████████████████████████████████████████████████████████████████████████████████████████████████████████████████████████████████████████████████████████████| 20/20 [03:03<00:00,  9.18s/it]\n"
     ]
    },
    {
     "name": "stdout",
     "output_type": "stream",
     "text": [
      "h =  0.9  coupling strength =  20\n"
     ]
    },
    {
     "name": "stderr",
     "output_type": "stream",
     "text": [
      "100%|███████████████████████████████████████████████████████████████████████████████████████████████████████████████████████████████████████████████████████████████████████| 20/20 [02:19<00:00,  6.98s/it]\n"
     ]
    },
    {
     "name": "stdout",
     "output_type": "stream",
     "text": [
      "h =  1.2  coupling strength =  20\n"
     ]
    },
    {
     "name": "stderr",
     "output_type": "stream",
     "text": [
      "100%|███████████████████████████████████████████████████████████████████████████████████████████████████████████████████████████████████████████████████████████████████████| 20/20 [01:47<00:00,  5.39s/it]\n"
     ]
    },
    {
     "name": "stdout",
     "output_type": "stream",
     "text": [
      "h =  0.0  coupling strength =  15\n"
     ]
    },
    {
     "name": "stderr",
     "output_type": "stream",
     "text": [
      "  5%|████████▍                                                                                                                                                               | 1/20 [00:02<00:46,  2.42s/it]"
     ]
    }
   ],
   "source": [
    "#\n",
    "# Record (trajectory @ 40K, highest temperature that Ar-Xe complex form, previous temperature)\n",
    "#\n",
    "\n",
    "single_collision_multimode_data = {}\n",
    "\n",
    "prompt = input('Load file?(Y)/N')\n",
    "if prompt != 'N':\n",
    "    raise Exception\n",
    "    \n",
    "iplist = [0.0, 0.3, 0.6, 0.9, 1.2]\n",
    "Tlist = list(np.arange(10, 106, 5))\n",
    "\n",
    "cavity_init = 'zero'\n",
    "save_path = 'pickle_jar/single_collision_{}_cavity'.format(cavity_init)\n",
    "print(save_path)\n",
    "assert os.path.isdir(save_path)\n",
    "\n",
    "for ct in [20, 15, 1e1]:\n",
    "    foo = {}\n",
    "    for h in iplist:\n",
    "        print('h = ', h, ' coupling strength = ', ct)\n",
    "        T_break = None\n",
    "\n",
    "        result_dict = {'h':h}\n",
    "        \n",
    "        for T in tqdm.tqdm(Tlist[::-1]):\n",
    "\n",
    "            vt = np.sqrt((T * red.boltzmann / red.epsilon) )\n",
    "            atoms = get_ArXePair(d_arxe = 6, h = h , v_ar = vt, n_pairs = 1)\n",
    "            \n",
    "            field = get_field(\n",
    "                amplitude = cavity_init, T = T,\n",
    "                mode = list(range(1,100)), coup_str = ct * Lxy, Lz = Lz, field = 'cavity'\n",
    "            )\n",
    "                \n",
    "            t, rd = single_collision_simulation(\n",
    "                0, h = 1e-2, atoms = atoms, field = field, potential_threshold = 1e-4,\n",
    "                max_steps = 5000, verbose = False, record_every = 1) # 10000 it ~ 200 ps\n",
    "\n",
    "            result_dict.update({T:rd})\n",
    "\n",
    "        with open(save_path + '/ip_{}.pkl'.format(h),'wb') as handle:\n",
    "            pickle.dump(result_dict, handle)\n",
    "            "
   ]
  },
  {
   "cell_type": "code",
   "execution_count": null,
   "id": "2e2b7c2c-6713-4d15-909c-0e2116b262ba",
   "metadata": {},
   "outputs": [],
   "source": [
    "prompt = input('Are you sure you want to overwrite existing data? Y/(N)')\n",
    "if prompt != 'Y': raise Exception\n",
    "    \n",
    "prompt = input('Do you have any doubt that you want to overwrite existing data? (Y)/N')\n",
    "if prompt != 'N': raise Exception\n",
    "\n",
    "with open('pickle_jar/single_collision/multimode_time_vs_energy_zero.pkl','wb') as handle:\n",
    "    pickle.dump(single_collision_multimode_data, handle)"
   ]
  },
  {
   "cell_type": "code",
   "execution_count": 6,
   "id": "55d2ef99-e605-481c-8a06-31d1e0617228",
   "metadata": {},
   "outputs": [],
   "source": [
    "for file in glob.glob('pickle_jar/single_collision_zero_cavity/*'):\n",
    "    with open(file, 'rb') as handle:\n",
    "        result_dict = pickle.load(handle)\n",
    "        atoms = result_dict['atoms']\n",
    "        "
   ]
  },
  {
   "cell_type": "code",
   "execution_count": null,
   "id": "6b3a5fc5-041f-4b51-ae2b-af9f02ad0d8e",
   "metadata": {},
   "outputs": [],
   "source": [
    "print('coupling strength & h & total kinetic energy')\n",
    "for i, (ct, dict1) in enumerate(single_collision_multimode_data.items()):\n",
    "    for j, (h, data) in enumerate(dict1.items()):\n",
    "        \n",
    "        print(\"{} & {} & {} \\\\\\\\ \".format(ct, h, data[-1]))"
   ]
  },
  {
   "cell_type": "code",
   "execution_count": null,
   "id": "3ff2e5ea-8ff6-4a42-958c-6520f10daf40",
   "metadata": {},
   "outputs": [],
   "source": [
    "h = 1.0\n",
    "coup_str = 15\n",
    "\n",
    "atoms = single_collision_multimode_data[coup_str][h][0]['last']['atoms']\n",
    "\n",
    "coltime = np.array(atm.get_colliding_time(atoms, 0))\n",
    "result_idx = np.argmax(coltime)\n",
    "print(coltime[result_idx])\n",
    "\n",
    "field = single_collision_multimode_data[coup_str][h][0]['last']['field']\n",
    "\n",
    "N_pairs = int(len(atoms.r)/2)\n",
    "\n",
    "r_ar = np.array(atoms.trajectory['r'])[:,result_idx]\n",
    "r_xe = np.array(atoms.trajectory['r'])[:,result_idx + N_pairs]\n",
    "\n",
    "v_ar = np.array(atoms.trajectory['r_dot'])[:,result_idx]\n",
    "v_xe = np.array(atoms.trajectory['r_dot'])[:,result_idx + N_pairs]\n",
    "\n",
    "t = np.array(atoms.trajectory['t'])"
   ]
  },
  {
   "cell_type": "code",
   "execution_count": null,
   "id": "e130dcef-8516-4c57-a250-de847e3f804b",
   "metadata": {},
   "outputs": [],
   "source": [
    "from calculator.function import LJ_potential\n",
    "\n",
    "k = 0.5 * red.mass_dict['Ar'] * np.einsum('ni,ni->n',v_ar,v_ar)\\\n",
    "    + 0.5 * red.mass_dict['Xe'] * np.einsum('ni,ni->n',v_xe,v_xe)\n",
    "k = red.convert_energy(k,'ev') * 1e3\n",
    "\n",
    "d_arxe = r_ar - r_xe\n",
    "d_arxe = np.sqrt(np.einsum('ni,ni->n',d_arxe,d_arxe))\n",
    "v = LJ_potential(red.sigma_Ar_Xe, red.epsilon_Ar_Xe, d_arxe)\n",
    "v = red.convert_energy(v,'ev') * 1e3\n",
    "\n",
    "hem = red.convert_energy(\n",
    "    np.sum(field.history['energy'],axis = 1), 'ev') * 1e3\n",
    "tem = field.history['t']\n",
    "\n",
    "fig,ax = plt.subplots(3,figsize = (10,12))\n",
    "#ax[0].plot(t[200:], d[200:])\n",
    "ax[0].plot(t, k)\n",
    "ax[1].plot(t, v)\n",
    "ax[2].plot(tem[300:], hem[300:])\n",
    "\n",
    "#ax[0].set_xlim(t[0],t[-1])\n",
    "ax[0].set_xlim(t[300],t[-1])\n",
    "ax[1].set_xlim(t[300],t[-1])\n",
    "ax[2].set_xlim(tem[300],tem[-1])\n",
    "\n",
    "ax[0].xaxis.set_major_locator(MultipleLocator(5))\n",
    "ax[0].xaxis.set_major_formatter('{x:.0f}')\n",
    "\n",
    "ax[1].xaxis.set_major_locator(MultipleLocator(5))\n",
    "ax[1].xaxis.set_major_formatter('{x:.0f}')\n",
    "\n",
    "ax[2].xaxis.set_major_locator(MultipleLocator(5))\n",
    "ax[2].xaxis.set_major_formatter('{x:.0f}')\n",
    "\n",
    "#ax[0].set_ylabel(r'Ar-Xe distance (nm)')\n",
    "ax[0].set_ylabel(r'Kinetic energy ($10^{-3}$ eV)')\n",
    "ax[1].set_ylabel(r'Potential energy ($10^{-3}$ eV)')\n",
    "ax[2].set_ylabel(r'Total cavity modes energy ($10^{-3}$ eV)')\n",
    "\n",
    "ax[2].set_xlabel('Time (ps)')\n",
    "\n",
    "ax[0].annotate('(a)',xy = (0.9,0.9), xycoords = 'axes fraction')\n",
    "ax[1].annotate('(b)',xy = (0.9,0.9), xycoords = 'axes fraction')\n",
    "ax[2].annotate('(c)',xy = (0.9,0.9), xycoords = 'axes fraction')\n",
    "\n",
    "#fig.savefig(fig_root + 'energy_breakdown.jpeg',dpi=600, bbox_inches = 'tight')"
   ]
  },
  {
   "cell_type": "code",
   "execution_count": null,
   "id": "22f6c4f9-19e9-4bff-9a72-343f6c9f8274",
   "metadata": {},
   "outputs": [],
   "source": [
    "an = importlib.reload(an)\n",
    "\n",
    "an.single_anime(atoms, index = 0 , N_pairs = N_pairs, save_path = 'figure2/longest_single_anime')"
   ]
  },
  {
   "cell_type": "code",
   "execution_count": null,
   "id": "61858bc7-7c32-4f72-af08-1038006f9226",
   "metadata": {},
   "outputs": [],
   "source": []
  },
  {
   "cell_type": "code",
   "execution_count": null,
   "id": "97100e42-2e4d-45ef-acea-d90371f06294",
   "metadata": {},
   "outputs": [],
   "source": []
  },
  {
   "cell_type": "code",
   "execution_count": null,
   "id": "2686f420-a001-4777-8bcf-28f00bf9c882",
   "metadata": {},
   "outputs": [],
   "source": []
  },
  {
   "cell_type": "code",
   "execution_count": null,
   "id": "77e012a9-c75d-434d-9012-a3cef35523ee",
   "metadata": {},
   "outputs": [],
   "source": []
  },
  {
   "cell_type": "code",
   "execution_count": null,
   "id": "bdb82835-f259-4790-8ae5-1a0da24a9a2a",
   "metadata": {},
   "outputs": [],
   "source": []
  },
  {
   "cell_type": "code",
   "execution_count": null,
   "id": "f10155ea-abc0-4d9a-9ac6-afda553c2c80",
   "metadata": {},
   "outputs": [],
   "source": []
  },
  {
   "cell_type": "code",
   "execution_count": null,
   "id": "14930c45-f299-42ac-bb9d-4c4285c0ecef",
   "metadata": {},
   "outputs": [],
   "source": []
  },
  {
   "cell_type": "code",
   "execution_count": null,
   "id": "95d72205-9cbe-40e0-9e15-2876b024c485",
   "metadata": {},
   "outputs": [],
   "source": []
  },
  {
   "cell_type": "code",
   "execution_count": null,
   "id": "006eb184-0323-4755-a4c1-fdd5abdf277b",
   "metadata": {},
   "outputs": [],
   "source": []
  },
  {
   "cell_type": "code",
   "execution_count": null,
   "id": "9c79e866-4529-480f-8457-0b7a06c4c9f1",
   "metadata": {},
   "outputs": [],
   "source": []
  },
  {
   "cell_type": "code",
   "execution_count": null,
   "id": "163f8a84-0a5c-42df-8fbe-a4953f1915a6",
   "metadata": {},
   "outputs": [],
   "source": []
  }
 ],
 "metadata": {
  "kernelspec": {
   "display_name": "Python 3 (ipykernel)",
   "language": "python",
   "name": "python3"
  },
  "language_info": {
   "codemirror_mode": {
    "name": "ipython",
    "version": 3
   },
   "file_extension": ".py",
   "mimetype": "text/x-python",
   "name": "python",
   "nbconvert_exporter": "python",
   "pygments_lexer": "ipython3",
   "version": "3.12.0"
  }
 },
 "nbformat": 4,
 "nbformat_minor": 5
}
