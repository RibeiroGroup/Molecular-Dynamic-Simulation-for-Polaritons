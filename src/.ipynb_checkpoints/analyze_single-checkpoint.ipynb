{
 "cells": [
  {
   "cell_type": "code",
   "execution_count": 5,
   "id": "94fa355f-8790-44c2-8587-34e6daefb06d",
   "metadata": {},
   "outputs": [],
   "source": [
    "import warnings\n",
    "warnings.filterwarnings('ignore')\n",
    "\n",
    "import argparse\n",
    "import os, sys, importlib, copy\n",
    "from glob import glob\n",
    "import pickle\n",
    "import tqdm\n",
    "\n",
    "import numpy as np\n",
    "import pandas as pd\n",
    "import matplotlib.pyplot as plt\n",
    "from matplotlib.ticker import (MultipleLocator, AutoMinorLocator)\n",
    "import scipy\n",
    "\n",
    "from utilities import reduced_parameter as red\n",
    "from field.electromagnetic import FreeVectorPotential, CavityVectorPotential\n",
    "\n",
    "from matter.atoms import AtomsInBox\n",
    "from calculator.calculator import Calculator\n",
    "\n",
    "from utilities.etc import categorizing_result\n",
    "\n",
    "import animation as an\n",
    "import analyze_tools.utils as atu\n",
    "from analyze_tools.monte_carlo import get_colliding_time\n",
    "\n",
    "from simulation.single import single_collision_simulation\n",
    "import utilities.reduced_parameter as red\n",
    "from utilities.etc import moving_average\n",
    "\n",
    "ROOT = os.path.expanduser('~/OneDrive - Emory/Research data/mm_polariton/pickle_jar')\n",
    "assert os.path.isdir(ROOT)"
   ]
  },
  {
   "cell_type": "code",
   "execution_count": 6,
   "id": "9ea29fb5-df6c-460b-98a9-4a19368ecd5c",
   "metadata": {},
   "outputs": [],
   "source": [
    "#\n",
    "# DEFINING FUNCTION\n",
    "## WARNING: NEXT CELL WILL RUN SIMULATIONS\n",
    "#\n",
    "\n",
    "\n",
    "Lxy = 3e7; Lz = 3e3\n",
    "def get_ArXePair(d_arxe, v_ar = 0, h = 0, n_pairs = 1, Lxy=Lxy, Lz=Lz):\n",
    "    \"\"\"\n",
    "    \"\"\"\n",
    "    atoms = AtomsInBox(\n",
    "        Lxy = Lxy, Lz = Lz, cell_width = (1e6,1e2), \n",
    "        mass_dict = red.mass_dict)\n",
    "\n",
    "    v_xe = - v_ar / np.sqrt(red.mass_dict['Xe'])\n",
    "\n",
    "    for i in range(n_pairs):\n",
    "        if i == 0:\n",
    "            r0 = np.zeros(3)\n",
    "        else:\n",
    "            r0 = np.hstack(\n",
    "                [\n",
    "                    #np.random.uniform(-Lxy/2+10, Lxy/2-10, size = 2), \n",
    "                    np.zeros(2),\n",
    "                    np.random.uniform(-Lz/2+10, Lz/2-10)]\n",
    "            )\n",
    "        atoms.add(\n",
    "                elements = [\"Ar\"],\n",
    "                r = np.array([[0.0, h, -d_arxe/2]]) + r0,\n",
    "                r_dot = np.array([[0.0, 0.0, v_ar]])# / np.sqrt(2)\n",
    "                )\n",
    "        \n",
    "        atoms.add(\n",
    "                elements = [\"Xe\"],\n",
    "                r = np.array([[0.0,0.0,d_arxe/2]]) + r0,\n",
    "                r_dot = np.array([[0.00, 0.00, v_xe]])# / np.sqrt(2)\n",
    "                )\n",
    "    \n",
    "    idxAr = atoms.element_idx(element = \"Ar\")\n",
    "    idxXe = atoms.element_idx(element = \"Xe\")\n",
    "    epsilon_mat, sigma_mat = red.generate_LJparam_matrix(idxAr = idxAr, idxXe = idxXe)\n",
    "    \n",
    "    # calculator to the atoms object\n",
    "    atoms.add_calculator(\n",
    "        calculator_class = Calculator,\n",
    "        calculator_kwargs = {\n",
    "            \"epsilon\": epsilon_mat, \"sigma\" : sigma_mat, \n",
    "            \"positive_atom_idx\" : idxXe, \"negative_atom_idx\" : idxAr,\n",
    "            \"mu0\" : red.mu0, \"d\" : red.d0, \"a\" : red.a, 'd7':red.d7\n",
    "        })\n",
    "    \n",
    "    atoms.update_distance()\n",
    "    \n",
    "    return atoms\n",
    "\n",
    "def get_field(coup_str, amplitude, T = None, mode = False, Lxy = Lxy, Lz = Lz, field = 'cavity'):\n",
    "    if mode == 'multi':\n",
    "        k_vector_int = np.array(\n",
    "            [[i,0,0] for i in range(1,100)]\n",
    "            ,dtype=np.float64)\n",
    "    elif isinstance(mode, int):\n",
    "        k_vector_int = np.array([[mode,0,0]])\n",
    "    elif isinstance(mode, list):\n",
    "        k_vector_int = np.array(\n",
    "            [[i,0,0] for i in mode], \n",
    "            dtype = np.float64)\n",
    "    else:\n",
    "        raise Exception('Mode have to be either \"multi\" or an integer!')\n",
    "    \n",
    "    if field == 'cavity':\n",
    "        VectorPotentialClass = CavityVectorPotential\n",
    "    elif field == 'free':\n",
    "        VectorPotentialClass = FreeVectorPotential\n",
    "    \n",
    "    Afield = VectorPotentialClass(\n",
    "            k_vector_int = k_vector_int, amplitude = amplitude,\n",
    "            Lxy = Lxy, Lz = Lz, constant_c = red.c, coupling_strength = coup_str, T = T / red.temp\n",
    "            )\n",
    "\n",
    "    return Afield\n",
    "\n",
    "def get_radprofile(rd, windows = 10):\n",
    "    Afield = rd['field']\n",
    "    \n",
    "    rad_energy = red.convert_energy(np.array(Afield.history[\"energy\"][-1]), \"ev\") \n",
    "    omega = red.convert_wavenumber(Afield.k_val)\n",
    "    omega_profile, final_rad_profile = at.profiling_rad(omega, rad_energy)\n",
    "    \n",
    "    sorted_idx = np.argsort(omega_profile)\n",
    "\n",
    "    if windows == 0:\n",
    "        omega_profile = np.array(omega_profile)[sorted_idx] \n",
    "        final_rad_profile = np.array(final_rad_profile)[sorted_idx]\n",
    "    else:\n",
    "        omega_profile, final_rad_profile = moving_average(\n",
    "            np.array(omega_profile)[sorted_idx], \n",
    "            np.array(final_rad_profile)[sorted_idx], windows)\n",
    "\n",
    "    return omega_profile, final_rad_profile"
   ]
  },
  {
   "cell_type": "code",
   "execution_count": 3,
   "id": "6ff95080-f9ba-43a2-9d39-e7079fa35bff",
   "metadata": {
    "scrolled": true
   },
   "outputs": [
    {
     "name": "stderr",
     "output_type": "stream",
     "text": [
      "  0%|                                                                                                                                                                          | 0/76 [00:00<?, ?it/s]\n"
     ]
    },
    {
     "ename": "TypeError",
     "evalue": "unsupported operand type(s) for /: 'NoneType' and 'float'",
     "output_type": "error",
     "traceback": [
      "\u001b[0;31m---------------------------------------------------------------------------\u001b[0m",
      "\u001b[0;31mTypeError\u001b[0m                                 Traceback (most recent call last)",
      "Cell \u001b[0;32mIn[3], line 15\u001b[0m\n\u001b[1;32m     12\u001b[0m vt \u001b[38;5;241m=\u001b[39m np\u001b[38;5;241m.\u001b[39msqrt((T \u001b[38;5;241m*\u001b[39m red\u001b[38;5;241m.\u001b[39mboltzmann \u001b[38;5;241m/\u001b[39m red\u001b[38;5;241m.\u001b[39mepsilon) )\n\u001b[1;32m     13\u001b[0m atoms \u001b[38;5;241m=\u001b[39m get_ArXePair(d_arxe \u001b[38;5;241m=\u001b[39m \u001b[38;5;241m6\u001b[39m, h \u001b[38;5;241m=\u001b[39m \u001b[38;5;241m0.0\u001b[39m , v_ar \u001b[38;5;241m=\u001b[39m vt, n_pairs \u001b[38;5;241m=\u001b[39m \u001b[38;5;241m1\u001b[39m)\n\u001b[0;32m---> 15\u001b[0m field \u001b[38;5;241m=\u001b[39m get_field(amplitude \u001b[38;5;241m=\u001b[39m \u001b[38;5;124m'\u001b[39m\u001b[38;5;124mzero\u001b[39m\u001b[38;5;124m'\u001b[39m, mode \u001b[38;5;241m=\u001b[39m \u001b[38;5;28mlist\u001b[39m(\u001b[38;5;28mrange\u001b[39m(\u001b[38;5;241m1\u001b[39m,\u001b[38;5;241m300\u001b[39m)), coup_str \u001b[38;5;241m=\u001b[39m \u001b[38;5;241m1\u001b[39m, Lz \u001b[38;5;241m=\u001b[39m Lxy, field \u001b[38;5;241m=\u001b[39m \u001b[38;5;124m'\u001b[39m\u001b[38;5;124mfree\u001b[39m\u001b[38;5;124m'\u001b[39m)\n\u001b[1;32m     17\u001b[0m t, rd \u001b[38;5;241m=\u001b[39m single_collision_simulation(\n\u001b[1;32m     18\u001b[0m     \u001b[38;5;241m0\u001b[39m, h \u001b[38;5;241m=\u001b[39m \u001b[38;5;241m1e-2\u001b[39m, atoms \u001b[38;5;241m=\u001b[39m atoms, field \u001b[38;5;241m=\u001b[39m field, \n\u001b[1;32m     19\u001b[0m     max_steps \u001b[38;5;241m=\u001b[39m \u001b[38;5;241m10000\u001b[39m, verbose \u001b[38;5;241m=\u001b[39m \u001b[38;5;28;01mFalse\u001b[39;00m)\n\u001b[1;32m     21\u001b[0m result_dict\u001b[38;5;241m.\u001b[39mupdate({T : rd})\n",
      "Cell \u001b[0;32mIn[2], line 77\u001b[0m, in \u001b[0;36mget_field\u001b[0;34m(coup_str, amplitude, T, mode, Lxy, Lz, field)\u001b[0m\n\u001b[1;32m     72\u001b[0m \u001b[38;5;28;01melif\u001b[39;00m field \u001b[38;5;241m==\u001b[39m \u001b[38;5;124m'\u001b[39m\u001b[38;5;124mfree\u001b[39m\u001b[38;5;124m'\u001b[39m:\n\u001b[1;32m     73\u001b[0m     VectorPotentialClass \u001b[38;5;241m=\u001b[39m FreeVectorPotential\n\u001b[1;32m     75\u001b[0m Afield \u001b[38;5;241m=\u001b[39m VectorPotentialClass(\n\u001b[1;32m     76\u001b[0m         k_vector_int \u001b[38;5;241m=\u001b[39m k_vector_int, amplitude \u001b[38;5;241m=\u001b[39m amplitude,\n\u001b[0;32m---> 77\u001b[0m         Lxy \u001b[38;5;241m=\u001b[39m Lxy, Lz \u001b[38;5;241m=\u001b[39m Lz, constant_c \u001b[38;5;241m=\u001b[39m red\u001b[38;5;241m.\u001b[39mc, coupling_strength \u001b[38;5;241m=\u001b[39m coup_str, T \u001b[38;5;241m=\u001b[39m T \u001b[38;5;241m/\u001b[39m red\u001b[38;5;241m.\u001b[39mtemp\n\u001b[1;32m     78\u001b[0m         )\n\u001b[1;32m     80\u001b[0m \u001b[38;5;28;01mreturn\u001b[39;00m Afield\n",
      "\u001b[0;31mTypeError\u001b[0m: unsupported operand type(s) for /: 'NoneType' and 'float'"
     ]
    }
   ],
   "source": [
    "# \n",
    "# CALCULATING SPECTRA\n",
    "# Run simulation of head on collision coupled to FREE field \n",
    "# at various total energy as temperature \n",
    "# \n",
    "\n",
    "result_dict = {}\n",
    "velocity_dict = {}\n",
    "\n",
    "for T in tqdm.tqdm(np.arange(92, 850, 10)):\n",
    "    \n",
    "    vt = np.sqrt((T * red.boltzmann / red.epsilon) )\n",
    "    atoms = get_ArXePair(d_arxe = 6, h = 0.0 , v_ar = vt, n_pairs = 1)\n",
    "    \n",
    "    field = get_field(amplitude = 'zero', mode = list(range(1,300)), coup_str = 1, Lz = Lxy, field = 'free' , T = T)\n",
    "        \n",
    "    t, rd = single_collision_simulation(\n",
    "        0, h = 1e-2, atoms = atoms, field = field, \n",
    "        max_steps = 10000, verbose = False)\n",
    "\n",
    "    result_dict.update({T : rd})\n",
    "    velocity_dict.update({T : (vt, vt / np.sqrt(M_Xe))})"
   ]
  },
  {
   "cell_type": "code",
   "execution_count": null,
   "id": "f004cbb6-76ce-479d-9dfa-234d39032e9d",
   "metadata": {
    "scrolled": true
   },
   "outputs": [],
   "source": [
    "#\n",
    "# PLOTTING SPECTRA\n",
    "#\n",
    "\n",
    "fig,ax = plt.subplots(2, figsize = (6,8))\n",
    "\n",
    "total = 0\n",
    "\n",
    "prob_list = []\n",
    "\n",
    "for T in result_dict.keys():\n",
    "    prob_list.append(T * np.exp(- T / 292))\n",
    "\n",
    "prob_list = np.array(prob_list)\n",
    "prob_list = prob_list / np.sum(prob_list)\n",
    "\n",
    "for i, (T,rd) in enumerate(result_dict.items()):\n",
    "    \n",
    "    omega_profile, final_rad_profile = get_radprofile(rd,0 )\n",
    "    final_rad_profile *= 1e25\n",
    "    total += final_rad_profile * prob_list[i]\n",
    "\n",
    "    if i % 5 == 0:\n",
    "        ax[0].plot(\n",
    "            omega_profile, final_rad_profile, label = 'T = {} K'.format(T), \n",
    "            linestyle = 'dashdot' if i >= 35 else None)\n",
    "\n",
    "ax[1].plot(omega_profile, total, label = 'Scaled total spectrum')\n",
    "  \n",
    "tax = ax[1].twinx()\n",
    "exp_data = pd.read_csv('data/plot-data.csv')\n",
    "tax.scatter(\n",
    "    exp_data.loc[:,'x'],\n",
    "    exp_data.loc[:,' y'],\n",
    "    s = 5, alpha = 0.5, c = 'black'\n",
    ")\n",
    "ax[1].scatter([],[], c = 'black', label = 'Exp. @ 292K')\n",
    "\n",
    "ax[0].set_ylabel(r\"Calculated EM field energy $(10^{-25} eV)$\")\n",
    "ax[1].set_ylabel(r\"Sum of scaled EM field energy $(10^{-25} eV)$\")\n",
    "ax[1].set_xlabel(r\"Wavenumber $(cm^{-1})$\")\n",
    "\n",
    "tax.set_ylabel(r'Exp. absorption $(10^{-6} cm^{-1} amagat^{-2})$')\n",
    "\n",
    "ax[0].annotate('(a)',xy = (0.9,0.9), xycoords = 'axes fraction')\n",
    "ax[1].annotate('(b)',xy = (0.9,0.7), xycoords = 'axes fraction')\n",
    "\n",
    "ax[0].legend(loc='lower center', bbox_to_anchor=(0.5, 1.0), ncol=4)\n",
    "ax[1].legend()\n",
    "fig.savefig('figure/manuscript/free_spectrum_singleT.jpeg',dpi = 600, bbox_inches = 'tight')"
   ]
  },
  {
   "cell_type": "code",
   "execution_count": 4,
   "id": "f1c60722-f0af-4ba1-9898-9b663d753f85",
   "metadata": {
    "scrolled": true
   },
   "outputs": [
    {
     "name": "stdin",
     "output_type": "stream",
     "text": [
      "Load file?(Y)/N N\n"
     ]
    },
    {
     "name": "stdout",
     "output_type": "stream",
     "text": [
      "pickle_jar/single_collision_boltzmann_cavity\n",
      "h =  0.0  coupling strength =  20\n"
     ]
    },
    {
     "name": "stderr",
     "output_type": "stream",
     "text": [
      " 83%|██████████████████████████████████████████████████████████████████████████████████████████████████████████████████████████████████████▏                          | 40/48 [03:58<00:47,  5.97s/it]\n"
     ]
    },
    {
     "ename": "KeyboardInterrupt",
     "evalue": "",
     "output_type": "error",
     "traceback": [
      "\u001b[0;31m---------------------------------------------------------------------------\u001b[0m",
      "\u001b[0;31mKeyboardInterrupt\u001b[0m                         Traceback (most recent call last)",
      "Cell \u001b[0;32mIn[4], line 38\u001b[0m\n\u001b[1;32m     31\u001b[0m     atoms \u001b[38;5;241m=\u001b[39m get_ArXePair(d_arxe \u001b[38;5;241m=\u001b[39m \u001b[38;5;241m6\u001b[39m, h \u001b[38;5;241m=\u001b[39m h , v_ar \u001b[38;5;241m=\u001b[39m vt, n_pairs \u001b[38;5;241m=\u001b[39m \u001b[38;5;241m1\u001b[39m)\n\u001b[1;32m     33\u001b[0m     field \u001b[38;5;241m=\u001b[39m get_field(\n\u001b[1;32m     34\u001b[0m         amplitude \u001b[38;5;241m=\u001b[39m cavity_init, T \u001b[38;5;241m=\u001b[39m T,\n\u001b[1;32m     35\u001b[0m         mode \u001b[38;5;241m=\u001b[39m \u001b[38;5;28mlist\u001b[39m(\u001b[38;5;28mrange\u001b[39m(\u001b[38;5;241m1\u001b[39m,\u001b[38;5;241m100\u001b[39m)), coup_str \u001b[38;5;241m=\u001b[39m ct \u001b[38;5;241m*\u001b[39m Lxy, Lz \u001b[38;5;241m=\u001b[39m Lz, field \u001b[38;5;241m=\u001b[39m \u001b[38;5;124m'\u001b[39m\u001b[38;5;124mcavity\u001b[39m\u001b[38;5;124m'\u001b[39m\n\u001b[1;32m     36\u001b[0m     )\n\u001b[0;32m---> 38\u001b[0m     t, rd \u001b[38;5;241m=\u001b[39m single_collision_simulation(\n\u001b[1;32m     39\u001b[0m         \u001b[38;5;241m0\u001b[39m, h \u001b[38;5;241m=\u001b[39m \u001b[38;5;241m1e-2\u001b[39m, atoms \u001b[38;5;241m=\u001b[39m atoms, field \u001b[38;5;241m=\u001b[39m field, potential_threshold \u001b[38;5;241m=\u001b[39m \u001b[38;5;241m1e-4\u001b[39m,\n\u001b[1;32m     40\u001b[0m         max_steps \u001b[38;5;241m=\u001b[39m \u001b[38;5;241m5000\u001b[39m, verbose \u001b[38;5;241m=\u001b[39m \u001b[38;5;28;01mFalse\u001b[39;00m, record_every \u001b[38;5;241m=\u001b[39m \u001b[38;5;241m1\u001b[39m) \u001b[38;5;66;03m# 10000 it ~ 200 ps\u001b[39;00m\n\u001b[1;32m     42\u001b[0m     foo\u001b[38;5;241m.\u001b[39mupdate({T:rd})\n\u001b[1;32m     44\u001b[0m result_dict\u001b[38;5;241m.\u001b[39mupdate({ct : foo})\n",
      "File \u001b[0;32m~/code/mm_polariton/src/simulation/single.py:52\u001b[0m, in \u001b[0;36msingle_collision_simulation\u001b[0;34m(cycle_number, h, atoms, t0, field, potential_threshold, min_steps, max_steps, patient, record_every, verbose)\u001b[0m\n\u001b[1;32m     48\u001b[0m     em_force_func \u001b[38;5;241m=\u001b[39m \u001b[38;5;28;01mlambda\u001b[39;00m t, atoms: field\u001b[38;5;241m.\u001b[39mforce(t,atoms)\n\u001b[1;32m     50\u001b[0m \u001b[38;5;28;01melse\u001b[39;00m: em_force_func \u001b[38;5;241m=\u001b[39m \u001b[38;5;28;01mNone\u001b[39;00m\n\u001b[0;32m---> 52\u001b[0m atoms\u001b[38;5;241m.\u001b[39mVerlet_update(\n\u001b[1;32m     53\u001b[0m         h \u001b[38;5;241m=\u001b[39m h, t \u001b[38;5;241m=\u001b[39m t,\n\u001b[1;32m     54\u001b[0m         field_force \u001b[38;5;241m=\u001b[39m em_force_func\n\u001b[1;32m     55\u001b[0m         )\n\u001b[1;32m     57\u001b[0m \u001b[38;5;28;01mif\u001b[39;00m field:\n\u001b[1;32m     58\u001b[0m     C_dot_tp1 \u001b[38;5;241m=\u001b[39m field\u001b[38;5;241m.\u001b[39mdot_amplitude(t\u001b[38;5;241m+\u001b[39mh,atoms)\n",
      "File \u001b[0;32m~/code/mm_polariton/src/matter/atoms.py:179\u001b[0m, in \u001b[0;36mAtomsInBox.Verlet_update\u001b[0;34m(self, h, t, field_force)\u001b[0m\n\u001b[1;32m    178\u001b[0m \u001b[38;5;28;01mdef\u001b[39;00m \u001b[38;5;21mVerlet_update\u001b[39m(\u001b[38;5;28mself\u001b[39m, h, t \u001b[38;5;241m=\u001b[39m \u001b[38;5;28;01mNone\u001b[39;00m, field_force \u001b[38;5;241m=\u001b[39m \u001b[38;5;28;01mNone\u001b[39;00m):\n\u001b[0;32m--> 179\u001b[0m     a \u001b[38;5;241m=\u001b[39m \u001b[38;5;28mself\u001b[39m\u001b[38;5;241m.\u001b[39macceleration(field_force\u001b[38;5;241m=\u001b[39mfield_force, t\u001b[38;5;241m=\u001b[39mt)\n\u001b[1;32m    181\u001b[0m     v_half \u001b[38;5;241m=\u001b[39m \u001b[38;5;28mself\u001b[39m\u001b[38;5;241m.\u001b[39mr_dot \u001b[38;5;241m+\u001b[39m h \u001b[38;5;241m*\u001b[39m a \u001b[38;5;241m/\u001b[39m \u001b[38;5;241m2\u001b[39m\n\u001b[1;32m    182\u001b[0m     r_new \u001b[38;5;241m=\u001b[39m \u001b[38;5;28mself\u001b[39m\u001b[38;5;241m.\u001b[39mr \u001b[38;5;241m+\u001b[39m h \u001b[38;5;241m*\u001b[39m v_half\n",
      "File \u001b[0;32m~/code/mm_polariton/src/matter/atoms.py:172\u001b[0m, in \u001b[0;36mAtomsInBox.acceleration\u001b[0;34m(self, t, field_force)\u001b[0m\n\u001b[1;32m    170\u001b[0m \u001b[38;5;28;01mif\u001b[39;00m field_force \u001b[38;5;129;01mis\u001b[39;00m \u001b[38;5;129;01mnot\u001b[39;00m \u001b[38;5;28;01mNone\u001b[39;00m:\n\u001b[1;32m    171\u001b[0m     \u001b[38;5;28;01massert\u001b[39;00m t \u001b[38;5;129;01mis\u001b[39;00m \u001b[38;5;129;01mnot\u001b[39;00m \u001b[38;5;28;01mNone\u001b[39;00m\n\u001b[0;32m--> 172\u001b[0m     force \u001b[38;5;241m+\u001b[39m\u001b[38;5;241m=\u001b[39m np\u001b[38;5;241m.\u001b[39mreal(field_force(t, \u001b[38;5;28mself\u001b[39m))\n\u001b[1;32m    174\u001b[0m a \u001b[38;5;241m=\u001b[39m force \u001b[38;5;241m/\u001b[39m np\u001b[38;5;241m.\u001b[39mtile(\u001b[38;5;28mself\u001b[39m\u001b[38;5;241m.\u001b[39mmass[:,np\u001b[38;5;241m.\u001b[39mnewaxis], (\u001b[38;5;241m1\u001b[39m,\u001b[38;5;241m3\u001b[39m))\n\u001b[1;32m    176\u001b[0m \u001b[38;5;28;01mreturn\u001b[39;00m a\n",
      "File \u001b[0;32m~/code/mm_polariton/src/simulation/single.py:48\u001b[0m, in \u001b[0;36msingle_collision_simulation.<locals>.<lambda>\u001b[0;34m(t, atoms)\u001b[0m\n\u001b[1;32m     44\u001b[0m steps \u001b[38;5;241m+\u001b[39m\u001b[38;5;241m=\u001b[39m \u001b[38;5;241m1\u001b[39m\n\u001b[1;32m     46\u001b[0m \u001b[38;5;28;01mif\u001b[39;00m field \u001b[38;5;129;01mis\u001b[39;00m \u001b[38;5;129;01mnot\u001b[39;00m \u001b[38;5;28;01mNone\u001b[39;00m:\n\u001b[1;32m     47\u001b[0m     \u001b[38;5;66;03m# the force exerted by the field will the \u001b[39;00m\n\u001b[0;32m---> 48\u001b[0m     em_force_func \u001b[38;5;241m=\u001b[39m \u001b[38;5;28;01mlambda\u001b[39;00m t, atoms: field\u001b[38;5;241m.\u001b[39mforce(t,atoms)\n\u001b[1;32m     50\u001b[0m \u001b[38;5;28;01melse\u001b[39;00m: em_force_func \u001b[38;5;241m=\u001b[39m \u001b[38;5;28;01mNone\u001b[39;00m\n\u001b[1;32m     52\u001b[0m atoms\u001b[38;5;241m.\u001b[39mVerlet_update(\n\u001b[1;32m     53\u001b[0m         h \u001b[38;5;241m=\u001b[39m h, t \u001b[38;5;241m=\u001b[39m t,\n\u001b[1;32m     54\u001b[0m         field_force \u001b[38;5;241m=\u001b[39m em_force_func\n\u001b[1;32m     55\u001b[0m         )\n",
      "File \u001b[0;32m~/code/mm_polariton/src/field/electromagnetic.py:204\u001b[0m, in \u001b[0;36mBaseVectorPotential.force\u001b[0;34m(self, t, charge_assemble, amplitude)\u001b[0m\n\u001b[1;32m    201\u001b[0m force2 \u001b[38;5;241m=\u001b[39m np\u001b[38;5;241m.\u001b[39meinsum(\u001b[38;5;124m\"\u001b[39m\u001b[38;5;124mnj,nji->ni\u001b[39m\u001b[38;5;124m\"\u001b[39m,dAdt, q)\n\u001b[1;32m    203\u001b[0m force3 \u001b[38;5;241m=\u001b[39m np\u001b[38;5;241m.\u001b[39meinsum(\u001b[38;5;124m\"\u001b[39m\u001b[38;5;124mnjl,nl->nj\u001b[39m\u001b[38;5;124m\"\u001b[39m,gradA,r_dot)\n\u001b[0;32m--> 204\u001b[0m force3 \u001b[38;5;241m=\u001b[39m np\u001b[38;5;241m.\u001b[39meinsum(\u001b[38;5;124m\"\u001b[39m\u001b[38;5;124mnj,nij->ni\u001b[39m\u001b[38;5;124m\"\u001b[39m,force3,q)\n\u001b[1;32m    206\u001b[0m force \u001b[38;5;241m=\u001b[39m force1 \u001b[38;5;241m-\u001b[39m force2 \u001b[38;5;241m-\u001b[39m force3\n\u001b[1;32m    207\u001b[0m force \u001b[38;5;241m*\u001b[39m\u001b[38;5;241m=\u001b[39m \u001b[38;5;28mself\u001b[39m\u001b[38;5;241m.\u001b[39mcoupling_strength\n",
      "File \u001b[0;32m~/miniconda3/envs/polariton_mm/lib/python3.12/site-packages/numpy/core/einsumfunc.py:1371\u001b[0m, in \u001b[0;36meinsum\u001b[0;34m(out, optimize, *operands, **kwargs)\u001b[0m\n\u001b[1;32m   1369\u001b[0m     \u001b[38;5;28;01mif\u001b[39;00m specified_out:\n\u001b[1;32m   1370\u001b[0m         kwargs[\u001b[38;5;124m'\u001b[39m\u001b[38;5;124mout\u001b[39m\u001b[38;5;124m'\u001b[39m] \u001b[38;5;241m=\u001b[39m out\n\u001b[0;32m-> 1371\u001b[0m     \u001b[38;5;28;01mreturn\u001b[39;00m c_einsum(\u001b[38;5;241m*\u001b[39moperands, \u001b[38;5;241m*\u001b[39m\u001b[38;5;241m*\u001b[39mkwargs)\n\u001b[1;32m   1373\u001b[0m \u001b[38;5;66;03m# Check the kwargs to avoid a more cryptic error later, without having to\u001b[39;00m\n\u001b[1;32m   1374\u001b[0m \u001b[38;5;66;03m# repeat default values here\u001b[39;00m\n\u001b[1;32m   1375\u001b[0m valid_einsum_kwargs \u001b[38;5;241m=\u001b[39m [\u001b[38;5;124m'\u001b[39m\u001b[38;5;124mdtype\u001b[39m\u001b[38;5;124m'\u001b[39m, \u001b[38;5;124m'\u001b[39m\u001b[38;5;124morder\u001b[39m\u001b[38;5;124m'\u001b[39m, \u001b[38;5;124m'\u001b[39m\u001b[38;5;124mcasting\u001b[39m\u001b[38;5;124m'\u001b[39m]\n",
      "\u001b[0;31mKeyboardInterrupt\u001b[0m: "
     ]
    }
   ],
   "source": [
    "#\n",
    "# Record (trajectory @ 40K, highest temperature that Ar-Xe complex form, previous temperature)\n",
    "#\n",
    "\n",
    "single_collision_multimode_data = {}\n",
    "\n",
    "prompt = input('Load file?(Y)/N')\n",
    "if prompt != 'N':\n",
    "    raise Exception\n",
    "    \n",
    "iplist = [0.0, 0.3, 0.6, 0.9, 1.2]\n",
    "Tlist = list(np.arange(10, 106, 5))\n",
    "\n",
    "cavity_init = 'boltzmann'\n",
    "save_path = 'pickle_jar/single_collision_{}_cavity'.format(cavity_init)\n",
    "print(save_path)\n",
    "assert os.path.isdir(save_path)\n",
    "\n",
    "for ct in [20, 15, 1e1]:\n",
    "    result_dict = {}\n",
    "    for h in iplist:\n",
    "        print('h = ', h, ' coupling strength = ', ct)\n",
    "        T_break = None\n",
    "\n",
    "        foo = {}\n",
    "        \n",
    "        for T in tqdm.tqdm(Tlist[::-1]):\n",
    "\n",
    "            vt = np.sqrt((T * red.boltzmann / red.epsilon) )\n",
    "            # T = K_Ar + K_Xe = 2K_Ar = m_Ar v_Ar^2 (equal kinetic energy of Argon and Xenon)\n",
    "            atoms = get_ArXePair(d_arxe = 6, h = h , v_ar = vt, n_pairs = 1)\n",
    "            \n",
    "            field = get_field(\n",
    "                amplitude = cavity_init, T = T,\n",
    "                mode = list(range(1,100)), coup_str = ct * Lxy, Lz = Lz, field = 'cavity'\n",
    "            )\n",
    "                \n",
    "            t, rd = single_collision_simulation(\n",
    "                0, h = 1e-2, atoms = atoms, field = field, potential_threshold = 1e-4,\n",
    "                max_steps = 5000, verbose = False, record_every = 1) # 10000 it ~ 200 ps\n",
    "\n",
    "            foo.update({T:rd})\n",
    "            \n",
    "        result_dict.update({h : foo})\n",
    "\n",
    "    with open(save_path + '/coup_str_{}.pkl'.format(ct),'wb') as handle:\n",
    "        pickle.dump(result_dict, handle)\n",
    "            "
   ]
  },
  {
   "cell_type": "code",
   "execution_count": 15,
   "id": "de96a25d-faae-4032-8362-17d98b7600c7",
   "metadata": {
    "scrolled": true
   },
   "outputs": [
    {
     "name": "stdin",
     "output_type": "stream",
     "text": [
      "Load file?(Y)/N N\n"
     ]
    },
    {
     "name": "stdout",
     "output_type": "stream",
     "text": [
      "pickle_jar/single_collision_zero_cavity\n",
      "h =  0.0  coupling strength =  20\n"
     ]
    },
    {
     "name": "stderr",
     "output_type": "stream",
     "text": [
      "  2%|███▌                                                                                                                                                                    | 1/48 [00:24<19:20, 24.69s/it]\n"
     ]
    },
    {
     "name": "stdout",
     "output_type": "stream",
     "text": [
      "break @ 102 K, with collide time 101.60892535029511ps\n",
      "h =  0.3  coupling strength =  20\n"
     ]
    },
    {
     "name": "stderr",
     "output_type": "stream",
     "text": [
      " 15%|████████████████████████▌                                                                                                                                               | 7/48 [00:59<05:47,  8.48s/it]\n"
     ]
    },
    {
     "name": "stdout",
     "output_type": "stream",
     "text": [
      "break @ 90 K, with collide time 101.17700643275931ps\n",
      "h =  0.6  coupling strength =  20\n"
     ]
    },
    {
     "name": "stderr",
     "output_type": "stream",
     "text": [
      " 38%|██████████████████████████████████████████████████████████████▋                                                                                                        | 18/48 [01:26<02:24,  4.82s/it]\n"
     ]
    },
    {
     "name": "stdout",
     "output_type": "stream",
     "text": [
      "break @ 68 K, with collide time 100.05401724716624ps\n",
      "h =  0.9  coupling strength =  20\n"
     ]
    },
    {
     "name": "stderr",
     "output_type": "stream",
     "text": [
      " 60%|████████████████████████████████████████████████████████████████████████████████████████████████████▉                                                                  | 29/48 [01:51<01:12,  3.84s/it]\n"
     ]
    },
    {
     "name": "stdout",
     "output_type": "stream",
     "text": [
      "break @ 46 K, with collide time 98.15357401000874ps\n",
      "h =  1.2  coupling strength =  20\n"
     ]
    },
    {
     "name": "stderr",
     "output_type": "stream",
     "text": [
      " 77%|████████████████████████████████████████████████████████████████████████████████████████████████████████████████████████████████▋                                      | 37/48 [02:05<00:37,  3.40s/it]"
     ]
    },
    {
     "name": "stdout",
     "output_type": "stream",
     "text": [
      "break @ 30 K, with collide time 95.51886861304038ps\n"
     ]
    },
    {
     "name": "stderr",
     "output_type": "stream",
     "text": [
      "\n"
     ]
    },
    {
     "name": "stdout",
     "output_type": "stream",
     "text": [
      "h =  0.0  coupling strength =  15\n"
     ]
    },
    {
     "name": "stderr",
     "output_type": "stream",
     "text": [
      " 56%|█████████████████████████████████████████████████████████████████████████████████████████████▉                                                                         | 27/48 [01:54<01:29,  4.25s/it]\n"
     ]
    },
    {
     "name": "stdout",
     "output_type": "stream",
     "text": [
      "break @ 50 K, with collide time 99.01741184508033ps\n",
      "h =  0.3  coupling strength =  15\n"
     ]
    },
    {
     "name": "stderr",
     "output_type": "stream",
     "text": [
      " 60%|████████████████████████████████████████████████████████████████████████████████████████████████████▉                                                                  | 29/48 [02:01<01:19,  4.20s/it]\n"
     ]
    },
    {
     "name": "stdout",
     "output_type": "stream",
     "text": [
      "break @ 46 K, with collide time 98.58549292754454ps\n",
      "h =  0.6  coupling strength =  15\n"
     ]
    },
    {
     "name": "stderr",
     "output_type": "stream",
     "text": [
      " 69%|██████████████████████████████████████████████████████████████████████████████████████████████████████████████████▊                                                    | 33/48 [02:02<00:55,  3.70s/it]\n"
     ]
    },
    {
     "name": "stdout",
     "output_type": "stream",
     "text": [
      "break @ 38 K, with collide time 97.54888752545862ps\n",
      "h =  0.9  coupling strength =  15\n"
     ]
    },
    {
     "name": "stderr",
     "output_type": "stream",
     "text": [
      " 79%|████████████████████████████████████████████████████████████████████████████████████████████████████████████████████████████████████▏                                  | 38/48 [02:12<00:34,  3.49s/it]\n"
     ]
    },
    {
     "name": "stdout",
     "output_type": "stream",
     "text": [
      "break @ 28 K, with collide time 95.62684834242434ps\n",
      "h =  1.2  coupling strength =  15\n"
     ]
    },
    {
     "name": "stderr",
     "output_type": "stream",
     "text": [
      " 90%|█████████████████████████████████████████████████████████████████████████████████████████████████████████████████████████████████████████████████████▌                 | 43/48 [02:36<00:18,  3.64s/it]"
     ]
    },
    {
     "name": "stdout",
     "output_type": "stream",
     "text": [
      "break @ 18 K, with collide time 92.30107267739871ps\n"
     ]
    },
    {
     "name": "stderr",
     "output_type": "stream",
     "text": [
      "\n"
     ]
    },
    {
     "name": "stdout",
     "output_type": "stream",
     "text": [
      "h =  0.0  coupling strength =  10.0\n"
     ]
    },
    {
     "name": "stderr",
     "output_type": "stream",
     "text": [
      " 88%|██████████████████████████████████████████████████████████████████████████████████████████████████████████████████████████████████████████████████▏                    | 42/48 [02:30<00:21,  3.59s/it]\n"
     ]
    },
    {
     "name": "stdout",
     "output_type": "stream",
     "text": [
      "break @ 20 K, with collide time 94.22311186043301ps\n",
      "h =  0.3  coupling strength =  10.0\n"
     ]
    },
    {
     "name": "stderr",
     "output_type": "stream",
     "text": [
      " 90%|█████████████████████████████████████████████████████████████████████████████████████████████████████████████████████████████████████████████████████▌                 | 43/48 [02:39<00:18,  3.72s/it]\n"
     ]
    },
    {
     "name": "stdout",
     "output_type": "stream",
     "text": [
      "break @ 18 K, with collide time 93.46725375474536ps\n",
      "h =  0.6  coupling strength =  10.0\n"
     ]
    },
    {
     "name": "stderr",
     "output_type": "stream",
     "text": [
      " 92%|█████████████████████████████████████████████████████████████████████████████████████████████████████████████████████████████████████████████████████████              | 44/48 [02:38<00:14,  3.60s/it]\n"
     ]
    },
    {
     "name": "stdout",
     "output_type": "stream",
     "text": [
      "break @ 16 K, with collide time 92.45224429853624ps\n",
      "h =  0.9  coupling strength =  10.0\n"
     ]
    },
    {
     "name": "stderr",
     "output_type": "stream",
     "text": [
      " 96%|████████████████████████████████████████████████████████████████████████████████████████████████████████████████████████████████████████████████████████████████       | 46/48 [02:47<00:07,  3.65s/it]\n"
     ]
    },
    {
     "name": "stdout",
     "output_type": "stream",
     "text": [
      "break @ 12 K, with collide time 89.86073079332147ps\n",
      "h =  1.2  coupling strength =  10.0\n"
     ]
    },
    {
     "name": "stderr",
     "output_type": "stream",
     "text": [
      " 98%|███████████████████████████████████████████████████████████████████████████████████████████████████████████████████████████████████████████████████████████████████▌   | 47/48 [02:43<00:03,  3.48s/it]"
     ]
    },
    {
     "name": "stdout",
     "output_type": "stream",
     "text": [
      "break @ 10 K, with collide time 87.6795402597657ps\n"
     ]
    },
    {
     "name": "stderr",
     "output_type": "stream",
     "text": [
      "\n"
     ]
    }
   ],
   "source": [
    "#\n",
    "# Record (trajectory @ 40K, highest temperature that Ar-Xe complex form, previous temperature)\n",
    "#\n",
    "\n",
    "single_collision_multimode_data = {}\n",
    "\n",
    "prompt = input('Load file?(Y)/N')\n",
    "if prompt != 'N':\n",
    "    raise Exception\n",
    "    \n",
    "iplist = [0.0, 0.3, 0.6, 0.9, 1.2]\n",
    "Tlist = list(np.arange(10, 106, 2))\n",
    "\n",
    "cavity_init = 'zero'\n",
    "save_path = 'pickle_jar/single_collision_{}_cavity'.format(cavity_init)\n",
    "print(save_path)\n",
    "assert os.path.isdir(save_path)\n",
    "\n",
    "for ct in [20, 15, 1e1]:\n",
    "    foo = {}\n",
    "\n",
    "    result_dict = {}\n",
    "    \n",
    "    for h in iplist:\n",
    "        print('h = ', h, ' coupling strength = ', ct)\n",
    "        T_break = None\n",
    "\n",
    "        for T in tqdm.tqdm(Tlist[::-1]):\n",
    "\n",
    "            vt = np.sqrt((T * red.boltzmann / red.epsilon) )\n",
    "            atoms = get_ArXePair(d_arxe = 6, h = h , v_ar = vt, n_pairs = 1)\n",
    "            \n",
    "            field = get_field(\n",
    "                amplitude = cavity_init, T = T,\n",
    "                mode = list(range(1,100)), coup_str = ct * Lxy, Lz = Lz, field = 'cavity'\n",
    "            )\n",
    "                \n",
    "            t, rd = single_collision_simulation(\n",
    "                0, h = 1e-2, atoms = atoms, field = field, potential_threshold = 1e-4,\n",
    "                max_steps = 5000, verbose = False, record_every = 1) # 10000 it ~ 200 ps\n",
    "\n",
    "            collide_time = get_colliding_time(rd['atoms'], dipole_threshold = 0)[0]\n",
    "\n",
    "            if collide_time > 10: \n",
    "                print('break @ {} K, with collide time {}ps'.format(T, collide_time))\n",
    "                result_dict.update({h : {'break T':T, 'result_dict':rd}})\n",
    "                break\n",
    "\n",
    "    with open(save_path + '/coup_str_{}.pkl'.format(ct),'wb') as handle:\n",
    "        pickle.dump(result_dict, handle)"
   ]
  },
  {
   "cell_type": "code",
   "execution_count": 8,
   "id": "55d2ef99-e605-481c-8a06-31d1e0617228",
   "metadata": {
    "scrolled": true
   },
   "outputs": [
    {
     "name": "stdout",
     "output_type": "stream",
     "text": [
      "/Users/macbook/OneDrive - Emory/Research data/mm_polariton/pickle_jar/single_collision_boltzmann_cavity/coup_str_10.0.pkl\n",
      "dict_keys([10.0])\n",
      "/Users/macbook/OneDrive - Emory/Research data/mm_polariton/pickle_jar/single_collision_boltzmann_cavity/coup_str_20.pkl\n",
      "dict_keys([20])\n",
      "/Users/macbook/OneDrive - Emory/Research data/mm_polariton/pickle_jar/single_collision_boltzmann_cavity/coup_str_15.pkl\n",
      "dict_keys([15])\n"
     ]
    }
   ],
   "source": [
    "for file in glob(ROOT + '/single_collision_boltzmann_cavity/*'):\n",
    "    print(file)\n",
    "    with open(file, 'rb') as handle:\n",
    "        result_dict = pickle.load(handle)\n",
    "        print(result_dict.keys())\n",
    "        #for h, foo in result_dict.items():\n",
    "            \n",
    "        "
   ]
  },
  {
   "cell_type": "code",
   "execution_count": 9,
   "id": "caf92289-c7db-4428-a56c-1da15734cbbd",
   "metadata": {},
   "outputs": [
    {
     "data": {
      "text/plain": [
       "{15: {104: {'atoms': <matter.atoms.AtomsInBox at 0x11f016840>,\n",
       "   'field': <field.electromagnetic.CavityVectorPotential at 0x11ac34b60>},\n",
       "  102: {'atoms': <matter.atoms.AtomsInBox at 0x11fe590d0>,\n",
       "   'field': <field.electromagnetic.CavityVectorPotential at 0x1248ff8f0>},\n",
       "  100: {'atoms': <matter.atoms.AtomsInBox at 0x120852e70>,\n",
       "   'field': <field.electromagnetic.CavityVectorPotential at 0x1206b8380>},\n",
       "  98: {'atoms': <matter.atoms.AtomsInBox at 0x12568af60>,\n",
       "   'field': <field.electromagnetic.CavityVectorPotential at 0x12afca210>},\n",
       "  96: {'atoms': <matter.atoms.AtomsInBox at 0x12deefc80>,\n",
       "   'field': <field.electromagnetic.CavityVectorPotential at 0x132d45c70>},\n",
       "  94: {'atoms': <matter.atoms.AtomsInBox at 0x12626e420>,\n",
       "   'field': <field.electromagnetic.CavityVectorPotential at 0x1250d2240>},\n",
       "  92: {'atoms': <matter.atoms.AtomsInBox at 0x123f002c0>,\n",
       "   'field': <field.electromagnetic.CavityVectorPotential at 0x128b9c680>},\n",
       "  90: {'atoms': <matter.atoms.AtomsInBox at 0x127f3e990>,\n",
       "   'field': <field.electromagnetic.CavityVectorPotential at 0x11f7a8ef0>},\n",
       "  88: {'atoms': <matter.atoms.AtomsInBox at 0x11f7d42f0>,\n",
       "   'field': <field.electromagnetic.CavityVectorPotential at 0x1286baab0>},\n",
       "  86: {'atoms': <matter.atoms.AtomsInBox at 0x125283fe0>,\n",
       "   'field': <field.electromagnetic.CavityVectorPotential at 0x122517680>},\n",
       "  84: {'atoms': <matter.atoms.AtomsInBox at 0x1297db320>,\n",
       "   'field': <field.electromagnetic.CavityVectorPotential at 0x127256240>},\n",
       "  82: {'atoms': <matter.atoms.AtomsInBox at 0x1272e7b00>,\n",
       "   'field': <field.electromagnetic.CavityVectorPotential at 0x1259b1520>},\n",
       "  80: {'atoms': <matter.atoms.AtomsInBox at 0x124d66360>,\n",
       "   'field': <field.electromagnetic.CavityVectorPotential at 0x1266c66c0>},\n",
       "  78: {'atoms': <matter.atoms.AtomsInBox at 0x1284649e0>,\n",
       "   'field': <field.electromagnetic.CavityVectorPotential at 0x125da5ca0>},\n",
       "  76: {'atoms': <matter.atoms.AtomsInBox at 0x12398e750>,\n",
       "   'field': <field.electromagnetic.CavityVectorPotential at 0x11f3a5af0>},\n",
       "  74: {'atoms': <matter.atoms.AtomsInBox at 0x12819f5f0>,\n",
       "   'field': <field.electromagnetic.CavityVectorPotential at 0x122f4c5f0>},\n",
       "  72: {'atoms': <matter.atoms.AtomsInBox at 0x122c2ef00>,\n",
       "   'field': <field.electromagnetic.CavityVectorPotential at 0x1226f8ce0>},\n",
       "  70: {'atoms': <matter.atoms.AtomsInBox at 0x120b95d00>,\n",
       "   'field': <field.electromagnetic.CavityVectorPotential at 0x12cdda420>},\n",
       "  68: {'atoms': <matter.atoms.AtomsInBox at 0x128ee2900>,\n",
       "   'field': <field.electromagnetic.CavityVectorPotential at 0x1251cb200>},\n",
       "  66: {'atoms': <matter.atoms.AtomsInBox at 0x1243237d0>,\n",
       "   'field': <field.electromagnetic.CavityVectorPotential at 0x12128b890>},\n",
       "  64: {'atoms': <matter.atoms.AtomsInBox at 0x11f64ba40>,\n",
       "   'field': <field.electromagnetic.CavityVectorPotential at 0x132bd85c0>},\n",
       "  62: {'atoms': <matter.atoms.AtomsInBox at 0x1274bccb0>,\n",
       "   'field': <field.electromagnetic.CavityVectorPotential at 0x1223ca150>},\n",
       "  60: {'atoms': <matter.atoms.AtomsInBox at 0x1218b8d10>,\n",
       "   'field': <field.electromagnetic.CavityVectorPotential at 0x12d87c530>},\n",
       "  58: {'atoms': <matter.atoms.AtomsInBox at 0x12deb2270>,\n",
       "   'field': <field.electromagnetic.CavityVectorPotential at 0x12766e330>},\n",
       "  56: {'atoms': <matter.atoms.AtomsInBox at 0x127150500>,\n",
       "   'field': <field.electromagnetic.CavityVectorPotential at 0x120e91dc0>},\n",
       "  54: {'atoms': <matter.atoms.AtomsInBox at 0x11f8f4b90>,\n",
       "   'field': <field.electromagnetic.CavityVectorPotential at 0x12c360530>},\n",
       "  52: {'atoms': <matter.atoms.AtomsInBox at 0x1304d4350>,\n",
       "   'field': <field.electromagnetic.CavityVectorPotential at 0x125be2300>},\n",
       "  50: {'atoms': <matter.atoms.AtomsInBox at 0x125c23470>,\n",
       "   'field': <field.electromagnetic.CavityVectorPotential at 0x122b105f0>},\n",
       "  48: {'atoms': <matter.atoms.AtomsInBox at 0x11fb04fe0>,\n",
       "   'field': <field.electromagnetic.CavityVectorPotential at 0x12c7c37a0>},\n",
       "  46: {'atoms': <matter.atoms.AtomsInBox at 0x127806cf0>,\n",
       "   'field': <field.electromagnetic.CavityVectorPotential at 0x124b93d10>},\n",
       "  44: {'atoms': <matter.atoms.AtomsInBox at 0x1228c6690>,\n",
       "   'field': <field.electromagnetic.CavityVectorPotential at 0x12b93aab0>},\n",
       "  42: {'atoms': <matter.atoms.AtomsInBox at 0x12e294e30>,\n",
       "   'field': <field.electromagnetic.CavityVectorPotential at 0x12f90a330>},\n",
       "  40: {'atoms': <matter.atoms.AtomsInBox at 0x12ff14f20>,\n",
       "   'field': <field.electromagnetic.CavityVectorPotential at 0x1285d9280>},\n",
       "  38: {'atoms': <matter.atoms.AtomsInBox at 0x1258d5580>,\n",
       "   'field': <field.electromagnetic.CavityVectorPotential at 0x12138d6a0>},\n",
       "  36: {'atoms': <matter.atoms.AtomsInBox at 0x11fd03860>,\n",
       "   'field': <field.electromagnetic.CavityVectorPotential at 0x12b1410a0>},\n",
       "  34: {'atoms': <matter.atoms.AtomsInBox at 0x12b3bddf0>,\n",
       "   'field': <field.electromagnetic.CavityVectorPotential at 0x12e5dda90>},\n",
       "  32: {'atoms': <matter.atoms.AtomsInBox at 0x12fcb9a30>,\n",
       "   'field': <field.electromagnetic.CavityVectorPotential at 0x1202cedb0>},\n",
       "  30: {'atoms': <matter.atoms.AtomsInBox at 0x12b67b8c0>,\n",
       "   'field': <field.electromagnetic.CavityVectorPotential at 0x12bf258e0>},\n",
       "  28: {'atoms': <matter.atoms.AtomsInBox at 0x12cc3ca40>,\n",
       "   'field': <field.electromagnetic.CavityVectorPotential at 0x12f060b00>},\n",
       "  26: {'atoms': <matter.atoms.AtomsInBox at 0x12f764cb0>,\n",
       "   'field': <field.electromagnetic.CavityVectorPotential at 0x130b0deb0>},\n",
       "  24: {'atoms': <matter.atoms.AtomsInBox at 0x131294920>,\n",
       "   'field': <field.electromagnetic.CavityVectorPotential at 0x121545ca0>},\n",
       "  22: {'atoms': <matter.atoms.AtomsInBox at 0x12b2fa7b0>,\n",
       "   'field': <field.electromagnetic.CavityVectorPotential at 0x12c4c5c10>},\n",
       "  20: {'atoms': <matter.atoms.AtomsInBox at 0x12ca47770>,\n",
       "   'field': <field.electromagnetic.CavityVectorPotential at 0x12f700b30>},\n",
       "  18: {'atoms': <matter.atoms.AtomsInBox at 0x130979640>,\n",
       "   'field': <field.electromagnetic.CavityVectorPotential at 0x12700e9c0>},\n",
       "  16: {'atoms': <matter.atoms.AtomsInBox at 0x1201374d0>,\n",
       "   'field': <field.electromagnetic.CavityVectorPotential at 0x12f4cc890>},\n",
       "  14: {'atoms': <matter.atoms.AtomsInBox at 0x1203613a0>,\n",
       "   'field': <field.electromagnetic.CavityVectorPotential at 0x1216a07a0>},\n",
       "  12: {'atoms': <matter.atoms.AtomsInBox at 0x11fd802f0>,\n",
       "   'field': <field.electromagnetic.CavityVectorPotential at 0x12193aab0>},\n",
       "  10: {'atoms': <matter.atoms.AtomsInBox at 0x120dba030>,\n",
       "   'field': <field.electromagnetic.CavityVectorPotential at 0x128e1b380>}}}"
      ]
     },
     "execution_count": 9,
     "metadata": {},
     "output_type": "execute_result"
    }
   ],
   "source": [
    "result_dict"
   ]
  },
  {
   "cell_type": "code",
   "execution_count": null,
   "id": "6b3a5fc5-041f-4b51-ae2b-af9f02ad0d8e",
   "metadata": {},
   "outputs": [],
   "source": [
    "print('coupling strength & h & total kinetic energy')\n",
    "for i, (ct, dict1) in enumerate(single_collision_multimode_data.items()):\n",
    "    for j, (h, data) in enumerate(dict1.items()):\n",
    "        \n",
    "        print(\"{} & {} & {} \\\\\\\\ \".format(ct, h, data[-1]))"
   ]
  },
  {
   "cell_type": "code",
   "execution_count": null,
   "id": "3ff2e5ea-8ff6-4a42-958c-6520f10daf40",
   "metadata": {},
   "outputs": [],
   "source": [
    "h = 1.0\n",
    "coup_str = 15\n",
    "\n",
    "atoms = single_collision_multimode_data[coup_str][h][0]['last']['atoms']\n",
    "\n",
    "coltime = np.array(atm.get_colliding_time(atoms, 0))\n",
    "result_idx = np.argmax(coltime)\n",
    "print(coltime[result_idx])\n",
    "\n",
    "field = single_collision_multimode_data[coup_str][h][0]['last']['field']\n",
    "\n",
    "N_pairs = int(len(atoms.r)/2)\n",
    "\n",
    "r_ar = np.array(atoms.trajectory['r'])[:,result_idx]\n",
    "r_xe = np.array(atoms.trajectory['r'])[:,result_idx + N_pairs]\n",
    "\n",
    "v_ar = np.array(atoms.trajectory['r_dot'])[:,result_idx]\n",
    "v_xe = np.array(atoms.trajectory['r_dot'])[:,result_idx + N_pairs]\n",
    "\n",
    "t = np.array(atoms.trajectory['t'])"
   ]
  },
  {
   "cell_type": "code",
   "execution_count": null,
   "id": "e130dcef-8516-4c57-a250-de847e3f804b",
   "metadata": {},
   "outputs": [],
   "source": [
    "from calculator.function import LJ_potential\n",
    "\n",
    "k = 0.5 * red.mass_dict['Ar'] * np.einsum('ni,ni->n',v_ar,v_ar)\\\n",
    "    + 0.5 * red.mass_dict['Xe'] * np.einsum('ni,ni->n',v_xe,v_xe)\n",
    "k = red.convert_energy(k,'ev') * 1e3\n",
    "\n",
    "d_arxe = r_ar - r_xe\n",
    "d_arxe = np.sqrt(np.einsum('ni,ni->n',d_arxe,d_arxe))\n",
    "v = LJ_potential(red.sigma_Ar_Xe, red.epsilon_Ar_Xe, d_arxe)\n",
    "v = red.convert_energy(v,'ev') * 1e3\n",
    "\n",
    "hem = red.convert_energy(\n",
    "    np.sum(field.history['energy'],axis = 1), 'ev') * 1e3\n",
    "tem = field.history['t']\n",
    "\n",
    "fig,ax = plt.subplots(3,figsize = (10,12))\n",
    "#ax[0].plot(t[200:], d[200:])\n",
    "ax[0].plot(t, k)\n",
    "ax[1].plot(t, v)\n",
    "ax[2].plot(tem[300:], hem[300:])\n",
    "\n",
    "#ax[0].set_xlim(t[0],t[-1])\n",
    "ax[0].set_xlim(t[300],t[-1])\n",
    "ax[1].set_xlim(t[300],t[-1])\n",
    "ax[2].set_xlim(tem[300],tem[-1])\n",
    "\n",
    "ax[0].xaxis.set_major_locator(MultipleLocator(5))\n",
    "ax[0].xaxis.set_major_formatter('{x:.0f}')\n",
    "\n",
    "ax[1].xaxis.set_major_locator(MultipleLocator(5))\n",
    "ax[1].xaxis.set_major_formatter('{x:.0f}')\n",
    "\n",
    "ax[2].xaxis.set_major_locator(MultipleLocator(5))\n",
    "ax[2].xaxis.set_major_formatter('{x:.0f}')\n",
    "\n",
    "#ax[0].set_ylabel(r'Ar-Xe distance (nm)')\n",
    "ax[0].set_ylabel(r'Kinetic energy ($10^{-3}$ eV)')\n",
    "ax[1].set_ylabel(r'Potential energy ($10^{-3}$ eV)')\n",
    "ax[2].set_ylabel(r'Total cavity modes energy ($10^{-3}$ eV)')\n",
    "\n",
    "ax[2].set_xlabel('Time (ps)')\n",
    "\n",
    "ax[0].annotate('(a)',xy = (0.9,0.9), xycoords = 'axes fraction')\n",
    "ax[1].annotate('(b)',xy = (0.9,0.9), xycoords = 'axes fraction')\n",
    "ax[2].annotate('(c)',xy = (0.9,0.9), xycoords = 'axes fraction')\n",
    "\n",
    "#fig.savefig(fig_root + 'energy_breakdown.jpeg',dpi=600, bbox_inches = 'tight')"
   ]
  },
  {
   "cell_type": "code",
   "execution_count": null,
   "id": "22f6c4f9-19e9-4bff-9a72-343f6c9f8274",
   "metadata": {},
   "outputs": [],
   "source": [
    "an = importlib.reload(an)\n",
    "\n",
    "an.single_anime(atoms, index = 0 , N_pairs = N_pairs, save_path = 'figure2/longest_single_anime')"
   ]
  },
  {
   "cell_type": "code",
   "execution_count": null,
   "id": "61858bc7-7c32-4f72-af08-1038006f9226",
   "metadata": {},
   "outputs": [],
   "source": []
  },
  {
   "cell_type": "code",
   "execution_count": null,
   "id": "97100e42-2e4d-45ef-acea-d90371f06294",
   "metadata": {},
   "outputs": [],
   "source": []
  },
  {
   "cell_type": "code",
   "execution_count": null,
   "id": "2686f420-a001-4777-8bcf-28f00bf9c882",
   "metadata": {},
   "outputs": [],
   "source": []
  },
  {
   "cell_type": "code",
   "execution_count": null,
   "id": "77e012a9-c75d-434d-9012-a3cef35523ee",
   "metadata": {},
   "outputs": [],
   "source": []
  },
  {
   "cell_type": "code",
   "execution_count": null,
   "id": "bdb82835-f259-4790-8ae5-1a0da24a9a2a",
   "metadata": {},
   "outputs": [],
   "source": []
  },
  {
   "cell_type": "code",
   "execution_count": null,
   "id": "f10155ea-abc0-4d9a-9ac6-afda553c2c80",
   "metadata": {},
   "outputs": [],
   "source": []
  },
  {
   "cell_type": "code",
   "execution_count": null,
   "id": "14930c45-f299-42ac-bb9d-4c4285c0ecef",
   "metadata": {},
   "outputs": [],
   "source": []
  },
  {
   "cell_type": "code",
   "execution_count": null,
   "id": "95d72205-9cbe-40e0-9e15-2876b024c485",
   "metadata": {},
   "outputs": [],
   "source": []
  },
  {
   "cell_type": "code",
   "execution_count": null,
   "id": "006eb184-0323-4755-a4c1-fdd5abdf277b",
   "metadata": {},
   "outputs": [],
   "source": []
  },
  {
   "cell_type": "code",
   "execution_count": null,
   "id": "9c79e866-4529-480f-8457-0b7a06c4c9f1",
   "metadata": {},
   "outputs": [],
   "source": []
  },
  {
   "cell_type": "code",
   "execution_count": null,
   "id": "163f8a84-0a5c-42df-8fbe-a4953f1915a6",
   "metadata": {},
   "outputs": [],
   "source": []
  }
 ],
 "metadata": {
  "kernelspec": {
   "display_name": "Python 3 (ipykernel)",
   "language": "python",
   "name": "python3"
  },
  "language_info": {
   "codemirror_mode": {
    "name": "ipython",
    "version": 3
   },
   "file_extension": ".py",
   "mimetype": "text/x-python",
   "name": "python",
   "nbconvert_exporter": "python",
   "pygments_lexer": "ipython3",
   "version": "3.12.3"
  }
 },
 "nbformat": 4,
 "nbformat_minor": 5
}
