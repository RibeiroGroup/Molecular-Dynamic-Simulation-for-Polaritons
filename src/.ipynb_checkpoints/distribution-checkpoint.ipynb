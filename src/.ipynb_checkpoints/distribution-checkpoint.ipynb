{
 "cells": [
  {
   "cell_type": "code",
   "execution_count": 1,
   "id": "4b0a2c27-84c4-48f9-a485-b9eacf557ca0",
   "metadata": {},
   "outputs": [],
   "source": [
    "import os, sys, importlib\n",
    "\n",
    "import numpy as np\n",
    "import matplotlib.pyplot as plt\n",
    "\n",
    "from scipy.stats import maxwell as Maxwell, chi as Chi\n",
    "\n",
    "import utilities.reduced_parameter as red\n",
    "import field.electromagnetic as EM"
   ]
  },
  {
   "cell_type": "markdown",
   "id": "1ac14243-a181-48ef-9b34-006f40b8210a",
   "metadata": {},
   "source": [
    "The Maxwell distribution has the form:  \n",
    "\n",
    "\\begin{equation}\n",
    "    f(v) = \\sqrt{\\frac{2}{\\pi}} \\frac{v^2}{a^3} \\exp\\left(-\\frac{v^2}{2a^2}\\right)\n",
    "\\end{equation}\n",
    "\n",
    "with $a = \\sqrt{m/(k_B T)}$, which is essentially the chi distribution with $k = 3$ and scale parameter $a = a$. The relation between Maxwell distribution and the general chi distribution has the form:\n",
    "\n",
    "\\begin{align*}\n",
    "    \\chi_k(x) &= \\frac{1}{2^{(k/2) - 1} \\Gamma(k/2)} x^{k-1} \\exp(- x^2/2)\n",
    "    \\\\\n",
    "    \\chi_3(x) &= \\sqrt{\\frac{2}{\\pi}} x^2 \\exp(- x^2/2)\n",
    "    \\\\\n",
    "    f(v) &= \\chi_3(v/a)/a = \\sqrt{\\frac{2}{\\pi}} \\frac{v^2}{a^3} \\exp\\left(-\\frac{v^2}{2a^2}\\right)\n",
    "\\end{align*}\n",
    "\n",
    "with $\\Gamma(1/2) = \\sqrt{\\pi}$ and $\\Gamma(3/2) = (1/2) \\Gamma(1/2) = \\sqrt{\\pi}/2$. Thus Maxwell-Boltzmann distribution is equivalent to Chi-distribution with degree of freedom $k = 3$ and scale parameter $a = \\sqrt{m/(k_B T)}$."
   ]
  },
  {
   "cell_type": "code",
   "execution_count": null,
   "id": "3a6d4086-d226-4297-ac1b-3d6852fab1a3",
   "metadata": {},
   "outputs": [],
   "source": [
    "T = 292\n",
    "T = 292 / red.temp # convert to reduced temperature unit, kb = 1\n",
    "\n",
    "mass = red.mass_dict['Xe']\n",
    "\n",
    "a = np.sqrt(T / mass)\n",
    "\n",
    "maxwell_dist = Maxwell(scale = a)\n",
    "chi_dist = Chi(3, scale = a)\n",
    "\n",
    "fig, ax = plt.subplots(2)\n",
    "\n",
    "x = np.linspace(0,10,100)\n",
    "samples = maxwell_dist.rvs(size = 10000)\n",
    "\n",
    "ax[0].plot(x, maxwell_dist.pdf(x))\n",
    "\n",
    "ax[0].plot(x, chi_dist.pdf(x), linestyle = 'dotted')\n",
    "\n",
    "energy_samples = 0.5 * mass * samples**2 \n",
    "ax[1].hist(energy_samples, bins = np.arange(0,20,0.5))\n",
    "\n",
    "print(np.mean(energy_samples))\n",
    "print(T)"
   ]
  },
  {
   "cell_type": "markdown",
   "id": "dbb52923-4c93-4d01-bacc-949e9be050a0",
   "metadata": {},
   "source": [
    "A multi-TM0-modes cavity field has energy determined as:\n",
    "\\begin{align*}\n",
    "    E = \\frac{1}{2\\pi} \\sum_k \\frac{\\omega_k^2}{c^2} [\\Re(C_k)^2 + \\Im(C_k)^2] =  \\frac{1}{2\\pi}\\sum_k \\frac{\\omega_k^2}{c^2} (C_{kr}^2 + C_{ki}^2) \n",
    "\\end{align*}\n",
    "\n",
    "with the amplitude  \n",
    "\n",
    "\\begin{align*}\n",
    "    C_k &= \\Re(C_k) + i \\Im(C_k) \n",
    "    \\\\\n",
    "    &= C_{kr} + iC_{ki}\n",
    "    \\\\\n",
    "    & = C_{k0}[\\cos(\\theta) + i\\sin(\\theta)]\n",
    "\\end{align*}\n",
    "\n",
    "Since each mode have 2 degree of freedom, a chi-distribution with $k = 2$ can be used to sample for $C_{k0}$. More specifically:\n",
    "\\begin{align*}\n",
    "    f(C_{k0} ,\\theta) \\propto \\exp\\left( -\\frac{\\omega_k^2}{\\pi c^2 k_B T} \\frac{(C_{kr}^2 + C_{ki}^2)}{2}  \\right) dC_{kr} dC_{ki}\n",
    "\\end{align*}\n",
    "\n",
    "Normalizing the distribution give:\n",
    "\\begin{align*}\n",
    "    f(C_{k0} ,\\theta) &= \\frac{\\omega_k^2}{2\\pi^2 c^2 k_B T} \\exp\\left( -\\frac{\\omega_k^2}{\\pi c^2 k_B T} \n",
    "    \\frac{(C_{kr}^2 + C_{ki}^2)}{2}  \\right) dC_{kr} dC_{ki}\n",
    "    \\\\\n",
    "    &= \\frac{\\omega_k^2}{2\\pi^2 c^2 k_B T} C_{k0} \\exp\\left( -\\frac{\\omega_k^2}{\\pi c^2 k_B T} \n",
    "    \\frac{C_{k0}^2}{2}  \\right) dC_{k0} d\\theta\n",
    "\\end{align*}\n",
    "\n",
    "Finally, integrating out the theta from 0 to $2\\pi$ give:\n",
    "\\begin{align*}\n",
    "    f(C_{k0}) = \\frac{\\omega_k^2}{\\pi c^2 k_B T} C_{k0} \\exp\\left( -\\frac{\\omega_k^2}{\\pi c^2 k_B T} \n",
    "    \\frac{C_{k0}^2}{2}  \\right) dC_{k0}\n",
    "\\end{align*}\n",
    "\n",
    "\n",
    "which is a chi-distribution with $k=2$ and scale parameter $a = \\sqrt{\\pi c^2 k_B T/ \\omega_k^2} = \\sqrt{\\pi k_B T} / |k|$"
   ]
  },
  {
   "cell_type": "code",
   "execution_count": null,
   "id": "d77fd500-dbc7-45f1-bf3b-bc190bf1ae9b",
   "metadata": {},
   "outputs": [],
   "source": [
    "T = 292\n",
    "T = T / red.temp # convert to reduced temperature unit, kb = 1\n",
    "\n",
    "dof = 2 \n",
    "\n",
    "k_vec = np.array([0.1,0,0])\n",
    "k_val = np.sqrt(k_vec @ k_vec.T)\n",
    "\n",
    "ck0dist = Chi(2, scale = np.sqrt(T * np.pi) / k_val )\n",
    "\n",
    "x = np.linspace(0,50,100)\n",
    "samples = ck0dist.rvs(size = 100000)\n",
    "\n",
    "fig,ax = plt.subplots(2)\n",
    "\n",
    "ax[0].plot(x, ck0dist.pdf(x))\n",
    "tax = ax[0].twinx()\n",
    "tax.hist(samples, alpha = 0.5)\n",
    "\n",
    "energy_sample = k_val**2 * samples ** 2 / (2 * np.pi)\n",
    "ax[1].hist(energy_sample, bins = np.arange(0,15,0.1))\n",
    "\n",
    "print(np.mean(energy_sample) , T)\n",
    "np.mean(energy_sample) / dof"
   ]
  },
  {
   "cell_type": "code",
   "execution_count": null,
   "id": "32477ee5-3b1c-409d-8957-4888a4e376ce",
   "metadata": {},
   "outputs": [],
   "source": [
    "EM = importlib.reload(EM)"
   ]
  },
  {
   "cell_type": "code",
   "execution_count": 19,
   "id": "c57ae8a1-380e-487c-b227-ddc9f47be464",
   "metadata": {},
   "outputs": [
    {
     "name": "stderr",
     "output_type": "stream",
     "text": [
      "  5%|████████▎                                                                                                                                                              | 5/100 [00:00<00:04, 20.00it/s]"
     ]
    },
    {
     "name": "stdout",
     "output_type": "stream",
     "text": [
      "True\n",
      "Please make sure your temperature 2.437573378012797 is in reduced unit.\n",
      "True\n",
      "Please make sure your temperature 2.437573378012797 is in reduced unit.\n",
      "True\n",
      "Please make sure your temperature 2.437573378012797 is in reduced unit.\n",
      "True\n",
      "Please make sure your temperature 2.437573378012797 is in reduced unit.\n",
      "True\n",
      "Please make sure your temperature 2.437573378012797 is in reduced unit.\n",
      "True\n",
      "Please make sure your temperature 2.437573378012797 is in reduced unit.\n"
     ]
    },
    {
     "name": "stderr",
     "output_type": "stream",
     "text": [
      " 11%|██████████████████▎                                                                                                                                                   | 11/100 [00:00<00:04, 20.64it/s]"
     ]
    },
    {
     "name": "stdout",
     "output_type": "stream",
     "text": [
      "True\n",
      "Please make sure your temperature 2.437573378012797 is in reduced unit.\n",
      "True\n",
      "Please make sure your temperature 2.437573378012797 is in reduced unit.\n",
      "True\n",
      "Please make sure your temperature 2.437573378012797 is in reduced unit.\n",
      "True\n",
      "Please make sure your temperature 2.437573378012797 is in reduced unit.\n",
      "True\n",
      "Please make sure your temperature 2.437573378012797 is in reduced unit.\n",
      "True\n",
      "Please make sure your temperature 2.437573378012797 is in reduced unit.\n"
     ]
    },
    {
     "name": "stderr",
     "output_type": "stream",
     "text": [
      " 17%|████████████████████████████▏                                                                                                                                         | 17/100 [00:00<00:03, 21.03it/s]"
     ]
    },
    {
     "name": "stdout",
     "output_type": "stream",
     "text": [
      "True\n",
      "Please make sure your temperature 2.437573378012797 is in reduced unit.\n",
      "True\n",
      "Please make sure your temperature 2.437573378012797 is in reduced unit.\n",
      "True\n",
      "Please make sure your temperature 2.437573378012797 is in reduced unit.\n",
      "True\n",
      "Please make sure your temperature 2.437573378012797 is in reduced unit.\n",
      "True\n",
      "Please make sure your temperature 2.437573378012797 is in reduced unit.\n",
      "True\n",
      "Please make sure your temperature 2.437573378012797 is in reduced unit.\n"
     ]
    },
    {
     "name": "stderr",
     "output_type": "stream",
     "text": [
      " 23%|██████████████████████████████████████▏                                                                                                                               | 23/100 [00:01<00:03, 21.17it/s]"
     ]
    },
    {
     "name": "stdout",
     "output_type": "stream",
     "text": [
      "True\n",
      "Please make sure your temperature 2.437573378012797 is in reduced unit.\n",
      "True\n",
      "Please make sure your temperature 2.437573378012797 is in reduced unit.\n",
      "True\n",
      "Please make sure your temperature 2.437573378012797 is in reduced unit.\n",
      "True\n",
      "Please make sure your temperature 2.437573378012797 is in reduced unit.\n",
      "True\n",
      "Please make sure your temperature 2.437573378012797 is in reduced unit.\n",
      "True\n",
      "Please make sure your temperature 2.437573378012797 is in reduced unit.\n"
     ]
    },
    {
     "name": "stderr",
     "output_type": "stream",
     "text": [
      " 29%|████████████████████████████████████████████████▏                                                                                                                     | 29/100 [00:01<00:03, 21.25it/s]"
     ]
    },
    {
     "name": "stdout",
     "output_type": "stream",
     "text": [
      "True\n",
      "Please make sure your temperature 2.437573378012797 is in reduced unit.\n",
      "True\n",
      "Please make sure your temperature 2.437573378012797 is in reduced unit.\n",
      "True\n",
      "Please make sure your temperature 2.437573378012797 is in reduced unit.\n",
      "True\n",
      "Please make sure your temperature 2.437573378012797 is in reduced unit.\n",
      "True\n",
      "Please make sure your temperature 2.437573378012797 is in reduced unit.\n",
      "True\n",
      "Please make sure your temperature 2.437573378012797 is in reduced unit.\n"
     ]
    },
    {
     "name": "stderr",
     "output_type": "stream",
     "text": [
      " 35%|██████████████████████████████████████████████████████████                                                                                                            | 35/100 [00:01<00:03, 21.11it/s]"
     ]
    },
    {
     "name": "stdout",
     "output_type": "stream",
     "text": [
      "True\n",
      "Please make sure your temperature 2.437573378012797 is in reduced unit.\n",
      "True\n",
      "Please make sure your temperature 2.437573378012797 is in reduced unit.\n",
      "True\n",
      "Please make sure your temperature 2.437573378012797 is in reduced unit.\n",
      "True\n",
      "Please make sure your temperature 2.437573378012797 is in reduced unit.\n",
      "True\n",
      "Please make sure your temperature 2.437573378012797 is in reduced unit.\n",
      "True\n",
      "Please make sure your temperature 2.437573378012797 is in reduced unit.\n"
     ]
    },
    {
     "name": "stderr",
     "output_type": "stream",
     "text": [
      " 41%|████████████████████████████████████████████████████████████████████                                                                                                  | 41/100 [00:01<00:02, 21.06it/s]"
     ]
    },
    {
     "name": "stdout",
     "output_type": "stream",
     "text": [
      "True\n",
      "Please make sure your temperature 2.437573378012797 is in reduced unit.\n",
      "True\n",
      "Please make sure your temperature 2.437573378012797 is in reduced unit.\n",
      "True\n",
      "Please make sure your temperature 2.437573378012797 is in reduced unit.\n",
      "True\n",
      "Please make sure your temperature 2.437573378012797 is in reduced unit.\n",
      "True\n",
      "Please make sure your temperature 2.437573378012797 is in reduced unit.\n",
      "True\n",
      "Please make sure your temperature 2.437573378012797 is in reduced unit.\n"
     ]
    },
    {
     "name": "stderr",
     "output_type": "stream",
     "text": [
      " 47%|██████████████████████████████████████████████████████████████████████████████                                                                                        | 47/100 [00:02<00:02, 21.14it/s]"
     ]
    },
    {
     "name": "stdout",
     "output_type": "stream",
     "text": [
      "True\n",
      "Please make sure your temperature 2.437573378012797 is in reduced unit.\n",
      "True\n",
      "Please make sure your temperature 2.437573378012797 is in reduced unit.\n",
      "True\n",
      "Please make sure your temperature 2.437573378012797 is in reduced unit.\n",
      "True\n",
      "Please make sure your temperature 2.437573378012797 is in reduced unit.\n",
      "True\n",
      "Please make sure your temperature 2.437573378012797 is in reduced unit.\n",
      "True\n",
      "Please make sure your temperature 2.437573378012797 is in reduced unit.\n"
     ]
    },
    {
     "name": "stderr",
     "output_type": "stream",
     "text": [
      " 53%|███████████████████████████████████████████████████████████████████████████████████████▉                                                                              | 53/100 [00:02<00:02, 21.09it/s]"
     ]
    },
    {
     "name": "stdout",
     "output_type": "stream",
     "text": [
      "True\n",
      "Please make sure your temperature 2.437573378012797 is in reduced unit.\n",
      "True\n",
      "Please make sure your temperature 2.437573378012797 is in reduced unit.\n",
      "True\n",
      "Please make sure your temperature 2.437573378012797 is in reduced unit.\n",
      "True\n",
      "Please make sure your temperature 2.437573378012797 is in reduced unit.\n",
      "True\n",
      "Please make sure your temperature 2.437573378012797 is in reduced unit.\n",
      "True\n",
      "Please make sure your temperature 2.437573378012797 is in reduced unit.\n"
     ]
    },
    {
     "name": "stderr",
     "output_type": "stream",
     "text": [
      " 59%|█████████████████████████████████████████████████████████████████████████████████████████████████▉                                                                    | 59/100 [00:02<00:01, 21.36it/s]"
     ]
    },
    {
     "name": "stdout",
     "output_type": "stream",
     "text": [
      "True\n",
      "Please make sure your temperature 2.437573378012797 is in reduced unit.\n",
      "True\n",
      "Please make sure your temperature 2.437573378012797 is in reduced unit.\n",
      "True\n",
      "Please make sure your temperature 2.437573378012797 is in reduced unit.\n",
      "True\n",
      "Please make sure your temperature 2.437573378012797 is in reduced unit.\n",
      "True\n",
      "Please make sure your temperature 2.437573378012797 is in reduced unit.\n",
      "True\n",
      "Please make sure your temperature 2.437573378012797 is in reduced unit.\n"
     ]
    },
    {
     "name": "stderr",
     "output_type": "stream",
     "text": [
      " 65%|███████████████████████████████████████████████████████████████████████████████████████████████████████████▉                                                          | 65/100 [00:03<00:01, 21.12it/s]"
     ]
    },
    {
     "name": "stdout",
     "output_type": "stream",
     "text": [
      "True\n",
      "Please make sure your temperature 2.437573378012797 is in reduced unit.\n",
      "True\n",
      "Please make sure your temperature 2.437573378012797 is in reduced unit.\n",
      "True\n",
      "Please make sure your temperature 2.437573378012797 is in reduced unit.\n",
      "True\n",
      "Please make sure your temperature 2.437573378012797 is in reduced unit.\n",
      "True\n",
      "Please make sure your temperature 2.437573378012797 is in reduced unit.\n",
      "True\n",
      "Please make sure your temperature 2.437573378012797 is in reduced unit.\n"
     ]
    },
    {
     "name": "stderr",
     "output_type": "stream",
     "text": [
      " 71%|█████████████████████████████████████████████████████████████████████████████████████████████████████████████████████▊                                                | 71/100 [00:03<00:01, 21.16it/s]"
     ]
    },
    {
     "name": "stdout",
     "output_type": "stream",
     "text": [
      "True\n",
      "Please make sure your temperature 2.437573378012797 is in reduced unit.\n",
      "True\n",
      "Please make sure your temperature 2.437573378012797 is in reduced unit.\n",
      "True\n",
      "Please make sure your temperature 2.437573378012797 is in reduced unit.\n",
      "True\n",
      "Please make sure your temperature 2.437573378012797 is in reduced unit.\n",
      "True\n",
      "Please make sure your temperature 2.437573378012797 is in reduced unit.\n",
      "True\n",
      "Please make sure your temperature 2.437573378012797 is in reduced unit.\n"
     ]
    },
    {
     "name": "stderr",
     "output_type": "stream",
     "text": [
      " 77%|███████████████████████████████████████████████████████████████████████████████████████████████████████████████████████████████▊                                      | 77/100 [00:03<00:01, 21.04it/s]"
     ]
    },
    {
     "name": "stdout",
     "output_type": "stream",
     "text": [
      "True\n",
      "Please make sure your temperature 2.437573378012797 is in reduced unit.\n",
      "True\n",
      "Please make sure your temperature 2.437573378012797 is in reduced unit.\n",
      "True\n",
      "Please make sure your temperature 2.437573378012797 is in reduced unit.\n",
      "True\n",
      "Please make sure your temperature 2.437573378012797 is in reduced unit.\n",
      "True\n",
      "Please make sure your temperature 2.437573378012797 is in reduced unit.\n",
      "True\n",
      "Please make sure your temperature 2.437573378012797 is in reduced unit.\n"
     ]
    },
    {
     "name": "stderr",
     "output_type": "stream",
     "text": [
      " 83%|█████████████████████████████████████████████████████████████████████████████████████████████████████████████████████████████████████████▊                            | 83/100 [00:03<00:00, 20.99it/s]"
     ]
    },
    {
     "name": "stdout",
     "output_type": "stream",
     "text": [
      "True\n",
      "Please make sure your temperature 2.437573378012797 is in reduced unit.\n",
      "True\n",
      "Please make sure your temperature 2.437573378012797 is in reduced unit.\n",
      "True\n",
      "Please make sure your temperature 2.437573378012797 is in reduced unit.\n",
      "True\n",
      "Please make sure your temperature 2.437573378012797 is in reduced unit.\n",
      "True\n",
      "Please make sure your temperature 2.437573378012797 is in reduced unit.\n",
      "True\n",
      "Please make sure your temperature 2.437573378012797 is in reduced unit.\n"
     ]
    },
    {
     "name": "stderr",
     "output_type": "stream",
     "text": [
      " 89%|███████████████████████████████████████████████████████████████████████████████████████████████████████████████████████████████████████████████████▋                  | 89/100 [00:04<00:00, 20.77it/s]"
     ]
    },
    {
     "name": "stdout",
     "output_type": "stream",
     "text": [
      "True\n",
      "Please make sure your temperature 2.437573378012797 is in reduced unit.\n",
      "True\n",
      "Please make sure your temperature 2.437573378012797 is in reduced unit.\n",
      "True\n",
      "Please make sure your temperature 2.437573378012797 is in reduced unit.\n",
      "True\n",
      "Please make sure your temperature 2.437573378012797 is in reduced unit.\n",
      "True\n",
      "Please make sure your temperature 2.437573378012797 is in reduced unit.\n",
      "True\n",
      "Please make sure your temperature 2.437573378012797 is in reduced unit.\n"
     ]
    },
    {
     "name": "stderr",
     "output_type": "stream",
     "text": [
      " 95%|█████████████████████████████████████████████████████████████████████████████████████████████████████████████████████████████████████████████████████████████▋        | 95/100 [00:04<00:00, 21.01it/s]"
     ]
    },
    {
     "name": "stdout",
     "output_type": "stream",
     "text": [
      "True\n",
      "Please make sure your temperature 2.437573378012797 is in reduced unit.\n",
      "True\n",
      "Please make sure your temperature 2.437573378012797 is in reduced unit.\n",
      "True\n",
      "Please make sure your temperature 2.437573378012797 is in reduced unit.\n",
      "True\n",
      "Please make sure your temperature 2.437573378012797 is in reduced unit.\n",
      "True\n",
      "Please make sure your temperature 2.437573378012797 is in reduced unit.\n",
      "True\n",
      "Please make sure your temperature 2.437573378012797 is in reduced unit.\n"
     ]
    },
    {
     "name": "stderr",
     "output_type": "stream",
     "text": [
      "100%|█████████████████████████████████████████████████████████████████████████████████████████████████████████████████████████████████████████████████████████████████████| 100/100 [00:04<00:00, 21.04it/s]"
     ]
    },
    {
     "name": "stdout",
     "output_type": "stream",
     "text": [
      "True\n",
      "Please make sure your temperature 2.437573378012797 is in reduced unit.\n",
      "True\n",
      "Please make sure your temperature 2.437573378012797 is in reduced unit.\n",
      "True\n",
      "Please make sure your temperature 2.437573378012797 is in reduced unit.\n",
      "True\n",
      "Please make sure your temperature 2.437573378012797 is in reduced unit.\n"
     ]
    },
    {
     "name": "stderr",
     "output_type": "stream",
     "text": [
      "\n"
     ]
    }
   ],
   "source": [
    "from tqdm import tqdm\n",
    "\n",
    "all_cav_energy = []\n",
    "for i in tqdm(range(100)):\n",
    "    k_vector_int = np.array([[i,0,0] for i in range(1,100)])\n",
    "    \n",
    "    Lxy = 3e7; Lz = 3e3\n",
    "    \n",
    "    cavity_field = EM.CavityVectorPotential(\n",
    "        k_vector_int, amplitude = 'boltzmann', Lxy = Lxy, Lz = Lz, constant_c = red.c, coupling_strength = 1, T = 292 / red.temp\n",
    "    )\n",
    "    \n",
    "    all_cav_energy.append(\n",
    "        cavity_field.hamiltonian())\n",
    "\n",
    "all_cav_energy = np.hstack(all_cav_energy)"
   ]
  },
  {
   "cell_type": "code",
   "execution_count": 23,
   "id": "e009fab9-0e2d-453f-8fa5-6d43b9f67140",
   "metadata": {},
   "outputs": [
    {
     "data": {
      "text/plain": [
       "2.437573378012797"
      ]
     },
     "execution_count": 23,
     "metadata": {},
     "output_type": "execute_result"
    }
   ],
   "source": [
    "292 / red.temp"
   ]
  },
  {
   "cell_type": "code",
   "execution_count": 24,
   "id": "fd86a58d-fcbb-48b2-b0e0-e2f49f13dc52",
   "metadata": {},
   "outputs": [
    {
     "data": {
      "text/plain": [
       "(2.4354325167447524+0j)"
      ]
     },
     "execution_count": 24,
     "metadata": {},
     "output_type": "execute_result"
    }
   ],
   "source": [
    "np.mean(all_cav_energy) / 2"
   ]
  },
  {
   "cell_type": "code",
   "execution_count": 27,
   "id": "1ef6dde0-bc9f-4847-8f13-dd4b6bbd6f43",
   "metadata": {},
   "outputs": [
    {
     "name": "stderr",
     "output_type": "stream",
     "text": [
      "/home/ribeirogroup/miniconda3/envs/polariton_mm/lib/python3.12/site-packages/matplotlib/cbook.py:1699: ComplexWarning: Casting complex values to real discards the imaginary part\n",
      "  return math.isfinite(val)\n"
     ]
    },
    {
     "data": {
      "image/png": "[encoded data removed]",
      "text/plain": [
       "<Figure size 640x480 with 1 Axes>"
      ]
     },
     "metadata": {},
     "output_type": "display_data"
    }
   ],
   "source": [
    "fig,ax = plt.subplots()\n",
    "\n",
    "ax.hist( all_cav_energy , bins = np.arange(0,20,0.1))\n",
    "ax.set_xlabel('Energy of cavity mode (reduced unit)')\n",
    "ax.set_ylabel('Frequency')\n",
    "\n",
    "fig.savefig('mode_dist.jpeg',dpi = 600)"
   ]
  },
  {
   "cell_type": "code",
   "execution_count": null,
   "id": "b69fa8d3-b468-4ce8-b067-94c07240b49b",
   "metadata": {},
   "outputs": [],
   "source": [
    "T = 292 / red.temp\n",
    "\n",
    "amplitude = []\n",
    "\n",
    "for i, kvec in enumerate(cavity_field.k_vector):\n",
    "    kval = cavity_field.k_val[i]\n",
    "\n",
    "    chi2_dist = Chi(2, scale = np.sqrt(T * np.pi) / kval)\n",
    "    ck0 = chi2_dist.rvs(size = 2)\n",
    "\n",
    "    theta = np.random.uniform(0, np.pi * 2)\n",
    "    C = np.array([\n",
    "        ck0[0] * (np.cos(theta) + 1j * np.sin(theta)),\n",
    "        ck0[1] * (np.cos(theta) + 1j * np.sin(theta))\n",
    "    ])\n",
    "    \n",
    "    amplitude.append(C)\n",
    "\n",
    "amplitude = np.array(amplitude)"
   ]
  },
  {
   "cell_type": "code",
   "execution_count": null,
   "id": "198c4558-050e-4463-b5d8-1bfe9584da61",
   "metadata": {},
   "outputs": [],
   "source": [
    "cavity_field.update_amplitude(amplitude)"
   ]
  },
  {
   "cell_type": "code",
   "execution_count": null,
   "id": "72d62aff-7687-4080-bf0b-a19ce328596e",
   "metadata": {},
   "outputs": [],
   "source": [
    "np.mean( cavity_field.hamiltonian() / 2 )"
   ]
  },
  {
   "cell_type": "code",
   "execution_count": null,
   "id": "4b9b693a-49c7-42d7-b9ac-93d8f1b2b8a1",
   "metadata": {},
   "outputs": [],
   "source": [
    "cavity_field(0, np.array([[0,0,0],[1e5,-1e3,1e4]]))"
   ]
  },
  {
   "cell_type": "code",
   "execution_count": null,
   "id": "f1205b55-cf75-4a8b-b3b5-ceb3b1e80495",
   "metadata": {},
   "outputs": [],
   "source": []
  }
 ],
 "metadata": {
  "kernelspec": {
   "display_name": "Python 3 (ipykernel)",
   "language": "python",
   "name": "python3"
  },
  "language_info": {
   "codemirror_mode": {
    "name": "ipython",
    "version": 3
   },
   "file_extension": ".py",
   "mimetype": "text/x-python",
   "name": "python",
   "nbconvert_exporter": "python",
   "pygments_lexer": "ipython3",
   "version": "3.12.0"
  }
 },
 "nbformat": 4,
 "nbformat_minor": 5
}
