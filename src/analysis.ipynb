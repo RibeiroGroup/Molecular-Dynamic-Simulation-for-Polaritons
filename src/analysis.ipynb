{
 "cells": [
  {
   "cell_type": "code",
   "execution_count": 54,
   "id": "508f6747-2873-4c61-b15f-9cfb049d84f8",
   "metadata": {},
   "outputs": [],
   "source": [
    "import pickle \n",
    "import os, sys, glob\n",
    "import importlib\n",
    "from copy import deepcopy\n",
    "\n",
    "import numpy as np\n",
    "import matplotlib.pyplot as plt\n",
    "import pandas as pd\n",
    "\n",
    "from field.utils import profiling_rad\n",
    "\n",
    "import analyze_tools.monte_carlo as mc\n",
    "from analyze_tools.monte_carlo import get_colliding_time\n",
    "from utilities.etc import categorizing_pickle\n",
    "import utilities.reduced_parameter as red\n"
   ]
  },
  {
   "cell_type": "code",
   "execution_count": 2,
   "id": "9a629b86-8483-4ba6-b246-bca1b1855890",
   "metadata": {},
   "outputs": [],
   "source": [
    "root = \"/Users/macbook/OneDrive - Emory/Research data/mm_polariton/pickle_jar\"\n",
    "pickled_archive_list = [\n",
    "    \"/result_Jul10th_2024_1421_mu1e3\", #0\n",
    "    \"/result_Jul11st_2024_0928\", #1\n",
    "    \"/result_Jul11st_2024_1319\", #2\n",
    "    \"/result_Jul12nd_2024_0939\", #3 \n",
    "    \"/result_Jul13th_2024_0956\", #4\n",
    "    \"/result_Jul15th_2024_0902\", #5\n",
    "    \"/result_Jul15th_2024_1536\", #6\n",
    "    \"/result_Jul16th_2024_1033\", #7\n",
    "    \"/result_Jul16th_2024_1539\", #8\n",
    "    \"/result_Jul17th_2024_0922\"  #9\n",
    "]\n",
    "pickled_archive_list = [root + path for path in pickled_archive_list]"
   ]
  },
  {
   "cell_type": "code",
   "execution_count": 58,
   "id": "514bb367-318f-4b5b-812e-4758a14c6089",
   "metadata": {},
   "outputs": [],
   "source": [
    "pickle_idx = 7\n",
    "cavity_file_dict = categorizing_pickle(pickled_archive_list[pickle_idx], KEYWORDS = \"cavity\")\n",
    "free_file_dict = categorizing_pickle(pickled_archive_list[pickle_idx], KEYWORDS = \"free\")"
   ]
  },
  {
   "cell_type": "code",
   "execution_count": 59,
   "id": "5d00eed9-4a0f-4869-90fe-89edbc4946b7",
   "metadata": {},
   "outputs": [
    {
     "data": {
      "text/plain": [
       "'/Users/macbook/OneDrive - Emory/Research data/mm_polariton/pickle_jar/result_Jul16th_2024_1033'"
      ]
     },
     "execution_count": 59,
     "metadata": {},
     "output_type": "execute_result"
    }
   ],
   "source": [
    "pickled_archive_list[pickle_idx]"
   ]
  },
  {
   "cell_type": "code",
   "execution_count": 60,
   "id": "40819da1-143f-4064-8e22-d9259071e785",
   "metadata": {},
   "outputs": [
    {
     "name": "stdout",
     "output_type": "stream",
     "text": [
      "325\n"
     ]
    }
   ],
   "source": [
    "# {max colliding time of sim cycle : {atoms, cavity, list of colliding time}}\n",
    "max_time_vs_sys = {}\n",
    "\n",
    "for i, PICKLE_PATH in cavity_file_dict.items():\n",
    "    with open(PICKLE_PATH, \"rb\") as handle:\n",
    "        result = pickle.load(handle)\n",
    "\n",
    "    atoms = result[\"atoms\"]\n",
    "    cavity_field = result[\"cavity_field\"]\n",
    "    mu0 = result[\"mu0\"]\n",
    "    colliding_time = mc.get_colliding_time(atoms, mu0, 1e-3)\n",
    "\n",
    "    max_time_vs_sys.update(\n",
    "        {max(colliding_time): (deepcopy(atoms), deepcopy(cavity_field), deepcopy(colliding_time))})\n",
    "    \n",
    "\n",
    "print(result['temperature'])"
   ]
  },
  {
   "cell_type": "code",
   "execution_count": 61,
   "id": "f8ccf82e-b4df-4089-a662-03a0b5d46f67",
   "metadata": {},
   "outputs": [],
   "source": [
    "# sorted maximum colliding time for each sim cycle\n",
    "sorted_sys_colliding_time = sorted(max_time_vs_sys.keys())"
   ]
  },
  {
   "cell_type": "code",
   "execution_count": 62,
   "id": "ac21b78a-c439-473c-af94-067d9e286098",
   "metadata": {},
   "outputs": [],
   "source": [
    "atoms, cavity_field, colliding_time = max_time_vs_sys[sorted_sys_colliding_time[-1]]"
   ]
  },
  {
   "cell_type": "code",
   "execution_count": 63,
   "id": "22e8788b-8d34-4d82-b448-a3c8e0c4e0ca",
   "metadata": {},
   "outputs": [],
   "source": [
    "sum_H = np.sum(cavity_field.history[\"energy\"], axis = 1)\n",
    "t = np.array(cavity_field.history['t']) * red.time_unit * 1e12"
   ]
  },
  {
   "cell_type": "code",
   "execution_count": 64,
   "id": "0ea0f939-2a26-4526-b924-c5be6df90fb4",
   "metadata": {},
   "outputs": [
    {
     "data": {
      "text/plain": [
       "[<matplotlib.lines.Line2D at 0x1250e0c50>]"
      ]
     },
     "execution_count": 64,
     "metadata": {},
     "output_type": "execute_result"
    },
    {
     "data": {
      "image/png": "[encoded data removed]",
      "text/plain": [
       "<Figure size 640x480 with 1 Axes>"
      ]
     },
     "metadata": {},
     "output_type": "display_data"
    }
   ],
   "source": [
    "fig, ax = plt.subplots()\n",
    "ax.plot(t, sum_H)\n",
    "#ax.set_xlim(88,92)"
   ]
  },
  {
   "cell_type": "code",
   "execution_count": 68,
   "id": "1ded24f4-1e32-4710-abc1-3468921cd7c7",
   "metadata": {},
   "outputs": [
    {
     "data": {
      "text/plain": [
       "array([0.04277118, 0.00066146, 0.02349164, 0.03873501, 0.07583702,\n",
       "       0.06794498, 0.02500244, 0.02952695, 0.10806639, 0.04608434,\n",
       "       0.09165964, 0.00064041, 0.0503635 , 0.07326459, 0.0103867 ,\n",
       "       0.04271538, 0.07956522, 0.04443724, 0.02571791, 0.02429103,\n",
       "       0.00154939, 0.01909769, 0.01960174, 0.02486855, 0.0169428 ,\n",
       "       0.09308559, 0.01093458, 0.00040725, 0.02432211, 0.02613669,\n",
       "       0.02885598, 0.02303335, 0.03232255])"
      ]
     },
     "execution_count": 68,
     "metadata": {},
     "output_type": "execute_result"
    }
   ],
   "source": [
    "cavity_field_hamiltonian = np.array(cavity_field.history[\"energy\"])\n",
    "np.std(cavity_field_hamiltonian[t > 225,:],axis = 0)"
   ]
  },
  {
   "cell_type": "code",
   "execution_count": 71,
   "id": "1ed6286d-794a-4da3-98fb-bc2bfa6e89fd",
   "metadata": {},
   "outputs": [
    {
     "name": "stderr",
     "output_type": "stream",
     "text": [
      "/Users/macbook/miniconda3/envs/polariton_mm/lib/python3.12/site-packages/matplotlib/cbook.py:1699: ComplexWarning: Casting complex values to real discards the imaginary part\n",
      "  return math.isfinite(val)\n",
      "/Users/macbook/miniconda3/envs/polariton_mm/lib/python3.12/site-packages/matplotlib/cbook.py:1345: ComplexWarning: Casting complex values to real discards the imaginary part\n",
      "  return np.asarray(x, float)\n"
     ]
    },
    {
     "data": {
      "text/plain": [
       "[<matplotlib.lines.Line2D at 0x12ba28680>,\n",
       " <matplotlib.lines.Line2D at 0x12ba28a70>,\n",
       " <matplotlib.lines.Line2D at 0x12ba3aba0>,\n",
       " <matplotlib.lines.Line2D at 0x12ba28350>,\n",
       " <matplotlib.lines.Line2D at 0x12ba3ac90>,\n",
       " <matplotlib.lines.Line2D at 0x12ba3aed0>,\n",
       " <matplotlib.lines.Line2D at 0x12ba3b080>,\n",
       " <matplotlib.lines.Line2D at 0x12ba3b110>,\n",
       " <matplotlib.lines.Line2D at 0x12ba3b380>,\n",
       " <matplotlib.lines.Line2D at 0x12ba3b4d0>,\n",
       " <matplotlib.lines.Line2D at 0x12ba3b560>,\n",
       " <matplotlib.lines.Line2D at 0x12ba3b740>,\n",
       " <matplotlib.lines.Line2D at 0x12ba3b890>,\n",
       " <matplotlib.lines.Line2D at 0x12ba3bbc0>,\n",
       " <matplotlib.lines.Line2D at 0x12ba3be30>,\n",
       " <matplotlib.lines.Line2D at 0x12ba3be90>,\n",
       " <matplotlib.lines.Line2D at 0x12ba3bd10>,\n",
       " <matplotlib.lines.Line2D at 0x12ba39340>,\n",
       " <matplotlib.lines.Line2D at 0x12ba3bfe0>,\n",
       " <matplotlib.lines.Line2D at 0x12ba3ba10>,\n",
       " <matplotlib.lines.Line2D at 0x12ba3bf50>,\n",
       " <matplotlib.lines.Line2D at 0x12bd37050>,\n",
       " <matplotlib.lines.Line2D at 0x12bd37fb0>,\n",
       " <matplotlib.lines.Line2D at 0x12bd37b00>,\n",
       " <matplotlib.lines.Line2D at 0x12bd36db0>,\n",
       " <matplotlib.lines.Line2D at 0x12bd37b60>,\n",
       " <matplotlib.lines.Line2D at 0x12bd36720>,\n",
       " <matplotlib.lines.Line2D at 0x12bd372c0>,\n",
       " <matplotlib.lines.Line2D at 0x12bd37b30>,\n",
       " <matplotlib.lines.Line2D at 0x12bd379e0>,\n",
       " <matplotlib.lines.Line2D at 0x12bd371d0>,\n",
       " <matplotlib.lines.Line2D at 0x12bd37290>,\n",
       " <matplotlib.lines.Line2D at 0x12bd369f0>]"
      ]
     },
     "execution_count": 71,
     "metadata": {},
     "output_type": "execute_result"
    },
    {
     "data": {
      "image/png": "[encoded data removed]",
      "text/plain": [
       "<Figure size 640x480 with 1 Axes>"
      ]
     },
     "metadata": {},
     "output_type": "display_data"
    }
   ],
   "source": [
    "fig, ax = plt.subplots()\n",
    "ax.plot(t, cavity_field_hamiltonian)"
   ]
  },
  {
   "cell_type": "code",
   "execution_count": null,
   "id": "8295d82c-db9f-4f09-847d-0b12e8e690c2",
   "metadata": {},
   "outputs": [],
   "source": []
  }
 ],
 "metadata": {
  "kernelspec": {
   "display_name": "Python 3 (ipykernel)",
   "language": "python",
   "name": "python3"
  },
  "language_info": {
   "codemirror_mode": {
    "name": "ipython",
    "version": 3
   },
   "file_extension": ".py",
   "mimetype": "text/x-python",
   "name": "python",
   "nbconvert_exporter": "python",
   "pygments_lexer": "ipython3",
   "version": "3.12.3"
  }
 },
 "nbformat": 4,
 "nbformat_minor": 5
}
