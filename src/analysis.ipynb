{
 "cells": [
  {
   "cell_type": "code",
   "execution_count": 16,
   "id": "508f6747-2873-4c61-b15f-9cfb049d84f8",
   "metadata": {},
   "outputs": [],
   "source": [
    "import pickle \n",
    "import os, sys, glob\n",
    "\n",
    "import numpy as np\n",
    "import matplotlib.pyplot as plt\n",
    "import pandas as pd\n",
    "\n",
    "from field.utils import profiling_rad"
   ]
  },
  {
   "cell_type": "code",
   "execution_count": 2,
   "id": "9a629b86-8483-4ba6-b246-bca1b1855890",
   "metadata": {},
   "outputs": [],
   "source": [
    "root = \"/Users/macbook/OneDrive - Emory/Research data/mm_polariton/pickle_jar\"\n",
    "pickled_archive_list = [\n",
    "    \"/result_Jul10th_2024_1421_mu1e3/*\", #0\n",
    "    \"/result_Jul11st_2024_0928/*\", #1\n",
    "    \"/result_Jul11st_2024_1319/*\", #2\n",
    "    \"/result_Jul12nd_2024_0939/*\", #3 \n",
    "    \"/result_Jul13th_2024_0956/*\", #4\n",
    "    \"/result_Jul15th_2024_0902/*\", #5\n",
    "    \"/result_Jul15th_2024_1536/*\", #6\n",
    "    \"/result_Jul16th_2024_1033/*\", #7\n",
    "    \"/result_Jul16th_2024_1539/*\", #8\n",
    "    \"/result_Jul17th_2024_0922/*\"  #9\n",
    "]\n",
    "pickled_archive_list = [root + path for path in pickled_archive_list]"
   ]
  },
  {
   "cell_type": "code",
   "execution_count": 3,
   "id": "514bb367-318f-4b5b-812e-4758a14c6089",
   "metadata": {},
   "outputs": [],
   "source": [
    "def get_all_file_from_path(path):\n",
    "    file_dict = {\"cavity\":{}, \"free\":{}}\n",
    "\n",
    "    for KEYWORDS in [\"free\",\"cavity\"]:\n",
    "        for file in glob.glob(path):\n",
    "\n",
    "            if os.path.isdir(file):\n",
    "                continue\n",
    "            elif KEYWORDS not in file or \"result\" not in file:\n",
    "                continue\n",
    "    \n",
    "            number = file.split(\".\")[0]\n",
    "            number = number.split(\"_\")[-1]\n",
    "            number = int(number)\n",
    "\n",
    "            file_dict[KEYWORDS][number] = file\n",
    "                \n",
    "    return file_dict\n",
    "\n",
    "def read_pickle(pickle_path):\n",
    "    with open(pickle_path,\"rb\") as handle:\n",
    "        result = pickle.load(handle)\n",
    "\n",
    "    return result\n",
    "\n",
    "def get_descriptor(file_dict):\n",
    "\n",
    "    descriptor = {}\n",
    "    \n",
    "    for KW in [\"free\",\"cavity\"]:\n",
    "        \n",
    "        last_file_path_key = len(file_dict[KW]) - 1\n",
    "        \n",
    "        for i,file_path in file_dict[KW].items():\n",
    "            \n",
    "            with open(file_path,\"rb\") as handle:\n",
    "                result = pickle.load(handle)\n",
    "\n",
    "            if i == last_file_path_key:\n",
    "                pass\n",
    "                \n"
   ]
  },
  {
   "cell_type": "code",
   "execution_count": 4,
   "id": "ed2ba12b-7d4d-42bc-9af0-8fbd12229855",
   "metadata": {},
   "outputs": [],
   "source": [
    "all_pickle = get_all_file_from_path(pickled_archive_list[4])\n",
    "result_cav = read_pickle(all_pickle[\"cavity\"][0])"
   ]
  },
  {
   "cell_type": "code",
   "execution_count": 5,
   "id": "9ff30b97-77cd-499f-b4f2-a72850be4148",
   "metadata": {},
   "outputs": [
    {
     "data": {
      "text/plain": [
       "200"
      ]
     },
     "execution_count": 5,
     "metadata": {},
     "output_type": "execute_result"
    }
   ],
   "source": [
    "result_cav[\"temperature\"]"
   ]
  },
  {
   "cell_type": "code",
   "execution_count": 8,
   "id": "01b6a853-f43a-4b27-9899-c98ff8e758e9",
   "metadata": {
    "scrolled": true
   },
   "outputs": [],
   "source": [
    "cavity_field = result_cav[\"cavity_field\"]"
   ]
  },
  {
   "cell_type": "code",
   "execution_count": null,
   "id": "2d90941d-3ea8-4805-9b26-6cfdfaf90441",
   "metadata": {},
   "outputs": [],
   "source": []
  }
 ],
 "metadata": {
  "kernelspec": {
   "display_name": "Python 3 (ipykernel)",
   "language": "python",
   "name": "python3"
  },
  "language_info": {
   "codemirror_mode": {
    "name": "ipython",
    "version": 3
   },
   "file_extension": ".py",
   "mimetype": "text/x-python",
   "name": "python",
   "nbconvert_exporter": "python",
   "pygments_lexer": "ipython3",
   "version": "3.12.3"
  }
 },
 "nbformat": 4,
 "nbformat_minor": 5
}
