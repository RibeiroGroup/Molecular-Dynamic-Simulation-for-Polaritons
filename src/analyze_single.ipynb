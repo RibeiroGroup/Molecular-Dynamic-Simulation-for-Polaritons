{
 "cells": [
  {
   "cell_type": "code",
   "execution_count": 1,
   "id": "94fa355f-8790-44c2-8587-34e6daefb06d",
   "metadata": {},
   "outputs": [],
   "source": [
    "import warnings\n",
    "warnings.filterwarnings('ignore')\n",
    "\n",
    "import argparse\n",
    "import os, sys, importlib\n",
    "from glob import glob\n",
    "import pickle\n",
    "import tqdm\n",
    "\n",
    "import numpy as np\n",
    "import pandas as pd\n",
    "import matplotlib.pyplot as plt\n",
    "from matplotlib.ticker import (MultipleLocator, AutoMinorLocator)\n",
    "import scipy\n",
    "\n",
    "from utilities import reduced_parameter as red\n",
    "from field.electromagnetic import FreeVectorPotential, CavityVectorPotential\n",
    "\n",
    "from matter.atoms import AtomsInBox\n",
    "from calculator.calculator import Calculator\n",
    "\n",
    "from utilities.etc import categorizing_result\n",
    "\n",
    "import animation as an\n",
    "import analyze_tools.utils as atu\n",
    "import analyze_tools.monte_carlo as atm\n",
    "\n",
    "from simulation.single import single_collision_simulation\n",
    "import utilities.reduced_parameter as red\n",
    "from utilities.etc import moving_average\n"
   ]
  },
  {
   "cell_type": "code",
   "execution_count": 2,
   "id": "a67c01f5-4710-4b0c-88d7-8624a92bb743",
   "metadata": {},
   "outputs": [
    {
     "data": {
      "text/plain": [
       "22.766978335022763"
      ]
     },
     "execution_count": 2,
     "metadata": {},
     "output_type": "execute_result"
    }
   ],
   "source": [
    "s = red.sigma_Ar_Xe\n",
    "e = red.epsilon_Ar_Xe\n",
    "M_Ar = red.mass_dict['Ar']\n",
    "M_Xe = red.mass_dict['Xe']\n",
    "\n",
    "re = s * 2 ** (1/6)\n",
    "k = 4 * e * (156 * (s**12 / re**14) - 42 * (s**6 / re**8))\n",
    "mu = red.mass_dict['Ar'] * red.mass_dict['Xe'] / (red.mass_dict['Ar'] + red.mass_dict['Xe'])\n",
    "omega = np.sqrt(k / mu)\n",
    "\n",
    "vib_freq = omega / (2 * np.pi * red.c * red.sigma)\n",
    "vib_freq"
   ]
  },
  {
   "cell_type": "code",
   "execution_count": 3,
   "id": "df2a9f99-d89e-4296-939a-c90cc5b4c0f4",
   "metadata": {},
   "outputs": [
    {
     "data": {
      "image/png": "[encoded data removed]",
      "text/plain": [
       "<Figure size 640x480 with 1 Axes>"
      ]
     },
     "metadata": {},
     "output_type": "display_data"
    }
   ],
   "source": [
    "potential_function = lambda r:  4 * red.epsilon_Ar_Xe \\\n",
    "            * ( (red.sigma_Ar_Xe/r)**12 - (red.sigma_Ar_Xe/r)**6 )\n",
    "\n",
    "fig,ax = plt.subplots()\n",
    "\n",
    "r = np.linspace(1.05, 2.0, 100)\n",
    "ax.plot(r, potential_function(r))\n",
    "ax.hlines(0, min(r), max(r), linestyle = 'dotted')\n",
    "\n",
    "ax.xaxis.set_major_locator(MultipleLocator(0.1))\n",
    "ax.set_xlabel('Ar - Xe Distance (reduced unit)')\n",
    "ax.set_ylabel('Energy (reduced unit)')\n",
    "\n",
    "fig.savefig('figure/potential.jpeg',dpi = 600)"
   ]
  },
  {
   "cell_type": "code",
   "execution_count": 4,
   "id": "9ea29fb5-df6c-460b-98a9-4a19368ecd5c",
   "metadata": {},
   "outputs": [],
   "source": [
    "Lxy = 3e7; Lz = 3e3\n",
    "def get_ArXePair(d_arxe, v_ar = 0, h = 0, n_pairs = 1, Lxy=Lxy, Lz=Lz):\n",
    "    \"\"\"\n",
    "    \"\"\"\n",
    "    atoms = AtomsInBox(\n",
    "        Lxy = Lxy, Lz = Lz, cell_width = (1e6,1e2), \n",
    "        mass_dict = red.mass_dict)\n",
    "\n",
    "    v_xe = - v_ar / np.sqrt(red.mass_dict['Xe'])\n",
    "\n",
    "    for i in range(n_pairs):\n",
    "        if i == 0:\n",
    "            r0 = np.zeros(3)\n",
    "        else:\n",
    "            r0 = np.hstack(\n",
    "                [\n",
    "                    #np.random.uniform(-Lxy/2+10, Lxy/2-10, size = 2), \n",
    "                    np.zeros(2),\n",
    "                    np.random.uniform(-Lz/2+10, Lz/2-10)]\n",
    "            )\n",
    "        atoms.add(\n",
    "                elements = [\"Ar\"],\n",
    "                r = np.array([[0.0, h, -d_arxe/2]]) + r0,\n",
    "                r_dot = np.array([[0.0, 0.0, v_ar]])# / np.sqrt(2)\n",
    "                )\n",
    "        \n",
    "        atoms.add(\n",
    "                elements = [\"Xe\"],\n",
    "                r = np.array([[0.0,0.0,d_arxe/2]]) + r0,\n",
    "                r_dot = np.array([[0.00, 0.00, v_xe]])# / np.sqrt(2)\n",
    "                )\n",
    "    \n",
    "    idxAr = atoms.element_idx(element = \"Ar\")\n",
    "    idxXe = atoms.element_idx(element = \"Xe\")\n",
    "    epsilon_mat, sigma_mat = red.generate_LJparam_matrix(idxAr = idxAr, idxXe = idxXe)\n",
    "    \n",
    "    # calculator to the atoms object\n",
    "    atoms.add_calculator(\n",
    "        calculator_class = Calculator,\n",
    "        calculator_kwargs = {\n",
    "            \"epsilon\": epsilon_mat, \"sigma\" : sigma_mat, \n",
    "            \"positive_atom_idx\" : idxXe, \"negative_atom_idx\" : idxAr,\n",
    "            \"mu0\" : red.mu0, \"d\" : red.d0, \"a\" : red.a, 'd7':red.d7\n",
    "        })\n",
    "    \n",
    "    atoms.update_distance()\n",
    "    \n",
    "    return atoms\n",
    "\n",
    "def get_field(coup_str, mode = False, Lxy = Lxy, Lz = Lz, field = 'cavity'):\n",
    "    if mode == 'multi':\n",
    "        k_vector_int = np.array(\n",
    "            [[i,0,0] for i in range(1,100)]\n",
    "            ,dtype=np.float64)\n",
    "    elif isinstance(mode, int):\n",
    "        k_vector_int = np.array([[mode,0,0]])\n",
    "    elif isinstance(mode, list):\n",
    "        k_vector_int = np.array(\n",
    "            [[i,0,0] for i in mode], \n",
    "            dtype = np.float64)\n",
    "    else:\n",
    "        raise Exception('Mode have to be either \"multi\" or an integer!')\n",
    "    \n",
    "    amplitude = np.vstack([\n",
    "        np.zeros(2) for i in range(len(k_vector_int))\n",
    "        ])\n",
    "\n",
    "    if field == 'cavity':\n",
    "        VectorPotentialClass = CavityVectorPotential\n",
    "    elif field == 'free':\n",
    "        VectorPotentialClass = FreeVectorPotential\n",
    "    \n",
    "    Afield = VectorPotentialClass(\n",
    "            k_vector_int = k_vector_int, amplitude = amplitude,\n",
    "            Lxy = Lxy, Lz = Lz, constant_c = red.c, coupling_strength = coup_str\n",
    "            )\n",
    "\n",
    "    return Afield\n",
    "\n",
    "def get_radprofile(rd, windows = 10):\n",
    "    Afield = rd['field']\n",
    "    \n",
    "    rad_energy = red.convert_energy(np.array(Afield.history[\"energy\"][-1]), \"ev\") \n",
    "    omega = red.convert_wavenumber(Afield.k_val)\n",
    "    omega_profile, final_rad_profile = at.profiling_rad(omega, rad_energy)\n",
    "    \n",
    "    sorted_idx = np.argsort(omega_profile)\n",
    "\n",
    "    if windows == 0:\n",
    "        omega_profile = np.array(omega_profile)[sorted_idx] \n",
    "        final_rad_profile = np.array(final_rad_profile)[sorted_idx]\n",
    "    else:\n",
    "        omega_profile, final_rad_profile = moving_average(\n",
    "            np.array(omega_profile)[sorted_idx], \n",
    "            np.array(final_rad_profile)[sorted_idx], windows)\n",
    "\n",
    "    return omega_profile, final_rad_profile"
   ]
  },
  {
   "cell_type": "code",
   "execution_count": null,
   "id": "6ff95080-f9ba-43a2-9d39-e7079fa35bff",
   "metadata": {
    "scrolled": true
   },
   "outputs": [],
   "source": [
    "result_dict = {}\n",
    "velocity_dict = {}\n",
    "\n",
    "for T in tqdm.tqdm(np.arange(92, 850, 10)):\n",
    "    \n",
    "    vt = np.sqrt((T * red.boltzmann / red.epsilon) )\n",
    "    atoms = get_ArXePair(d_arxe = 6, h = 0.0 , v_ar = vt, n_pairs = 1)\n",
    "    \n",
    "    field = get_field(mode = list(range(1,300)), coup_str = 1, Lz = Lxy, field = 'free')\n",
    "        \n",
    "    t, rd = single_collision_simulation(\n",
    "        0, h = 1e-2, atoms = atoms, field = field, \n",
    "        max_steps = 10000, verbose = False)\n",
    "\n",
    "    result_dict.update({T : rd})\n",
    "    velocity_dict.update({T : (vt, vt / np.sqrt(M_Xe))})"
   ]
  },
  {
   "cell_type": "code",
   "execution_count": null,
   "id": "f004cbb6-76ce-479d-9dfa-234d39032e9d",
   "metadata": {
    "scrolled": true
   },
   "outputs": [],
   "source": [
    "fig,ax = plt.subplots(2, figsize = (6,8))\n",
    "\n",
    "total = 0\n",
    "\n",
    "prob_list = []\n",
    "\n",
    "for T in result_dict.keys():\n",
    "    prob_list.append(T * np.exp(- T / 292))\n",
    "\n",
    "prob_list = np.array(prob_list)\n",
    "prob_list = prob_list / np.sum(prob_list)\n",
    "\n",
    "for i, (T,rd) in enumerate(result_dict.items()):\n",
    "    \n",
    "    omega_profile, final_rad_profile = get_radprofile(rd,0 )\n",
    "    final_rad_profile *= 1e25\n",
    "    total += final_rad_profile * prob_list[i]\n",
    "\n",
    "    if i % 5 == 0:\n",
    "        ax[0].plot(\n",
    "            omega_profile, final_rad_profile, label = 'T = {} K'.format(T), \n",
    "            linestyle = 'dashdot' if i >= 35 else None)\n",
    "\n",
    "ax[1].plot(omega_profile, total, label = 'Scaled total spectrum')\n",
    "  \n",
    "tax = ax[1].twinx()\n",
    "exp_data = pd.read_csv('data/plot-data.csv')\n",
    "tax.scatter(\n",
    "    exp_data.loc[:,'x'],\n",
    "    exp_data.loc[:,' y'],\n",
    "    s = 5, alpha = 0.5, c = 'black'\n",
    ")\n",
    "ax[1].scatter([],[], c = 'black', label = 'Exp. @ 292K')\n",
    "\n",
    "ax[0].set_ylabel(r\"Calculated EM field energy $(10^{-25} eV)$\")\n",
    "ax[1].set_ylabel(r\"Sum of scaled EM field energy $(10^{-25} eV)$\")\n",
    "ax[1].set_xlabel(r\"Wavenumber $(cm^{-1})$\")\n",
    "\n",
    "tax.set_ylabel(r'Exp. absorption $(10^{-6} cm^{-1} amagat^{-2})$')\n",
    "\n",
    "ax[0].annotate('(a)',xy = (0.9,0.9), xycoords = 'axes fraction')\n",
    "ax[1].annotate('(b)',xy = (0.9,0.7), xycoords = 'axes fraction')\n",
    "\n",
    "ax[0].legend(loc='lower center', bbox_to_anchor=(0.5, 1.0), ncol=4)\n",
    "ax[1].legend()\n",
    "fig.savefig('figure/manuscript/free_spectrum_singleT.jpeg',dpi = 600, bbox_inches = 'tight')"
   ]
  },
  {
   "cell_type": "code",
   "execution_count": 12,
   "id": "f1c60722-f0af-4ba1-9898-9b663d753f85",
   "metadata": {},
   "outputs": [
    {
     "name": "stdout",
     "output_type": "stream",
     "text": [
      "h =  0.0\n"
     ]
    },
    {
     "name": "stderr",
     "output_type": "stream",
     "text": [
      "100%|███████████████████████████████████████████████████████████████████████████████████████████████████████████████████████████████████████████████████████████████████████| 24/24 [04:10<00:00, 10.46s/it]\n"
     ]
    },
    {
     "name": "stdout",
     "output_type": "stream",
     "text": [
      "h =  0.2\n"
     ]
    },
    {
     "name": "stderr",
     "output_type": "stream",
     "text": [
      "100%|███████████████████████████████████████████████████████████████████████████████████████████████████████████████████████████████████████████████████████████████████████| 24/24 [04:09<00:00, 10.40s/it]\n"
     ]
    },
    {
     "name": "stdout",
     "output_type": "stream",
     "text": [
      "h =  0.4\n"
     ]
    },
    {
     "name": "stderr",
     "output_type": "stream",
     "text": [
      "100%|███████████████████████████████████████████████████████████████████████████████████████████████████████████████████████████████████████████████████████████████████████| 24/24 [04:04<00:00, 10.17s/it]\n"
     ]
    },
    {
     "name": "stdout",
     "output_type": "stream",
     "text": [
      "h =  0.6\n"
     ]
    },
    {
     "name": "stderr",
     "output_type": "stream",
     "text": [
      "100%|███████████████████████████████████████████████████████████████████████████████████████████████████████████████████████████████████████████████████████████████████████| 24/24 [03:54<00:00,  9.75s/it]\n"
     ]
    },
    {
     "name": "stdout",
     "output_type": "stream",
     "text": [
      "h =  0.8\n"
     ]
    },
    {
     "name": "stderr",
     "output_type": "stream",
     "text": [
      "100%|███████████████████████████████████████████████████████████████████████████████████████████████████████████████████████████████████████████████████████████████████████| 24/24 [03:37<00:00,  9.06s/it]\n"
     ]
    },
    {
     "name": "stdout",
     "output_type": "stream",
     "text": [
      "h =  1.0\n"
     ]
    },
    {
     "name": "stderr",
     "output_type": "stream",
     "text": [
      "100%|███████████████████████████████████████████████████████████████████████████████████████████████████████████████████████████████████████████████████████████████████████| 24/24 [03:21<00:00,  8.38s/it]\n"
     ]
    },
    {
     "name": "stdout",
     "output_type": "stream",
     "text": [
      "h =  1.2\n"
     ]
    },
    {
     "name": "stderr",
     "output_type": "stream",
     "text": [
      "100%|███████████████████████████████████████████████████████████████████████████████████████████████████████████████████████████████████████████████████████████████████████| 24/24 [03:05<00:00,  7.72s/it]\n"
     ]
    },
    {
     "name": "stdout",
     "output_type": "stream",
     "text": [
      "h =  1.4\n"
     ]
    },
    {
     "name": "stderr",
     "output_type": "stream",
     "text": [
      "100%|███████████████████████████████████████████████████████████████████████████████████████████████████████████████████████████████████████████████████████████████████████| 24/24 [02:52<00:00,  7.17s/it]\n"
     ]
    }
   ],
   "source": [
    "result_dict2 = {}\n",
    "\n",
    "prompt = input('Load file?')\n",
    "if not prompt:\n",
    "\n",
    "iplist = [0.0, 0.2, 0.4, 0.6, 0.8, 1.0, 1.2, 1.4]\n",
    "Tlist = list(range(1, 10 , 3)) + list(np.arange(10, 21, 1)) + list(range(21, 40, 2))\n",
    "\n",
    "for h in iplist:\n",
    "    print('h = ', h)\n",
    "    foo = {}\n",
    "    for T in tqdm.tqdm(Tlist):\n",
    "        vt = np.sqrt((T * red.boltzmann / red.epsilon) )\n",
    "        atoms = get_ArXePair(d_arxe = 6, h = h , v_ar = vt, n_pairs = 1)\n",
    "        \n",
    "        field = get_field(\n",
    "            mode = list(range(1,100)), coup_str = 10 * Lxy, Lz = Lz, field = 'cavity')\n",
    "            \n",
    "        t, rd = single_collision_simulation(\n",
    "            0, h = 1e-2, atoms = atoms, field = field, \n",
    "            max_steps = 5000, verbose = False)\n",
    "    \n",
    "        foo.update({T : rd})\n",
    "    result_dict2.update({h:foo})"
   ]
  },
  {
   "cell_type": "code",
   "execution_count": 14,
   "id": "2e2b7c2c-6713-4d15-909c-0e2116b262ba",
   "metadata": {},
   "outputs": [],
   "source": [
    "with open('pickle_jar/single_collision/Sep13.pkl','wb') as handle:\n",
    "    pickle.dump(result_dict2, handle)"
   ]
  },
  {
   "cell_type": "code",
   "execution_count": 15,
   "id": "b21e8056-d770-4185-ab94-74b917eef15f",
   "metadata": {
    "scrolled": true
   },
   "outputs": [
    {
     "data": {
      "image/png": "[encoded data removed]",
      "text/plain": [
       "<Figure size 640x480 with 1 Axes>"
      ]
     },
     "metadata": {},
     "output_type": "display_data"
    }
   ],
   "source": [
    "fig,ax = plt.subplots()\n",
    "for i, (h, foo) in enumerate(result_dict2.items()):\n",
    "    collide_tlist = []\n",
    "    Tlist = []\n",
    "    for j, (T, rd) in enumerate(foo.items()):\n",
    "        if T > 25: continue\n",
    "        collide_tlist.append(atm.get_colliding_time(rd['atoms'], 0))\n",
    "        Tlist.append(T)\n",
    "\n",
    "    ax.plot(Tlist, collide_tlist, label = 'h = {:.1f}'.format(h))\n",
    "\n",
    "ax.legend()\n",
    "ax.set_xlabel('Collision tempreature (K)')\n",
    "ax.set_ylabel('Collision time (ps)')\n",
    "fig.savefig('figure/single_collision_time.jpeg',dpi = 600, bbox_inches = 'tight')"
   ]
  },
  {
   "cell_type": "code",
   "execution_count": null,
   "id": "1ff31718-a3df-4489-ace9-4fd48e7444a3",
   "metadata": {},
   "outputs": [],
   "source": []
  },
  {
   "cell_type": "code",
   "execution_count": null,
   "id": "e130dcef-8516-4c57-a250-de847e3f804b",
   "metadata": {},
   "outputs": [],
   "source": [
    "##################################\n",
    "#\"\"\"\n",
    "#Single pair of Ar-Xe\n",
    "#Single mode @ resonance\n",
    "#Examining the coupling strength\n",
    "#\"\"\"\n",
    "##################################\n",
    "\n",
    "single_mode_atoms_dict = {}\n",
    "\n",
    "for i, ct in enumerate([1, 10,30]):\n",
    "    \n",
    "    atoms = get_ArXePair(1.2, n_pairs = 1)\n",
    "    \n",
    "    field = get_field(mode = 23, coup_str = ct)\n",
    "    \n",
    "    t, rd = single_collision_simulation(\n",
    "        0, h = 1e-2, atoms = atoms, field = field, \n",
    "        max_steps = 10000, verbose = False)\n",
    "    atoms = rd['atoms']\n",
    "\n",
    "    single_mode_atoms_dict.update({ct: atoms})\n",
    "    "
   ]
  },
  {
   "cell_type": "code",
   "execution_count": null,
   "id": "22f6c4f9-19e9-4bff-9a72-343f6c9f8274",
   "metadata": {},
   "outputs": [],
   "source": [
    "fig,ax = plt.subplots()\n",
    "\n",
    "for ct, atoms in single_mode_atoms_dict.items():\n",
    "    \n",
    "    wn, ir = dipole_spectra(\n",
    "        atoms, h = 1e-2, time_frame = (0,1000),\n",
    "        quant = 'dipole_velocity'\n",
    "    )\n",
    "    ir = smooth(ir[(wn < 25) * (wn > 20)])\n",
    "    wn = wn[(wn < 25) * (wn > 20)]\n",
    "    \n",
    "    ax.plot(\n",
    "        wn, ir, label = \"Dipole scaling = {}L\".format(ct),\n",
    "        linestyle = 'dotted' if ct == 1 else None\n",
    "    )\n",
    "\n",
    "ax.set_xlabel('Wavenumber (1/cm)')\n",
    "ax.set_ylabel('Intensity (arbitray unit)')\n",
    "ax.legend()\n",
    "fig.savefig('figure/single.jpeg',dpi=600)"
   ]
  },
  {
   "cell_type": "code",
   "execution_count": null,
   "id": "61858bc7-7c32-4f72-af08-1038006f9226",
   "metadata": {},
   "outputs": [],
   "source": [
    "\"\"\"\n",
    "Single pair of Ar-Xe\n",
    "Multiple mode from 1->100\n",
    "Examining the coupling strength\n",
    "\"\"\"\n",
    "\n",
    "multi_mode_atoms_dict = {}\n",
    "\n",
    "for i, ct in enumerate([1, 10,30]):\n",
    "    \n",
    "    atoms = get_ArXePair(1.2)\n",
    "    \n",
    "    field = get_field(mode = 'multi', coup_str = ct)\n",
    "    \n",
    "    t, rd = single_collision_simulation(\n",
    "        0, h = 1e-2, atoms = atoms, field = field, \n",
    "        max_steps = 10000, verbose = False)\n",
    "    atoms = rd['atoms']\n",
    "\n",
    "    multi_mode_atoms_dict.update({ct: atoms})\n",
    "    "
   ]
  },
  {
   "cell_type": "code",
   "execution_count": null,
   "id": "97100e42-2e4d-45ef-acea-d90371f06294",
   "metadata": {},
   "outputs": [],
   "source": [
    "\"\"\"\n",
    "Single pair of Ar-Xe\n",
    "Single mode @ resonance\n",
    "Examining the Ar-Xe initial distance\n",
    "\"\"\"\n",
    "single_mode_datoms_dict = {}\n",
    "\n",
    "for i, d in enumerate([1.1, 1.15, 1.2, 1.3]):\n",
    "    \n",
    "    atoms = get_ArXePair(d)\n",
    "    \n",
    "    field = get_field(mode = 23, coup_str = 30)\n",
    "    \n",
    "    t, rd = single_collision_simulation(\n",
    "        0, h = 1e-2, atoms = atoms, field = field, \n",
    "        max_steps = 20000, verbose = False)\n",
    "    atoms = rd['atoms']\n",
    "\n",
    "    single_mode_datoms_dict.update({d: atoms})\n",
    "    "
   ]
  },
  {
   "cell_type": "code",
   "execution_count": null,
   "id": "2686f420-a001-4777-8bcf-28f00bf9c882",
   "metadata": {},
   "outputs": [],
   "source": [
    "fig,ax = plt.subplots(2, figsize = (6,8))\n",
    "\n",
    "for d, atoms in single_mode_datoms_dict.items():\n",
    "    \n",
    "    wn, ir = dipole_spectra(atoms, h = 1e-2, time_frame = (0,1000))\n",
    "    \n",
    "    if d == 1.4 or d == 1.1: \n",
    "        i = 1\n",
    "        ir = ir[(wn < 100) * (wn > 0)]\n",
    "        wn = wn[(wn < 100) * (wn > 0)]\n",
    "    else: \n",
    "        i = 0\n",
    "        ir = ir[(wn < 45) * (wn > 18)]\n",
    "        wn = wn[(wn < 45) * (wn > 18)]\n",
    "    \n",
    "    ax[i].plot(\n",
    "        wn, ir, label = \"Ar-Xe dist. = {}\".format(d)\n",
    "    )\n",
    "\n",
    "#ax.set_xlabel('Wavenumber (1/cm)')\n",
    "#ax.set_ylabel('Intensity (arbitray unit)')\n",
    "ax[0].legend()\n",
    "ax[1].legend()\n",
    "fig.savefig('figure/single_distance.jpeg',dpi=600)"
   ]
  },
  {
   "cell_type": "code",
   "execution_count": null,
   "id": "77e012a9-c75d-434d-9012-a3cef35523ee",
   "metadata": {},
   "outputs": [],
   "source": [
    "\"\"\"\n",
    "Single pair of Ar-Xe\n",
    "Multiple mode from 1->100\n",
    "Examining the Ar-Xe initial distance\n",
    "\"\"\"\n",
    "multi_mode_datoms_dict = {}\n",
    "\n",
    "for i, d in enumerate([1.1, 1.15, 1.2, 1.3]):\n",
    "    \n",
    "    atoms = get_ArXePair(d)\n",
    "    \n",
    "    field = get_field(mode = 'multi', coup_str = 30)\n",
    "    \n",
    "    t, rd = single_collision_simulation(\n",
    "        0, h = 1e-2, atoms = atoms, field = field, \n",
    "        max_steps = 10000, verbose = False)\n",
    "    atoms = rd['atoms']\n",
    "\n",
    "    multi_mode_datoms_dict.update({d: atoms})\n",
    "    "
   ]
  },
  {
   "cell_type": "code",
   "execution_count": null,
   "id": "bdb82835-f259-4790-8ae5-1a0da24a9a2a",
   "metadata": {},
   "outputs": [],
   "source": [
    "fig,ax = plt.subplots(2, figsize = (6,8))\n",
    "\n",
    "for d, atoms in multi_mode_datoms_dict.items():\n",
    "    \n",
    "    wn, ir = dipole_spectra(atoms, h = 1e-2, time_frame = (0,1000), quant = 'dipole_velocity')\n",
    "    \n",
    "    if d == 1.4 or d == 1.1: \n",
    "        i = 1\n",
    "        ir = ir[(wn < 30) * (wn > 15)]\n",
    "        wn = wn[(wn < 30) * (wn > 15)]\n",
    "    else: \n",
    "        i = 0\n",
    "        ir = ir[(wn < 30) * (wn > 15)]\n",
    "        wn = wn[(wn < 30) * (wn > 15)]\n",
    "    \n",
    "    ax[i].plot(\n",
    "        wn, ir, label = \"Ar-Xe dist. = {}\".format(d)\n",
    "    )\n",
    "\n",
    "#ax.set_xlabel('Wavenumber (1/cm)')\n",
    "#ax.set_ylabel('Intensity (arbitray unit)')\n",
    "ax[0].legend()\n",
    "ax[1].legend()\n",
    "fig.savefig('figure/multi_distance.jpeg',dpi=600)"
   ]
  },
  {
   "cell_type": "code",
   "execution_count": null,
   "id": "f10155ea-abc0-4d9a-9ac6-afda553c2c80",
   "metadata": {},
   "outputs": [],
   "source": [
    "\"\"\"\n",
    "Multiple pair of Ar-Xe\n",
    "Single mode @ resonance\n",
    "Examining the coupling strength\n",
    "\"\"\"\n",
    "\n",
    "single_mode_atoms_dict = {}\n",
    "\n",
    "np.random.seed(100)\n",
    "\n",
    "for i, ct in enumerate([10, 20, 50]):\n",
    "    \n",
    "    atoms = get_ArXePair(1.21, n_pairs = 16)\n",
    "    \n",
    "    field = get_field(mode = 23, coup_str = ct)\n",
    "    \n",
    "    t, rd = single_collision_simulation(\n",
    "        0, h = 1e-2, atoms = atoms, field = field, \n",
    "        max_steps = 10000, verbose = False)\n",
    "    atoms = rd['atoms']\n",
    "\n",
    "    single_mode_atoms_dict.update({ct: atoms})"
   ]
  },
  {
   "cell_type": "code",
   "execution_count": null,
   "id": "14930c45-f299-42ac-bb9d-4c4285c0ecef",
   "metadata": {},
   "outputs": [],
   "source": [
    "fig,ax = plt.subplots(3)\n",
    "\n",
    "for i, (ct, atoms) in enumerate(single_mode_atoms_dict.items()):\n",
    "    #if ct == 5:continue\n",
    "    wn, ir = dipole_spectra(\n",
    "        atoms, h = 1e-2, time_frame = (50,np.inf),\n",
    "        quant = 'dipole_velocity', windows = 'BH'\n",
    "    )\n",
    "    ir = ir[(wn < 40) * (wn > 10)]\n",
    "    wn = wn[(wn < 40) * (wn > 10)]\n",
    "    \n",
    "    ax[i].plot(\n",
    "        wn, ir, label = \"Dipole scaling = {}L\".format(ct),\n",
    "    )\n",
    "\n",
    "#ax.set_xlabel('Wavenumber (1/cm)')\n",
    "#ax.set_ylabel('Intensity (arbitray unit)')\n",
    "ax[0].legend()\n",
    "ax[1].legend()\n",
    "ax[2].legend()\n",
    "fig.savefig('figure/multicomplex_single.jpeg',dpi=600)"
   ]
  },
  {
   "cell_type": "code",
   "execution_count": null,
   "id": "95d72205-9cbe-40e0-9e15-2876b024c485",
   "metadata": {},
   "outputs": [],
   "source": [
    "atoms = single_mode_atoms_dict[5]\n",
    "dpv = np.array(atoms.observable['dipole_velocity'])\n",
    "\n",
    "i = 7\n",
    "single_dpv = dpv[:,2*i,:] + dpv[:,2*i+1,:]\n",
    "time = atoms.observable['t']"
   ]
  },
  {
   "cell_type": "code",
   "execution_count": null,
   "id": "006eb184-0323-4755-a4c1-fdd5abdf277b",
   "metadata": {},
   "outputs": [],
   "source": [
    "wn, ir = fft_autocorr(time, single_dpv, 1e-2, windows = 'BH')"
   ]
  },
  {
   "cell_type": "code",
   "execution_count": null,
   "id": "9c79e866-4529-480f-8457-0b7a06c4c9f1",
   "metadata": {},
   "outputs": [],
   "source": [
    "fig,ax = plt.subplots()\n",
    "\n",
    "ax.plot(wn,ir)\n",
    "ax.set_xlim(10,30)"
   ]
  },
  {
   "cell_type": "code",
   "execution_count": null,
   "id": "e92897f6-f2bf-4a5a-800a-4a5e7872ebaf",
   "metadata": {},
   "outputs": [],
   "source": [
    "R = np.array(atoms.trajectory['r'])\n",
    "\n",
    "R[0,0,:] - R[0,1,:] "
   ]
  },
  {
   "cell_type": "code",
   "execution_count": null,
   "id": "163f8a84-0a5c-42df-8fbe-a4953f1915a6",
   "metadata": {},
   "outputs": [],
   "source": []
  }
 ],
 "metadata": {
  "kernelspec": {
   "display_name": "Python 3 (ipykernel)",
   "language": "python",
   "name": "python3"
  },
  "language_info": {
   "codemirror_mode": {
    "name": "ipython",
    "version": 3
   },
   "file_extension": ".py",
   "mimetype": "text/x-python",
   "name": "python",
   "nbconvert_exporter": "python",
   "pygments_lexer": "ipython3",
   "version": "3.12.0"
  }
 },
 "nbformat": 4,
 "nbformat_minor": 5
}
