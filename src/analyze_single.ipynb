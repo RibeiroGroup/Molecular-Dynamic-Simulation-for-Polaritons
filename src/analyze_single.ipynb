{
 "cells": [
  {
   "cell_type": "code",
   "execution_count": 1,
   "id": "94fa355f-8790-44c2-8587-34e6daefb06d",
   "metadata": {},
   "outputs": [],
   "source": [
    "import warnings\n",
    "warnings.filterwarnings('ignore')\n",
    "\n",
    "import argparse\n",
    "import os, sys, importlib, copy\n",
    "from glob import glob\n",
    "import pickle\n",
    "import tqdm\n",
    "\n",
    "import numpy as np\n",
    "import pandas as pd\n",
    "import matplotlib.pyplot as plt\n",
    "from matplotlib.ticker import (MultipleLocator, AutoMinorLocator)\n",
    "import scipy\n",
    "\n",
    "from utilities import reduced_parameter as red\n",
    "from field.electromagnetic import FreeVectorPotential, CavityVectorPotential\n",
    "\n",
    "from matter.atoms import AtomsInBox\n",
    "from calculator.calculator import Calculator\n",
    "\n",
    "from utilities.etc import categorizing_result\n",
    "\n",
    "import animation as an\n",
    "import analyze_tools.utils as atu\n",
    "from analyze_tools.monte_carlo import get_colliding_time\n",
    "\n",
    "from simulation.single import single_collision_simulation\n",
    "import utilities.reduced_parameter as red\n",
    "from utilities.etc import moving_average\n",
    "\n",
    "ROOT = os.path.expanduser('~/OneDrive - Emory/Research Data/mm_polariton/pickle_jar/')\n",
    "\n",
    "#ROOT = os.path.expanduser('~/OneDrive - Emory/Research data/mm_polariton/pickle_jar')\n",
    "#assert os.path.isdir(ROOT)"
   ]
  },
  {
   "cell_type": "code",
   "execution_count": 2,
   "id": "9ea29fb5-df6c-460b-98a9-4a19368ecd5c",
   "metadata": {},
   "outputs": [],
   "source": [
    "#\n",
    "# DEFINING FUNCTION\n",
    "## WARNING: NEXT CELL WILL RUN SIMULATIONS\n",
    "#\n",
    "\n",
    "\n",
    "Lxy = 3e7; Lz = 3e3\n",
    "def get_ArXePair(\n",
    "    d_arxe, v_ar = 0, h = 0, n_pairs = 1, Lxy=Lxy, Lz=Lz, random_origin = False):\n",
    "    \"\"\"\n",
    "    \"\"\"\n",
    "    atoms = AtomsInBox(\n",
    "        Lxy = Lxy, Lz = Lz, cell_width = (1e6,1e2), \n",
    "        mass_dict = red.mass_dict)\n",
    "\n",
    "    v_xe = - v_ar / np.sqrt(red.mass_dict['Xe'])\n",
    "\n",
    "    for i in range(n_pairs):\n",
    "        if i == 0 and not random_origin:\n",
    "            r0 = np.zeros(3)\n",
    "        elif random_origin:\n",
    "            r0 = np.hstack(\n",
    "                [\n",
    "                    np.random.uniform(-Lxy/2+100, Lxy/2-100, size = 2), \n",
    "                    #np.zeros(2),\n",
    "                    np.random.uniform(-Lz/2+100, Lz/2-100)]\n",
    "            )\n",
    "        atoms.add(\n",
    "                elements = [\"Ar\"],\n",
    "                r = np.array([[0.0, h, -d_arxe/2]]) + r0,\n",
    "                r_dot = np.array([[0.0, 0.0, v_ar]])# / np.sqrt(2)\n",
    "                )\n",
    "        \n",
    "        atoms.add(\n",
    "                elements = [\"Xe\"],\n",
    "                r = np.array([[0.0,0.0,d_arxe/2]]) + r0,\n",
    "                r_dot = np.array([[0.00, 0.00, v_xe]])# / np.sqrt(2)\n",
    "                )\n",
    "    \n",
    "    idxAr = atoms.element_idx(element = \"Ar\")\n",
    "    idxXe = atoms.element_idx(element = \"Xe\")\n",
    "    epsilon_mat, sigma_mat = red.generate_LJparam_matrix(idxAr = idxAr, idxXe = idxXe)\n",
    "    \n",
    "    # calculator to the atoms object\n",
    "    atoms.add_calculator(\n",
    "        calculator_class = Calculator,\n",
    "        calculator_kwargs = {\n",
    "            \"epsilon\": epsilon_mat, \"sigma\" : sigma_mat, \n",
    "            \"positive_atom_idx\" : idxXe, \"negative_atom_idx\" : idxAr,\n",
    "            \"mu0\" : red.mu0, \"d\" : red.d0, \"a\" : red.a, 'd7':red.d7\n",
    "        })\n",
    "    \n",
    "    atoms.update_distance()\n",
    "    \n",
    "    return atoms\n",
    "\n",
    "def get_field(coup_str, amplitude, T = None, mode = False, Lxy = Lxy, Lz = Lz, field = 'cavity'):\n",
    "    if mode == 'multi':\n",
    "        k_vector_int = np.array(\n",
    "            [[i,0,0] for i in range(1,100)]\n",
    "            ,dtype=np.float64)\n",
    "    elif isinstance(mode, int):\n",
    "        k_vector_int = np.array([[mode,0,0]])\n",
    "    elif isinstance(mode, list):\n",
    "        k_vector_int = np.array(\n",
    "            [[i,0,0] for i in mode], \n",
    "            dtype = np.float64)\n",
    "    else:\n",
    "        raise Exception('Mode have to be either \"multi\" or an integer!')\n",
    "    \n",
    "    if field == 'cavity':\n",
    "        VectorPotentialClass = CavityVectorPotential\n",
    "    elif field == 'free':\n",
    "        VectorPotentialClass = FreeVectorPotential\n",
    "    \n",
    "    Afield = VectorPotentialClass(\n",
    "            k_vector_int = k_vector_int, amplitude = amplitude,\n",
    "            Lxy = Lxy, Lz = Lz, constant_c = red.c, coupling_strength = coup_str, T = T / red.temp\n",
    "            )\n",
    "\n",
    "    return Afield\n",
    "\n",
    "def get_radprofile(rd, windows = 10):\n",
    "    Afield = rd['field']\n",
    "    \n",
    "    rad_energy = red.convert_energy(np.array(Afield.history[\"energy\"][-1]), \"ev\") \n",
    "    omega = red.convert_wavenumber(Afield.k_val)\n",
    "    omega_profile, final_rad_profile = atu.profiling_rad(omega, rad_energy)\n",
    "    \n",
    "    sorted_idx = np.argsort(omega_profile)\n",
    "\n",
    "    if windows == 0:\n",
    "        omega_profile = np.array(omega_profile)[sorted_idx] \n",
    "        final_rad_profile = np.array(final_rad_profile)[sorted_idx]\n",
    "    else:\n",
    "        omega_profile, final_rad_profile = moving_average(\n",
    "            np.array(omega_profile)[sorted_idx], \n",
    "            np.array(final_rad_profile)[sorted_idx], windows)\n",
    "\n",
    "    return omega_profile, final_rad_profile"
   ]
  },
  {
   "cell_type": "code",
   "execution_count": null,
   "id": "ed8d6e50-8de0-4267-8840-5a9cd86a0b69",
   "metadata": {},
   "outputs": [],
   "source": [
    "[10] +"
   ]
  },
  {
   "cell_type": "code",
   "execution_count": 3,
   "id": "6ff95080-f9ba-43a2-9d39-e7079fa35bff",
   "metadata": {
    "scrolled": true
   },
   "outputs": [
    {
     "name": "stderr",
     "output_type": "stream",
     "text": [
      "100%|█████████████████████████████████████████████████████████████████████████████████████████████████████████████████████████████████████████████████████████████████| 84/84 [02:19<00:00,  1.66s/it]\n"
     ]
    }
   ],
   "source": [
    "# \n",
    "# CALCULATING SPECTRA\n",
    "# Run simulation of head on collision coupled to FREE field \n",
    "# at various total energy as temperature \n",
    "# \n",
    "\n",
    "result_dict = {}\n",
    "velocity_dict = {}\n",
    "\n",
    "M_Xe = red.mass_dict['Xe']\n",
    "\n",
    "for T in tqdm.tqdm():\n",
    "    \n",
    "    vt = np.sqrt((T * red.boltzmann / red.epsilon) )\n",
    "    atoms = get_ArXePair(d_arxe = 6, h = 0.0 , v_ar = vt, n_pairs = 1)\n",
    "    \n",
    "    field = get_field(amplitude = 'zero', mode = list(range(1,300)), coup_str = 1, Lz = Lxy, field = 'free' , T = T)\n",
    "        \n",
    "    t, rd = single_collision_simulation(\n",
    "        0, h = 1e-2, atoms = atoms, field = field, \n",
    "        max_steps = 10000, verbose = False)\n",
    "\n",
    "    result_dict.update({T : rd})\n",
    "    velocity_dict.update({T : (vt, vt / np.sqrt(M_Xe))})"
   ]
  },
  {
   "cell_type": "code",
   "execution_count": 84,
   "id": "2ead11e2-fe2c-4a2b-bb49-04391eba321a",
   "metadata": {},
   "outputs": [],
   "source": [
    "atu = importlib.reload(atu)"
   ]
  },
  {
   "cell_type": "code",
   "execution_count": 86,
   "id": "c7cee7e6-1ad6-45c0-91de-d7b40ab1aeb7",
   "metadata": {},
   "outputs": [],
   "source": [
    "field = result_dict[300]['field']\n",
    "\n",
    "omega_profile, final_rad_profile = atu.field_spectra(\n",
    "    result_dict[300], \n",
    "    convert_function = {'energy':red.convert_energy, 'wavenumber':red.convert_wavenumber},\n",
    "    mode = 'std'\n",
    ")"
   ]
  },
  {
   "cell_type": "code",
   "execution_count": 88,
   "id": "f004cbb6-76ce-479d-9dfa-234d39032e9d",
   "metadata": {},
   "outputs": [
    {
     "data": {
      "image/png": "[encoded data removed]",
      "text/plain": [
       "<Figure size 600x800 with 3 Axes>"
      ]
     },
     "metadata": {},
     "output_type": "display_data"
    }
   ],
   "source": [
    "#\n",
    "# PLOTTING SPECTRA\n",
    "#\n",
    "\n",
    "fig,ax = plt.subplots(2, figsize = (6,8))\n",
    "\n",
    "total = 0\n",
    "total100 = 0\n",
    "\n",
    "prob_list292 = []\n",
    "prob_list100 = []\n",
    "\n",
    "for T in result_dict.keys():\n",
    "    prob_list292.append(T * np.exp(- T / 292))\n",
    "    prob_list100.append(T * np.exp(- T / 100))\n",
    "\n",
    "prob_list292 = np.array(prob_list292)\n",
    "prob_list292 = prob_list292 / np.sum(prob_list292)\n",
    "prob_list100 = np.array(prob_list100)\n",
    "prob_list100 = prob_list100 / np.sum(prob_list100)\n",
    "\n",
    "for i, (T,rd) in enumerate(result_dict.items()):\n",
    "    \n",
    "    omega_profile, final_rad_profile = atu.field_spectra(\n",
    "        rd, \n",
    "        convert_function = {'energy':red.convert_energy, 'wavenumber':red.convert_wavenumber},\n",
    "        mode = 'std'\n",
    "    )\n",
    "    final_rad_profile *= 1e25\n",
    "    total += final_rad_profile * prob_list292[i]\n",
    "    total100 += final_rad_profile * prob_list100[i]\n",
    "\n",
    "    if i % 5 == 0:\n",
    "        ax[0].plot(\n",
    "            omega_profile, final_rad_profile, label = 'T = {} K'.format(T), \n",
    "            linestyle = 'dashdot' if i >= 35 else None)\n",
    "\n",
    "ax[1].plot(omega_profile, total, label = 'Scaled total spectrum')\n",
    "  \n",
    "tax = ax[1].twinx()\n",
    "exp_data = pd.read_csv('data/plot-data.csv')\n",
    "tax.scatter(\n",
    "    exp_data.loc[:,'x'],\n",
    "    exp_data.loc[:,' y'],\n",
    "    s = 5, alpha = 0.5, c = 'black'\n",
    ")\n",
    "ax[1].scatter([],[], c = 'black', label = 'Exp. @ 292K')\n",
    "\n",
    "ax[0].set_ylabel(r\"Calculated EM field energy $(10^{-25} eV)$\")\n",
    "ax[1].set_ylabel(r\"Sum of scaled EM field energy $(10^{-25} eV)$\")\n",
    "ax[1].set_xlabel(r\"Wavenumber $(cm^{-1})$\")\n",
    "\n",
    "tax.set_ylabel(r'Exp. absorption $(10^{-6} cm^{-1} amagat^{-2})$')\n",
    "\n",
    "ax[0].annotate('(a)',xy = (0.9,0.9), xycoords = 'axes fraction', fontsize = 'x-large')\n",
    "ax[1].annotate('(b)',xy = (0.9,0.7), xycoords = 'axes fraction', fontsize = 'x-large')\n",
    "\n",
    "ax[0].legend(loc='lower center', bbox_to_anchor=(0.5, 1.0), ncol=4)\n",
    "ax[1].legend()\n",
    "\n",
    "fig.savefig('figure/manuscript/free_spectrum_singleT.jpeg',dpi = 600, bbox_inches = 'tight')"
   ]
  },
  {
   "cell_type": "code",
   "execution_count": 21,
   "id": "65da731b-7d07-455e-bb59-50d4d1926ab6",
   "metadata": {},
   "outputs": [
    {
     "name": "stdout",
     "output_type": "stream",
     "text": [
      "10\n"
     ]
    },
    {
     "name": "stderr",
     "output_type": "stream",
     "text": [
      "100%|███████████████████████████████████████████████████████████████████████████████████████████████████████████████████████████████████████████████████████████████| 84/84 [04:21<00:00,  3.12s/it]\n"
     ]
    },
    {
     "name": "stdout",
     "output_type": "stream",
     "text": [
      "20\n"
     ]
    },
    {
     "name": "stderr",
     "output_type": "stream",
     "text": [
      "100%|███████████████████████████████████████████████████████████████████████████████████████████████████████████████████████████████████████████████████████████████| 84/84 [57:10<00:00, 40.83s/it]\n"
     ]
    }
   ],
   "source": [
    "# \n",
    "# CALCULATING SPECTRA\n",
    "# Run simulation of head on collision coupled to CAVITY field \n",
    "# at various total energy as temperature \n",
    "# \n",
    "all_result_dict = {}\n",
    "\n",
    "for coup_str in [10, 20]:\n",
    "    print(coup_str)\n",
    "    result_dict = {}\n",
    "    velocity_dict = {}\n",
    "    \n",
    "    M_Xe = red.mass_dict['Xe']\n",
    "    \n",
    "    for T in tqdm.tqdm(np.arange(10, 850, 10)):\n",
    "        \n",
    "        vt = np.sqrt((T * red.boltzmann / red.epsilon) )\n",
    "        atoms = get_ArXePair(d_arxe = 6, h = 0.0 , v_ar = vt, n_pairs = 1)\n",
    "        \n",
    "        field = get_field(amplitude = 'zero', mode = list(range(1,300)), \n",
    "                          coup_str = coup_str * Lxy, Lz = Lz, field = 'cavity' , T = T)\n",
    "            \n",
    "        t, rd = single_collision_simulation(\n",
    "            0, h = 1e-2, atoms = atoms, field = field, \n",
    "            max_steps = 5000, verbose = False)\n",
    "    \n",
    "        result_dict.update({T : rd})\n",
    "        velocity_dict.update({T : (vt, vt / np.sqrt(M_Xe))})\n",
    "        \n",
    "    all_result_dict.update({coup_str : (result_dict, velocity_dict) })"
   ]
  },
  {
   "cell_type": "code",
   "execution_count": 23,
   "id": "b3cf400c-6832-4116-9aca-1488d1f69f26",
   "metadata": {},
   "outputs": [
    {
     "name": "stdin",
     "output_type": "stream",
     "text": [
      "Do you want to save to path? y/(n) y\n"
     ]
    }
   ],
   "source": [
    "save_path = 'pickle_jar/single_collision_zero_cavity'\n",
    "\n",
    "prompt = input('Do you want to save to path? y/(n)')\n",
    "if prompt is not 'y': raise Exception\n",
    "\n",
    "with open(save_path + '/spectra.pkl','wb') as handle:\n",
    "    pickle.dump(all_result_dict, handle)"
   ]
  },
  {
   "cell_type": "code",
   "execution_count": 22,
   "id": "61ad712c-3f16-4992-8fba-2cf721e10218",
   "metadata": {},
   "outputs": [
    {
     "data": {
      "image/png": "[encoded data removed]",
      "text/plain": [
       "<Figure size 600x800 with 4 Axes>"
      ]
     },
     "metadata": {},
     "output_type": "display_data"
    }
   ],
   "source": [
    "#\n",
    "# PLOTTING SPECTRA\n",
    "#\n",
    "save_path = 'pickle_jar/single_collision_zero_cavity'\n",
    "with open(save_path + '/spectra.pkl','rb') as handle:\n",
    "    all_result_dict = pickle.load(handle)\n",
    "\n",
    "fig,ax = plt.subplots(2, figsize = (6,8) )\n",
    "\n",
    "for i , (coup_str, foo) in enumerate(all_result_dict.items()):\n",
    "    \n",
    "    result_dict, velocity_dict = foo\n",
    "    \n",
    "    total100_ = 0\n",
    "    prob_list100_ = []\n",
    "    \n",
    "    for T in result_dict.keys():\n",
    "        prob_list100_.append(T * np.exp(- T / 100))\n",
    "    \n",
    "    for j, (T,rd) in enumerate(result_dict.items()):\n",
    "        \n",
    "        omega_profile, final_rad_profile = atu.field_spectra(\n",
    "            rd, convert_function = {\n",
    "                'energy': red.convert_energy, \n",
    "                'wavenumber':red.convert_wavenumber},\n",
    "            mode = 'positive'\n",
    "        )\n",
    "        omega_profile, final_rad_profile = moving_average(omega_profile, final_rad_profile, w = 10)\n",
    "        final_rad_profile *= 1e2\n",
    "        total100_ += final_rad_profile * prob_list100_[j]\n",
    "    \n",
    "    ax[i].plot(omega_profile, total100_, label = 'Scaled total spectrum in free space')\n",
    "    ax[i].plot([], [], linestyle = 'dotted', color = 'r', label = 'Scaled total spectrum in the cavity')\n",
    "    ax[i].set_xlim(0,200)\n",
    "      \n",
    "    tax = ax[i].twinx()\n",
    "    tax.plot(omega_profile, total100, linestyle = 'dotted', color = 'r')\n",
    "\n",
    "    \"\"\"\n",
    "    if i == 0:\n",
    "        ax[i].set_ylim(0,5.5) # coup_str = 10 L\n",
    "        tax.set_ylim(0,0.7) # coup_str = 10 L\n",
    "    elif i == 1:\n",
    "        ax[i].set_ylim(0,18) # coup_str = 10 L\n",
    "        tax.set_ylim(0,0.9) # coup_str = 10 L\n",
    "    elif i == 2:\n",
    "        ax[i].set_ylim(0,35) # coup_str = 10 L\n",
    "        tax.set_ylim(0,0.9) # coup_str = 10 L\n",
    "    \"\"\"\n",
    "    \n",
    "    ax[i].set_ylabel(r\"Sum of scaled cavity field energy $(10^{-2} eV)$\")\n",
    "    \n",
    "    tax.set_ylabel(r\"Sum of scaled free field energy $(10^{-25} eV)$\")\n",
    "    \n",
    "ax[0].legend(loc='lower center', bbox_to_anchor=(0.5, 1.0), ncol=1)\n",
    "\n",
    "ax[0].annotate(r'$\\gamma = 10L$',xy = (0.8,0.9), xycoords = 'axes fraction', fontsize = 'x-large')\n",
    "ax[1].annotate(r'$\\gamma = 15L$',xy = (0.8,0.9), xycoords = 'axes fraction', fontsize = 'x-large')\n",
    "#ax[2].annotate(r'$\\gamma = 20L$',xy = (0.8,0.9), xycoords = 'axes fraction', fontsize = 'x-large')\n",
    "\n",
    "#ax[2].set_xlabel(r\"Wavenumber $(cm^{-1})$\")\n",
    "fig.savefig('figure/manuscript/cavity_spectrum_singleT.jpeg',dpi = 600, bbox_inches = 'tight')"
   ]
  },
  {
   "cell_type": "code",
   "execution_count": 3,
   "id": "f1c60722-f0af-4ba1-9898-9b663d753f85",
   "metadata": {
    "scrolled": true
   },
   "outputs": [
    {
     "name": "stdin",
     "output_type": "stream",
     "text": [
      "Load file?(Y)/N N\n"
     ]
    },
    {
     "name": "stdout",
     "output_type": "stream",
     "text": [
      "pickle_jar/single_collision_boltzmann_cavity\n",
      "h =  0.0  coupling strength =  20\n",
      "10/150\n"
     ]
    },
    {
     "name": "stderr",
     "output_type": "stream",
     "text": [
      "100%|██████████████████████████████████████████████████████████████████████████████████████████████████████████████████████████████████████████████████████████████████████████████| 20/20 [10:51<00:00, 32.56s/it]\n"
     ]
    },
    {
     "name": "stdout",
     "output_type": "stream",
     "text": [
      "15/150\n"
     ]
    },
    {
     "name": "stderr",
     "output_type": "stream",
     "text": [
      "100%|██████████████████████████████████████████████████████████████████████████████████████████████████████████████████████████████████████████████████████████████████████████████| 20/20 [08:56<00:00, 26.83s/it]\n"
     ]
    },
    {
     "name": "stdout",
     "output_type": "stream",
     "text": [
      "20/150\n"
     ]
    },
    {
     "name": "stderr",
     "output_type": "stream",
     "text": [
      "100%|██████████████████████████████████████████████████████████████████████████████████████████████████████████████████████████████████████████████████████████████████████████████| 20/20 [08:38<00:00, 25.92s/it]\n"
     ]
    },
    {
     "name": "stdout",
     "output_type": "stream",
     "text": [
      "25/150\n"
     ]
    },
    {
     "name": "stderr",
     "output_type": "stream",
     "text": [
      "100%|██████████████████████████████████████████████████████████████████████████████████████████████████████████████████████████████████████████████████████████████████████████████| 20/20 [08:03<00:00, 24.16s/it]\n"
     ]
    },
    {
     "name": "stdout",
     "output_type": "stream",
     "text": [
      "30/150\n"
     ]
    },
    {
     "name": "stderr",
     "output_type": "stream",
     "text": [
      "100%|██████████████████████████████████████████████████████████████████████████████████████████████████████████████████████████████████████████████████████████████████████████████| 20/20 [04:34<00:00, 13.74s/it]\n"
     ]
    },
    {
     "name": "stdout",
     "output_type": "stream",
     "text": [
      "35/150\n"
     ]
    },
    {
     "name": "stderr",
     "output_type": "stream",
     "text": [
      "100%|██████████████████████████████████████████████████████████████████████████████████████████████████████████████████████████████████████████████████████████████████████████████| 20/20 [05:36<00:00, 16.83s/it]\n"
     ]
    },
    {
     "name": "stdout",
     "output_type": "stream",
     "text": [
      "40/150\n"
     ]
    },
    {
     "name": "stderr",
     "output_type": "stream",
     "text": [
      "100%|██████████████████████████████████████████████████████████████████████████████████████████████████████████████████████████████████████████████████████████████████████████████| 20/20 [06:04<00:00, 18.23s/it]\n"
     ]
    },
    {
     "name": "stdout",
     "output_type": "stream",
     "text": [
      "45/150\n"
     ]
    },
    {
     "name": "stderr",
     "output_type": "stream",
     "text": [
      "100%|██████████████████████████████████████████████████████████████████████████████████████████████████████████████████████████████████████████████████████████████████████████████| 20/20 [03:53<00:00, 11.65s/it]\n"
     ]
    },
    {
     "name": "stdout",
     "output_type": "stream",
     "text": [
      "50/150\n"
     ]
    },
    {
     "name": "stderr",
     "output_type": "stream",
     "text": [
      "100%|██████████████████████████████████████████████████████████████████████████████████████████████████████████████████████████████████████████████████████████████████████████████| 20/20 [03:20<00:00, 10.01s/it]\n"
     ]
    },
    {
     "name": "stdout",
     "output_type": "stream",
     "text": [
      "55/150\n"
     ]
    },
    {
     "name": "stderr",
     "output_type": "stream",
     "text": [
      "100%|██████████████████████████████████████████████████████████████████████████████████████████████████████████████████████████████████████████████████████████████████████████████| 20/20 [02:52<00:00,  8.64s/it]\n"
     ]
    },
    {
     "name": "stdout",
     "output_type": "stream",
     "text": [
      "60/150\n"
     ]
    },
    {
     "name": "stderr",
     "output_type": "stream",
     "text": [
      "100%|██████████████████████████████████████████████████████████████████████████████████████████████████████████████████████████████████████████████████████████████████████████████| 20/20 [02:05<00:00,  6.27s/it]\n"
     ]
    },
    {
     "name": "stdout",
     "output_type": "stream",
     "text": [
      "65/150\n"
     ]
    },
    {
     "name": "stderr",
     "output_type": "stream",
     "text": [
      "100%|██████████████████████████████████████████████████████████████████████████████████████████████████████████████████████████████████████████████████████████████████████████████| 20/20 [02:21<00:00,  7.08s/it]\n"
     ]
    },
    {
     "name": "stdout",
     "output_type": "stream",
     "text": [
      "70/150\n"
     ]
    },
    {
     "name": "stderr",
     "output_type": "stream",
     "text": [
      "100%|██████████████████████████████████████████████████████████████████████████████████████████████████████████████████████████████████████████████████████████████████████████████| 20/20 [02:11<00:00,  6.56s/it]\n"
     ]
    },
    {
     "name": "stdout",
     "output_type": "stream",
     "text": [
      "75/150\n"
     ]
    },
    {
     "name": "stderr",
     "output_type": "stream",
     "text": [
      "100%|██████████████████████████████████████████████████████████████████████████████████████████████████████████████████████████████████████████████████████████████████████████████| 20/20 [01:44<00:00,  5.23s/it]\n"
     ]
    },
    {
     "name": "stdout",
     "output_type": "stream",
     "text": [
      "80/150\n"
     ]
    },
    {
     "name": "stderr",
     "output_type": "stream",
     "text": [
      "100%|██████████████████████████████████████████████████████████████████████████████████████████████████████████████████████████████████████████████████████████████████████████████| 20/20 [02:44<00:00,  8.21s/it]\n"
     ]
    },
    {
     "name": "stdout",
     "output_type": "stream",
     "text": [
      "85/150\n"
     ]
    },
    {
     "name": "stderr",
     "output_type": "stream",
     "text": [
      "100%|██████████████████████████████████████████████████████████████████████████████████████████████████████████████████████████████████████████████████████████████████████████████| 20/20 [02:15<00:00,  6.76s/it]\n"
     ]
    },
    {
     "name": "stdout",
     "output_type": "stream",
     "text": [
      "90/150\n"
     ]
    },
    {
     "name": "stderr",
     "output_type": "stream",
     "text": [
      "100%|██████████████████████████████████████████████████████████████████████████████████████████████████████████████████████████████████████████████████████████████████████████████| 20/20 [01:40<00:00,  5.05s/it]\n"
     ]
    },
    {
     "name": "stdout",
     "output_type": "stream",
     "text": [
      "95/150\n"
     ]
    },
    {
     "name": "stderr",
     "output_type": "stream",
     "text": [
      "100%|██████████████████████████████████████████████████████████████████████████████████████████████████████████████████████████████████████████████████████████████████████████████| 20/20 [01:32<00:00,  4.64s/it]\n"
     ]
    },
    {
     "name": "stdout",
     "output_type": "stream",
     "text": [
      "100/150\n"
     ]
    },
    {
     "name": "stderr",
     "output_type": "stream",
     "text": [
      "100%|██████████████████████████████████████████████████████████████████████████████████████████████████████████████████████████████████████████████████████████████████████████████| 20/20 [01:32<00:00,  4.64s/it]\n"
     ]
    },
    {
     "name": "stdout",
     "output_type": "stream",
     "text": [
      "105/150\n"
     ]
    },
    {
     "name": "stderr",
     "output_type": "stream",
     "text": [
      "100%|██████████████████████████████████████████████████████████████████████████████████████████████████████████████████████████████████████████████████████████████████████████████| 20/20 [01:16<00:00,  3.83s/it]\n"
     ]
    },
    {
     "name": "stdout",
     "output_type": "stream",
     "text": [
      "110/150\n"
     ]
    },
    {
     "name": "stderr",
     "output_type": "stream",
     "text": [
      "100%|██████████████████████████████████████████████████████████████████████████████████████████████████████████████████████████████████████████████████████████████████████████████| 20/20 [01:18<00:00,  3.94s/it]\n"
     ]
    },
    {
     "name": "stdout",
     "output_type": "stream",
     "text": [
      "115/150\n"
     ]
    },
    {
     "name": "stderr",
     "output_type": "stream",
     "text": [
      "100%|██████████████████████████████████████████████████████████████████████████████████████████████████████████████████████████████████████████████████████████████████████████████| 20/20 [01:30<00:00,  4.54s/it]\n"
     ]
    },
    {
     "name": "stdout",
     "output_type": "stream",
     "text": [
      "120/150\n"
     ]
    },
    {
     "name": "stderr",
     "output_type": "stream",
     "text": [
      "100%|██████████████████████████████████████████████████████████████████████████████████████████████████████████████████████████████████████████████████████████████████████████████| 20/20 [01:04<00:00,  3.22s/it]\n"
     ]
    },
    {
     "name": "stdout",
     "output_type": "stream",
     "text": [
      "125/150\n"
     ]
    },
    {
     "name": "stderr",
     "output_type": "stream",
     "text": [
      "100%|██████████████████████████████████████████████████████████████████████████████████████████████████████████████████████████████████████████████████████████████████████████████| 20/20 [01:03<00:00,  3.19s/it]\n"
     ]
    },
    {
     "name": "stdout",
     "output_type": "stream",
     "text": [
      "130/150\n"
     ]
    },
    {
     "name": "stderr",
     "output_type": "stream",
     "text": [
      "100%|██████████████████████████████████████████████████████████████████████████████████████████████████████████████████████████████████████████████████████████████████████████████| 20/20 [01:20<00:00,  4.03s/it]\n"
     ]
    },
    {
     "name": "stdout",
     "output_type": "stream",
     "text": [
      "135/150\n"
     ]
    },
    {
     "name": "stderr",
     "output_type": "stream",
     "text": [
      "100%|██████████████████████████████████████████████████████████████████████████████████████████████████████████████████████████████████████████████████████████████████████████████| 20/20 [00:55<00:00,  2.78s/it]\n"
     ]
    },
    {
     "name": "stdout",
     "output_type": "stream",
     "text": [
      "140/150\n"
     ]
    },
    {
     "name": "stderr",
     "output_type": "stream",
     "text": [
      "100%|██████████████████████████████████████████████████████████████████████████████████████████████████████████████████████████████████████████████████████████████████████████████| 20/20 [01:07<00:00,  3.38s/it]\n"
     ]
    },
    {
     "name": "stdout",
     "output_type": "stream",
     "text": [
      "145/150\n"
     ]
    },
    {
     "name": "stderr",
     "output_type": "stream",
     "text": [
      "100%|██████████████████████████████████████████████████████████████████████████████████████████████████████████████████████████████████████████████████████████████████████████████| 20/20 [01:03<00:00,  3.19s/it]\n"
     ]
    },
    {
     "name": "stdout",
     "output_type": "stream",
     "text": [
      "150/150\n"
     ]
    },
    {
     "name": "stderr",
     "output_type": "stream",
     "text": [
      "100%|██████████████████████████████████████████████████████████████████████████████████████████████████████████████████████████████████████████████████████████████████████████████| 20/20 [01:08<00:00,  3.41s/it]\n"
     ]
    },
    {
     "name": "stdout",
     "output_type": "stream",
     "text": [
      "h =  0.0  coupling strength =  10\n",
      "10/150\n"
     ]
    },
    {
     "name": "stderr",
     "output_type": "stream",
     "text": [
      "100%|██████████████████████████████████████████████████████████████████████████████████████████████████████████████████████████████████████████████████████████████████████████████| 20/20 [08:10<00:00, 24.54s/it]\n"
     ]
    },
    {
     "name": "stdout",
     "output_type": "stream",
     "text": [
      "15/150\n"
     ]
    },
    {
     "name": "stderr",
     "output_type": "stream",
     "text": [
      "100%|██████████████████████████████████████████████████████████████████████████████████████████████████████████████████████████████████████████████████████████████████████████████| 20/20 [06:32<00:00, 19.64s/it]\n"
     ]
    },
    {
     "name": "stdout",
     "output_type": "stream",
     "text": [
      "20/150\n"
     ]
    },
    {
     "name": "stderr",
     "output_type": "stream",
     "text": [
      "100%|██████████████████████████████████████████████████████████████████████████████████████████████████████████████████████████████████████████████████████████████████████████████| 20/20 [05:32<00:00, 16.63s/it]\n"
     ]
    },
    {
     "name": "stdout",
     "output_type": "stream",
     "text": [
      "25/150\n"
     ]
    },
    {
     "name": "stderr",
     "output_type": "stream",
     "text": [
      "100%|██████████████████████████████████████████████████████████████████████████████████████████████████████████████████████████████████████████████████████████████████████████████| 20/20 [04:21<00:00, 13.05s/it]\n"
     ]
    },
    {
     "name": "stdout",
     "output_type": "stream",
     "text": [
      "30/150\n"
     ]
    },
    {
     "name": "stderr",
     "output_type": "stream",
     "text": [
      "100%|██████████████████████████████████████████████████████████████████████████████████████████████████████████████████████████████████████████████████████████████████████████████| 20/20 [02:35<00:00,  7.78s/it]\n"
     ]
    },
    {
     "name": "stdout",
     "output_type": "stream",
     "text": [
      "35/150\n"
     ]
    },
    {
     "name": "stderr",
     "output_type": "stream",
     "text": [
      "100%|██████████████████████████████████████████████████████████████████████████████████████████████████████████████████████████████████████████████████████████████████████████████| 20/20 [02:34<00:00,  7.73s/it]\n"
     ]
    },
    {
     "name": "stdout",
     "output_type": "stream",
     "text": [
      "40/150\n"
     ]
    },
    {
     "name": "stderr",
     "output_type": "stream",
     "text": [
      "100%|██████████████████████████████████████████████████████████████████████████████████████████████████████████████████████████████████████████████████████████████████████████████| 20/20 [02:14<00:00,  6.71s/it]\n"
     ]
    },
    {
     "name": "stdout",
     "output_type": "stream",
     "text": [
      "45/150\n"
     ]
    },
    {
     "name": "stderr",
     "output_type": "stream",
     "text": [
      "100%|██████████████████████████████████████████████████████████████████████████████████████████████████████████████████████████████████████████████████████████████████████████████| 20/20 [03:34<00:00, 10.74s/it]\n"
     ]
    },
    {
     "name": "stdout",
     "output_type": "stream",
     "text": [
      "50/150\n"
     ]
    },
    {
     "name": "stderr",
     "output_type": "stream",
     "text": [
      "100%|██████████████████████████████████████████████████████████████████████████████████████████████████████████████████████████████████████████████████████████████████████████████| 20/20 [02:26<00:00,  7.31s/it]\n"
     ]
    },
    {
     "name": "stdout",
     "output_type": "stream",
     "text": [
      "55/150\n"
     ]
    },
    {
     "name": "stderr",
     "output_type": "stream",
     "text": [
      "100%|██████████████████████████████████████████████████████████████████████████████████████████████████████████████████████████████████████████████████████████████████████████████| 20/20 [02:26<00:00,  7.34s/it]\n"
     ]
    },
    {
     "name": "stdout",
     "output_type": "stream",
     "text": [
      "60/150\n"
     ]
    },
    {
     "name": "stderr",
     "output_type": "stream",
     "text": [
      "100%|██████████████████████████████████████████████████████████████████████████████████████████████████████████████████████████████████████████████████████████████████████████████| 20/20 [02:23<00:00,  7.16s/it]\n"
     ]
    },
    {
     "name": "stdout",
     "output_type": "stream",
     "text": [
      "65/150\n"
     ]
    },
    {
     "name": "stderr",
     "output_type": "stream",
     "text": [
      "100%|██████████████████████████████████████████████████████████████████████████████████████████████████████████████████████████████████████████████████████████████████████████████| 20/20 [01:31<00:00,  4.58s/it]\n"
     ]
    },
    {
     "name": "stdout",
     "output_type": "stream",
     "text": [
      "70/150\n"
     ]
    },
    {
     "name": "stderr",
     "output_type": "stream",
     "text": [
      "100%|██████████████████████████████████████████████████████████████████████████████████████████████████████████████████████████████████████████████████████████████████████████████| 20/20 [02:23<00:00,  7.16s/it]\n"
     ]
    },
    {
     "name": "stdout",
     "output_type": "stream",
     "text": [
      "75/150\n"
     ]
    },
    {
     "name": "stderr",
     "output_type": "stream",
     "text": [
      "100%|██████████████████████████████████████████████████████████████████████████████████████████████████████████████████████████████████████████████████████████████████████████████| 20/20 [01:39<00:00,  4.98s/it]\n"
     ]
    },
    {
     "name": "stdout",
     "output_type": "stream",
     "text": [
      "80/150\n"
     ]
    },
    {
     "name": "stderr",
     "output_type": "stream",
     "text": [
      "100%|██████████████████████████████████████████████████████████████████████████████████████████████████████████████████████████████████████████████████████████████████████████████| 20/20 [01:53<00:00,  5.66s/it]\n"
     ]
    },
    {
     "name": "stdout",
     "output_type": "stream",
     "text": [
      "85/150\n"
     ]
    },
    {
     "name": "stderr",
     "output_type": "stream",
     "text": [
      "100%|██████████████████████████████████████████████████████████████████████████████████████████████████████████████████████████████████████████████████████████████████████████████| 20/20 [01:30<00:00,  4.55s/it]\n"
     ]
    },
    {
     "name": "stdout",
     "output_type": "stream",
     "text": [
      "90/150\n"
     ]
    },
    {
     "name": "stderr",
     "output_type": "stream",
     "text": [
      "100%|██████████████████████████████████████████████████████████████████████████████████████████████████████████████████████████████████████████████████████████████████████████████| 20/20 [01:45<00:00,  5.28s/it]\n"
     ]
    },
    {
     "name": "stdout",
     "output_type": "stream",
     "text": [
      "95/150\n"
     ]
    },
    {
     "name": "stderr",
     "output_type": "stream",
     "text": [
      "100%|██████████████████████████████████████████████████████████████████████████████████████████████████████████████████████████████████████████████████████████████████████████████| 20/20 [01:01<00:00,  3.05s/it]\n"
     ]
    },
    {
     "name": "stdout",
     "output_type": "stream",
     "text": [
      "100/150\n"
     ]
    },
    {
     "name": "stderr",
     "output_type": "stream",
     "text": [
      "100%|██████████████████████████████████████████████████████████████████████████████████████████████████████████████████████████████████████████████████████████████████████████████| 20/20 [00:58<00:00,  2.91s/it]\n"
     ]
    },
    {
     "name": "stdout",
     "output_type": "stream",
     "text": [
      "105/150\n"
     ]
    },
    {
     "name": "stderr",
     "output_type": "stream",
     "text": [
      "100%|██████████████████████████████████████████████████████████████████████████████████████████████████████████████████████████████████████████████████████████████████████████████| 20/20 [00:59<00:00,  2.98s/it]\n"
     ]
    },
    {
     "name": "stdout",
     "output_type": "stream",
     "text": [
      "110/150\n"
     ]
    },
    {
     "name": "stderr",
     "output_type": "stream",
     "text": [
      "100%|██████████████████████████████████████████████████████████████████████████████████████████████████████████████████████████████████████████████████████████████████████████████| 20/20 [01:33<00:00,  4.66s/it]\n"
     ]
    },
    {
     "name": "stdout",
     "output_type": "stream",
     "text": [
      "115/150\n"
     ]
    },
    {
     "name": "stderr",
     "output_type": "stream",
     "text": [
      "100%|██████████████████████████████████████████████████████████████████████████████████████████████████████████████████████████████████████████████████████████████████████████████| 20/20 [01:09<00:00,  3.49s/it]\n"
     ]
    },
    {
     "name": "stdout",
     "output_type": "stream",
     "text": [
      "120/150\n"
     ]
    },
    {
     "name": "stderr",
     "output_type": "stream",
     "text": [
      "100%|██████████████████████████████████████████████████████████████████████████████████████████████████████████████████████████████████████████████████████████████████████████████| 20/20 [00:50<00:00,  2.52s/it]\n"
     ]
    },
    {
     "name": "stdout",
     "output_type": "stream",
     "text": [
      "125/150\n"
     ]
    },
    {
     "name": "stderr",
     "output_type": "stream",
     "text": [
      "100%|██████████████████████████████████████████████████████████████████████████████████████████████████████████████████████████████████████████████████████████████████████████████| 20/20 [01:36<00:00,  4.81s/it]\n"
     ]
    },
    {
     "name": "stdout",
     "output_type": "stream",
     "text": [
      "130/150\n"
     ]
    },
    {
     "name": "stderr",
     "output_type": "stream",
     "text": [
      "100%|██████████████████████████████████████████████████████████████████████████████████████████████████████████████████████████████████████████████████████████████████████████████| 20/20 [01:36<00:00,  4.80s/it]\n"
     ]
    },
    {
     "name": "stdout",
     "output_type": "stream",
     "text": [
      "135/150\n"
     ]
    },
    {
     "name": "stderr",
     "output_type": "stream",
     "text": [
      "100%|██████████████████████████████████████████████████████████████████████████████████████████████████████████████████████████████████████████████████████████████████████████████| 20/20 [01:02<00:00,  3.11s/it]\n"
     ]
    },
    {
     "name": "stdout",
     "output_type": "stream",
     "text": [
      "140/150\n"
     ]
    },
    {
     "name": "stderr",
     "output_type": "stream",
     "text": [
      "100%|██████████████████████████████████████████████████████████████████████████████████████████████████████████████████████████████████████████████████████████████████████████████| 20/20 [00:44<00:00,  2.24s/it]\n"
     ]
    },
    {
     "name": "stdout",
     "output_type": "stream",
     "text": [
      "145/150\n"
     ]
    },
    {
     "name": "stderr",
     "output_type": "stream",
     "text": [
      "100%|██████████████████████████████████████████████████████████████████████████████████████████████████████████████████████████████████████████████████████████████████████████████| 20/20 [01:20<00:00,  4.05s/it]\n"
     ]
    },
    {
     "name": "stdout",
     "output_type": "stream",
     "text": [
      "150/150\n"
     ]
    },
    {
     "name": "stderr",
     "output_type": "stream",
     "text": [
      "100%|██████████████████████████████████████████████████████████████████████████████████████████████████████████████████████████████████████████████████████████████████████████████| 20/20 [00:44<00:00,  2.21s/it]\n"
     ]
    }
   ],
   "source": [
    "#\n",
    "# Record (trajectory @ 40K, highest temperature that Ar-Xe complex form, previous temperature)\n",
    "#\n",
    "\n",
    "np.random.seed(20)\n",
    "\n",
    "single_collision_multimode_data = {}\n",
    "\n",
    "prompt = input('Load file?(Y)/N')\n",
    "if prompt != 'N':\n",
    "    raise Exception\n",
    "    \n",
    "iplist = [0.0]\n",
    "Tlist = list(np.arange(10, 155, 5))\n",
    "\n",
    "cavity_init = 'boltzmann'\n",
    "save_path = 'pickle_jar/single_collision_{}_cavity'.format(cavity_init)\n",
    "print(save_path)\n",
    "assert os.path.isdir(save_path)\n",
    "\n",
    "result_dict = {}\n",
    "for ct in [20, 10]:\n",
    "    result_dict_ = {}\n",
    "    for h in iplist:\n",
    "        print('h = ', h, ' coupling strength = ', ct)\n",
    "        T_break = None\n",
    "\n",
    "        foo = {}\n",
    "        \n",
    "        for T in Tlist:\n",
    "            print(\"{}/{}\".format(T, Tlist[-1]))\n",
    "            collide_time_list = []\n",
    "            \n",
    "            for i in tqdm.tqdm(range(100)):\n",
    "\n",
    "                vt = np.sqrt((T * red.boltzmann / red.epsilon) )\n",
    "                # T = K_Ar + K_Xe = 2K_Ar = m_Ar v_Ar^2 (equal kinetic energy of Argon and Xenon)\n",
    "                atoms = get_ArXePair(d_arxe = 6, h = h , v_ar = vt, n_pairs = 1, random_origin = True)\n",
    "                \n",
    "                field = get_field(\n",
    "                    amplitude = cavity_init, T = T,\n",
    "                    mode = list(range(1,260)), coup_str = ct * Lxy, Lz = Lz, field = 'cavity'\n",
    "                )\n",
    "                    \n",
    "                t, rd = single_collision_simulation(\n",
    "                    0, h = 1e-2, atoms = atoms, field = field, potential_threshold = 1e-4,\n",
    "                    max_steps = 10000, verbose = False, record_every = 1) # 10000 it ~ 200 ps\n",
    "\n",
    "                collide_time = get_colliding_time(rd['atoms'], 0)\n",
    "                \n",
    "                collide_time_list += collide_time\n",
    "\n",
    "            #foo.update({T:rd})\n",
    "            foo.update({T:collide_time_list})\n",
    "            \n",
    "        result_dict_.update({h : foo})\n",
    "    result_dict.update({ct : result_dict_})\n",
    "\n",
    "with open(save_path + '/collide_time_dict100.pkl','wb') as handle:\n",
    "    pickle.dump(result_dict, handle)\n",
    "            "
   ]
  },
  {
   "cell_type": "code",
   "execution_count": 25,
   "id": "d3696e7a-d13a-464c-81b3-2c39d2f2e626",
   "metadata": {},
   "outputs": [
    {
     "data": {
      "image/png": "[encoded data removed]",
      "text/plain": [
       "<Figure size 800x600 with 1 Axes>"
      ]
     },
     "metadata": {},
     "output_type": "display_data"
    }
   ],
   "source": [
    "with open(ROOT+'/single_collision_boltzmann_cavity/collide_time_dict100.pkl', 'rb') as handle:\n",
    "    result_dict = pickle.load(handle)\n",
    "\n",
    "color_list = ['blue', 'red']\n",
    "label = {10:\"10L\", 20:\"20L\"}\n",
    "\n",
    "fig,ax = plt.subplots(1, figsize = (8,6))\n",
    "for i, (coup_str, coup_str_dict) in enumerate(result_dict.items()):\n",
    "    mean_collide_time = []\n",
    "    std_collide_time = []\n",
    "    Tlist = []\n",
    "    h_dict = coup_str_dict[0.0]\n",
    "    for t, collide_tlist in h_dict.items():\n",
    "        Tlist.append(t)\n",
    "        mean_collide_time.append(np.mean(collide_tlist))\n",
    "        std_collide_time.append(np.std(collide_tlist))\n",
    "\n",
    "    mean_collide_time = np.array(mean_collide_time)\n",
    "    std_collide_time = np.array(std_collide_time)\n",
    "\n",
    "    if coup_str == 20: i = 1\n",
    "    elif coup_str == 10: i = 0\n",
    "    #ax.plot(Tlist, mean_collide_time)\n",
    "    ax.errorbar(\n",
    "        np.array(Tlist) - 0.4 + 0.8 * i, mean_collide_time,\n",
    "        yerr = std_collide_time, capsize = 3,\n",
    "        c = color_list[i],\n",
    "        label = r'$\\gamma = ${}'.format(label[coup_str]),\n",
    "    )\n",
    "    ax.set_ylim(-1, 250)\n",
    "    ax.set_xlim(10, 152)\n",
    "\n",
    "#ax[0].set_ylabel(r'Ar-Xe distance (nm)')\n",
    "ax.set_ylabel(r'Collision time (ps)')\n",
    "\n",
    "ax.set_xlabel('Total Ar-Xe kinetic energy (K)')\n",
    "ax.legend()\n",
    "\n",
    "fig.savefig('figure/manuscript/boltzmann_collision_time.jpeg', dpi = 600, bbox_inches = 'tight')"
   ]
  },
  {
   "cell_type": "code",
   "execution_count": null,
   "id": "502abe77-bd99-4147-82c5-cc19dbd27806",
   "metadata": {},
   "outputs": [],
   "source": [
    "#\n",
    "# Record (trajectory @ 40K, highest temperature that Ar-Xe complex form, previous temperature)\n",
    "#\n",
    "\n",
    "single_collision_multimode_data = {}\n",
    "\n",
    "prompt = input('Load file?(Y)/N')\n",
    "if prompt != 'N':\n",
    "    raise Exception\n",
    "    \n",
    "iplist = [0.0, 0.3, 0.6, 0.9, 1.2]\n",
    "Tlist = list(np.arange(10, 150, 5))\n",
    "\n",
    "cavity_init = 'boltzmann'\n",
    "save_path = 'pickle_jar/single_collision_{}_cavity'.format(cavity_init)\n",
    "print(save_path)\n",
    "assert os.path.isdir(save_path)\n",
    "\n",
    "for ct in [20, 15, 10]:\n",
    "    result_dict = {}\n",
    "    for h in iplist:\n",
    "        print('h = ', h, ' coupling strength = ', ct)\n",
    "        T_break = None\n",
    "\n",
    "        foo = {}\n",
    "        \n",
    "        for T in tqdm.tqdm(Tlist[::-1]):\n",
    "\n",
    "            vt = np.sqrt((T * red.boltzmann / red.epsilon) )\n",
    "            # T = K_Ar + K_Xe = 2K_Ar = m_Ar v_Ar^2 (equal kinetic energy of Argon and Xenon)\n",
    "            atoms = get_ArXePair(d_arxe = 6, h = h , v_ar = vt, n_pairs = 1)\n",
    "            \n",
    "            field = get_field(\n",
    "                amplitude = cavity_init, T = T,\n",
    "                mode = list(range(1,100)), coup_str = ct * Lxy, Lz = Lz, field = 'cavity'\n",
    "            )\n",
    "                \n",
    "            t, rd = single_collision_simulation(\n",
    "                0, h = 1e-2, atoms = atoms, field = field, potential_threshold = 1e-4,\n",
    "                max_steps = 10000, verbose = False, record_every = 1) # 10000 it ~ 200 ps\n",
    "\n",
    "            foo.update({T:rd})\n",
    "            \n",
    "        result_dict.update({h : foo})\n",
    "\n",
    "    with open(save_path + '/coup_str_{}.pkl'.format(ct),'wb') as handle:\n",
    "        pickle.dump(result_dict, handle)\n",
    "            "
   ]
  },
  {
   "cell_type": "code",
   "execution_count": null,
   "id": "de96a25d-faae-4032-8362-17d98b7600c7",
   "metadata": {
    "scrolled": true
   },
   "outputs": [
    {
     "name": "stdin",
     "output_type": "stream",
     "text": [
      "Load file?(Y)/N N\n"
     ]
    },
    {
     "name": "stdout",
     "output_type": "stream",
     "text": [
      "pickle_jar/single_collision_zero_cavity_\n",
      "h =  0.0  coupling strength =  20\n"
     ]
    },
    {
     "name": "stderr",
     "output_type": "stream",
     "text": [
      "  7%|███████████▋                                                                                                                                                     | 8/110 [02:02<26:06, 15.36s/it]\n"
     ]
    },
    {
     "name": "stdout",
     "output_type": "stream",
     "text": [
      "break @ 111 K, with collide time 101.86807670081659ps\n",
      "h =  0.1  coupling strength =  20\n"
     ]
    },
    {
     "name": "stderr",
     "output_type": "stream",
     "text": [
      "  8%|█████████████▏                                                                                                                                                   | 9/110 [01:56<21:47, 12.95s/it]\n"
     ]
    },
    {
     "name": "stdout",
     "output_type": "stream",
     "text": [
      "break @ 110 K, with collide time 101.82488480906301ps\n",
      "h =  0.2  coupling strength =  20\n"
     ]
    },
    {
     "name": "stderr",
     "output_type": "stream",
     "text": [
      " 13%|████████████████████▎                                                                                                                                           | 14/110 [02:39<18:15, 11.41s/it]\n"
     ]
    },
    {
     "name": "stdout",
     "output_type": "stream",
     "text": [
      "break @ 105 K, with collide time 101.67371318792547ps\n",
      "h =  0.30000000000000004  coupling strength =  20\n"
     ]
    },
    {
     "name": "stderr",
     "output_type": "stream",
     "text": [
      " 19%|██████████████████████████████▌                                                                                                                                 | 21/110 [03:25<14:32,  9.80s/it]\n"
     ]
    },
    {
     "name": "stdout",
     "output_type": "stream",
     "text": [
      "break @ 98 K, with collide time 101.43615778328079ps\n",
      "h =  0.4  coupling strength =  20\n"
     ]
    },
    {
     "name": "stderr",
     "output_type": "stream",
     "text": [
      " 26%|██████████████████████████████████████████▏                                                                                                                     | 29/110 [04:01<11:15,  8.34s/it]\n"
     ]
    },
    {
     "name": "stdout",
     "output_type": "stream",
     "text": [
      "break @ 90 K, with collide time 101.13381454100573ps\n",
      "h =  0.5  coupling strength =  20\n"
     ]
    },
    {
     "name": "stderr",
     "output_type": "stream",
     "text": [
      " 35%|███████████████████████████████████████████████████████▎                                                                                                        | 38/110 [04:08<07:50,  6.54s/it]\n"
     ]
    },
    {
     "name": "stdout",
     "output_type": "stream",
     "text": [
      "break @ 81 K, with collide time 100.74508751522352ps\n",
      "h =  0.6000000000000001  coupling strength =  20\n"
     ]
    },
    {
     "name": "stderr",
     "output_type": "stream",
     "text": [
      " 43%|████████████████████████████████████████████████████████████████████▎                                                                                           | 47/110 [05:05<06:49,  6.50s/it]\n"
     ]
    },
    {
     "name": "stdout",
     "output_type": "stream",
     "text": [
      "break @ 72 K, with collide time 100.26997670593414ps\n",
      "h =  0.7000000000000001  coupling strength =  20\n"
     ]
    },
    {
     "name": "stderr",
     "output_type": "stream",
     "text": [
      " 51%|█████████████████████████████████████████████████████████████████████████████████▍                                                                              | 56/110 [11:26<11:01, 12.26s/it]\n"
     ]
    },
    {
     "name": "stdout",
     "output_type": "stream",
     "text": [
      "break @ 63 K, with collide time 99.68688616726081ps\n",
      "h =  0.8  coupling strength =  20\n"
     ]
    },
    {
     "name": "stderr",
     "output_type": "stream",
     "text": [
      " 58%|█████████████████████████████████████████████████████████████████████████████████████████████                                                                   | 64/110 [05:18<03:48,  4.97s/it]\n"
     ]
    },
    {
     "name": "stdout",
     "output_type": "stream",
     "text": [
      "break @ 55 K, with collide time 99.06060373683391ps\n",
      "h =  0.9  coupling strength =  20\n"
     ]
    },
    {
     "name": "stderr",
     "output_type": "stream",
     "text": [
      " 65%|███████████████████████████████████████████████████████████████████████████████████████████████████████▎                                                        | 71/110 [05:45<03:09,  4.86s/it]\n"
     ]
    },
    {
     "name": "stdout",
     "output_type": "stream",
     "text": [
      "break @ 48 K, with collide time 98.34793752289985ps\n",
      "h =  1.0  coupling strength =  20\n"
     ]
    },
    {
     "name": "stderr",
     "output_type": "stream",
     "text": [
      " 70%|████████████████████████████████████████████████████████████████████████████████████████████████████████████████                                                | 77/110 [05:42<02:26,  4.45s/it]\n"
     ]
    },
    {
     "name": "stdout",
     "output_type": "stream",
     "text": [
      "break @ 42 K, with collide time 97.613675363089ps\n",
      "h =  1.1  coupling strength =  20\n"
     ]
    },
    {
     "name": "stderr",
     "output_type": "stream",
     "text": [
      " 75%|████████████████████████████████████████████████████████████████████████████████████████████████████████████████████████▋                                       | 83/110 [06:20<02:03,  4.58s/it]\n"
     ]
    },
    {
     "name": "stdout",
     "output_type": "stream",
     "text": [
      "break @ 36 K, with collide time 96.68504969038703ps\n",
      "h =  1.2000000000000002  coupling strength =  20\n"
     ]
    },
    {
     "name": "stderr",
     "output_type": "stream",
     "text": [
      " 80%|████████████████████████████████████████████████████████████████████████████████████████████████████████████████████████████████                                | 88/110 [06:42<01:40,  4.58s/it]\n"
     ]
    },
    {
     "name": "stdout",
     "output_type": "stream",
     "text": [
      "break @ 31 K, with collide time 95.7132321259315ps\n",
      "h =  1.3  coupling strength =  20\n"
     ]
    },
    {
     "name": "stderr",
     "output_type": "stream",
     "text": [
      " 85%|███████████████████████████████████████████████████████████████████████████████████████████████████████████████████████████████████████▎                        | 93/110 [08:00<01:27,  5.17s/it]\n"
     ]
    },
    {
     "name": "stdout",
     "output_type": "stream",
     "text": [
      "break @ 26 K, with collide time 94.48226321095449ps\n",
      "h =  1.4000000000000001  coupling strength =  20\n"
     ]
    },
    {
     "name": "stderr",
     "output_type": "stream",
     "text": [
      " 88%|█████████████████████████████████████████████████████████████████████████████████████████████████████████████████████████████████████████████                   | 97/110 [07:58<01:04,  4.94s/it]"
     ]
    },
    {
     "name": "stdout",
     "output_type": "stream",
     "text": [
      "break @ 22 K, with collide time 93.1649105124703ps\n"
     ]
    },
    {
     "name": "stderr",
     "output_type": "stream",
     "text": [
      "\n"
     ]
    },
    {
     "name": "stdout",
     "output_type": "stream",
     "text": [
      "h =  0.0  coupling strength =  10.0\n"
     ]
    },
    {
     "name": "stderr",
     "output_type": "stream",
     "text": [
      " 89%|██████████████████████████████████████████████████████████████████████████████████████████████████████████████████████████████████████████████▌                 | 98/110 [09:14<01:07,  5.65s/it]\n"
     ]
    },
    {
     "name": "stdout",
     "output_type": "stream",
     "text": [
      "break @ 21 K, with collide time 94.52545510270807ps\n",
      "h =  0.1  coupling strength =  10.0\n"
     ]
    },
    {
     "name": "stderr",
     "output_type": "stream",
     "text": [
      " 89%|██████████████████████████████████████████████████████████████████████████████████████████████████████████████████████████████████████████████▌                 | 98/110 [07:46<00:57,  4.76s/it]\n"
     ]
    },
    {
     "name": "stdout",
     "output_type": "stream",
     "text": [
      "break @ 21 K, with collide time 94.52545510270807ps\n",
      "h =  0.2  coupling strength =  10.0\n"
     ]
    },
    {
     "name": "stderr",
     "output_type": "stream",
     "text": [
      " 89%|██████████████████████████████████████████████████████████████████████████████████████████████████████████████████████████████████████████████▌                 | 98/110 [07:46<00:57,  4.76s/it]\n"
     ]
    },
    {
     "name": "stdout",
     "output_type": "stream",
     "text": [
      "break @ 21 K, with collide time 94.09353618517233ps\n",
      "h =  0.30000000000000004  coupling strength =  10.0\n"
     ]
    },
    {
     "name": "stderr",
     "output_type": "stream",
     "text": [
      " 90%|████████████████████████████████████████████████████████████████████████████████████████████████████████████████████████████████████████████████                | 99/110 [08:59<00:59,  5.45s/it]\n"
     ]
    },
    {
     "name": "stdout",
     "output_type": "stream",
     "text": [
      "break @ 20 K, with collide time 94.15832402280263ps\n",
      "h =  0.4  coupling strength =  10.0\n"
     ]
    },
    {
     "name": "stderr",
     "output_type": "stream",
     "text": [
      " 91%|████████████████████████████████████████████████████████████████████████████████████████████████████████████████████████████████████████████████▌              | 100/110 [09:07<00:54,  5.47s/it]\n"
     ]
    },
    {
     "name": "stdout",
     "output_type": "stream",
     "text": [
      "break @ 19 K, with collide time 93.76959699702041ps\n",
      "h =  0.5  coupling strength =  10.0\n"
     ]
    },
    {
     "name": "stderr",
     "output_type": "stream",
     "text": [
      " 92%|█████████████████████████████████████████████████████████████████████████████████████████████████████████████████████████████████████████████████▉             | 101/110 [07:57<00:42,  4.73s/it]\n"
     ]
    },
    {
     "name": "stdout",
     "output_type": "stream",
     "text": [
      "break @ 18 K, with collide time 93.33767807948462ps\n",
      "h =  0.6000000000000001  coupling strength =  10.0\n"
     ]
    },
    {
     "name": "stderr",
     "output_type": "stream",
     "text": [
      " 93%|███████████████████████████████████████████████████████████████████████████████████████████████████████████████████████████████████████████████████▍           | 102/110 [08:34<00:40,  5.04s/it]\n"
     ]
    },
    {
     "name": "stdout",
     "output_type": "stream",
     "text": [
      "break @ 17 K, with collide time 92.86256727019524ps\n",
      "h =  0.7000000000000001  coupling strength =  10.0\n"
     ]
    },
    {
     "name": "stderr",
     "output_type": "stream",
     "text": [
      " 72%|██████████████████████████████████████████████████████████████████████████████████████████████████████████████████▉                                             | 79/110 [04:50<02:21,  4.56s/it]"
     ]
    }
   ],
   "source": [
    "#\n",
    "# Simulation of single collisions at various temperature\n",
    "# The enumeration over all collision temperature will be break if a collision have time < 10ps\n",
    "# thus suitable for simulation with cavity initiared with zero amplitude\n",
    "#\n",
    "\n",
    "single_collision_multimode_data = {}\n",
    "\n",
    "prompt = input('Load file?(Y)/N')\n",
    "if prompt != 'N':\n",
    "    raise Exception\n",
    "    \n",
    "iplist = np.arange(0,1.5,0.1)\n",
    "Tlist = list(np.arange(10, 120, 1))\n",
    "\n",
    "cavity_init = 'zero'\n",
    "save_path = 'pickle_jar/single_collision_{}_cavity_'.format(cavity_init)\n",
    "print(save_path)\n",
    "assert os.path.isdir(save_path)\n",
    "\n",
    "for ct in [20, 1e1]:\n",
    "    foo = {}\n",
    "\n",
    "    result_dict = {}\n",
    "    \n",
    "    for h in iplist:\n",
    "        print('h = ', h, ' coupling strength = ', ct)\n",
    "        T_break = None\n",
    "\n",
    "        for T in tqdm.tqdm(Tlist[::-1]):\n",
    "\n",
    "            vt = np.sqrt((T * red.boltzmann / red.epsilon) )\n",
    "            atoms = get_ArXePair(d_arxe = 6, h = h , v_ar = vt, n_pairs = 1)\n",
    "            \n",
    "            field = get_field(\n",
    "                amplitude = cavity_init, T = T,\n",
    "                mode = list(range(1,260)), coup_str = ct * Lxy, Lz = Lz, field = 'cavity'\n",
    "            )\n",
    "                \n",
    "            t, rd = single_collision_simulation(\n",
    "                0, h = 1e-2, atoms = atoms, field = field, potential_threshold = 1e-4,\n",
    "                max_steps = 5000, verbose = False, record_every = 1) # 10000 it ~ 200 ps\n",
    "\n",
    "            collide_time = get_colliding_time(rd['atoms'], dipole_threshold = 0)[0]\n",
    "\n",
    "            if collide_time > 10: \n",
    "                print('break @ {} K, with collide time {}ps'.format(T, collide_time))\n",
    "                result_dict.update({h : {'break T':T, 'result_dict':rd}})\n",
    "                break\n",
    "\n",
    "    with open(save_path + '/coup_str_{}_.pkl'.format(ct),'wb') as handle:\n",
    "        pickle.dump(result_dict, handle)"
   ]
  },
  {
   "cell_type": "code",
   "execution_count": 7,
   "id": "f0854250-fe06-4a4d-aaa6-20c0b244622c",
   "metadata": {},
   "outputs": [
    {
     "name": "stdout",
     "output_type": "stream",
     "text": [
      "10 & 0.0 & 20 \\\\ \n",
      "10 & 0.3 & 20 \\\\ \n",
      "10 & 0.6 & 16 \\\\ \n",
      "10 & 0.9 & 14 \\\\ \n",
      "10 & 1.2 & 10 \\\\ \n",
      "20 & 0.0 & 110 \\\\ \n",
      "20 & 0.3 & 98 \\\\ \n",
      "20 & 0.6 & 72 \\\\ \n",
      "20 & 0.9 & 48 \\\\ \n",
      "20 & 1.2 & 30 \\\\ \n",
      "15 & 0.0 & 54 \\\\ \n",
      "15 & 0.3 & 48 \\\\ \n",
      "15 & 0.6 & 40 \\\\ \n",
      "15 & 0.9 & 28 \\\\ \n",
      "15 & 1.2 & 20 \\\\ \n"
     ]
    }
   ],
   "source": [
    "for i, file in enumerate(glob('pickle_jar/single_collision_zero_cavity_/*')):\n",
    "    with open(file, 'rb') as handle:\n",
    "        result_dict = pickle.load(handle)\n",
    "\n",
    "        if '20' in file: coup_str = 20\n",
    "        elif '10' in file: coup_str = 10\n",
    "        elif '15' in file: coup_str = 15\n",
    "\n",
    "        for h, rd in result_dict.items():\n",
    "            print(\"{} & {} & {} \\\\\\ \".format(coup_str, h, rd['break T']))"
   ]
  },
  {
   "cell_type": "code",
   "execution_count": null,
   "id": "bbed2338-3da1-453d-bc95-f4eec8eb23ab",
   "metadata": {},
   "outputs": [],
   "source": [
    "result_dict"
   ]
  },
  {
   "cell_type": "code",
   "execution_count": null,
   "id": "55d2ef99-e605-481c-8a06-31d1e0617228",
   "metadata": {},
   "outputs": [],
   "source": [
    "fig,ax = plt.subplots(3, figsize = (10,12))\n",
    "\n",
    "\n",
    "ROOT2 = 'pickle_jar'\n",
    "for _, file in enumerate(glob(ROOT2 + '/single_collision_boltzmann_cavity/*')):\n",
    "    print(file)\n",
    "    if '20' in file: i = 2; cs_annotate = r'$\\gamma = 20L$'\n",
    "    elif '10' in file: i = 0; cs_annotate = r'$\\gamma = 10L$'\n",
    "    elif '15' in file: i = 1; cs_annotate = r'$\\gamma = 15L$'\n",
    "    with open(file, 'rb') as handle:\n",
    "        result_dict = pickle.load(handle)\n",
    "        \n",
    "        #for h, foo in result_dict.items():\n",
    "        foo = result_dict[0.0]\n",
    "        collide_time_list = []\n",
    "        T_list = []\n",
    "        for T, rd in foo.items():\n",
    "            collide_time = get_colliding_time(\n",
    "                rd['atoms'], dipole_threshold = 0)[0]\n",
    "            \n",
    "            collide_time_list.append(collide_time)\n",
    "            T_list.append(T)\n",
    "\n",
    "        ax[i].plot(T_list, collide_time_list)\n",
    "\n",
    "        ax[i].set_ylabel('Collision time (ps)')\n",
    "        \n",
    "        if i == 2: ax[i].set_xlabel('Collision kinetic energy (K)')\n",
    "\n",
    "        ax[i].annotate(cs_annotate,xy = (0.85,0.9), xycoords = 'axes fraction', fontsize = 'x-large')\n",
    "            \n",
    "fig.save_fig()\n",
    "        "
   ]
  },
  {
   "cell_type": "code",
   "execution_count": null,
   "id": "6b3a5fc5-041f-4b51-ae2b-af9f02ad0d8e",
   "metadata": {},
   "outputs": [],
   "source": [
    "print('coupling strength & h & total kinetic energy')\n",
    "for i, (ct, dict1) in enumerate(single_collision_multimode_data.items()):\n",
    "    for j, (h, data) in enumerate(dict1.items()):\n",
    "        \n",
    "        print(\"{} & {} & {} \\\\\\\\ \".format(ct, h, data[-1]))"
   ]
  },
  {
   "cell_type": "code",
   "execution_count": null,
   "id": "3ff2e5ea-8ff6-4a42-958c-6520f10daf40",
   "metadata": {},
   "outputs": [],
   "source": [
    "h = 1.0\n",
    "coup_str = 15\n",
    "\n",
    "atoms = single_collision_multimode_data[coup_str][h][0]['last']['atoms']\n",
    "\n",
    "coltime = np.array(atm.get_colliding_time(atoms, 0))\n",
    "result_idx = np.argmax(coltime)\n",
    "print(coltime[result_idx])\n",
    "\n",
    "field = single_collision_multimode_data[coup_str][h][0]['last']['field']\n",
    "\n",
    "N_pairs = int(len(atoms.r)/2)\n",
    "\n",
    "r_ar = np.array(atoms.trajectory['r'])[:,result_idx]\n",
    "r_xe = np.array(atoms.trajectory['r'])[:,result_idx + N_pairs]\n",
    "\n",
    "v_ar = np.array(atoms.trajectory['r_dot'])[:,result_idx]\n",
    "v_xe = np.array(atoms.trajectory['r_dot'])[:,result_idx + N_pairs]\n",
    "\n",
    "t = np.array(atoms.trajectory['t'])"
   ]
  },
  {
   "cell_type": "code",
   "execution_count": null,
   "id": "e130dcef-8516-4c57-a250-de847e3f804b",
   "metadata": {},
   "outputs": [],
   "source": [
    "from calculator.function import LJ_potential\n",
    "\n",
    "k = 0.5 * red.mass_dict['Ar'] * np.einsum('ni,ni->n',v_ar,v_ar)\\\n",
    "    + 0.5 * red.mass_dict['Xe'] * np.einsum('ni,ni->n',v_xe,v_xe)\n",
    "k = red.convert_energy(k,'ev') * 1e3\n",
    "\n",
    "d_arxe = r_ar - r_xe\n",
    "d_arxe = np.sqrt(np.einsum('ni,ni->n',d_arxe,d_arxe))\n",
    "v = LJ_potential(red.sigma_Ar_Xe, red.epsilon_Ar_Xe, d_arxe)\n",
    "v = red.convert_energy(v,'ev') * 1e3\n",
    "\n",
    "hem = red.convert_energy(\n",
    "    np.sum(field.history['energy'],axis = 1), 'ev') * 1e3\n",
    "tem = field.history['t']\n",
    "\n",
    "fig,ax = plt.subplots(3,figsize = (10,12))\n",
    "#ax[0].plot(t[200:], d[200:])\n",
    "ax[0].plot(t, k)\n",
    "ax[1].plot(t, v)\n",
    "ax[2].plot(tem[300:], hem[300:])\n",
    "\n",
    "#ax[0].set_xlim(t[0],t[-1])\n",
    "ax[0].set_xlim(t[300],t[-1])\n",
    "ax[1].set_xlim(t[300],t[-1])\n",
    "ax[2].set_xlim(tem[300],tem[-1])\n",
    "\n",
    "ax[0].xaxis.set_major_locator(MultipleLocator(5))\n",
    "ax[0].xaxis.set_major_formatter('{x:.0f}')\n",
    "\n",
    "ax[1].xaxis.set_major_locator(MultipleLocator(5))\n",
    "ax[1].xaxis.set_major_formatter('{x:.0f}')\n",
    "\n",
    "ax[2].xaxis.set_major_locator(MultipleLocator(5))\n",
    "ax[2].xaxis.set_major_formatter('{x:.0f}')\n",
    "\n",
    "#ax[0].set_ylabel(r'Ar-Xe distance (nm)')\n",
    "ax[0].set_ylabel(r'Kinetic energy ($10^{-3}$ eV)')\n",
    "ax[1].set_ylabel(r'Potential energy ($10^{-3}$ eV)')\n",
    "ax[2].set_ylabel(r'Total cavity modes energy ($10^{-3}$ eV)')\n",
    "\n",
    "ax[2].set_xlabel('Time (ps)')\n",
    "\n",
    "ax[0].annotate('(a)',xy = (0.9,0.9), xycoords = 'axes fraction')\n",
    "ax[1].annotate('(b)',xy = (0.9,0.9), xycoords = 'axes fraction')\n",
    "ax[2].annotate('(c)',xy = (0.9,0.9), xycoords = 'axes fraction')\n",
    "\n",
    "#fig.savefig(fig_root + 'energy_breakdown.jpeg',dpi=600, bbox_inches = 'tight')"
   ]
  },
  {
   "cell_type": "code",
   "execution_count": null,
   "id": "22f6c4f9-19e9-4bff-9a72-343f6c9f8274",
   "metadata": {},
   "outputs": [],
   "source": [
    "an = importlib.reload(an)\n",
    "\n",
    "an.single_anime(atoms, index = 0 , N_pairs = N_pairs, save_path = 'figure2/longest_single_anime')"
   ]
  },
  {
   "cell_type": "code",
   "execution_count": null,
   "id": "61858bc7-7c32-4f72-af08-1038006f9226",
   "metadata": {},
   "outputs": [],
   "source": []
  },
  {
   "cell_type": "code",
   "execution_count": null,
   "id": "97100e42-2e4d-45ef-acea-d90371f06294",
   "metadata": {},
   "outputs": [],
   "source": []
  },
  {
   "cell_type": "code",
   "execution_count": null,
   "id": "2686f420-a001-4777-8bcf-28f00bf9c882",
   "metadata": {},
   "outputs": [],
   "source": []
  },
  {
   "cell_type": "code",
   "execution_count": null,
   "id": "77e012a9-c75d-434d-9012-a3cef35523ee",
   "metadata": {},
   "outputs": [],
   "source": []
  },
  {
   "cell_type": "code",
   "execution_count": null,
   "id": "bdb82835-f259-4790-8ae5-1a0da24a9a2a",
   "metadata": {},
   "outputs": [],
   "source": []
  },
  {
   "cell_type": "code",
   "execution_count": null,
   "id": "f10155ea-abc0-4d9a-9ac6-afda553c2c80",
   "metadata": {},
   "outputs": [],
   "source": []
  },
  {
   "cell_type": "code",
   "execution_count": null,
   "id": "14930c45-f299-42ac-bb9d-4c4285c0ecef",
   "metadata": {},
   "outputs": [],
   "source": []
  },
  {
   "cell_type": "code",
   "execution_count": null,
   "id": "95d72205-9cbe-40e0-9e15-2876b024c485",
   "metadata": {},
   "outputs": [],
   "source": []
  },
  {
   "cell_type": "code",
   "execution_count": null,
   "id": "006eb184-0323-4755-a4c1-fdd5abdf277b",
   "metadata": {},
   "outputs": [],
   "source": []
  },
  {
   "cell_type": "code",
   "execution_count": null,
   "id": "9c79e866-4529-480f-8457-0b7a06c4c9f1",
   "metadata": {},
   "outputs": [],
   "source": []
  },
  {
   "cell_type": "code",
   "execution_count": null,
   "id": "163f8a84-0a5c-42df-8fbe-a4953f1915a6",
   "metadata": {},
   "outputs": [],
   "source": []
  }
 ],
 "metadata": {
  "kernelspec": {
   "display_name": "Python 3 (ipykernel)",
   "language": "python",
   "name": "python3"
  },
  "language_info": {
   "codemirror_mode": {
    "name": "ipython",
    "version": 3
   },
   "file_extension": ".py",
   "mimetype": "text/x-python",
   "name": "python",
   "nbconvert_exporter": "python",
   "pygments_lexer": "ipython3",
   "version": "3.12.3"
  }
 },
 "nbformat": 4,
 "nbformat_minor": 5
}
